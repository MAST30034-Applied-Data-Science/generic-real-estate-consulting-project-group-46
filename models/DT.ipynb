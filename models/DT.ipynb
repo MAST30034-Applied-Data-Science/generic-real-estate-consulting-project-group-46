{
 "cells": [
  {
   "cell_type": "markdown",
   "id": "7beecd78-18e8-4874-9cbc-271bbe79ee3c",
   "metadata": {},
   "source": [
    "# Random forest\n",
    "This noteboooks is for random forest model for stage one. Part of the code is taken from web notes written by Brunna Torino. Here is the link:https://towardsdatascience.com/ai-and-real-state-renting-in-amsterdam-part-1-5fce18238dbc.\n"
   ]
  },
  {
   "cell_type": "code",
   "execution_count": null,
   "id": "ae76cecd-8948-47ae-beb6-2ebeb1bcf61f",
   "metadata": {},
   "outputs": [],
   "source": [
    "import numpy as np\n",
    "import pandas as pd\n",
    "import seaborn as sns\n",
    "from sklearn.model_selection import KFold\n",
    "from sklearn.ensemble import RandomForestRegressor\n",
    "from sklearn.model_selection import RandomizedSearchCV"
   ]
  },
  {
   "cell_type": "code",
   "execution_count": null,
   "id": "72de27c1-7bfe-4dd2-8253-16f32adc6460",
   "metadata": {},
   "outputs": [],
   "source": [
    "df = pd.read_csv(\"../data/curated/domain_final.csv\")"
   ]
  },
  {
   "cell_type": "code",
   "execution_count": null,
   "id": "384466a6-cf90-4fe2-a6a4-3e33803dfbfa",
   "metadata": {},
   "outputs": [],
   "source": [
    "df.loc[df['postcode'] == 3004, 'suburb_sold'] = 596\n",
    "df.loc[df['postcode'] == 3004, 'suburb_avg_day'] = 147\n",
    "df.loc[df['postcode'] == 3004, 'suburb_population'] = 6423.0\n",
    "df.loc[df['postcode'] == 3004, 'suburb_age'] = 20\n",
    "df.loc[df['postcode'] == 3004, 'suburb_owner'] = 30\n",
    "df.loc[df['postcode'] == 3004, 'suburb_renter'] = 70\n",
    "df.loc[df['postcode'] == 3004, 'suburb_family'] = 24\n",
    "df.loc[df['postcode'] == 3004, 'suburb_single'] = 76\n",
    "df.renam({'uri': 'url'})"
   ]
  },
  {
   "cell_type": "code",
   "execution_count": null,
   "id": "e88a7ad0-af40-4ccc-bc6b-ab1f52fe6400",
   "metadata": {},
   "outputs": [],
   "source": [
    "# Delete irrelevant data\n",
    "df = df.drop(['Unnamed: 0','url','name','cost_text','desc','avg_income',\n",
    "              'coordinates','school_title','SA2_CODE21',\n",
    "              'school_distance','suburb_age','Median_rent_weekly'], axis=1)\n",
    "df"
   ]
  },
  {
   "cell_type": "code",
   "execution_count": null,
   "id": "205b30f2-f4b4-42b6-ba34-e9d4b798138f",
   "metadata": {},
   "outputs": [],
   "source": [
    "# dummy variables for the categorical columns\n",
    "dummies = pd.get_dummies(df.postcode,prefix=['p'])\n",
    "df = pd.concat([df,dummies],axis = 1)\n",
    "\n",
    "dummies2 = pd.get_dummies(df.type)\n",
    "df = pd.concat([df,dummies2],axis = 1)\n",
    "\n",
    "dummies3 = pd.get_dummies(df.Beds,prefix=['bed'])\n",
    "df = pd.concat([df,dummies3],axis = 1)\n",
    "\n",
    "dummies4 = pd.get_dummies(df.Bath,prefix=['bath'])\n",
    "df = pd.concat([df,dummies4],axis = 1)\n",
    "\n",
    "dummies4 = pd.get_dummies(df.Parking,prefix=['park'])\n",
    "df = pd.concat([df,dummies4],axis = 1)\n",
    "\n",
    "\n",
    "df = df.drop(['Beds','Bath','Parking','postcode','type'], axis=1)\n"
   ]
  },
  {
   "cell_type": "code",
   "execution_count": null,
   "id": "4038b8e9-703a-4f33-ba5f-7d0083e52c2a",
   "metadata": {},
   "outputs": [],
   "source": [
    "#df[df['suburb_population'].isnull()]['postcode'].value_counts()"
   ]
  },
  {
   "cell_type": "code",
   "execution_count": null,
   "id": "23cd5eea-878d-4e95-81e4-f077f35c5a62",
   "metadata": {},
   "outputs": [],
   "source": [
    "#df.loc[(df['postcode'] == 3195)&(df['suburb_population'].isnull())]"
   ]
  },
  {
   "cell_type": "code",
   "execution_count": null,
   "id": "a148db61-1ee3-41a0-ac6a-f06cab3da4d4",
   "metadata": {},
   "outputs": [],
   "source": [
    "df"
   ]
  },
  {
   "cell_type": "code",
   "execution_count": null,
   "id": "8d621799-e356-44b4-a632-a847e8c4984c",
   "metadata": {},
   "outputs": [],
   "source": [
    "# check no None value\n",
    "for c in df.columns:\n",
    "    if df[c].isnull().values.any():\n",
    "        print(c)"
   ]
  },
  {
   "cell_type": "code",
   "execution_count": null,
   "id": "cb195af7-f788-4ede-88f7-09667e001a1d",
   "metadata": {},
   "outputs": [],
   "source": [
    "df.isnull().sum()"
   ]
  },
  {
   "cell_type": "code",
   "execution_count": null,
   "id": "1c334e60-6e84-45eb-8824-5990635c9184",
   "metadata": {},
   "outputs": [],
   "source": [
    "# Training data from here\n",
    "target= np.array(df['cost'])\n",
    "features = df.drop('cost', axis = 1)\n",
    "feature_list = list(features.columns)\n",
    "features = np.array(features)"
   ]
  },
  {
   "cell_type": "code",
   "execution_count": null,
   "id": "3543adb0-d928-4d0d-b785-197e38ce2892",
   "metadata": {},
   "outputs": [],
   "source": [
    "kf = KFold(n_splits=10,random_state=42,shuffle=True)\n",
    "accuracies = []\n",
    "for train_index, test_index in kf.split(features):\n",
    "\n",
    "    data_train   = features[train_index]\n",
    "    target_train = target[train_index]\n",
    "\n",
    "    data_test    = features[test_index]\n",
    "    target_test  = target[test_index]\n",
    "\n",
    "    rf = RandomForestRegressor(n_estimators = 1000, \n",
    "                               random_state = 42, \n",
    "                               criterion='squared_error',\n",
    "                               bootstrap=True)\n",
    "    \n",
    "    rf.fit(data_train, target_train)\n",
    "\n",
    "    predictions = rf.predict(data_test)\n",
    "\n",
    "    errors = abs(predictions - target_test)\n",
    "\n",
    "    print('Mean Absolute Error:', round(np.mean(errors), 2))\n",
    "    \n",
    "    mape = 100 * (errors / target_test)\n",
    "    accuracy = 100 - np.mean(mape)\n",
    "    print('Accuracy:', round(accuracy, 2), '%.')\n",
    "\n",
    "    accuracies.append(accuracy)\n",
    "\n",
    "average_accuracy = np.mean(accuracies)\n",
    "print('Average accuracy:', average_accuracy)"
   ]
  },
  {
   "cell_type": "code",
   "execution_count": null,
   "id": "5755fb0c-9068-40a1-b365-3c7803e5b243",
   "metadata": {},
   "outputs": [],
   "source": [
    "# Tunning paramter\n",
    "\n",
    "\n",
    "# Number of trees in random forest\n",
    "n_estimators = [int(x) for x in np.linspace(start = 200, stop = 2000, num = 10)]\n",
    "# Number of features to consider at every split\n",
    "max_features = ['auto', 'sqrt']\n",
    "# Maximum number of levels in tree\n",
    "max_depth = [int(x) for x in np.linspace(10, 110, num = 11)]\n",
    "max_depth.append(None)\n",
    "# Minimum number of samples required to split a node\n",
    "min_samples_split = [2, 5, 10]\n",
    "# Minimum number of samples required at each leaf node\n",
    "min_samples_leaf = [1, 2, 4]\n",
    "# Method of selecting samples for training each tree\n",
    "bootstrap = [True, False]\n",
    "# Create the random grid\n",
    "random_grid = {'n_estimators': n_estimators,\n",
    "               'max_features': max_features,\n",
    "               'max_depth': max_depth,\n",
    "               'min_samples_split': min_samples_split,\n",
    "               'min_samples_leaf': min_samples_leaf,\n",
    "               'bootstrap': bootstrap}\n",
    "print(random_grid)"
   ]
  },
  {
   "cell_type": "code",
   "execution_count": null,
   "id": "84bafb99-6970-4107-9b27-10886b169485",
   "metadata": {},
   "outputs": [],
   "source": [
    "rf = RandomForestRegressor()\n",
    "# Random search of parameters, using 3 fold cross validation, \n",
    "# search across 100 different combinations, and use all available cores\n",
    "rf_random = RandomizedSearchCV(estimator = rf, param_distributions = random_grid, n_iter = 100, cv = 3, verbose=2, random_state=42, n_jobs = -1)\n",
    "# Fit the random search model\n",
    "rf_random.fit(data_train, target_train)\n",
    "\n",
    "print(rf_random.best_params_)"
   ]
  },
  {
   "cell_type": "code",
   "execution_count": null,
   "id": "23fc7a7d-ef0c-47f2-8f1b-ac3380932f85",
   "metadata": {},
   "outputs": [],
   "source": [
    "# Training data again using best parameter\n",
    "\n",
    "kf = KFold(n_splits=10,random_state=42,shuffle=True)\n",
    "accuracies = []\n",
    "for train_index, test_index in kf.split(features):\n",
    "\n",
    "    data_train   = features[train_index]\n",
    "    target_train = target[train_index]\n",
    "\n",
    "    data_test    = features[test_index]\n",
    "    target_test  = target[test_index]\n",
    "\n",
    "    rf = RandomForestRegressor(\n",
    "                               n_estimators = 600, \n",
    "                               min_samples_split = 5, \n",
    "                               min_samples_leaf = 1, \n",
    "                               max_features = 'sqrt', \n",
    "                               max_depth = 60, \n",
    "                               bootstrap = False)\n",
    "    \n",
    "    rf.fit(data_train, target_train)\n",
    "\n",
    "    predictions = rf.predict(data_test)\n",
    "\n",
    "    errors = abs(predictions - target_test)\n",
    "\n",
    "    print('Mean Absolute Error:', round(np.mean(errors), 2))\n",
    "    \n",
    "    mape = 100 * (errors / target_test)\n",
    "    accuracy = 100 - np.mean(mape)\n",
    "    print('Accuracy:', round(accuracy, 2), '%.')\n",
    "\n",
    "    accuracies.append(accuracy)\n",
    "\n",
    "average_accuracy = np.mean(accuracies)\n",
    "print('Average accuracy:', average_accuracy)"
   ]
  },
  {
   "cell_type": "code",
   "execution_count": null,
   "id": "0a623b48-4ec2-413e-8cab-81f50b8b8f86",
   "metadata": {},
   "outputs": [],
   "source": [
    "# check top 10 important feature\n",
    "\n",
    "y = rf.feature_importances_\n",
    "list_y = [a for a in y if a > 0.005]\n",
    "\n",
    "list_y.sort()\n",
    "\n",
    "list_y = list_y[:20]\n",
    "\n",
    "list_of_index = []\n",
    "for i in list_y:\n",
    "    a = np.where(y==i)\n",
    "    list_of_index.append(a)\n",
    "    \n",
    "index = []\n",
    "for i in range(int(len(list_of_index))):\n",
    "    a = list_of_index[i][0][0]\n",
    "    index.append(a)\n",
    "\n",
    "col = []\n",
    "for i in feature_list:\n",
    "    col.append(i)\n",
    "labels = []\n",
    "for i in index:\n",
    "    b = col[i]\n",
    "    labels.append(b)"
   ]
  },
  {
   "cell_type": "code",
   "execution_count": null,
   "id": "584cc94d-47d8-4024-9f7f-56ea87a388bd",
   "metadata": {},
   "outputs": [],
   "source": [
    "labels"
   ]
  },
  {
   "cell_type": "code",
   "execution_count": null,
   "id": "255f3808-ec0f-414d-a23b-b00d9495adc1",
   "metadata": {},
   "outputs": [],
   "source": [
    "index"
   ]
  },
  {
   "cell_type": "code",
   "execution_count": null,
   "id": "2403205d-3121-4508-8bc4-a43c20ff0f44",
   "metadata": {},
   "outputs": [],
   "source": []
  }
 ],
 "metadata": {
  "kernelspec": {
   "display_name": "Python 3 (ipykernel)",
   "language": "python",
   "name": "python3"
  },
  "language_info": {
   "codemirror_mode": {
    "name": "ipython",
    "version": 3
   },
   "file_extension": ".py",
   "mimetype": "text/x-python",
   "name": "python",
   "nbconvert_exporter": "python",
   "pygments_lexer": "ipython3",
   "version": "3.9.7"
  }
 },
 "nbformat": 4,
 "nbformat_minor": 5
}
