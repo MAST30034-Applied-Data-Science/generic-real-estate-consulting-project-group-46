{
 "cells": [
  {
   "cell_type": "markdown",
   "id": "f872599e-08af-4629-b298-de083e6a6032",
   "metadata": {},
   "source": [
    "# Linear Regression\n",
    "This noteboooks is for linear regression model for stage one (find most important feature). "
   ]
  },
  {
   "cell_type": "code",
   "execution_count": 12,
   "id": "3bb3f2c4-0c3e-49e8-a6cc-569cfbfce8a2",
   "metadata": {},
   "outputs": [],
   "source": [
    "import pandas as pd\n",
    "import seaborn as sns\n",
    "import matplotlib.pyplot as plt\n",
    "import numpy as np\n",
    "from statsmodels.formula.api import ols, glm\n",
    "from statsmodels.api import families\n",
    "from sklearn.model_selection import train_test_split\n",
    "from sklearn import preprocessing"
   ]
  },
  {
   "cell_type": "code",
   "execution_count": 13,
   "id": "e991f200-bef8-4980-9516-82f11fad6552",
   "metadata": {},
   "outputs": [],
   "source": [
    "df = pd.read_csv(\"../data/curated/df_domain_final2.csv\")\n",
    "df['suburb_population'] = df['suburb_population'].str.replace(\",\", \"\")\n",
    "df['suburb_sold'] = df['suburb_sold'].str.replace(\"-\", \"0\")\n",
    "df['suburb_avg_day'] = df['suburb_avg_day'].str.replace(\"-\", \"0\")\n",
    "df[['suburb_population','suburb_avg_day','suburb_sold']]\\\n",
    "= df[['suburb_population','suburb_avg_day','suburb_sold']].apply(pd.to_numeric)"
   ]
  },
  {
   "cell_type": "code",
   "execution_count": 14,
   "id": "02113385-ac11-4353-a3e5-d23c1f181eb4",
   "metadata": {},
   "outputs": [
    {
     "ename": "TypeError",
     "evalue": "Could not convert 2 Beds2 Beds1 Bed2 Beds2 Beds1 Bed1 Bed1 Bed1 Bed2 Beds2 Beds2 Beds2 Beds2 Beds0 Beds2 Beds1 Bed1 Bed1 Bed1 Bed2 Beds1 Bed1 Bed1 Bed2 Beds1 Bed2 Beds2 Beds1 Bed2 Beds1 Bed3 Beds2 Beds1 Bed2 Beds2 Beds1 Bed1 Bed2 Beds2 Beds1 Bed2 Beds2 Beds1 Bed2 Beds2 Beds1 Bed1 Bed1 Bed1 Bed02 Beds1 Bed1 Bed1 Bed2 Beds2 Beds2 Beds2 Beds1 Bed2 Beds2 Beds2 Beds2 Beds1 Bed1 Bed1 Bed1 Bed1 Bed2 Beds1 Bed2 Beds2 Beds2 Beds2 Beds1 Bed2 Beds2 Beds1 Bed2 Beds1 Bed1 Bed2 Beds2 Beds3 Beds2 Beds2 Beds2 Beds2 Beds1 Bed2 Beds2 Beds1 Bed2 Beds2 Beds1 Bed1 Bed2 Beds1 Bed2 Beds2 Beds1 Bed1 Bed1 Bed2 Beds2 Beds1 Bed2 Beds2 Beds1 Bed2 Beds1 Bed2 Beds1 Bed1 Bed1 Bed1 Bed1 Bed2 Beds2 Beds2 Beds2 Beds2 Beds0 Beds0 Beds2 Beds2 Beds2 Beds2 Beds2 Beds1 Bed2 Beds2 Beds1 Bed2 Beds2 Beds2 Beds2 Beds2 Beds1 Bed1 Bed1 Bed1 Bed1 Bed2 Beds1 Bed2 Beds1 Bed2 Beds1 Bed2 Beds2 Beds2 Beds2 Beds1 Bed1 Bed1 Bed2 Beds2 Beds2 Beds1 Bed1 Bed2 Beds2 Beds2 Beds1 Bed2 Beds2 Beds1 Bed1 Bed1 Bed2 Beds2 Beds1 Bed1 Bed1 Bed2 Beds2 Beds2 Beds1 Bed1 Bed1 Bed2 Beds2 Beds1 Bed2 Beds2 Beds2 Beds2 Beds2 Beds1 Bed1 Bed1 Bed2 Beds2 Beds2 Beds1 Bed2 Beds2 Beds1 Bed2 Beds2 Beds2 Beds2 Beds2 Beds2 Beds1 Bed2 Beds2 Beds2 Beds1 Bed2 Beds2 Beds2 Beds3 Beds1 Bed1 Bed2 Beds1 Bed1 Bed1 Bed2 Beds1 Bed2 Beds2 Beds2 Beds2 Beds1 Bed1 Bed1 Bed2 Beds2 Beds1 Bed2 Beds2 Beds1 Bed2 Beds2 Beds2 Beds1 Bed1 Bed2 Beds2 Beds1 Bed2 Beds2 Beds2 Beds2 Beds2 Beds2 Beds2 Beds2 Beds2 Beds1 Bed2 Beds2 Beds2 Beds2 Beds2 Beds2 Beds1 Bed4 Beds1 Bed2 Beds1 Bed1 Bed2 Beds2 Beds1 Bed2 Beds2 Beds0 Beds2 Beds2 Beds1 Bed2 Beds1 Bed1 Bed2 Beds1 Bed1 Bed0 Beds1 Bed2 Beds2 Beds2 Beds1 Bed2 Beds2 Beds2 Beds1 Bed0 Beds2 Beds2 Beds2 Beds2 Beds1 Bed1 Bed1 Bed0 Beds2 Beds2 Beds2 Beds2 Beds2 Beds2 Beds1 Bed1 Bed1 Bed2 Beds1 Bed1 Bed2 Beds2 Beds2 Beds0 Beds2 Beds2 Beds1 Bed2 Beds1 Bed2 Beds2 Beds1 Bed2 Beds2 Beds1 Bed1 Bed2 Beds1 Bed1 Bed2 Beds2 Beds1 Bed1 Bed1 Bed2 Beds2 Beds2 Beds2 Beds1 Bed2 Beds3 Beds0 Beds1 Bed2 Beds1 Bed1 Bed2 Beds2 Beds1 Bed1 Bed2 Beds2 Beds2 Beds2 Beds1 Bed2 Beds2 Beds2 Beds2 Beds1 Bed2 Beds2 Beds2 Beds2 Beds2 Beds1 Bed2 Beds1 Bed2 Beds1 Bed1 Bed1 Bed2 Beds1 Bed0 Beds2 Beds1 Bed2 Beds1 Bed1 Bed2 Beds2 Beds2 Beds2 Beds1 Bed2 Beds2 Beds2 Beds2 Beds0 Beds2 Beds2 Beds2 Beds2 Beds1 Bed2 Beds2 Beds2 Beds2 Beds1 Bed2 Beds2 Beds1 Bed1 Bed2 Beds2 Beds2 Beds2 Beds2 Beds2 Beds1 Bed2 Beds2 Beds2 Beds1 Bed2 Beds2 Beds2 Beds2 Beds1 Bed2 Beds2 Beds2 Beds2 Beds2 Beds2 Beds2 Beds1 Bed0 Beds2 Beds2 Beds2 Beds2 Beds2 Beds2 Beds2 Beds1 Bed2 Beds1 Bed2 Beds2 Beds2 Beds2 Beds2 Beds2 Beds1 Bed1 Bed2 Beds2 Beds2 Beds1 Bed2 Beds1 Bed2 Beds1 Bed2 Beds1 Bed2 Beds2 Beds0 Beds to numeric",
     "output_type": "error",
     "traceback": [
      "\u001b[0;31m---------------------------------------------------------------------------\u001b[0m",
      "\u001b[0;31mNotImplementedError\u001b[0m                       Traceback (most recent call last)",
      "File \u001b[0;32m~/.local/lib/python3.8/site-packages/pandas/core/groupby/groupby.py:1587\u001b[0m, in \u001b[0;36mGroupBy._cython_agg_general.<locals>.array_func\u001b[0;34m(values)\u001b[0m\n\u001b[1;32m   1586\u001b[0m \u001b[39mtry\u001b[39;00m:\n\u001b[0;32m-> 1587\u001b[0m     result \u001b[39m=\u001b[39m \u001b[39mself\u001b[39;49m\u001b[39m.\u001b[39;49mgrouper\u001b[39m.\u001b[39;49m_cython_operation(\n\u001b[1;32m   1588\u001b[0m         \u001b[39m\"\u001b[39;49m\u001b[39maggregate\u001b[39;49m\u001b[39m\"\u001b[39;49m, values, how, axis\u001b[39m=\u001b[39;49mdata\u001b[39m.\u001b[39;49mndim \u001b[39m-\u001b[39;49m \u001b[39m1\u001b[39;49m, min_count\u001b[39m=\u001b[39;49mmin_count\n\u001b[1;32m   1589\u001b[0m     )\n\u001b[1;32m   1590\u001b[0m \u001b[39mexcept\u001b[39;00m \u001b[39mNotImplementedError\u001b[39;00m:\n\u001b[1;32m   1591\u001b[0m     \u001b[39m# generally if we have numeric_only=False\u001b[39;00m\n\u001b[1;32m   1592\u001b[0m     \u001b[39m# and non-applicable functions\u001b[39;00m\n\u001b[1;32m   1593\u001b[0m     \u001b[39m# try to python agg\u001b[39;00m\n\u001b[1;32m   1594\u001b[0m     \u001b[39m# TODO: shouldn't min_count matter?\u001b[39;00m\n",
      "File \u001b[0;32m~/.local/lib/python3.8/site-packages/pandas/core/groupby/ops.py:939\u001b[0m, in \u001b[0;36mBaseGrouper._cython_operation\u001b[0;34m(self, kind, values, how, axis, min_count, **kwargs)\u001b[0m\n\u001b[1;32m    938\u001b[0m ngroups \u001b[39m=\u001b[39m \u001b[39mself\u001b[39m\u001b[39m.\u001b[39mngroups\n\u001b[0;32m--> 939\u001b[0m \u001b[39mreturn\u001b[39;00m cy_op\u001b[39m.\u001b[39;49mcython_operation(\n\u001b[1;32m    940\u001b[0m     values\u001b[39m=\u001b[39;49mvalues,\n\u001b[1;32m    941\u001b[0m     axis\u001b[39m=\u001b[39;49maxis,\n\u001b[1;32m    942\u001b[0m     min_count\u001b[39m=\u001b[39;49mmin_count,\n\u001b[1;32m    943\u001b[0m     comp_ids\u001b[39m=\u001b[39;49mids,\n\u001b[1;32m    944\u001b[0m     ngroups\u001b[39m=\u001b[39;49mngroups,\n\u001b[1;32m    945\u001b[0m     \u001b[39m*\u001b[39;49m\u001b[39m*\u001b[39;49mkwargs,\n\u001b[1;32m    946\u001b[0m )\n",
      "File \u001b[0;32m~/.local/lib/python3.8/site-packages/pandas/core/groupby/ops.py:626\u001b[0m, in \u001b[0;36mWrappedCythonOp.cython_operation\u001b[0;34m(self, values, axis, min_count, comp_ids, ngroups, **kwargs)\u001b[0m\n\u001b[1;32m    618\u001b[0m     \u001b[39mreturn\u001b[39;00m \u001b[39mself\u001b[39m\u001b[39m.\u001b[39m_ea_wrap_cython_operation(\n\u001b[1;32m    619\u001b[0m         values,\n\u001b[1;32m    620\u001b[0m         min_count\u001b[39m=\u001b[39mmin_count,\n\u001b[0;32m   (...)\u001b[0m\n\u001b[1;32m    623\u001b[0m         \u001b[39m*\u001b[39m\u001b[39m*\u001b[39mkwargs,\n\u001b[1;32m    624\u001b[0m     )\n\u001b[0;32m--> 626\u001b[0m \u001b[39mreturn\u001b[39;00m \u001b[39mself\u001b[39;49m\u001b[39m.\u001b[39;49m_cython_op_ndim_compat(\n\u001b[1;32m    627\u001b[0m     values,\n\u001b[1;32m    628\u001b[0m     min_count\u001b[39m=\u001b[39;49mmin_count,\n\u001b[1;32m    629\u001b[0m     ngroups\u001b[39m=\u001b[39;49mngroups,\n\u001b[1;32m    630\u001b[0m     comp_ids\u001b[39m=\u001b[39;49mcomp_ids,\n\u001b[1;32m    631\u001b[0m     mask\u001b[39m=\u001b[39;49m\u001b[39mNone\u001b[39;49;00m,\n\u001b[1;32m    632\u001b[0m     \u001b[39m*\u001b[39;49m\u001b[39m*\u001b[39;49mkwargs,\n\u001b[1;32m    633\u001b[0m )\n",
      "File \u001b[0;32m~/.local/lib/python3.8/site-packages/pandas/core/groupby/ops.py:451\u001b[0m, in \u001b[0;36mWrappedCythonOp._cython_op_ndim_compat\u001b[0;34m(self, values, min_count, ngroups, comp_ids, mask, result_mask, **kwargs)\u001b[0m\n\u001b[1;32m    450\u001b[0m     result_mask \u001b[39m=\u001b[39m result_mask[\u001b[39mNone\u001b[39;00m, :]\n\u001b[0;32m--> 451\u001b[0m res \u001b[39m=\u001b[39m \u001b[39mself\u001b[39;49m\u001b[39m.\u001b[39;49m_call_cython_op(\n\u001b[1;32m    452\u001b[0m     values2d,\n\u001b[1;32m    453\u001b[0m     min_count\u001b[39m=\u001b[39;49mmin_count,\n\u001b[1;32m    454\u001b[0m     ngroups\u001b[39m=\u001b[39;49mngroups,\n\u001b[1;32m    455\u001b[0m     comp_ids\u001b[39m=\u001b[39;49mcomp_ids,\n\u001b[1;32m    456\u001b[0m     mask\u001b[39m=\u001b[39;49mmask,\n\u001b[1;32m    457\u001b[0m     result_mask\u001b[39m=\u001b[39;49mresult_mask,\n\u001b[1;32m    458\u001b[0m     \u001b[39m*\u001b[39;49m\u001b[39m*\u001b[39;49mkwargs,\n\u001b[1;32m    459\u001b[0m )\n\u001b[1;32m    460\u001b[0m \u001b[39mif\u001b[39;00m res\u001b[39m.\u001b[39mshape[\u001b[39m0\u001b[39m] \u001b[39m==\u001b[39m \u001b[39m1\u001b[39m:\n",
      "File \u001b[0;32m~/.local/lib/python3.8/site-packages/pandas/core/groupby/ops.py:516\u001b[0m, in \u001b[0;36mWrappedCythonOp._call_cython_op\u001b[0;34m(self, values, min_count, ngroups, comp_ids, mask, result_mask, **kwargs)\u001b[0m\n\u001b[1;32m    515\u001b[0m out_shape \u001b[39m=\u001b[39m \u001b[39mself\u001b[39m\u001b[39m.\u001b[39m_get_output_shape(ngroups, values)\n\u001b[0;32m--> 516\u001b[0m func, values \u001b[39m=\u001b[39m \u001b[39mself\u001b[39;49m\u001b[39m.\u001b[39;49mget_cython_func_and_vals(values, is_numeric)\n\u001b[1;32m    517\u001b[0m out_dtype \u001b[39m=\u001b[39m \u001b[39mself\u001b[39m\u001b[39m.\u001b[39mget_out_dtype(values\u001b[39m.\u001b[39mdtype)\n",
      "File \u001b[0;32m~/.local/lib/python3.8/site-packages/pandas/core/groupby/ops.py:199\u001b[0m, in \u001b[0;36mWrappedCythonOp.get_cython_func_and_vals\u001b[0;34m(self, values, is_numeric)\u001b[0m\n\u001b[1;32m    197\u001b[0m     \u001b[39mreturn\u001b[39;00m func, values\n\u001b[0;32m--> 199\u001b[0m func \u001b[39m=\u001b[39m \u001b[39mself\u001b[39;49m\u001b[39m.\u001b[39;49m_get_cython_function(kind, how, values\u001b[39m.\u001b[39;49mdtype, is_numeric)\n\u001b[1;32m    201\u001b[0m \u001b[39mif\u001b[39;00m values\u001b[39m.\u001b[39mdtype\u001b[39m.\u001b[39mkind \u001b[39min\u001b[39;00m [\u001b[39m\"\u001b[39m\u001b[39mi\u001b[39m\u001b[39m\"\u001b[39m, \u001b[39m\"\u001b[39m\u001b[39mu\u001b[39m\u001b[39m\"\u001b[39m]:\n",
      "File \u001b[0;32m~/.local/lib/python3.8/site-packages/pandas/core/groupby/ops.py:164\u001b[0m, in \u001b[0;36mWrappedCythonOp._get_cython_function\u001b[0;34m(cls, kind, how, dtype, is_numeric)\u001b[0m\n\u001b[1;32m    162\u001b[0m \u001b[39mif\u001b[39;00m \u001b[39m\"\u001b[39m\u001b[39mobject\u001b[39m\u001b[39m\"\u001b[39m \u001b[39mnot\u001b[39;00m \u001b[39min\u001b[39;00m f\u001b[39m.\u001b[39m__signatures__:\n\u001b[1;32m    163\u001b[0m     \u001b[39m# raise NotImplementedError here rather than TypeError later\u001b[39;00m\n\u001b[0;32m--> 164\u001b[0m     \u001b[39mraise\u001b[39;00m \u001b[39mNotImplementedError\u001b[39;00m(\n\u001b[1;32m    165\u001b[0m         \u001b[39mf\u001b[39m\u001b[39m\"\u001b[39m\u001b[39mfunction is not implemented for this dtype: \u001b[39m\u001b[39m\"\u001b[39m\n\u001b[1;32m    166\u001b[0m         \u001b[39mf\u001b[39m\u001b[39m\"\u001b[39m\u001b[39m[how->\u001b[39m\u001b[39m{\u001b[39;00mhow\u001b[39m}\u001b[39;00m\u001b[39m,dtype->\u001b[39m\u001b[39m{\u001b[39;00mdtype_str\u001b[39m}\u001b[39;00m\u001b[39m]\u001b[39m\u001b[39m\"\u001b[39m\n\u001b[1;32m    167\u001b[0m     )\n\u001b[1;32m    168\u001b[0m \u001b[39mreturn\u001b[39;00m f\n",
      "\u001b[0;31mNotImplementedError\u001b[0m: function is not implemented for this dtype: [how->mean,dtype->object]",
      "\nDuring handling of the above exception, another exception occurred:\n",
      "\u001b[0;31mValueError\u001b[0m                                Traceback (most recent call last)",
      "File \u001b[0;32m~/.local/lib/python3.8/site-packages/pandas/core/nanops.py:1622\u001b[0m, in \u001b[0;36m_ensure_numeric\u001b[0;34m(x)\u001b[0m\n\u001b[1;32m   1621\u001b[0m \u001b[39mtry\u001b[39;00m:\n\u001b[0;32m-> 1622\u001b[0m     x \u001b[39m=\u001b[39m \u001b[39mfloat\u001b[39;49m(x)\n\u001b[1;32m   1623\u001b[0m \u001b[39mexcept\u001b[39;00m (\u001b[39mTypeError\u001b[39;00m, \u001b[39mValueError\u001b[39;00m):\n\u001b[1;32m   1624\u001b[0m     \u001b[39m# e.g. \"1+1j\" or \"foo\"\u001b[39;00m\n",
      "\u001b[0;31mValueError\u001b[0m: could not convert string to float: '2 Beds2 Beds1 Bed2 Beds2 Beds1 Bed1 Bed1 Bed1 Bed2 Beds2 Beds2 Beds2 Beds2 Beds0 Beds2 Beds1 Bed1 Bed1 Bed1 Bed2 Beds1 Bed1 Bed1 Bed2 Beds1 Bed2 Beds2 Beds1 Bed2 Beds1 Bed3 Beds2 Beds1 Bed2 Beds2 Beds1 Bed1 Bed2 Beds2 Beds1 Bed2 Beds2 Beds1 Bed2 Beds2 Beds1 Bed1 Bed1 Bed1 Bed02 Beds1 Bed1 Bed1 Bed2 Beds2 Beds2 Beds2 Beds1 Bed2 Beds2 Beds2 Beds2 Beds1 Bed1 Bed1 Bed1 Bed1 Bed2 Beds1 Bed2 Beds2 Beds2 Beds2 Beds1 Bed2 Beds2 Beds1 Bed2 Beds1 Bed1 Bed2 Beds2 Beds3 Beds2 Beds2 Beds2 Beds2 Beds1 Bed2 Beds2 Beds1 Bed2 Beds2 Beds1 Bed1 Bed2 Beds1 Bed2 Beds2 Beds1 Bed1 Bed1 Bed2 Beds2 Beds1 Bed2 Beds2 Beds1 Bed2 Beds1 Bed2 Beds1 Bed1 Bed1 Bed1 Bed1 Bed2 Beds2 Beds2 Beds2 Beds2 Beds0 Beds0 Beds2 Beds2 Beds2 Beds2 Beds2 Beds1 Bed2 Beds2 Beds1 Bed2 Beds2 Beds2 Beds2 Beds2 Beds1 Bed1 Bed1 Bed1 Bed1 Bed2 Beds1 Bed2 Beds1 Bed2 Beds1 Bed2 Beds2 Beds2 Beds2 Beds1 Bed1 Bed1 Bed2 Beds2 Beds2 Beds1 Bed1 Bed2 Beds2 Beds2 Beds1 Bed2 Beds2 Beds1 Bed1 Bed1 Bed2 Beds2 Beds1 Bed1 Bed1 Bed2 Beds2 Beds2 Beds1 Bed1 Bed1 Bed2 Beds2 Beds1 Bed2 Beds2 Beds2 Beds2 Beds2 Beds1 Bed1 Bed1 Bed2 Beds2 Beds2 Beds1 Bed2 Beds2 Beds1 Bed2 Beds2 Beds2 Beds2 Beds2 Beds2 Beds1 Bed2 Beds2 Beds2 Beds1 Bed2 Beds2 Beds2 Beds3 Beds1 Bed1 Bed2 Beds1 Bed1 Bed1 Bed2 Beds1 Bed2 Beds2 Beds2 Beds2 Beds1 Bed1 Bed1 Bed2 Beds2 Beds1 Bed2 Beds2 Beds1 Bed2 Beds2 Beds2 Beds1 Bed1 Bed2 Beds2 Beds1 Bed2 Beds2 Beds2 Beds2 Beds2 Beds2 Beds2 Beds2 Beds2 Beds1 Bed2 Beds2 Beds2 Beds2 Beds2 Beds2 Beds1 Bed4 Beds1 Bed2 Beds1 Bed1 Bed2 Beds2 Beds1 Bed2 Beds2 Beds0 Beds2 Beds2 Beds1 Bed2 Beds1 Bed1 Bed2 Beds1 Bed1 Bed0 Beds1 Bed2 Beds2 Beds2 Beds1 Bed2 Beds2 Beds2 Beds1 Bed0 Beds2 Beds2 Beds2 Beds2 Beds1 Bed1 Bed1 Bed0 Beds2 Beds2 Beds2 Beds2 Beds2 Beds2 Beds1 Bed1 Bed1 Bed2 Beds1 Bed1 Bed2 Beds2 Beds2 Beds0 Beds2 Beds2 Beds1 Bed2 Beds1 Bed2 Beds2 Beds1 Bed2 Beds2 Beds1 Bed1 Bed2 Beds1 Bed1 Bed2 Beds2 Beds1 Bed1 Bed1 Bed2 Beds2 Beds2 Beds2 Beds1 Bed2 Beds3 Beds0 Beds1 Bed2 Beds1 Bed1 Bed2 Beds2 Beds1 Bed1 Bed2 Beds2 Beds2 Beds2 Beds1 Bed2 Beds2 Beds2 Beds2 Beds1 Bed2 Beds2 Beds2 Beds2 Beds2 Beds1 Bed2 Beds1 Bed2 Beds1 Bed1 Bed1 Bed2 Beds1 Bed0 Beds2 Beds1 Bed2 Beds1 Bed1 Bed2 Beds2 Beds2 Beds2 Beds1 Bed2 Beds2 Beds2 Beds2 Beds0 Beds2 Beds2 Beds2 Beds2 Beds1 Bed2 Beds2 Beds2 Beds2 Beds1 Bed2 Beds2 Beds1 Bed1 Bed2 Beds2 Beds2 Beds2 Beds2 Beds2 Beds1 Bed2 Beds2 Beds2 Beds1 Bed2 Beds2 Beds2 Beds2 Beds1 Bed2 Beds2 Beds2 Beds2 Beds2 Beds2 Beds2 Beds1 Bed0 Beds2 Beds2 Beds2 Beds2 Beds2 Beds2 Beds2 Beds1 Bed2 Beds1 Bed2 Beds2 Beds2 Beds2 Beds2 Beds2 Beds1 Bed1 Bed2 Beds2 Beds2 Beds1 Bed2 Beds1 Bed2 Beds1 Bed2 Beds1 Bed2 Beds2 Beds0 Beds'",
      "\nDuring handling of the above exception, another exception occurred:\n",
      "\u001b[0;31mValueError\u001b[0m                                Traceback (most recent call last)",
      "File \u001b[0;32m~/.local/lib/python3.8/site-packages/pandas/core/nanops.py:1626\u001b[0m, in \u001b[0;36m_ensure_numeric\u001b[0;34m(x)\u001b[0m\n\u001b[1;32m   1625\u001b[0m \u001b[39mtry\u001b[39;00m:\n\u001b[0;32m-> 1626\u001b[0m     x \u001b[39m=\u001b[39m \u001b[39mcomplex\u001b[39;49m(x)\n\u001b[1;32m   1627\u001b[0m \u001b[39mexcept\u001b[39;00m \u001b[39mValueError\u001b[39;00m \u001b[39mas\u001b[39;00m err:\n\u001b[1;32m   1628\u001b[0m     \u001b[39m# e.g. \"foo\"\u001b[39;00m\n",
      "\u001b[0;31mValueError\u001b[0m: complex() arg is a malformed string",
      "\nThe above exception was the direct cause of the following exception:\n",
      "\u001b[0;31mTypeError\u001b[0m                                 Traceback (most recent call last)",
      "\u001b[1;32m/home/tyler/project_2/generic-real-estate-consulting-project-group-46/models/LR.ipynb Cell 4\u001b[0m in \u001b[0;36m<cell line: 2>\u001b[0;34m()\u001b[0m\n\u001b[1;32m      <a href='vscode-notebook-cell://wsl%2Bubuntu/home/tyler/project_2/generic-real-estate-consulting-project-group-46/models/LR.ipynb#W3sdnNjb2RlLXJlbW90ZQ%3D%3D?line=0'>1</a>\u001b[0m \u001b[39m# aggregate data by psotcode\u001b[39;00m\n\u001b[0;32m----> <a href='vscode-notebook-cell://wsl%2Bubuntu/home/tyler/project_2/generic-real-estate-consulting-project-group-46/models/LR.ipynb#W3sdnNjb2RlLXJlbW90ZQ%3D%3D?line=1'>2</a>\u001b[0m df_postcode \u001b[39m=\u001b[39m df\\\n\u001b[1;32m      <a href='vscode-notebook-cell://wsl%2Bubuntu/home/tyler/project_2/generic-real-estate-consulting-project-group-46/models/LR.ipynb#W3sdnNjb2RlLXJlbW90ZQ%3D%3D?line=2'>3</a>\u001b[0m                 \u001b[39m.\u001b[39;49mgroupby(\u001b[39m'\u001b[39;49m\u001b[39mpostcode\u001b[39;49m\u001b[39m'\u001b[39;49m) \\\n\u001b[1;32m      <a href='vscode-notebook-cell://wsl%2Bubuntu/home/tyler/project_2/generic-real-estate-consulting-project-group-46/models/LR.ipynb#W3sdnNjb2RlLXJlbW90ZQ%3D%3D?line=3'>4</a>\u001b[0m                 \u001b[39m.\u001b[39;49magg(\n\u001b[1;32m      <a href='vscode-notebook-cell://wsl%2Bubuntu/home/tyler/project_2/generic-real-estate-consulting-project-group-46/models/LR.ipynb#W3sdnNjb2RlLXJlbW90ZQ%3D%3D?line=4'>5</a>\u001b[0m                     {\n\u001b[1;32m      <a href='vscode-notebook-cell://wsl%2Bubuntu/home/tyler/project_2/generic-real-estate-consulting-project-group-46/models/LR.ipynb#W3sdnNjb2RlLXJlbW90ZQ%3D%3D?line=5'>6</a>\u001b[0m                         \u001b[39m'\u001b[39;49m\u001b[39mcost\u001b[39;49m\u001b[39m'\u001b[39;49m:\u001b[39m'\u001b[39;49m\u001b[39mmean\u001b[39;49m\u001b[39m'\u001b[39;49m,\n\u001b[1;32m      <a href='vscode-notebook-cell://wsl%2Bubuntu/home/tyler/project_2/generic-real-estate-consulting-project-group-46/models/LR.ipynb#W3sdnNjb2RlLXJlbW90ZQ%3D%3D?line=6'>7</a>\u001b[0m                         \u001b[39m'\u001b[39;49m\u001b[39mMedian_rent_weekly\u001b[39;49m\u001b[39m'\u001b[39;49m:\u001b[39m'\u001b[39;49m\u001b[39mmean\u001b[39;49m\u001b[39m'\u001b[39;49m,\n\u001b[1;32m      <a href='vscode-notebook-cell://wsl%2Bubuntu/home/tyler/project_2/generic-real-estate-consulting-project-group-46/models/LR.ipynb#W3sdnNjb2RlLXJlbW90ZQ%3D%3D?line=7'>8</a>\u001b[0m                         \u001b[39m'\u001b[39;49m\u001b[39mschool_distance\u001b[39;49m\u001b[39m'\u001b[39;49m:\u001b[39m'\u001b[39;49m\u001b[39mmean\u001b[39;49m\u001b[39m'\u001b[39;49m,\n\u001b[1;32m      <a href='vscode-notebook-cell://wsl%2Bubuntu/home/tyler/project_2/generic-real-estate-consulting-project-group-46/models/LR.ipynb#W3sdnNjb2RlLXJlbW90ZQ%3D%3D?line=8'>9</a>\u001b[0m                         \u001b[39m'\u001b[39;49m\u001b[39mdist_nearest_busstop\u001b[39;49m\u001b[39m'\u001b[39;49m:\u001b[39m'\u001b[39;49m\u001b[39mmean\u001b[39;49m\u001b[39m'\u001b[39;49m,\n\u001b[1;32m     <a href='vscode-notebook-cell://wsl%2Bubuntu/home/tyler/project_2/generic-real-estate-consulting-project-group-46/models/LR.ipynb#W3sdnNjb2RlLXJlbW90ZQ%3D%3D?line=9'>10</a>\u001b[0m                         \u001b[39m'\u001b[39;49m\u001b[39mdist_nearest_trainstation\u001b[39;49m\u001b[39m'\u001b[39;49m:\u001b[39m'\u001b[39;49m\u001b[39mmean\u001b[39;49m\u001b[39m'\u001b[39;49m,\n\u001b[1;32m     <a href='vscode-notebook-cell://wsl%2Bubuntu/home/tyler/project_2/generic-real-estate-consulting-project-group-46/models/LR.ipynb#W3sdnNjb2RlLXJlbW90ZQ%3D%3D?line=10'>11</a>\u001b[0m                         \u001b[39m'\u001b[39;49m\u001b[39mdist_nearest_primary_school\u001b[39;49m\u001b[39m'\u001b[39;49m:\u001b[39m'\u001b[39;49m\u001b[39mmean\u001b[39;49m\u001b[39m'\u001b[39;49m,\n\u001b[1;32m     <a href='vscode-notebook-cell://wsl%2Bubuntu/home/tyler/project_2/generic-real-estate-consulting-project-group-46/models/LR.ipynb#W3sdnNjb2RlLXJlbW90ZQ%3D%3D?line=11'>12</a>\u001b[0m                         \u001b[39m'\u001b[39;49m\u001b[39mdist_nearest_secondary_school\u001b[39;49m\u001b[39m'\u001b[39;49m:\u001b[39m'\u001b[39;49m\u001b[39mmean\u001b[39;49m\u001b[39m'\u001b[39;49m,\n\u001b[1;32m     <a href='vscode-notebook-cell://wsl%2Bubuntu/home/tyler/project_2/generic-real-estate-consulting-project-group-46/models/LR.ipynb#W3sdnNjb2RlLXJlbW90ZQ%3D%3D?line=12'>13</a>\u001b[0m                         \u001b[39m'\u001b[39;49m\u001b[39mBeds\u001b[39;49m\u001b[39m'\u001b[39;49m:\u001b[39m'\u001b[39;49m\u001b[39mmean\u001b[39;49m\u001b[39m'\u001b[39;49m,\n\u001b[1;32m     <a href='vscode-notebook-cell://wsl%2Bubuntu/home/tyler/project_2/generic-real-estate-consulting-project-group-46/models/LR.ipynb#W3sdnNjb2RlLXJlbW90ZQ%3D%3D?line=13'>14</a>\u001b[0m                         \u001b[39m'\u001b[39;49m\u001b[39mBath\u001b[39;49m\u001b[39m'\u001b[39;49m:\u001b[39m'\u001b[39;49m\u001b[39mmean\u001b[39;49m\u001b[39m'\u001b[39;49m,\n\u001b[1;32m     <a href='vscode-notebook-cell://wsl%2Bubuntu/home/tyler/project_2/generic-real-estate-consulting-project-group-46/models/LR.ipynb#W3sdnNjb2RlLXJlbW90ZQ%3D%3D?line=14'>15</a>\u001b[0m                         \u001b[39m'\u001b[39;49m\u001b[39mParking\u001b[39;49m\u001b[39m'\u001b[39;49m:\u001b[39m'\u001b[39;49m\u001b[39mmean\u001b[39;49m\u001b[39m'\u001b[39;49m,\n\u001b[1;32m     <a href='vscode-notebook-cell://wsl%2Bubuntu/home/tyler/project_2/generic-real-estate-consulting-project-group-46/models/LR.ipynb#W3sdnNjb2RlLXJlbW90ZQ%3D%3D?line=15'>16</a>\u001b[0m                         \u001b[39m'\u001b[39;49m\u001b[39mavg_income\u001b[39;49m\u001b[39m'\u001b[39;49m:\u001b[39m'\u001b[39;49m\u001b[39mmean\u001b[39;49m\u001b[39m'\u001b[39;49m,\n\u001b[1;32m     <a href='vscode-notebook-cell://wsl%2Bubuntu/home/tyler/project_2/generic-real-estate-consulting-project-group-46/models/LR.ipynb#W3sdnNjb2RlLXJlbW90ZQ%3D%3D?line=16'>17</a>\u001b[0m                         \u001b[39m'\u001b[39;49m\u001b[39mTot_P_P\u001b[39;49m\u001b[39m'\u001b[39;49m:\u001b[39m'\u001b[39;49m\u001b[39mmean\u001b[39;49m\u001b[39m'\u001b[39;49m,\n\u001b[1;32m     <a href='vscode-notebook-cell://wsl%2Bubuntu/home/tyler/project_2/generic-real-estate-consulting-project-group-46/models/LR.ipynb#W3sdnNjb2RlLXJlbW90ZQ%3D%3D?line=17'>18</a>\u001b[0m                         \u001b[39m'\u001b[39;49m\u001b[39mMedian_age_persons\u001b[39;49m\u001b[39m'\u001b[39;49m: \u001b[39m'\u001b[39;49m\u001b[39mmean\u001b[39;49m\u001b[39m'\u001b[39;49m,\n\u001b[1;32m     <a href='vscode-notebook-cell://wsl%2Bubuntu/home/tyler/project_2/generic-real-estate-consulting-project-group-46/models/LR.ipynb#W3sdnNjb2RlLXJlbW90ZQ%3D%3D?line=18'>19</a>\u001b[0m                         \u001b[39m'\u001b[39;49m\u001b[39msuburb_sold\u001b[39;49m\u001b[39m'\u001b[39;49m: \u001b[39m'\u001b[39;49m\u001b[39mmean\u001b[39;49m\u001b[39m'\u001b[39;49m,\n\u001b[1;32m     <a href='vscode-notebook-cell://wsl%2Bubuntu/home/tyler/project_2/generic-real-estate-consulting-project-group-46/models/LR.ipynb#W3sdnNjb2RlLXJlbW90ZQ%3D%3D?line=19'>20</a>\u001b[0m                         \u001b[39m'\u001b[39;49m\u001b[39msuburb_avg_day\u001b[39;49m\u001b[39m'\u001b[39;49m: \u001b[39m'\u001b[39;49m\u001b[39mmean\u001b[39;49m\u001b[39m'\u001b[39;49m,\n\u001b[1;32m     <a href='vscode-notebook-cell://wsl%2Bubuntu/home/tyler/project_2/generic-real-estate-consulting-project-group-46/models/LR.ipynb#W3sdnNjb2RlLXJlbW90ZQ%3D%3D?line=20'>21</a>\u001b[0m                         \u001b[39m'\u001b[39;49m\u001b[39msuburb_population\u001b[39;49m\u001b[39m'\u001b[39;49m: \u001b[39m'\u001b[39;49m\u001b[39mmean\u001b[39;49m\u001b[39m'\u001b[39;49m,\n\u001b[1;32m     <a href='vscode-notebook-cell://wsl%2Bubuntu/home/tyler/project_2/generic-real-estate-consulting-project-group-46/models/LR.ipynb#W3sdnNjb2RlLXJlbW90ZQ%3D%3D?line=21'>22</a>\u001b[0m                         \u001b[39m'\u001b[39;49m\u001b[39msuburb_owner\u001b[39;49m\u001b[39m'\u001b[39;49m: \u001b[39m'\u001b[39;49m\u001b[39mmean\u001b[39;49m\u001b[39m'\u001b[39;49m,\n\u001b[1;32m     <a href='vscode-notebook-cell://wsl%2Bubuntu/home/tyler/project_2/generic-real-estate-consulting-project-group-46/models/LR.ipynb#W3sdnNjb2RlLXJlbW90ZQ%3D%3D?line=22'>23</a>\u001b[0m                         \u001b[39m'\u001b[39;49m\u001b[39msuburb_renter\u001b[39;49m\u001b[39m'\u001b[39;49m:\u001b[39m'\u001b[39;49m\u001b[39mmean\u001b[39;49m\u001b[39m'\u001b[39;49m,\n\u001b[1;32m     <a href='vscode-notebook-cell://wsl%2Bubuntu/home/tyler/project_2/generic-real-estate-consulting-project-group-46/models/LR.ipynb#W3sdnNjb2RlLXJlbW90ZQ%3D%3D?line=23'>24</a>\u001b[0m                         \u001b[39m'\u001b[39;49m\u001b[39msuburb_family\u001b[39;49m\u001b[39m'\u001b[39;49m:\u001b[39m'\u001b[39;49m\u001b[39mmean\u001b[39;49m\u001b[39m'\u001b[39;49m,\n\u001b[1;32m     <a href='vscode-notebook-cell://wsl%2Bubuntu/home/tyler/project_2/generic-real-estate-consulting-project-group-46/models/LR.ipynb#W3sdnNjb2RlLXJlbW90ZQ%3D%3D?line=24'>25</a>\u001b[0m                         \u001b[39m'\u001b[39;49m\u001b[39msuburb_single\u001b[39;49m\u001b[39m'\u001b[39;49m:\u001b[39m'\u001b[39;49m\u001b[39mmean\u001b[39;49m\u001b[39m'\u001b[39;49m,\n\u001b[1;32m     <a href='vscode-notebook-cell://wsl%2Bubuntu/home/tyler/project_2/generic-real-estate-consulting-project-group-46/models/LR.ipynb#W3sdnNjb2RlLXJlbW90ZQ%3D%3D?line=25'>26</a>\u001b[0m                     }\n\u001b[1;32m     <a href='vscode-notebook-cell://wsl%2Bubuntu/home/tyler/project_2/generic-real-estate-consulting-project-group-46/models/LR.ipynb#W3sdnNjb2RlLXJlbW90ZQ%3D%3D?line=26'>27</a>\u001b[0m                 ) \n\u001b[1;32m     <a href='vscode-notebook-cell://wsl%2Bubuntu/home/tyler/project_2/generic-real-estate-consulting-project-group-46/models/LR.ipynb#W3sdnNjb2RlLXJlbW90ZQ%3D%3D?line=27'>28</a>\u001b[0m df_postcode\u001b[39m.\u001b[39mhead()\n",
      "File \u001b[0;32m~/.local/lib/python3.8/site-packages/pandas/core/groupby/generic.py:869\u001b[0m, in \u001b[0;36mDataFrameGroupBy.aggregate\u001b[0;34m(self, func, engine, engine_kwargs, *args, **kwargs)\u001b[0m\n\u001b[1;32m    866\u001b[0m func \u001b[39m=\u001b[39m maybe_mangle_lambdas(func)\n\u001b[1;32m    868\u001b[0m op \u001b[39m=\u001b[39m GroupByApply(\u001b[39mself\u001b[39m, func, args, kwargs)\n\u001b[0;32m--> 869\u001b[0m result \u001b[39m=\u001b[39m op\u001b[39m.\u001b[39;49magg()\n\u001b[1;32m    870\u001b[0m \u001b[39mif\u001b[39;00m \u001b[39mnot\u001b[39;00m is_dict_like(func) \u001b[39mand\u001b[39;00m result \u001b[39mis\u001b[39;00m \u001b[39mnot\u001b[39;00m \u001b[39mNone\u001b[39;00m:\n\u001b[1;32m    871\u001b[0m     \u001b[39mreturn\u001b[39;00m result\n",
      "File \u001b[0;32m~/.local/lib/python3.8/site-packages/pandas/core/apply.py:168\u001b[0m, in \u001b[0;36mApply.agg\u001b[0;34m(self)\u001b[0m\n\u001b[1;32m    165\u001b[0m     \u001b[39mreturn\u001b[39;00m \u001b[39mself\u001b[39m\u001b[39m.\u001b[39mapply_str()\n\u001b[1;32m    167\u001b[0m \u001b[39mif\u001b[39;00m is_dict_like(arg):\n\u001b[0;32m--> 168\u001b[0m     \u001b[39mreturn\u001b[39;00m \u001b[39mself\u001b[39;49m\u001b[39m.\u001b[39;49magg_dict_like()\n\u001b[1;32m    169\u001b[0m \u001b[39melif\u001b[39;00m is_list_like(arg):\n\u001b[1;32m    170\u001b[0m     \u001b[39m# we require a list, but not a 'str'\u001b[39;00m\n\u001b[1;32m    171\u001b[0m     \u001b[39mreturn\u001b[39;00m \u001b[39mself\u001b[39m\u001b[39m.\u001b[39magg_list_like()\n",
      "File \u001b[0;32m~/.local/lib/python3.8/site-packages/pandas/core/apply.py:481\u001b[0m, in \u001b[0;36mApply.agg_dict_like\u001b[0;34m(self)\u001b[0m\n\u001b[1;32m    478\u001b[0m     results \u001b[39m=\u001b[39m {key: colg\u001b[39m.\u001b[39magg(how) \u001b[39mfor\u001b[39;00m key, how \u001b[39min\u001b[39;00m arg\u001b[39m.\u001b[39mitems()}\n\u001b[1;32m    479\u001b[0m \u001b[39melse\u001b[39;00m:\n\u001b[1;32m    480\u001b[0m     \u001b[39m# key used for column selection and output\u001b[39;00m\n\u001b[0;32m--> 481\u001b[0m     results \u001b[39m=\u001b[39m {\n\u001b[1;32m    482\u001b[0m         key: obj\u001b[39m.\u001b[39m_gotitem(key, ndim\u001b[39m=\u001b[39m\u001b[39m1\u001b[39m)\u001b[39m.\u001b[39magg(how) \u001b[39mfor\u001b[39;00m key, how \u001b[39min\u001b[39;00m arg\u001b[39m.\u001b[39mitems()\n\u001b[1;32m    483\u001b[0m     }\n\u001b[1;32m    485\u001b[0m \u001b[39m# set the final keys\u001b[39;00m\n\u001b[1;32m    486\u001b[0m keys \u001b[39m=\u001b[39m \u001b[39mlist\u001b[39m(arg\u001b[39m.\u001b[39mkeys())\n",
      "File \u001b[0;32m~/.local/lib/python3.8/site-packages/pandas/core/apply.py:482\u001b[0m, in \u001b[0;36m<dictcomp>\u001b[0;34m(.0)\u001b[0m\n\u001b[1;32m    478\u001b[0m     results \u001b[39m=\u001b[39m {key: colg\u001b[39m.\u001b[39magg(how) \u001b[39mfor\u001b[39;00m key, how \u001b[39min\u001b[39;00m arg\u001b[39m.\u001b[39mitems()}\n\u001b[1;32m    479\u001b[0m \u001b[39melse\u001b[39;00m:\n\u001b[1;32m    480\u001b[0m     \u001b[39m# key used for column selection and output\u001b[39;00m\n\u001b[1;32m    481\u001b[0m     results \u001b[39m=\u001b[39m {\n\u001b[0;32m--> 482\u001b[0m         key: obj\u001b[39m.\u001b[39;49m_gotitem(key, ndim\u001b[39m=\u001b[39;49m\u001b[39m1\u001b[39;49m)\u001b[39m.\u001b[39;49magg(how) \u001b[39mfor\u001b[39;00m key, how \u001b[39min\u001b[39;00m arg\u001b[39m.\u001b[39mitems()\n\u001b[1;32m    483\u001b[0m     }\n\u001b[1;32m    485\u001b[0m \u001b[39m# set the final keys\u001b[39;00m\n\u001b[1;32m    486\u001b[0m keys \u001b[39m=\u001b[39m \u001b[39mlist\u001b[39m(arg\u001b[39m.\u001b[39mkeys())\n",
      "File \u001b[0;32m~/.local/lib/python3.8/site-packages/pandas/core/groupby/generic.py:265\u001b[0m, in \u001b[0;36mSeriesGroupBy.aggregate\u001b[0;34m(self, func, engine, engine_kwargs, *args, **kwargs)\u001b[0m\n\u001b[1;32m    262\u001b[0m     kwargs \u001b[39m=\u001b[39m {}\n\u001b[1;32m    264\u001b[0m \u001b[39mif\u001b[39;00m \u001b[39misinstance\u001b[39m(func, \u001b[39mstr\u001b[39m):\n\u001b[0;32m--> 265\u001b[0m     \u001b[39mreturn\u001b[39;00m \u001b[39mgetattr\u001b[39;49m(\u001b[39mself\u001b[39;49m, func)(\u001b[39m*\u001b[39;49margs, \u001b[39m*\u001b[39;49m\u001b[39m*\u001b[39;49mkwargs)\n\u001b[1;32m    267\u001b[0m \u001b[39melif\u001b[39;00m \u001b[39misinstance\u001b[39m(func, abc\u001b[39m.\u001b[39mIterable):\n\u001b[1;32m    268\u001b[0m     \u001b[39m# Catch instances of lists / tuples\u001b[39;00m\n\u001b[1;32m    269\u001b[0m     \u001b[39m# but not the class list / tuple itself.\u001b[39;00m\n\u001b[1;32m    270\u001b[0m     func \u001b[39m=\u001b[39m maybe_mangle_lambdas(func)\n",
      "File \u001b[0;32m~/.local/lib/python3.8/site-packages/pandas/core/groupby/groupby.py:1965\u001b[0m, in \u001b[0;36mGroupBy.mean\u001b[0;34m(self, numeric_only, engine, engine_kwargs)\u001b[0m\n\u001b[1;32m   1963\u001b[0m     \u001b[39mreturn\u001b[39;00m \u001b[39mself\u001b[39m\u001b[39m.\u001b[39m_numba_agg_general(sliding_mean, engine_kwargs, \u001b[39m\"\u001b[39m\u001b[39mgroupby_mean\u001b[39m\u001b[39m\"\u001b[39m)\n\u001b[1;32m   1964\u001b[0m \u001b[39melse\u001b[39;00m:\n\u001b[0;32m-> 1965\u001b[0m     result \u001b[39m=\u001b[39m \u001b[39mself\u001b[39;49m\u001b[39m.\u001b[39;49m_cython_agg_general(\n\u001b[1;32m   1966\u001b[0m         \u001b[39m\"\u001b[39;49m\u001b[39mmean\u001b[39;49m\u001b[39m\"\u001b[39;49m,\n\u001b[1;32m   1967\u001b[0m         alt\u001b[39m=\u001b[39;49m\u001b[39mlambda\u001b[39;49;00m x: Series(x)\u001b[39m.\u001b[39;49mmean(numeric_only\u001b[39m=\u001b[39;49mnumeric_only_bool),\n\u001b[1;32m   1968\u001b[0m         numeric_only\u001b[39m=\u001b[39;49mnumeric_only_bool,\n\u001b[1;32m   1969\u001b[0m     )\n\u001b[1;32m   1970\u001b[0m     \u001b[39mreturn\u001b[39;00m result\u001b[39m.\u001b[39m__finalize__(\u001b[39mself\u001b[39m\u001b[39m.\u001b[39mobj, method\u001b[39m=\u001b[39m\u001b[39m\"\u001b[39m\u001b[39mgroupby\u001b[39m\u001b[39m\"\u001b[39m)\n",
      "File \u001b[0;32m~/.local/lib/python3.8/site-packages/pandas/core/groupby/groupby.py:1601\u001b[0m, in \u001b[0;36mGroupBy._cython_agg_general\u001b[0;34m(self, how, alt, numeric_only, min_count)\u001b[0m\n\u001b[1;32m   1597\u001b[0m     \u001b[39mreturn\u001b[39;00m result\n\u001b[1;32m   1599\u001b[0m \u001b[39m# TypeError -> we may have an exception in trying to aggregate\u001b[39;00m\n\u001b[1;32m   1600\u001b[0m \u001b[39m#  continue and exclude the block\u001b[39;00m\n\u001b[0;32m-> 1601\u001b[0m new_mgr \u001b[39m=\u001b[39m data\u001b[39m.\u001b[39;49mgrouped_reduce(array_func, ignore_failures\u001b[39m=\u001b[39;49m\u001b[39mTrue\u001b[39;49;00m)\n\u001b[1;32m   1603\u001b[0m \u001b[39mif\u001b[39;00m \u001b[39mnot\u001b[39;00m is_ser \u001b[39mand\u001b[39;00m \u001b[39mlen\u001b[39m(new_mgr) \u001b[39m<\u001b[39m \u001b[39mlen\u001b[39m(data):\n\u001b[1;32m   1604\u001b[0m     warn_dropping_nuisance_columns_deprecated(\u001b[39mtype\u001b[39m(\u001b[39mself\u001b[39m), how)\n",
      "File \u001b[0;32m~/.local/lib/python3.8/site-packages/pandas/core/internals/base.py:199\u001b[0m, in \u001b[0;36mSingleDataManager.grouped_reduce\u001b[0;34m(self, func, ignore_failures)\u001b[0m\n\u001b[1;32m    193\u001b[0m \u001b[39m\"\"\"\u001b[39;00m\n\u001b[1;32m    194\u001b[0m \u001b[39mignore_failures : bool, default False\u001b[39;00m\n\u001b[1;32m    195\u001b[0m \u001b[39m    Not used; for compatibility with ArrayManager/BlockManager.\u001b[39;00m\n\u001b[1;32m    196\u001b[0m \u001b[39m\"\"\"\u001b[39;00m\n\u001b[1;32m    198\u001b[0m arr \u001b[39m=\u001b[39m \u001b[39mself\u001b[39m\u001b[39m.\u001b[39marray\n\u001b[0;32m--> 199\u001b[0m res \u001b[39m=\u001b[39m func(arr)\n\u001b[1;32m    200\u001b[0m index \u001b[39m=\u001b[39m default_index(\u001b[39mlen\u001b[39m(res))\n\u001b[1;32m    202\u001b[0m mgr \u001b[39m=\u001b[39m \u001b[39mtype\u001b[39m(\u001b[39mself\u001b[39m)\u001b[39m.\u001b[39mfrom_array(res, index)\n",
      "File \u001b[0;32m~/.local/lib/python3.8/site-packages/pandas/core/groupby/groupby.py:1595\u001b[0m, in \u001b[0;36mGroupBy._cython_agg_general.<locals>.array_func\u001b[0;34m(values)\u001b[0m\n\u001b[1;32m   1587\u001b[0m     result \u001b[39m=\u001b[39m \u001b[39mself\u001b[39m\u001b[39m.\u001b[39mgrouper\u001b[39m.\u001b[39m_cython_operation(\n\u001b[1;32m   1588\u001b[0m         \u001b[39m\"\u001b[39m\u001b[39maggregate\u001b[39m\u001b[39m\"\u001b[39m, values, how, axis\u001b[39m=\u001b[39mdata\u001b[39m.\u001b[39mndim \u001b[39m-\u001b[39m \u001b[39m1\u001b[39m, min_count\u001b[39m=\u001b[39mmin_count\n\u001b[1;32m   1589\u001b[0m     )\n\u001b[1;32m   1590\u001b[0m \u001b[39mexcept\u001b[39;00m \u001b[39mNotImplementedError\u001b[39;00m:\n\u001b[1;32m   1591\u001b[0m     \u001b[39m# generally if we have numeric_only=False\u001b[39;00m\n\u001b[1;32m   1592\u001b[0m     \u001b[39m# and non-applicable functions\u001b[39;00m\n\u001b[1;32m   1593\u001b[0m     \u001b[39m# try to python agg\u001b[39;00m\n\u001b[1;32m   1594\u001b[0m     \u001b[39m# TODO: shouldn't min_count matter?\u001b[39;00m\n\u001b[0;32m-> 1595\u001b[0m     result \u001b[39m=\u001b[39m \u001b[39mself\u001b[39;49m\u001b[39m.\u001b[39;49m_agg_py_fallback(values, ndim\u001b[39m=\u001b[39;49mdata\u001b[39m.\u001b[39;49mndim, alt\u001b[39m=\u001b[39;49malt)\n\u001b[1;32m   1597\u001b[0m \u001b[39mreturn\u001b[39;00m result\n",
      "File \u001b[0;32m~/.local/lib/python3.8/site-packages/pandas/core/groupby/groupby.py:1549\u001b[0m, in \u001b[0;36mGroupBy._agg_py_fallback\u001b[0;34m(self, values, ndim, alt)\u001b[0m\n\u001b[1;32m   1544\u001b[0m     ser \u001b[39m=\u001b[39m df\u001b[39m.\u001b[39miloc[:, \u001b[39m0\u001b[39m]\n\u001b[1;32m   1546\u001b[0m \u001b[39m# We do not get here with UDFs, so we know that our dtype\u001b[39;00m\n\u001b[1;32m   1547\u001b[0m \u001b[39m#  should always be preserved by the implemented aggregations\u001b[39;00m\n\u001b[1;32m   1548\u001b[0m \u001b[39m# TODO: Is this exactly right; see WrappedCythonOp get_result_dtype?\u001b[39;00m\n\u001b[0;32m-> 1549\u001b[0m res_values \u001b[39m=\u001b[39m \u001b[39mself\u001b[39;49m\u001b[39m.\u001b[39;49mgrouper\u001b[39m.\u001b[39;49magg_series(ser, alt, preserve_dtype\u001b[39m=\u001b[39;49m\u001b[39mTrue\u001b[39;49;00m)\n\u001b[1;32m   1551\u001b[0m \u001b[39mif\u001b[39;00m \u001b[39misinstance\u001b[39m(values, Categorical):\n\u001b[1;32m   1552\u001b[0m     \u001b[39m# Because we only get here with known dtype-preserving\u001b[39;00m\n\u001b[1;32m   1553\u001b[0m     \u001b[39m#  reductions, we cast back to Categorical.\u001b[39;00m\n\u001b[1;32m   1554\u001b[0m     \u001b[39m# TODO: if we ever get \"rank\" working, exclude it here.\u001b[39;00m\n\u001b[1;32m   1555\u001b[0m     res_values \u001b[39m=\u001b[39m \u001b[39mtype\u001b[39m(values)\u001b[39m.\u001b[39m_from_sequence(res_values, dtype\u001b[39m=\u001b[39mvalues\u001b[39m.\u001b[39mdtype)\n",
      "File \u001b[0;32m~/.local/lib/python3.8/site-packages/pandas/core/groupby/ops.py:981\u001b[0m, in \u001b[0;36mBaseGrouper.agg_series\u001b[0;34m(self, obj, func, preserve_dtype)\u001b[0m\n\u001b[1;32m    978\u001b[0m     preserve_dtype \u001b[39m=\u001b[39m \u001b[39mTrue\u001b[39;00m\n\u001b[1;32m    980\u001b[0m \u001b[39melse\u001b[39;00m:\n\u001b[0;32m--> 981\u001b[0m     result \u001b[39m=\u001b[39m \u001b[39mself\u001b[39;49m\u001b[39m.\u001b[39;49m_aggregate_series_pure_python(obj, func)\n\u001b[1;32m    983\u001b[0m npvalues \u001b[39m=\u001b[39m lib\u001b[39m.\u001b[39mmaybe_convert_objects(result, try_float\u001b[39m=\u001b[39m\u001b[39mFalse\u001b[39;00m)\n\u001b[1;32m    984\u001b[0m \u001b[39mif\u001b[39;00m preserve_dtype:\n",
      "File \u001b[0;32m~/.local/lib/python3.8/site-packages/pandas/core/groupby/ops.py:1005\u001b[0m, in \u001b[0;36mBaseGrouper._aggregate_series_pure_python\u001b[0;34m(self, obj, func)\u001b[0m\n\u001b[1;32m   1003\u001b[0m \u001b[39mfor\u001b[39;00m i, group \u001b[39min\u001b[39;00m \u001b[39menumerate\u001b[39m(splitter):\n\u001b[1;32m   1004\u001b[0m     group \u001b[39m=\u001b[39m group\u001b[39m.\u001b[39m__finalize__(obj, method\u001b[39m=\u001b[39m\u001b[39m\"\u001b[39m\u001b[39mgroupby\u001b[39m\u001b[39m\"\u001b[39m)\n\u001b[0;32m-> 1005\u001b[0m     res \u001b[39m=\u001b[39m func(group)\n\u001b[1;32m   1006\u001b[0m     res \u001b[39m=\u001b[39m libreduction\u001b[39m.\u001b[39mextract_result(res)\n\u001b[1;32m   1008\u001b[0m     \u001b[39mif\u001b[39;00m \u001b[39mnot\u001b[39;00m initialized:\n\u001b[1;32m   1009\u001b[0m         \u001b[39m# We only do this validation on the first iteration\u001b[39;00m\n",
      "File \u001b[0;32m~/.local/lib/python3.8/site-packages/pandas/core/groupby/groupby.py:1967\u001b[0m, in \u001b[0;36mGroupBy.mean.<locals>.<lambda>\u001b[0;34m(x)\u001b[0m\n\u001b[1;32m   1963\u001b[0m     \u001b[39mreturn\u001b[39;00m \u001b[39mself\u001b[39m\u001b[39m.\u001b[39m_numba_agg_general(sliding_mean, engine_kwargs, \u001b[39m\"\u001b[39m\u001b[39mgroupby_mean\u001b[39m\u001b[39m\"\u001b[39m)\n\u001b[1;32m   1964\u001b[0m \u001b[39melse\u001b[39;00m:\n\u001b[1;32m   1965\u001b[0m     result \u001b[39m=\u001b[39m \u001b[39mself\u001b[39m\u001b[39m.\u001b[39m_cython_agg_general(\n\u001b[1;32m   1966\u001b[0m         \u001b[39m\"\u001b[39m\u001b[39mmean\u001b[39m\u001b[39m\"\u001b[39m,\n\u001b[0;32m-> 1967\u001b[0m         alt\u001b[39m=\u001b[39m\u001b[39mlambda\u001b[39;00m x: Series(x)\u001b[39m.\u001b[39;49mmean(numeric_only\u001b[39m=\u001b[39;49mnumeric_only_bool),\n\u001b[1;32m   1968\u001b[0m         numeric_only\u001b[39m=\u001b[39mnumeric_only_bool,\n\u001b[1;32m   1969\u001b[0m     )\n\u001b[1;32m   1970\u001b[0m     \u001b[39mreturn\u001b[39;00m result\u001b[39m.\u001b[39m__finalize__(\u001b[39mself\u001b[39m\u001b[39m.\u001b[39mobj, method\u001b[39m=\u001b[39m\u001b[39m\"\u001b[39m\u001b[39mgroupby\u001b[39m\u001b[39m\"\u001b[39m)\n",
      "File \u001b[0;32m~/.local/lib/python3.8/site-packages/pandas/core/generic.py:11119\u001b[0m, in \u001b[0;36mNDFrame._add_numeric_operations.<locals>.mean\u001b[0;34m(self, axis, skipna, level, numeric_only, **kwargs)\u001b[0m\n\u001b[1;32m  11101\u001b[0m \u001b[39m@doc\u001b[39m(\n\u001b[1;32m  11102\u001b[0m     _num_doc,\n\u001b[1;32m  11103\u001b[0m     desc\u001b[39m=\u001b[39m\u001b[39m\"\u001b[39m\u001b[39mReturn the mean of the values over the requested axis.\u001b[39m\u001b[39m\"\u001b[39m,\n\u001b[0;32m   (...)\u001b[0m\n\u001b[1;32m  11117\u001b[0m     \u001b[39m*\u001b[39m\u001b[39m*\u001b[39mkwargs,\n\u001b[1;32m  11118\u001b[0m ):\n\u001b[0;32m> 11119\u001b[0m     \u001b[39mreturn\u001b[39;00m NDFrame\u001b[39m.\u001b[39;49mmean(\u001b[39mself\u001b[39;49m, axis, skipna, level, numeric_only, \u001b[39m*\u001b[39;49m\u001b[39m*\u001b[39;49mkwargs)\n",
      "File \u001b[0;32m~/.local/lib/python3.8/site-packages/pandas/core/generic.py:10689\u001b[0m, in \u001b[0;36mNDFrame.mean\u001b[0;34m(self, axis, skipna, level, numeric_only, **kwargs)\u001b[0m\n\u001b[1;32m  10681\u001b[0m \u001b[39mdef\u001b[39;00m \u001b[39mmean\u001b[39m(\n\u001b[1;32m  10682\u001b[0m     \u001b[39mself\u001b[39m,\n\u001b[1;32m  10683\u001b[0m     axis: Axis \u001b[39m|\u001b[39m \u001b[39mNone\u001b[39;00m \u001b[39m|\u001b[39m lib\u001b[39m.\u001b[39mNoDefault \u001b[39m=\u001b[39m lib\u001b[39m.\u001b[39mno_default,\n\u001b[0;32m   (...)\u001b[0m\n\u001b[1;32m  10687\u001b[0m     \u001b[39m*\u001b[39m\u001b[39m*\u001b[39mkwargs,\n\u001b[1;32m  10688\u001b[0m ) \u001b[39m-\u001b[39m\u001b[39m>\u001b[39m Series \u001b[39m|\u001b[39m \u001b[39mfloat\u001b[39m:\n\u001b[0;32m> 10689\u001b[0m     \u001b[39mreturn\u001b[39;00m \u001b[39mself\u001b[39;49m\u001b[39m.\u001b[39;49m_stat_function(\n\u001b[1;32m  10690\u001b[0m         \u001b[39m\"\u001b[39;49m\u001b[39mmean\u001b[39;49m\u001b[39m\"\u001b[39;49m, nanops\u001b[39m.\u001b[39;49mnanmean, axis, skipna, level, numeric_only, \u001b[39m*\u001b[39;49m\u001b[39m*\u001b[39;49mkwargs\n\u001b[1;32m  10691\u001b[0m     )\n",
      "File \u001b[0;32m~/.local/lib/python3.8/site-packages/pandas/core/generic.py:10641\u001b[0m, in \u001b[0;36mNDFrame._stat_function\u001b[0;34m(self, name, func, axis, skipna, level, numeric_only, **kwargs)\u001b[0m\n\u001b[1;32m  10631\u001b[0m     warnings\u001b[39m.\u001b[39mwarn(\n\u001b[1;32m  10632\u001b[0m         \u001b[39m\"\u001b[39m\u001b[39mUsing the level keyword in DataFrame and Series aggregations is \u001b[39m\u001b[39m\"\u001b[39m\n\u001b[1;32m  10633\u001b[0m         \u001b[39m\"\u001b[39m\u001b[39mdeprecated and will be removed in a future version. Use groupby \u001b[39m\u001b[39m\"\u001b[39m\n\u001b[0;32m   (...)\u001b[0m\n\u001b[1;32m  10636\u001b[0m         stacklevel\u001b[39m=\u001b[39mfind_stack_level(),\n\u001b[1;32m  10637\u001b[0m     )\n\u001b[1;32m  10638\u001b[0m     \u001b[39mreturn\u001b[39;00m \u001b[39mself\u001b[39m\u001b[39m.\u001b[39m_agg_by_level(\n\u001b[1;32m  10639\u001b[0m         name, axis\u001b[39m=\u001b[39maxis, level\u001b[39m=\u001b[39mlevel, skipna\u001b[39m=\u001b[39mskipna, numeric_only\u001b[39m=\u001b[39mnumeric_only\n\u001b[1;32m  10640\u001b[0m     )\n\u001b[0;32m> 10641\u001b[0m \u001b[39mreturn\u001b[39;00m \u001b[39mself\u001b[39;49m\u001b[39m.\u001b[39;49m_reduce(\n\u001b[1;32m  10642\u001b[0m     func, name\u001b[39m=\u001b[39;49mname, axis\u001b[39m=\u001b[39;49maxis, skipna\u001b[39m=\u001b[39;49mskipna, numeric_only\u001b[39m=\u001b[39;49mnumeric_only\n\u001b[1;32m  10643\u001b[0m )\n",
      "File \u001b[0;32m~/.local/lib/python3.8/site-packages/pandas/core/series.py:4471\u001b[0m, in \u001b[0;36mSeries._reduce\u001b[0;34m(self, op, name, axis, skipna, numeric_only, filter_type, **kwds)\u001b[0m\n\u001b[1;32m   4467\u001b[0m     \u001b[39mraise\u001b[39;00m \u001b[39mNotImplementedError\u001b[39;00m(\n\u001b[1;32m   4468\u001b[0m         \u001b[39mf\u001b[39m\u001b[39m\"\u001b[39m\u001b[39mSeries.\u001b[39m\u001b[39m{\u001b[39;00mname\u001b[39m}\u001b[39;00m\u001b[39m does not implement \u001b[39m\u001b[39m{\u001b[39;00mkwd_name\u001b[39m}\u001b[39;00m\u001b[39m.\u001b[39m\u001b[39m\"\u001b[39m\n\u001b[1;32m   4469\u001b[0m     )\n\u001b[1;32m   4470\u001b[0m \u001b[39mwith\u001b[39;00m np\u001b[39m.\u001b[39merrstate(\u001b[39mall\u001b[39m\u001b[39m=\u001b[39m\u001b[39m\"\u001b[39m\u001b[39mignore\u001b[39m\u001b[39m\"\u001b[39m):\n\u001b[0;32m-> 4471\u001b[0m     \u001b[39mreturn\u001b[39;00m op(delegate, skipna\u001b[39m=\u001b[39;49mskipna, \u001b[39m*\u001b[39;49m\u001b[39m*\u001b[39;49mkwds)\n",
      "File \u001b[0;32m~/.local/lib/python3.8/site-packages/pandas/core/nanops.py:93\u001b[0m, in \u001b[0;36mdisallow.__call__.<locals>._f\u001b[0;34m(*args, **kwargs)\u001b[0m\n\u001b[1;32m     91\u001b[0m \u001b[39mtry\u001b[39;00m:\n\u001b[1;32m     92\u001b[0m     \u001b[39mwith\u001b[39;00m np\u001b[39m.\u001b[39merrstate(invalid\u001b[39m=\u001b[39m\u001b[39m\"\u001b[39m\u001b[39mignore\u001b[39m\u001b[39m\"\u001b[39m):\n\u001b[0;32m---> 93\u001b[0m         \u001b[39mreturn\u001b[39;00m f(\u001b[39m*\u001b[39;49margs, \u001b[39m*\u001b[39;49m\u001b[39m*\u001b[39;49mkwargs)\n\u001b[1;32m     94\u001b[0m \u001b[39mexcept\u001b[39;00m \u001b[39mValueError\u001b[39;00m \u001b[39mas\u001b[39;00m e:\n\u001b[1;32m     95\u001b[0m     \u001b[39m# we want to transform an object array\u001b[39;00m\n\u001b[1;32m     96\u001b[0m     \u001b[39m# ValueError message to the more typical TypeError\u001b[39;00m\n\u001b[1;32m     97\u001b[0m     \u001b[39m# e.g. this is normally a disallowed function on\u001b[39;00m\n\u001b[1;32m     98\u001b[0m     \u001b[39m# object arrays that contain strings\u001b[39;00m\n\u001b[1;32m     99\u001b[0m     \u001b[39mif\u001b[39;00m is_object_dtype(args[\u001b[39m0\u001b[39m]):\n",
      "File \u001b[0;32m~/.local/lib/python3.8/site-packages/pandas/core/nanops.py:155\u001b[0m, in \u001b[0;36mbottleneck_switch.__call__.<locals>.f\u001b[0;34m(values, axis, skipna, **kwds)\u001b[0m\n\u001b[1;32m    153\u001b[0m         result \u001b[39m=\u001b[39m alt(values, axis\u001b[39m=\u001b[39maxis, skipna\u001b[39m=\u001b[39mskipna, \u001b[39m*\u001b[39m\u001b[39m*\u001b[39mkwds)\n\u001b[1;32m    154\u001b[0m \u001b[39melse\u001b[39;00m:\n\u001b[0;32m--> 155\u001b[0m     result \u001b[39m=\u001b[39m alt(values, axis\u001b[39m=\u001b[39;49maxis, skipna\u001b[39m=\u001b[39;49mskipna, \u001b[39m*\u001b[39;49m\u001b[39m*\u001b[39;49mkwds)\n\u001b[1;32m    157\u001b[0m \u001b[39mreturn\u001b[39;00m result\n",
      "File \u001b[0;32m~/.local/lib/python3.8/site-packages/pandas/core/nanops.py:410\u001b[0m, in \u001b[0;36m_datetimelike_compat.<locals>.new_func\u001b[0;34m(values, axis, skipna, mask, **kwargs)\u001b[0m\n\u001b[1;32m    407\u001b[0m \u001b[39mif\u001b[39;00m datetimelike \u001b[39mand\u001b[39;00m mask \u001b[39mis\u001b[39;00m \u001b[39mNone\u001b[39;00m:\n\u001b[1;32m    408\u001b[0m     mask \u001b[39m=\u001b[39m isna(values)\n\u001b[0;32m--> 410\u001b[0m result \u001b[39m=\u001b[39m func(values, axis\u001b[39m=\u001b[39;49maxis, skipna\u001b[39m=\u001b[39;49mskipna, mask\u001b[39m=\u001b[39;49mmask, \u001b[39m*\u001b[39;49m\u001b[39m*\u001b[39;49mkwargs)\n\u001b[1;32m    412\u001b[0m \u001b[39mif\u001b[39;00m datetimelike:\n\u001b[1;32m    413\u001b[0m     result \u001b[39m=\u001b[39m _wrap_results(result, orig_values\u001b[39m.\u001b[39mdtype, fill_value\u001b[39m=\u001b[39miNaT)\n",
      "File \u001b[0;32m~/.local/lib/python3.8/site-packages/pandas/core/nanops.py:698\u001b[0m, in \u001b[0;36mnanmean\u001b[0;34m(values, axis, skipna, mask)\u001b[0m\n\u001b[1;32m    695\u001b[0m     dtype_count \u001b[39m=\u001b[39m dtype\n\u001b[1;32m    697\u001b[0m count \u001b[39m=\u001b[39m _get_counts(values\u001b[39m.\u001b[39mshape, mask, axis, dtype\u001b[39m=\u001b[39mdtype_count)\n\u001b[0;32m--> 698\u001b[0m the_sum \u001b[39m=\u001b[39m _ensure_numeric(values\u001b[39m.\u001b[39;49msum(axis, dtype\u001b[39m=\u001b[39;49mdtype_sum))\n\u001b[1;32m    700\u001b[0m \u001b[39mif\u001b[39;00m axis \u001b[39mis\u001b[39;00m \u001b[39mnot\u001b[39;00m \u001b[39mNone\u001b[39;00m \u001b[39mand\u001b[39;00m \u001b[39mgetattr\u001b[39m(the_sum, \u001b[39m\"\u001b[39m\u001b[39mndim\u001b[39m\u001b[39m\"\u001b[39m, \u001b[39mFalse\u001b[39;00m):\n\u001b[1;32m    701\u001b[0m     count \u001b[39m=\u001b[39m cast(np\u001b[39m.\u001b[39mndarray, count)\n",
      "File \u001b[0;32m~/.local/lib/python3.8/site-packages/pandas/core/nanops.py:1629\u001b[0m, in \u001b[0;36m_ensure_numeric\u001b[0;34m(x)\u001b[0m\n\u001b[1;32m   1626\u001b[0m             x \u001b[39m=\u001b[39m \u001b[39mcomplex\u001b[39m(x)\n\u001b[1;32m   1627\u001b[0m         \u001b[39mexcept\u001b[39;00m \u001b[39mValueError\u001b[39;00m \u001b[39mas\u001b[39;00m err:\n\u001b[1;32m   1628\u001b[0m             \u001b[39m# e.g. \"foo\"\u001b[39;00m\n\u001b[0;32m-> 1629\u001b[0m             \u001b[39mraise\u001b[39;00m \u001b[39mTypeError\u001b[39;00m(\u001b[39mf\u001b[39m\u001b[39m\"\u001b[39m\u001b[39mCould not convert \u001b[39m\u001b[39m{\u001b[39;00mx\u001b[39m}\u001b[39;00m\u001b[39m to numeric\u001b[39m\u001b[39m\"\u001b[39m) \u001b[39mfrom\u001b[39;00m \u001b[39merr\u001b[39;00m\n\u001b[1;32m   1630\u001b[0m \u001b[39mreturn\u001b[39;00m x\n",
      "\u001b[0;31mTypeError\u001b[0m: Could not convert 2 Beds2 Beds1 Bed2 Beds2 Beds1 Bed1 Bed1 Bed1 Bed2 Beds2 Beds2 Beds2 Beds2 Beds0 Beds2 Beds1 Bed1 Bed1 Bed1 Bed2 Beds1 Bed1 Bed1 Bed2 Beds1 Bed2 Beds2 Beds1 Bed2 Beds1 Bed3 Beds2 Beds1 Bed2 Beds2 Beds1 Bed1 Bed2 Beds2 Beds1 Bed2 Beds2 Beds1 Bed2 Beds2 Beds1 Bed1 Bed1 Bed1 Bed02 Beds1 Bed1 Bed1 Bed2 Beds2 Beds2 Beds2 Beds1 Bed2 Beds2 Beds2 Beds2 Beds1 Bed1 Bed1 Bed1 Bed1 Bed2 Beds1 Bed2 Beds2 Beds2 Beds2 Beds1 Bed2 Beds2 Beds1 Bed2 Beds1 Bed1 Bed2 Beds2 Beds3 Beds2 Beds2 Beds2 Beds2 Beds1 Bed2 Beds2 Beds1 Bed2 Beds2 Beds1 Bed1 Bed2 Beds1 Bed2 Beds2 Beds1 Bed1 Bed1 Bed2 Beds2 Beds1 Bed2 Beds2 Beds1 Bed2 Beds1 Bed2 Beds1 Bed1 Bed1 Bed1 Bed1 Bed2 Beds2 Beds2 Beds2 Beds2 Beds0 Beds0 Beds2 Beds2 Beds2 Beds2 Beds2 Beds1 Bed2 Beds2 Beds1 Bed2 Beds2 Beds2 Beds2 Beds2 Beds1 Bed1 Bed1 Bed1 Bed1 Bed2 Beds1 Bed2 Beds1 Bed2 Beds1 Bed2 Beds2 Beds2 Beds2 Beds1 Bed1 Bed1 Bed2 Beds2 Beds2 Beds1 Bed1 Bed2 Beds2 Beds2 Beds1 Bed2 Beds2 Beds1 Bed1 Bed1 Bed2 Beds2 Beds1 Bed1 Bed1 Bed2 Beds2 Beds2 Beds1 Bed1 Bed1 Bed2 Beds2 Beds1 Bed2 Beds2 Beds2 Beds2 Beds2 Beds1 Bed1 Bed1 Bed2 Beds2 Beds2 Beds1 Bed2 Beds2 Beds1 Bed2 Beds2 Beds2 Beds2 Beds2 Beds2 Beds1 Bed2 Beds2 Beds2 Beds1 Bed2 Beds2 Beds2 Beds3 Beds1 Bed1 Bed2 Beds1 Bed1 Bed1 Bed2 Beds1 Bed2 Beds2 Beds2 Beds2 Beds1 Bed1 Bed1 Bed2 Beds2 Beds1 Bed2 Beds2 Beds1 Bed2 Beds2 Beds2 Beds1 Bed1 Bed2 Beds2 Beds1 Bed2 Beds2 Beds2 Beds2 Beds2 Beds2 Beds2 Beds2 Beds2 Beds1 Bed2 Beds2 Beds2 Beds2 Beds2 Beds2 Beds1 Bed4 Beds1 Bed2 Beds1 Bed1 Bed2 Beds2 Beds1 Bed2 Beds2 Beds0 Beds2 Beds2 Beds1 Bed2 Beds1 Bed1 Bed2 Beds1 Bed1 Bed0 Beds1 Bed2 Beds2 Beds2 Beds1 Bed2 Beds2 Beds2 Beds1 Bed0 Beds2 Beds2 Beds2 Beds2 Beds1 Bed1 Bed1 Bed0 Beds2 Beds2 Beds2 Beds2 Beds2 Beds2 Beds1 Bed1 Bed1 Bed2 Beds1 Bed1 Bed2 Beds2 Beds2 Beds0 Beds2 Beds2 Beds1 Bed2 Beds1 Bed2 Beds2 Beds1 Bed2 Beds2 Beds1 Bed1 Bed2 Beds1 Bed1 Bed2 Beds2 Beds1 Bed1 Bed1 Bed2 Beds2 Beds2 Beds2 Beds1 Bed2 Beds3 Beds0 Beds1 Bed2 Beds1 Bed1 Bed2 Beds2 Beds1 Bed1 Bed2 Beds2 Beds2 Beds2 Beds1 Bed2 Beds2 Beds2 Beds2 Beds1 Bed2 Beds2 Beds2 Beds2 Beds2 Beds1 Bed2 Beds1 Bed2 Beds1 Bed1 Bed1 Bed2 Beds1 Bed0 Beds2 Beds1 Bed2 Beds1 Bed1 Bed2 Beds2 Beds2 Beds2 Beds1 Bed2 Beds2 Beds2 Beds2 Beds0 Beds2 Beds2 Beds2 Beds2 Beds1 Bed2 Beds2 Beds2 Beds2 Beds1 Bed2 Beds2 Beds1 Bed1 Bed2 Beds2 Beds2 Beds2 Beds2 Beds2 Beds1 Bed2 Beds2 Beds2 Beds1 Bed2 Beds2 Beds2 Beds2 Beds1 Bed2 Beds2 Beds2 Beds2 Beds2 Beds2 Beds2 Beds1 Bed0 Beds2 Beds2 Beds2 Beds2 Beds2 Beds2 Beds2 Beds1 Bed2 Beds1 Bed2 Beds2 Beds2 Beds2 Beds2 Beds2 Beds1 Bed1 Bed2 Beds2 Beds2 Beds1 Bed2 Beds1 Bed2 Beds1 Bed2 Beds1 Bed2 Beds2 Beds0 Beds to numeric"
     ]
    }
   ],
   "source": [
    "# aggregate data by psotcode\n",
    "df_postcode = df\\\n",
    "                .groupby('postcode') \\\n",
    "                .agg(\n",
    "                    {\n",
    "                        'cost':'mean',\n",
    "                        'Median_rent_weekly':'mean',\n",
    "                        'school_distance':'mean',\n",
    "                        'dist_nearest_busstop':'mean',\n",
    "                        'dist_nearest_trainstation':'mean',\n",
    "                        'dist_nearest_primary_school':'mean',\n",
    "                        'dist_nearest_secondary_school':'mean',\n",
    "                        'Beds':'mean',\n",
    "                        'Bath':'mean',\n",
    "                        'Parking':'mean',\n",
    "                        'avg_income':'mean',\n",
    "                        'Tot_P_P':'mean',\n",
    "                        'Median_age_persons': 'mean',\n",
    "                        'suburb_sold': 'mean',\n",
    "                        'suburb_avg_day': 'mean',\n",
    "                        'suburb_population': 'mean',\n",
    "                        'suburb_owner': 'mean',\n",
    "                        'suburb_renter':'mean',\n",
    "                        'suburb_family':'mean',\n",
    "                        'suburb_single':'mean',\n",
    "                    }\n",
    "                ) \n",
    "df_postcode.head()"
   ]
  },
  {
   "cell_type": "code",
   "execution_count": null,
   "id": "55392aee-78a2-4fc8-87c8-cec58f2af8e1",
   "metadata": {},
   "outputs": [],
   "source": [
    "# check linear relationship between features and respond varible\n",
    "sns.lmplot(x=\"suburb_population\", y=\"cost\", data=df_postcode)"
   ]
  },
  {
   "cell_type": "code",
   "execution_count": null,
   "id": "22ee9f7f-f703-4923-9032-484bf8144ee0",
   "metadata": {},
   "outputs": [],
   "source": [
    "sns.lmplot(x=\"dist_nearest_busstop\", y=\"cost\", data=df_postcode)"
   ]
  },
  {
   "cell_type": "code",
   "execution_count": null,
   "id": "29444982-c6a1-431a-b351-8ac8b0c9bdb2",
   "metadata": {},
   "outputs": [],
   "source": [
    "sns.lmplot(x=\"avg_income\", y=\"cost\", data=df_postcode)"
   ]
  },
  {
   "cell_type": "code",
   "execution_count": null,
   "id": "83ed7306-d1c8-4b20-b776-9cdb2edff009",
   "metadata": {},
   "outputs": [],
   "source": [
    "# check correlation of features\n",
    "\n",
    "CORR_COLS = [\n",
    "    'cost','school_distance','suburb_population','suburb_renter',\n",
    "    'suburb_single','dist_nearest_secondary_school', 'dist_nearest_busstop',\n",
    "    'dist_nearest_trainstation' , 'dist_nearest_primary_school',\n",
    "    'avg_income','Tot_P_P','Median_age_persons','Beds','Bath','Parking'\n",
    "]\n",
    "\n",
    "\n",
    "fig,ax = plt.subplots(figsize=(17,5)) \n",
    "sns.heatmap(df_postcode[CORR_COLS].corr(), cmap = plt.cm.RdYlBu_r,annot=True, ax = ax)\n",
    "\n",
    "plt.title('Pearson Correlation Metric')\n",
    "#plt.savefig('../plots/corr.png')"
   ]
  },
  {
   "cell_type": "code",
   "execution_count": null,
   "id": "f111469f-23dd-4142-9969-4f9b741bbfdf",
   "metadata": {},
   "outputs": [],
   "source": [
    "CORR_COLS = [\n",
    "    'cost','school_distance','suburb_population','suburb_renter',\n",
    "    'dist_nearest_secondary_school','dist_nearest_trainstation' , \n",
    "    'avg_income','Tot_P_P','Median_age_persons','Beds','Bath','Parking'\n",
    "]\n",
    "\n",
    "\n",
    "fig,ax = plt.subplots(figsize=(20,5)) \n",
    "sns.heatmap(df_postcode[CORR_COLS].corr(), cmap = plt.cm.RdYlBu_r,annot=True, ax = ax)\n",
    "\n",
    "plt.title('Pearson Correlation Metric')\n",
    "#plt.savefig('../plots/corr.png')"
   ]
  },
  {
   "cell_type": "code",
   "execution_count": null,
   "id": "b62caaf0-a20b-40cb-afaa-71112fc0d327",
   "metadata": {},
   "outputs": [],
   "source": [
    "x = df_postcode[['cost','suburb_population','suburb_renter','suburb_family',\n",
    "    'dist_nearest_secondary_school','dist_nearest_trainstation' , \n",
    "    'avg_income','Tot_P_P','Median_age_persons','Beds','Bath','Parking']].values\n",
    "min_max_scaler = preprocessing.MinMaxScaler()\n",
    "x_scaled = min_max_scaler.fit_transform(x)\n",
    "df1 = pd.DataFrame(x_scaled, columns= ['cost','suburb_population','suburb_renter','suburb_family',\n",
    "    'dist_nearest_secondary_school','dist_nearest_trainstation' , \n",
    "    'avg_income','Tot_P_P','Median_age_persons','Beds','Bath','Parking'] )"
   ]
  },
  {
   "cell_type": "code",
   "execution_count": null,
   "id": "9e355bc4-edcd-4a57-9192-56b03b63b177",
   "metadata": {},
   "outputs": [],
   "source": [
    "df1"
   ]
  },
  {
   "cell_type": "code",
   "execution_count": null,
   "id": "93f3f39a-f0f3-4107-89bd-dd3a1f99b0a0",
   "metadata": {},
   "outputs": [],
   "source": [
    "# training model\n",
    "fit = ols(\n",
    "    formula=\"cost ~ suburb_population + suburb_renter + suburb_family + dist_nearest_secondary_school + avg_income \\\n",
    "    + Tot_P_P + dist_nearest_trainstation + Median_age_persons + Bath + Parking\",\n",
    "    data=df1\n",
    ").fit()\n",
    "print(fit.summary())"
   ]
  },
  {
   "cell_type": "code",
   "execution_count": null,
   "id": "71a1f4b6-a4db-4f8c-a012-aa6db1cabaef",
   "metadata": {},
   "outputs": [],
   "source": [
    "fit = ols(\n",
    "    formula=\"cost ~ avg_income + Tot_P_P + dist_nearest_trainstation + Median_age_persons + Bath + Parking\",\n",
    "    data=df1\n",
    ").fit()\n",
    "print(fit.summary())"
   ]
  },
  {
   "cell_type": "code",
   "execution_count": null,
   "id": "853228ee-a337-4c4f-a088-6c5c8e5663fd",
   "metadata": {},
   "outputs": [],
   "source": []
  }
 ],
 "metadata": {
  "kernelspec": {
   "display_name": "Python 3.8.10 64-bit",
   "language": "python",
   "name": "python3"
  },
  "language_info": {
   "codemirror_mode": {
    "name": "ipython",
    "version": 3
   },
   "file_extension": ".py",
   "mimetype": "text/x-python",
   "name": "python",
   "nbconvert_exporter": "python",
   "pygments_lexer": "ipython3",
   "version": "3.8.10"
  },
  "vscode": {
   "interpreter": {
    "hash": "916dbcbb3f70747c44a77c7bcd40155683ae19c65e1c03b4aa3499c5328201f1"
   }
  }
 },
 "nbformat": 4,
 "nbformat_minor": 5
}
