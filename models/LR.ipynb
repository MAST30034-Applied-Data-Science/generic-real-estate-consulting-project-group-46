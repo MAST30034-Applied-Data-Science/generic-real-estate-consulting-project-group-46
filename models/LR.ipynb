{
 "cells": [
  {
   "cell_type": "markdown",
   "id": "f872599e-08af-4629-b298-de083e6a6032",
   "metadata": {},
   "source": [
    "# Linear Regression\n",
    "This noteboooks is for linear regression model for stage one. "
   ]
  },
  {
   "cell_type": "code",
   "execution_count": null,
   "id": "3bb3f2c4-0c3e-49e8-a6cc-569cfbfce8a2",
   "metadata": {},
   "outputs": [],
   "source": [
    "import pandas as pd\n",
    "import seaborn as sns\n",
    "import matplotlib.pyplot as plt\n",
    "import numpy as np\n",
    "from statsmodels.formula.api import ols, glm\n",
    "from statsmodels.api import families\n",
    "from sklearn.model_selection import train_test_split\n",
    "from sklearn import preprocessing"
   ]
  },
  {
   "cell_type": "code",
   "execution_count": null,
   "id": "e991f200-bef8-4980-9516-82f11fad6552",
   "metadata": {},
   "outputs": [],
   "source": [
    "df = pd.read_csv(\"../data/curated/domain_final.csv\")\n",
    "df['suburb_population'] = df['suburb_population'].str.replace(\",\", \"\")\n",
    "df['suburb_sold'] = df['suburb_sold'].str.replace(\"-\", \"0\")\n",
    "df['suburb_avg_day'] = df['suburb_avg_day'].str.replace(\"-\", \"0\")\n",
    "df[['suburb_population','suburb_avg_day','suburb_sold']]\\\n",
    "= df[['suburb_population','suburb_avg_day','suburb_sold']].apply(pd.to_numeric)"
   ]
  },
  {
   "cell_type": "code",
   "execution_count": null,
   "id": "02113385-ac11-4353-a3e5-d23c1f181eb4",
   "metadata": {},
   "outputs": [],
   "source": [
    "# aggregate data by psotcode\n",
    "df_postcode = df\\\n",
    "                .groupby('postcode') \\\n",
    "                .agg(\n",
    "                    {\n",
    "                        'cost':'mean',\n",
    "                        'Median_rent_weekly':'mean',\n",
    "                        'school_distance':'mean',\n",
    "                        'dist_nearest_busstop':'mean',\n",
    "                        'dist_nearest_trainstation':'mean',\n",
    "                        'dist_nearest_primary_school':'mean',\n",
    "                        'dist_nearest_secondary_school':'mean',\n",
    "                        'Beds':'mean',\n",
    "                        'Bath':'mean',\n",
    "                        'Parking':'mean',\n",
    "                        'avg_income':'mean',\n",
    "                        'Tot_P_P':'mean',\n",
    "                        'Median_age_persons': 'mean',\n",
    "                        'suburb_sold': 'mean',\n",
    "                        'suburb_avg_day': 'mean',\n",
    "                        'suburb_population': 'mean',\n",
    "                        'suburb_owner': 'mean',\n",
    "                        'suburb_renter':'mean',\n",
    "                        'suburb_family':'mean',\n",
    "                        'suburb_single':'mean',\n",
    "                    }\n",
    "                ) \n",
    "df_postcode.head()"
   ]
  },
  {
   "cell_type": "code",
   "execution_count": null,
   "id": "55392aee-78a2-4fc8-87c8-cec58f2af8e1",
   "metadata": {},
   "outputs": [],
   "source": [
    "# check linear relationship between features and respond varible\n",
    "sns.lmplot(x=\"suburb_population\", y=\"cost\", data=df_postcode)"
   ]
  },
  {
   "cell_type": "code",
   "execution_count": null,
   "id": "22ee9f7f-f703-4923-9032-484bf8144ee0",
   "metadata": {},
   "outputs": [],
   "source": [
    "sns.lmplot(x=\"dist_nearest_busstop\", y=\"cost\", data=df_postcode)"
   ]
  },
  {
   "cell_type": "code",
   "execution_count": null,
   "id": "29444982-c6a1-431a-b351-8ac8b0c9bdb2",
   "metadata": {},
   "outputs": [],
   "source": [
    "sns.lmplot(x=\"avg_income\", y=\"cost\", data=df_postcode)"
   ]
  },
  {
   "cell_type": "code",
   "execution_count": null,
   "id": "83ed7306-d1c8-4b20-b776-9cdb2edff009",
   "metadata": {},
   "outputs": [],
   "source": [
    "# check correlation of features\n",
    "\n",
    "CORR_COLS = [\n",
    "    'cost','school_distance','suburb_population','suburb_renter',\n",
    "    'suburb_single','dist_nearest_secondary_school', 'dist_nearest_busstop',\n",
    "    'dist_nearest_trainstation' , 'dist_nearest_primary_school',\n",
    "    'avg_income','Tot_P_P','Median_age_persons','Beds','Bath','Parking'\n",
    "]\n",
    "\n",
    "\n",
    "fig,ax = plt.subplots(figsize=(17,5)) \n",
    "sns.heatmap(df_postcode[CORR_COLS].corr(), cmap = plt.cm.RdYlBu_r,annot=True, ax = ax)\n",
    "\n",
    "plt.title('Pearson Correlation Metric')\n",
    "#plt.savefig('../plots/corr.png')"
   ]
  },
  {
   "cell_type": "code",
   "execution_count": null,
   "id": "f111469f-23dd-4142-9969-4f9b741bbfdf",
   "metadata": {},
   "outputs": [],
   "source": [
    "CORR_COLS = [\n",
    "    'cost','school_distance','suburb_population','suburb_renter',\n",
    "    'dist_nearest_secondary_school','dist_nearest_trainstation' , \n",
    "    'avg_income','Tot_P_P','Median_age_persons','Beds','Bath','Parking'\n",
    "]\n",
    "\n",
    "\n",
    "fig,ax = plt.subplots(figsize=(20,5)) \n",
    "sns.heatmap(df_postcode[CORR_COLS].corr(), cmap = plt.cm.RdYlBu_r,annot=True, ax = ax)\n",
    "\n",
    "plt.title('Pearson Correlation Metric')\n",
    "#plt.savefig('../plots/corr.png')"
   ]
  },
  {
   "cell_type": "code",
   "execution_count": null,
   "id": "b62caaf0-a20b-40cb-afaa-71112fc0d327",
   "metadata": {},
   "outputs": [],
   "source": [
    "x = df_postcode[['cost','suburb_population','suburb_renter','suburb_family',\n",
    "    'dist_nearest_secondary_school','dist_nearest_trainstation' , \n",
    "    'avg_income','Tot_P_P','Median_age_persons','Beds','Bath','Parking']].values\n",
    "min_max_scaler = preprocessing.MinMaxScaler()\n",
    "x_scaled = min_max_scaler.fit_transform(x)\n",
    "df1 = pd.DataFrame(x_scaled, columns= ['cost','suburb_population','suburb_renter','suburb_family',\n",
    "    'dist_nearest_secondary_school','dist_nearest_trainstation' , \n",
    "    'avg_income','Tot_P_P','Median_age_persons','Beds','Bath','Parking'] )"
   ]
  },
  {
   "cell_type": "code",
   "execution_count": null,
   "id": "9e355bc4-edcd-4a57-9192-56b03b63b177",
   "metadata": {},
   "outputs": [],
   "source": [
    "df1"
   ]
  },
  {
   "cell_type": "code",
   "execution_count": null,
   "id": "93f3f39a-f0f3-4107-89bd-dd3a1f99b0a0",
   "metadata": {},
   "outputs": [],
   "source": [
    "# training model\n",
    "fit = ols(\n",
    "    formula=\"cost ~ suburb_population + suburb_renter + suburb_family + dist_nearest_secondary_school + avg_income \\\n",
    "    + Tot_P_P + dist_nearest_trainstation + Median_age_persons + Bath + Parking\",\n",
    "    data=df1\n",
    ").fit()\n",
    "print(fit.summary())"
   ]
  },
  {
   "cell_type": "code",
   "execution_count": null,
   "id": "71a1f4b6-a4db-4f8c-a012-aa6db1cabaef",
   "metadata": {},
   "outputs": [],
   "source": [
    "fit = ols(\n",
    "    formula=\"cost ~ avg_income + Tot_P_P + dist_nearest_trainstation + Median_age_persons + Bath + Parking\",\n",
    "    data=df1\n",
    ").fit()\n",
    "print(fit.summary())"
   ]
  },
  {
   "cell_type": "code",
   "execution_count": null,
   "id": "853228ee-a337-4c4f-a088-6c5c8e5663fd",
   "metadata": {},
   "outputs": [],
   "source": []
  }
 ],
 "metadata": {
  "kernelspec": {
   "display_name": "Python 3 (ipykernel)",
   "language": "python",
   "name": "python3"
  },
  "language_info": {
   "codemirror_mode": {
    "name": "ipython",
    "version": 3
   },
   "file_extension": ".py",
   "mimetype": "text/x-python",
   "name": "python",
   "nbconvert_exporter": "python",
   "pygments_lexer": "ipython3",
   "version": "3.9.7"
  }
 },
 "nbformat": 4,
 "nbformat_minor": 5
}
