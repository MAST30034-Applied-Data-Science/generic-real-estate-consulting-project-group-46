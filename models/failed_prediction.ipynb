{
 "cells": [
  {
   "cell_type": "markdown",
   "id": "d8578f3b-65e1-4e04-a401-86264c8a614e",
   "metadata": {},
   "source": [
    "This noteboooks is for linear regression and neural networks model for stage two (predict top 10 growth rates suburb). However, these two models were not used in the final presentation due to data limitations and lack of accuracy."
   ]
  },
  {
   "cell_type": "code",
   "execution_count": null,
   "id": "61d9cffa",
   "metadata": {},
   "outputs": [],
   "source": [
    "import numpy as np\n",
    "import pandas as pd\n",
    "import matplotlib.pyplot as plt\n",
    "from sklearn.model_selection import train_test_split\n",
    "from sklearn import preprocessing"
   ]
  },
  {
   "cell_type": "code",
   "execution_count": null,
   "id": "f6f51df7",
   "metadata": {},
   "outputs": [],
   "source": [
    "df = pd.read_csv(\"../data/curated/2016_data.csv\")"
   ]
  },
  {
   "cell_type": "code",
   "execution_count": null,
   "id": "b4c6bd58",
   "metadata": {},
   "outputs": [],
   "source": [
    "df_21 = pd.read_csv(\"../data/curated/2021_data.csv\")"
   ]
  },
  {
   "cell_type": "code",
   "execution_count": null,
   "id": "cb9ab879",
   "metadata": {},
   "outputs": [],
   "source": [
    "bed_16 = pd.read_csv(\"../df_bed_2016.csv\")\n",
    "bed_21 = pd.read_csv(\"../df_bed_2021.csv\")\n",
    "\n",
    "bed_16 = bed_16.rename(columns={'SA2_2016': 'SA2_CODE16'})\n",
    "bed_21 = bed_21.rename(columns={'SA2_2021': 'SA2_CODE16'})"
   ]
  },
  {
   "cell_type": "code",
   "execution_count": null,
   "id": "06bc61de",
   "metadata": {},
   "outputs": [],
   "source": [
    "bed_21"
   ]
  },
  {
   "cell_type": "code",
   "execution_count": null,
   "id": "2cd96fb6",
   "metadata": {},
   "outputs": [],
   "source": [
    "df"
   ]
  },
  {
   "cell_type": "code",
   "execution_count": null,
   "id": "4c6a0747",
   "metadata": {},
   "outputs": [],
   "source": [
    "df_21 = df_21.rename(columns={'SA2_CODE21': 'SA2_CODE16','Median_rent_weekly':'Median_rent_weekly_21'})"
   ]
  },
  {
   "cell_type": "code",
   "execution_count": null,
   "id": "f13eb431",
   "metadata": {},
   "outputs": [],
   "source": [
    "# df_new = pd.merge(df, df_21[['SA2_CODE16','Median_rent_weekly_21']], how = 'left', on='SA2_CODE16')\n",
    "df = pd.merge(df, bed_16,  on='SA2_CODE16')\n",
    "df_new = pd.merge(df, df_21[['SA2_CODE16','Median_rent_weekly_21']],  on='SA2_CODE16')"
   ]
  },
  {
   "cell_type": "code",
   "execution_count": null,
   "id": "76f6490f",
   "metadata": {},
   "outputs": [],
   "source": [
    "df_new.Median_rent_weekly_21.isnull().sum()"
   ]
  },
  {
   "cell_type": "code",
   "execution_count": null,
   "id": "4189dfc0",
   "metadata": {},
   "outputs": [],
   "source": [
    "df_new['label'] = (df_new['Median_rent_weekly_21']-df_new['Median_rent_weekly'])/(df_new['Median_rent_weekly']+1e-5)"
   ]
  },
  {
   "cell_type": "code",
   "execution_count": null,
   "id": "80772219",
   "metadata": {},
   "outputs": [],
   "source": [
    "df_new"
   ]
  },
  {
   "cell_type": "code",
   "execution_count": null,
   "id": "670ec203",
   "metadata": {},
   "outputs": [],
   "source": [
    "df_train = df_new[(df_new.Median_rent_weekly != 0) & (df_new.avg_income.notna())]\n",
    "df_train = df_train[df_train.Tot_P_P > 1000]"
   ]
  },
  {
   "cell_type": "code",
   "execution_count": null,
   "id": "37ac94d0",
   "metadata": {},
   "outputs": [],
   "source": [
    "df_train"
   ]
  },
  {
   "cell_type": "code",
   "execution_count": null,
   "id": "0a81ed98",
   "metadata": {},
   "outputs": [],
   "source": [
    "# df_train['Median_tot_fam_inc_weekly_avg_income_div'] = (df_train['Median_tot_fam_inc_weekly'] - df_train['avg_income']) / df_train['avg_income']\n",
    "df_train['Median_age_persons_Tot_P_P_div'] = (df_train['Median_age_persons'] - df_train['Tot_P_P']) / df_train['Tot_P_P']\n"
   ]
  },
  {
   "cell_type": "code",
   "execution_count": null,
   "id": "a324970e",
   "metadata": {},
   "outputs": [],
   "source": [
    "df_train.isnull().any()"
   ]
  },
  {
   "cell_type": "code",
   "execution_count": null,
   "id": "5b8e81f1",
   "metadata": {},
   "outputs": [],
   "source": [
    "df_train.corr()"
   ]
  },
  {
   "cell_type": "code",
   "execution_count": null,
   "id": "ac20babe",
   "metadata": {},
   "outputs": [],
   "source": [
    "df_train.columns"
   ]
  },
  {
   "cell_type": "code",
   "execution_count": null,
   "id": "4c319aa9",
   "metadata": {},
   "outputs": [],
   "source": []
  },
  {
   "cell_type": "code",
   "execution_count": null,
   "id": "4dff7bc4",
   "metadata": {},
   "outputs": [],
   "source": []
  },
  {
   "cell_type": "code",
   "execution_count": null,
   "id": "193dcd2e",
   "metadata": {},
   "outputs": [],
   "source": []
  },
  {
   "cell_type": "code",
   "execution_count": null,
   "id": "6b8aad66",
   "metadata": {},
   "outputs": [],
   "source": [
    "#Test Set\n",
    "df_ceshi = df_21[['SA2_CODE16', 'avg_income', 'Tot_P_P','Median_age_persons']]\n",
    "df_ceshi = pd.merge(df_ceshi, bed_21,  on='SA2_CODE16')"
   ]
  },
  {
   "cell_type": "code",
   "execution_count": null,
   "id": "33d912f7",
   "metadata": {},
   "outputs": [],
   "source": [
    "# df_ceshi['Median_age_persons_Tot_P_P_div'] = (df_ceshi['Median_age_persons'] - df_ceshi['Tot_P_P']) / df_ceshi['Tot_P_P']"
   ]
  },
  {
   "cell_type": "code",
   "execution_count": null,
   "id": "c44918b2",
   "metadata": {},
   "outputs": [],
   "source": [
    "df_ceshi = df_ceshi[(df_ceshi.avg_income.notna())]\n",
    "df_ceshi = df_ceshi[df_ceshi.Tot_P_P > 1000]"
   ]
  },
  {
   "cell_type": "code",
   "execution_count": null,
   "id": "44284eb6",
   "metadata": {},
   "outputs": [],
   "source": [
    "df_ceshi.isnull().any()"
   ]
  },
  {
   "cell_type": "code",
   "execution_count": null,
   "id": "e0df0afd",
   "metadata": {},
   "outputs": [],
   "source": [
    "df_ceshi"
   ]
  },
  {
   "cell_type": "code",
   "execution_count": null,
   "id": "583cdb7e",
   "metadata": {},
   "outputs": [],
   "source": []
  },
  {
   "cell_type": "code",
   "execution_count": null,
   "id": "b4449c89",
   "metadata": {},
   "outputs": [],
   "source": [
    "from sklearn.preprocessing import StandardScaler\n",
    "from sklearn.preprocessing import MinMaxScaler"
   ]
  },
  {
   "cell_type": "code",
   "execution_count": null,
   "id": "93ef53f3",
   "metadata": {},
   "outputs": [],
   "source": [
    "std_scaler = MinMaxScaler()\n",
    "df_train_scaled = std_scaler.fit_transform(df_train[[f for f in df_train.columns if f not in \n",
    "                                            ['Median_rent_weekly','Median_rent_weekly_21',\n",
    "                                             'Median_age_persons_Tot_P_P_div',\n",
    "                                            'Median_tot_fam_inc_weekly', 'label']]])"
   ]
  },
  {
   "cell_type": "code",
   "execution_count": null,
   "id": "2341c99c",
   "metadata": {},
   "outputs": [],
   "source": [
    "df_ceshi_scaled = std_scaler.fit_transform(df_ceshi[[f for f in df_ceshi.columns if f not in \n",
    "                                            ['Median_rent_weekly','Median_rent_weekly_21',\n",
    "                                             'Median_age_persons_Tot_P_P_div',\n",
    "                                            'Median_tot_fam_inc_weekly', 'label']]])"
   ]
  },
  {
   "cell_type": "code",
   "execution_count": null,
   "id": "803b4f69",
   "metadata": {},
   "outputs": [],
   "source": [
    "y_scaler = MinMaxScaler()\n",
    "y_train_scaled = y_scaler.fit_transform(df_train[['label']])"
   ]
  },
  {
   "cell_type": "code",
   "execution_count": null,
   "id": "822ca856",
   "metadata": {},
   "outputs": [],
   "source": [
    "df_train_scaled = pd.DataFrame(df_train_scaled)"
   ]
  },
  {
   "cell_type": "code",
   "execution_count": null,
   "id": "17071b0a",
   "metadata": {},
   "outputs": [],
   "source": [
    "df_train_scaled"
   ]
  },
  {
   "cell_type": "code",
   "execution_count": null,
   "id": "09a90299",
   "metadata": {},
   "outputs": [],
   "source": [
    "X_train, X_test, y_train, y_test = train_test_split(df_train_scaled, y_train_scaled, \n",
    "                                                    test_size = 0.2, random_state = 23)"
   ]
  },
  {
   "cell_type": "code",
   "execution_count": null,
   "id": "dfaf17c0",
   "metadata": {},
   "outputs": [],
   "source": [
    "print(X_train.shape)\n",
    "print(y_train.shape)\n",
    "print(X_test.shape)\n",
    "print(y_test.shape)"
   ]
  },
  {
   "cell_type": "code",
   "execution_count": null,
   "id": "846e4b11",
   "metadata": {},
   "outputs": [],
   "source": [
    "from sklearn import linear_model"
   ]
  },
  {
   "cell_type": "code",
   "execution_count": null,
   "id": "435e30f4",
   "metadata": {},
   "outputs": [],
   "source": [
    "lr = linear_model.LinearRegression()\n",
    "lr.fit(X_train,y_train)\n",
    "\n",
    "y_pred = lr.predict(X_test)"
   ]
  },
  {
   "cell_type": "code",
   "execution_count": null,
   "id": "59de9be9",
   "metadata": {},
   "outputs": [],
   "source": [
    "from sklearn.metrics import mean_squared_error, r2_score, mean_absolute_error\n",
    "\n",
    "print('The MSE is:', mean_squared_error(y_test, y_pred))\n",
    "\n",
    "print('The R2 is:', r2_score(y_test, y_pred))\n",
    "\n",
    "print('The MAE is:', mean_absolute_error(y_test, y_pred))\n"
   ]
  },
  {
   "cell_type": "code",
   "execution_count": null,
   "id": "4d99bbb3",
   "metadata": {},
   "outputs": [],
   "source": []
  },
  {
   "cell_type": "code",
   "execution_count": null,
   "id": "2ced0288",
   "metadata": {},
   "outputs": [],
   "source": [
    "from sklearn.neural_network import MLPRegressor "
   ]
  },
  {
   "cell_type": "code",
   "execution_count": null,
   "id": "ce465a77",
   "metadata": {},
   "outputs": [],
   "source": [
    "clf = MLPRegressor(solver='lbfgs', alpha=1e-3, hidden_layer_sizes=(80,7), activation='relu', random_state=20)\n",
    "\n",
    "clf.fit(X_train,y_train)\n",
    "\n",
    "y_pred_2 = clf.predict(X_test)"
   ]
  },
  {
   "cell_type": "code",
   "execution_count": null,
   "id": "3102ebeb",
   "metadata": {},
   "outputs": [],
   "source": [
    "print('The R2 is:', r2_score(y_train, clf.predict(X_train)))"
   ]
  },
  {
   "cell_type": "code",
   "execution_count": null,
   "id": "dd76c446",
   "metadata": {},
   "outputs": [],
   "source": [
    "from sklearn.metrics import mean_squared_error, r2_score, mean_absolute_error\n",
    "\n",
    "print('The MSE is:', mean_squared_error(y_test, y_pred_2))\n",
    "\n",
    "print('The R2 is:', r2_score(y_test, y_pred_2))\n",
    "\n",
    "print('The MAE is:', mean_absolute_error(y_test, y_pred_2))"
   ]
  },
  {
   "cell_type": "code",
   "execution_count": null,
   "id": "3661736b",
   "metadata": {},
   "outputs": [],
   "source": [
    "clf.predict(X_test)"
   ]
  },
  {
   "cell_type": "code",
   "execution_count": null,
   "id": "c37906d4",
   "metadata": {},
   "outputs": [],
   "source": [
    "cengindex = 0\n",
    "for wi in clf.coefs_:\n",
    "    cengindex += 1 \n",
    "    print('%d:' % cengindex)\n",
    "    print(wi.shape)\n",
    "    print('\\n',wi)\n"
   ]
  },
  {
   "cell_type": "code",
   "execution_count": null,
   "id": "58c83be8",
   "metadata": {},
   "outputs": [],
   "source": []
  },
  {
   "cell_type": "code",
   "execution_count": null,
   "id": "29021eeb",
   "metadata": {},
   "outputs": [],
   "source": [
    "# predict top 10 rate SA2:"
   ]
  },
  {
   "cell_type": "code",
   "execution_count": null,
   "id": "88e97f91",
   "metadata": {},
   "outputs": [],
   "source": [
    "y_pred_mlp = clf.predict(df_ceshi_scaled)"
   ]
  },
  {
   "cell_type": "code",
   "execution_count": null,
   "id": "1233e409",
   "metadata": {},
   "outputs": [],
   "source": [
    "y_scaler.inverse_transform(y_pred_mlp.reshape((-1, 1)))"
   ]
  },
  {
   "cell_type": "code",
   "execution_count": null,
   "id": "50a16a73",
   "metadata": {},
   "outputs": [],
   "source": [
    "y_pred_lr = lr.predict(df_ceshi_scaled)"
   ]
  },
  {
   "cell_type": "code",
   "execution_count": null,
   "id": "93b4201e",
   "metadata": {},
   "outputs": [],
   "source": [
    "df_pred = pd.DataFrame()\n",
    "df_pred['SA2_CODE21'] = df_ceshi['SA2_CODE16']\n",
    "df_pred['ror_mlp_pred'] = y_scaler.inverse_transform(y_pred_mlp.reshape((-1, 1)))\n",
    "df_pred['ror_lr_pred'] = y_scaler.inverse_transform(y_pred_lr.reshape((-1, 1)))"
   ]
  },
  {
   "cell_type": "code",
   "execution_count": null,
   "id": "95adea6a",
   "metadata": {},
   "outputs": [],
   "source": [
    "df_pred.sort_values([\"ror_mlp_pred\"] , ascending=False) [:10]"
   ]
  },
  {
   "cell_type": "code",
   "execution_count": null,
   "id": "5fd5a59e",
   "metadata": {},
   "outputs": [],
   "source": [
    "df_pred.sort_values([\"ror_lr_pred\"] , ascending=False)[:10]"
   ]
  },
  {
   "cell_type": "code",
   "execution_count": null,
   "id": "b01c1aae",
   "metadata": {},
   "outputs": [],
   "source": [
    "print(\"Top 10 growth rate SA2_CODE(MLP predict) are \",df_pred.sort_values([\"ror_mlp_pred\"] , ascending=False)[:10].SA2_CODE21.values)"
   ]
  },
  {
   "cell_type": "code",
   "execution_count": null,
   "id": "01d16810",
   "metadata": {},
   "outputs": [],
   "source": [
    "print(\"Top 10 growth rate SA2_CODE(LR predict) are \",df_pred.sort_values([\"ror_lr_pred\"] , ascending=False)[:10].SA2_CODE21.values)"
   ]
  },
  {
   "cell_type": "code",
   "execution_count": null,
   "id": "6519d319",
   "metadata": {},
   "outputs": [],
   "source": []
  }
 ],
 "metadata": {
  "kernelspec": {
   "display_name": "Python 3 (ipykernel)",
   "language": "python",
   "name": "python3"
  },
  "language_info": {
   "codemirror_mode": {
    "name": "ipython",
    "version": 3
   },
   "file_extension": ".py",
   "mimetype": "text/x-python",
   "name": "python",
   "nbconvert_exporter": "python",
   "pygments_lexer": "ipython3",
   "version": "3.9.7"
  },
  "toc": {
   "base_numbering": 1,
   "nav_menu": {},
   "number_sections": true,
   "sideBar": true,
   "skip_h1_title": false,
   "title_cell": "Table of Contents",
   "title_sidebar": "Contents",
   "toc_cell": false,
   "toc_position": {},
   "toc_section_display": true,
   "toc_window_display": false
  },
  "varInspector": {
   "cols": {
    "lenName": 16,
    "lenType": 16,
    "lenVar": 40
   },
   "kernels_config": {
    "python": {
     "delete_cmd_postfix": "",
     "delete_cmd_prefix": "del ",
     "library": "var_list.py",
     "varRefreshCmd": "print(var_dic_list())"
    },
    "r": {
     "delete_cmd_postfix": ") ",
     "delete_cmd_prefix": "rm(",
     "library": "var_list.r",
     "varRefreshCmd": "cat(var_dic_list()) "
    }
   },
   "types_to_exclude": [
    "module",
    "function",
    "builtin_function_or_method",
    "instance",
    "_Feature"
   ],
   "window_display": false
  },
  "vscode": {
   "interpreter": {
    "hash": "171f312b69c395df776551b6eca60ab40ffe87249a81e54eb540068860814039"
   }
  }
 },
 "nbformat": 4,
 "nbformat_minor": 5
}
