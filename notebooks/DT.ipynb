{
 "cells": [
  {
   "cell_type": "code",
   "execution_count": null,
   "id": "ae76cecd-8948-47ae-beb6-2ebeb1bcf61f",
   "metadata": {},
   "outputs": [],
   "source": [
    "import numpy as np\n",
    "import pandas as pd\n",
    "import seaborn as sns\n",
    "from sklearn.model_selection import KFold\n",
    "from sklearn.ensemble import RandomForestRegressor\n",
    "from sklearn.model_selection import RandomizedSearchCV"
   ]
  },
  {
   "cell_type": "code",
   "execution_count": null,
   "id": "72de27c1-7bfe-4dd2-8253-16f32adc6460",
   "metadata": {},
   "outputs": [],
   "source": [
    "df = pd.read_csv(\"../data/curated/domain_final.csv\")"
   ]
  },
  {
   "cell_type": "code",
   "execution_count": null,
   "id": "384466a6-cf90-4fe2-a6a4-3e33803dfbfa",
   "metadata": {},
   "outputs": [],
   "source": [
    "df.loc[df['postcode'] == 3004, 'suburb_sold'] = 596\n",
    "df.loc[df['postcode'] == 3004, 'suburb_avg_day'] = 147\n",
    "df.loc[df['postcode'] == 3004, 'suburb_population'] = 6423.0\n",
    "df.loc[df['postcode'] == 3004, 'suburb_age'] = 20\n",
    "df.loc[df['postcode'] == 3004, 'suburb_owner'] = 30\n",
    "df.loc[df['postcode'] == 3004, 'suburb_renter'] = 70\n",
    "df.loc[df['postcode'] == 3004, 'suburb_family'] = 24\n",
    "df.loc[df['postcode'] == 3004, 'suburb_single'] = 76"
   ]
  },
  {
   "cell_type": "code",
   "execution_count": null,
   "id": "e88a7ad0-af40-4ccc-bc6b-ab1f52fe6400",
   "metadata": {},
   "outputs": [],
   "source": [
    "df = df.drop(['Unnamed: 0','uri','name','cost_text','desc',\n",
    "              'coordinates','school_title','SA2_CODE21','Tot_P_P','avg_income','school_distance'], axis=1)\n",
    "df"
   ]
  },
  {
   "cell_type": "code",
   "execution_count": null,
   "id": "205b30f2-f4b4-42b6-ba34-e9d4b798138f",
   "metadata": {},
   "outputs": [],
   "source": [
    "dummies = pd.get_dummies(df.postcode,prefix=['p'])\n",
    "df = pd.concat([df,dummies],axis = 1)\n",
    "\n",
    "dummies2 = pd.get_dummies(df.type)\n",
    "df = pd.concat([df,dummies2],axis = 1)\n",
    "\n",
    "dummies3 = pd.get_dummies(df.Beds,prefix=['bed'])\n",
    "df = pd.concat([df,dummies3],axis = 1)\n",
    "\n",
    "dummies4 = pd.get_dummies(df.Bath,prefix=['bath'])\n",
    "df = pd.concat([df,dummies4],axis = 1)\n",
    "\n",
    "dummies4 = pd.get_dummies(df.Parking,prefix=['park'])\n",
    "df = pd.concat([df,dummies4],axis = 1)\n",
    "\n",
    "\n",
    "df = df.drop(['Beds','Bath','Parking','type','postcode'], axis=1)\n",
    "\n",
    "\n",
    "\n",
    "\n",
    "\n"
   ]
  },
  {
   "cell_type": "code",
   "execution_count": null,
   "id": "4038b8e9-703a-4f33-ba5f-7d0083e52c2a",
   "metadata": {},
   "outputs": [],
   "source": [
    "#df[df['suburb_population'].isnull()]['postcode'].value_counts()"
   ]
  },
  {
   "cell_type": "code",
   "execution_count": null,
   "id": "23cd5eea-878d-4e95-81e4-f077f35c5a62",
   "metadata": {},
   "outputs": [],
   "source": [
    "#df.loc[(df['postcode'] == 3195)&(df['suburb_population'].isnull())]"
   ]
  },
  {
   "cell_type": "code",
   "execution_count": null,
   "id": "a148db61-1ee3-41a0-ac6a-f06cab3da4d4",
   "metadata": {},
   "outputs": [],
   "source": [
    "df"
   ]
  },
  {
   "cell_type": "code",
   "execution_count": null,
   "id": "8d621799-e356-44b4-a632-a847e8c4984c",
   "metadata": {},
   "outputs": [],
   "source": [
    "for c in df.columns:\n",
    "    if df[c].isnull().values.any():\n",
    "        print(c)"
   ]
  },
  {
   "cell_type": "code",
   "execution_count": null,
   "id": "6455949c-1a50-4e81-bb5a-e5b377f52b14",
   "metadata": {},
   "outputs": [],
   "source": [
    "df[df['suburb_sold'].isnull()]['postcode'].value_counts()"
   ]
  },
  {
   "cell_type": "code",
   "execution_count": null,
   "id": "cb195af7-f788-4ede-88f7-09667e001a1d",
   "metadata": {},
   "outputs": [],
   "source": [
    "df.isnull().sum()"
   ]
  },
  {
   "cell_type": "code",
   "execution_count": null,
   "id": "ad7cf679-3c0e-4f2b-a41b-005b7982c34e",
   "metadata": {},
   "outputs": [],
   "source": [
    "df[df['suburb_population'].isnull()]['postcode'].value_counts()"
   ]
  },
  {
   "cell_type": "code",
   "execution_count": null,
   "id": "1c334e60-6e84-45eb-8824-5990635c9184",
   "metadata": {},
   "outputs": [],
   "source": [
    "target= np.array(df['cost'])\n",
    "features = df.drop('cost', axis = 1)\n",
    "feature_list = list(features.columns)\n",
    "features = np.array(features)"
   ]
  },
  {
   "cell_type": "code",
   "execution_count": null,
   "id": "3543adb0-d928-4d0d-b785-197e38ce2892",
   "metadata": {},
   "outputs": [],
   "source": [
    "kf = KFold(n_splits=10,random_state=42,shuffle=True)\n",
    "accuracies = []\n",
    "for train_index, test_index in kf.split(features):\n",
    "\n",
    "    data_train   = features[train_index]\n",
    "    target_train = target[train_index]\n",
    "\n",
    "    data_test    = features[test_index]\n",
    "    target_test  = target[test_index]\n",
    "\n",
    "    rf = RandomForestRegressor(n_estimators = 1000, \n",
    "                               random_state = 42, \n",
    "                               criterion='mse',\n",
    "                               bootstrap=True)\n",
    "    \n",
    "    rf.fit(data_train, target_train)\n",
    "\n",
    "    predictions = rf.predict(data_test)\n",
    "\n",
    "    errors = abs(predictions - target_test)\n",
    "\n",
    "    print('Mean Absolute Error:', round(np.mean(errors), 2))\n",
    "    \n",
    "    mape = 100 * (errors / target_test)\n",
    "    accuracy = 100 - np.mean(mape)\n",
    "    print('Accuracy:', round(accuracy, 2), '%.')\n",
    "\n",
    "    accuracies.append(accuracy)\n",
    "\n",
    "average_accuracy = np.mean(accuracies)\n",
    "print('Average accuracy:', average_accuracy)"
   ]
  },
  {
   "cell_type": "code",
   "execution_count": null,
   "id": "5755fb0c-9068-40a1-b365-3c7803e5b243",
   "metadata": {},
   "outputs": [],
   "source": [
    "\n",
    "from sklearn.model_selection import RandomizedSearchCV\n",
    "# Number of trees in random forest\n",
    "n_estimators = [int(x) for x in np.linspace(start = 200, stop = 2000, num = 10)]\n",
    "# Number of features to consider at every split\n",
    "max_features = ['auto', 'sqrt']\n",
    "# Maximum number of levels in tree\n",
    "max_depth = [int(x) for x in np.linspace(10, 110, num = 11)]\n",
    "max_depth.append(None)\n",
    "# Minimum number of samples required to split a node\n",
    "min_samples_split = [2, 5, 10]\n",
    "# Minimum number of samples required at each leaf node\n",
    "min_samples_leaf = [1, 2, 4]\n",
    "# Method of selecting samples for training each tree\n",
    "bootstrap = [True, False]\n",
    "# Create the random grid\n",
    "random_grid = {'n_estimators': n_estimators,\n",
    "               'max_features': max_features,\n",
    "               'max_depth': max_depth,\n",
    "               'min_samples_split': min_samples_split,\n",
    "               'min_samples_leaf': min_samples_leaf,\n",
    "               'bootstrap': bootstrap}\n",
    "print(random_grid)"
   ]
  },
  {
   "cell_type": "code",
   "execution_count": null,
   "id": "84bafb99-6970-4107-9b27-10886b169485",
   "metadata": {},
   "outputs": [],
   "source": [
    "rf = RandomForestRegressor()\n",
    "# Random search of parameters, using 3 fold cross validation, \n",
    "# search across 100 different combinations, and use all available cores\n",
    "rf_random = RandomizedSearchCV(estimator = rf, param_distributions = random_grid, n_iter = 50, cv = 2, verbose=2, random_state=42, n_jobs = -1)\n",
    "# Fit the random search model\n",
    "rf_random.fit(data_train, target_train)\n",
    "\n",
    "print(rf_random.best_params_)"
   ]
  },
  {
   "cell_type": "code",
   "execution_count": null,
   "id": "23fc7a7d-ef0c-47f2-8f1b-ac3380932f85",
   "metadata": {},
   "outputs": [],
   "source": [
    "kf = KFold(n_splits=10,random_state=42,shuffle=True)\n",
    "accuracies = []\n",
    "for train_index, test_index in kf.split(features):\n",
    "\n",
    "    data_train   = features[train_index]\n",
    "    target_train = target[train_index]\n",
    "\n",
    "    data_test    = features[test_index]\n",
    "    target_test  = target[test_index]\n",
    "\n",
    "    rf = RandomForestRegressor(\n",
    "                               n_estimators = 600, \n",
    "                               min_samples_split = 5, \n",
    "                               min_samples_leaf = 1, \n",
    "                               max_features = 'sqrt', \n",
    "                               max_depth = 60, \n",
    "                               bootstrap = False)\n",
    "    \n",
    "    rf.fit(data_train, target_train)\n",
    "\n",
    "    predictions = rf.predict(data_test)\n",
    "\n",
    "    errors = abs(predictions - target_test)\n",
    "\n",
    "    print('Mean Absolute Error:', round(np.mean(errors), 2))\n",
    "    \n",
    "    mape = 100 * (errors / target_test)\n",
    "    accuracy = 100 - np.mean(mape)\n",
    "    print('Accuracy:', round(accuracy, 2), '%.')\n",
    "\n",
    "    accuracies.append(accuracy)\n",
    "\n",
    "average_accuracy = np.mean(accuracies)\n",
    "print('Average accuracy:', average_accuracy)"
   ]
  },
  {
   "cell_type": "code",
   "execution_count": 88,
   "id": "0a623b48-4ec2-413e-8cab-81f50b8b8f86",
   "metadata": {},
   "outputs": [],
   "source": [
    "y = rf.feature_importances_\n",
    "list_y = [a for a in y if a > 0.005]\n",
    "\n",
    "list_of_index = []\n",
    "for i in list_y:\n",
    "    a = np.where(y==i)\n",
    "    list_of_index.append(a)\n",
    "    \n",
    "index = []\n",
    "for i in range(int(len(list_of_index))):\n",
    "    a = list_of_index[i][0][0]\n",
    "    index.append(a)\n",
    "\n",
    "col = []\n",
    "for i in feature_list:\n",
    "    col.append(i)\n",
    "labels = []\n",
    "for i in index:\n",
    "    b = col[i]\n",
    "    labels.append(b)"
   ]
  },
  {
   "cell_type": "code",
   "execution_count": 89,
   "id": "584cc94d-47d8-4024-9f7f-56ea87a388bd",
   "metadata": {},
   "outputs": [
    {
     "data": {
      "text/plain": [
       "['suburb_sold',\n",
       " 'suburb_avg_day',\n",
       " 'suburb_population',\n",
       " 'suburb_age',\n",
       " 'suburb_owner',\n",
       " 'suburb_renter',\n",
       " 'suburb_family',\n",
       " 'suburb_single',\n",
       " 'postcode',\n",
       " 'dist_nearest_busstop',\n",
       " 'dist_nearest_trainstation',\n",
       " 'dist_nearest_primary_school',\n",
       " 'dist_nearest_secondary_school',\n",
       " 'Median_tot_fam_inc_weekly',\n",
       " 'Median_age_persons',\n",
       " 'Median_rent_weekly',\n",
       " 'Apartment / Unit / Flat',\n",
       " 'House',\n",
       " 'Studio',\n",
       " 'Townhouse',\n",
       " \"['bed']_0.0\",\n",
       " \"['bed']_1.0\",\n",
       " \"['bed']_2.0\",\n",
       " \"['bed']_3.0\",\n",
       " \"['bed']_4.0\",\n",
       " \"['bath']_1.0\",\n",
       " \"['bath']_2.0\",\n",
       " \"['park']_0\",\n",
       " \"['park']_1\",\n",
       " \"['park']_2\"]"
      ]
     },
     "execution_count": 89,
     "metadata": {},
     "output_type": "execute_result"
    }
   ],
   "source": [
    "labels"
   ]
  },
  {
   "cell_type": "code",
   "execution_count": 90,
   "id": "255f3808-ec0f-414d-a23b-b00d9495adc1",
   "metadata": {},
   "outputs": [
    {
     "data": {
      "text/plain": [
       "[0,\n",
       " 1,\n",
       " 2,\n",
       " 3,\n",
       " 4,\n",
       " 5,\n",
       " 6,\n",
       " 7,\n",
       " 8,\n",
       " 9,\n",
       " 10,\n",
       " 11,\n",
       " 12,\n",
       " 13,\n",
       " 14,\n",
       " 15,\n",
       " 347,\n",
       " 351,\n",
       " 355,\n",
       " 356,\n",
       " 358,\n",
       " 359,\n",
       " 360,\n",
       " 361,\n",
       " 362,\n",
       " 369,\n",
       " 370,\n",
       " 375,\n",
       " 376,\n",
       " 377]"
      ]
     },
     "execution_count": 90,
     "metadata": {},
     "output_type": "execute_result"
    }
   ],
   "source": [
    "index"
   ]
  },
  {
   "cell_type": "code",
   "execution_count": 91,
   "id": "5d239047-1ae8-4050-b1d7-619704304649",
   "metadata": {},
   "outputs": [
    {
     "data": {
      "text/plain": [
       "[0.060412476133941906,\n",
       " 0.04451254715569084,\n",
       " 0.024052833907560762,\n",
       " 0.006865880418498636,\n",
       " 0.02903157783540725,\n",
       " 0.0284070196930715,\n",
       " 0.027616955190717916,\n",
       " 0.028173212293713012,\n",
       " 0.03560997824689642,\n",
       " 0.04283786103778953,\n",
       " 0.059372375205735364,\n",
       " 0.044369476594406744,\n",
       " 0.047040550519284005,\n",
       " 0.04887452187633015,\n",
       " 0.021238687403363515,\n",
       " 0.045125028899173296,\n",
       " 0.014864870382618496,\n",
       " 0.011383837870983434,\n",
       " 0.01960582624802722,\n",
       " 0.007426735143058101,\n",
       " 0.00959876107989313,\n",
       " 0.06276421712335375,\n",
       " 0.022192459317046977,\n",
       " 0.0171812461845,\n",
       " 0.016638964388753105,\n",
       " 0.043597273892050856,\n",
       " 0.04187150809868056,\n",
       " 0.016288130309707133,\n",
       " 0.01150396916424754,\n",
       " 0.012632099262161196]"
      ]
     },
     "execution_count": 91,
     "metadata": {},
     "output_type": "execute_result"
    }
   ],
   "source": [
    "list_y"
   ]
  },
  {
   "cell_type": "code",
   "execution_count": null,
   "id": "72a913e9-2f30-46b5-8bc0-b9bea56f1116",
   "metadata": {},
   "outputs": [],
   "source": [
    "0.05"
   ]
  }
 ],
 "metadata": {
  "kernelspec": {
   "display_name": "Python 3 (ipykernel)",
   "language": "python",
   "name": "python3"
  },
  "language_info": {
   "codemirror_mode": {
    "name": "ipython",
    "version": 3
   },
   "file_extension": ".py",
   "mimetype": "text/x-python",
   "name": "python",
   "nbconvert_exporter": "python",
   "pygments_lexer": "ipython3",
   "version": "3.9.7"
  }
 },
 "nbformat": 4,
 "nbformat_minor": 5
}
