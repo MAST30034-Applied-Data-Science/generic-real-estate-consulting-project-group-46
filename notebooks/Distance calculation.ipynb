{
 "cells": [
  {
   "cell_type": "markdown",
   "id": "5d062963",
   "metadata": {
    "tags": [],
    "toc": true
   },
   "source": [
    "<h1>Table of Contents<span class=\"tocSkip\"></span></h1>\n",
    "<div class=\"toc\"><ul class=\"toc-item\"><li><span><a href=\"#Read-Property\" data-toc-modified-id=\"Read-Property-1\"><span class=\"toc-item-num\">1&nbsp;&nbsp;</span>Read Property</a></span></li><li><span><a href=\"#Distance-Bus-Stop\" data-toc-modified-id=\"Distance-Bus-Stop-2\"><span class=\"toc-item-num\">2&nbsp;&nbsp;</span>Distance Bus Stop</a></span></li><li><span><a href=\"#Distance-Train-Station\" data-toc-modified-id=\"Distance-Train-Station-3\"><span class=\"toc-item-num\">3&nbsp;&nbsp;</span>Distance Train Station</a></span></li><li><span><a href=\"#Distance-School\" data-toc-modified-id=\"Distance-School-4\"><span class=\"toc-item-num\">4&nbsp;&nbsp;</span>Distance School</a></span></li><li><span><a href=\"#Calculate-Routine-Distance-by-openrouteservice\" data-toc-modified-id=\"Calculate-Routine-Distance-by-openrouteservice-5\"><span class=\"toc-item-num\">5&nbsp;&nbsp;</span>Calculate Routine Distance by openrouteservice</a></span></li></ul></div>"
   ]
  },
  {
   "cell_type": "code",
   "execution_count": 21,
   "id": "7e31f203",
   "metadata": {},
   "outputs": [],
   "source": [
    "import os\n",
    "import glob\n",
    "import numpy as np\n",
    "import pandas as pd\n",
    "import geopandas as gpd\n",
    "import matplotlib.pyplot as plt\n",
    "\n",
    "import warnings\n",
    "warnings.filterwarnings(\"ignore\")"
   ]
  },
  {
   "cell_type": "markdown",
   "id": "0fa2f56b",
   "metadata": {},
   "source": [
    "# Read Property"
   ]
  },
  {
   "cell_type": "code",
   "execution_count": 22,
   "id": "bae19102",
   "metadata": {},
   "outputs": [
    {
     "data": {
      "text/html": [
       "<div>\n",
       "<style scoped>\n",
       "    .dataframe tbody tr th:only-of-type {\n",
       "        vertical-align: middle;\n",
       "    }\n",
       "\n",
       "    .dataframe tbody tr th {\n",
       "        vertical-align: top;\n",
       "    }\n",
       "\n",
       "    .dataframe thead th {\n",
       "        text-align: right;\n",
       "    }\n",
       "</style>\n",
       "<table border=\"1\" class=\"dataframe\">\n",
       "  <thead>\n",
       "    <tr style=\"text-align: right;\">\n",
       "      <th></th>\n",
       "      <th>url</th>\n",
       "      <th>geometry</th>\n",
       "    </tr>\n",
       "  </thead>\n",
       "  <tbody>\n",
       "    <tr>\n",
       "      <th>0</th>\n",
       "      <td>https://www.domain.com.au/1202-620-collins-str...</td>\n",
       "      <td>POINT (144.95435 -37.81866)</td>\n",
       "    </tr>\n",
       "    <tr>\n",
       "      <th>1</th>\n",
       "      <td>https://www.domain.com.au/1701-620-collins-str...</td>\n",
       "      <td>POINT (144.95435 -37.81866)</td>\n",
       "    </tr>\n",
       "    <tr>\n",
       "      <th>2</th>\n",
       "      <td>https://www.domain.com.au/5707b-639-little-lon...</td>\n",
       "      <td>POINT (144.95217 -37.81419)</td>\n",
       "    </tr>\n",
       "    <tr>\n",
       "      <th>3</th>\n",
       "      <td>https://www.domain.com.au/1003-225-elizabeth-s...</td>\n",
       "      <td>POINT (144.96232 -37.81323)</td>\n",
       "    </tr>\n",
       "    <tr>\n",
       "      <th>4</th>\n",
       "      <td>https://www.domain.com.au/1202-31-spring-stree...</td>\n",
       "      <td>POINT (144.97407 -37.81450)</td>\n",
       "    </tr>\n",
       "  </tbody>\n",
       "</table>\n",
       "</div>"
      ],
      "text/plain": [
       "                                                 url  \\\n",
       "0  https://www.domain.com.au/1202-620-collins-str...   \n",
       "1  https://www.domain.com.au/1701-620-collins-str...   \n",
       "2  https://www.domain.com.au/5707b-639-little-lon...   \n",
       "3  https://www.domain.com.au/1003-225-elizabeth-s...   \n",
       "4  https://www.domain.com.au/1202-31-spring-stree...   \n",
       "\n",
       "                      geometry  \n",
       "0  POINT (144.95435 -37.81866)  \n",
       "1  POINT (144.95435 -37.81866)  \n",
       "2  POINT (144.95217 -37.81419)  \n",
       "3  POINT (144.96232 -37.81323)  \n",
       "4  POINT (144.97407 -37.81450)  "
      ]
     },
     "execution_count": 22,
     "metadata": {},
     "output_type": "execute_result"
    }
   ],
   "source": [
    "df_property=pd.read_csv(\"../data/curated/domain_2.csv\")\n",
    "\n",
    "\n",
    "df_property=df_property[[\"url\",\"coordinates\"]].copy()\n",
    "df_property[\"longitude\"]=df_property[\"coordinates\"].map(lambda x: eval(x)[1])\n",
    "df_property[\"latitude\"]=df_property[\"coordinates\"].map(lambda x: eval(x)[0])\n",
    "\n",
    "# create gdf\n",
    "gdf_property = gpd.GeoDataFrame(df_property, geometry=gpd.points_from_xy(df_property.longitude, df_property.latitude, crs=\"EPSG:4326\"))\n",
    "gdf_property['geometry']  = gdf_property['geometry'] .to_crs(\"EPSG:4326\")\n",
    "gdf_property=gdf_property[[\"url\",\"geometry\"]].copy()\n",
    "gdf_property=gdf_property.reset_index(drop=True)\n",
    "gdf_property.head()"
   ]
  },
  {
   "cell_type": "code",
   "execution_count": 23,
   "id": "ae3449e4",
   "metadata": {},
   "outputs": [
    {
     "data": {
      "text/plain": [
       "<Geographic 2D CRS: EPSG:4326>\n",
       "Name: WGS 84\n",
       "Axis Info [ellipsoidal]:\n",
       "- Lat[north]: Geodetic latitude (degree)\n",
       "- Lon[east]: Geodetic longitude (degree)\n",
       "Area of Use:\n",
       "- name: World.\n",
       "- bounds: (-180.0, -90.0, 180.0, 90.0)\n",
       "Datum: World Geodetic System 1984 ensemble\n",
       "- Ellipsoid: WGS 84\n",
       "- Prime Meridian: Greenwich"
      ]
     },
     "execution_count": 23,
     "metadata": {},
     "output_type": "execute_result"
    }
   ],
   "source": [
    "gdf_property.crs"
   ]
  },
  {
   "cell_type": "markdown",
   "id": "92ac04ff",
   "metadata": {},
   "source": [
    "# Distance Bus Stop"
   ]
  },
  {
   "cell_type": "code",
   "execution_count": 24,
   "id": "b2ddb932",
   "metadata": {},
   "outputs": [
    {
     "data": {
      "text/html": [
       "<div>\n",
       "<style scoped>\n",
       "    .dataframe tbody tr th:only-of-type {\n",
       "        vertical-align: middle;\n",
       "    }\n",
       "\n",
       "    .dataframe tbody tr th {\n",
       "        vertical-align: top;\n",
       "    }\n",
       "\n",
       "    .dataframe thead th {\n",
       "        text-align: right;\n",
       "    }\n",
       "</style>\n",
       "<table border=\"1\" class=\"dataframe\">\n",
       "  <thead>\n",
       "    <tr style=\"text-align: right;\">\n",
       "      <th></th>\n",
       "      <th>STOP_ID</th>\n",
       "      <th>STOP_NAME</th>\n",
       "      <th>LATITUDE</th>\n",
       "      <th>LONGITUDE</th>\n",
       "      <th>geometry</th>\n",
       "    </tr>\n",
       "  </thead>\n",
       "  <tbody>\n",
       "    <tr>\n",
       "      <th>0</th>\n",
       "      <td>10185</td>\n",
       "      <td>Bonnie View Rd/Maroondah Hwy (Croydon North)</td>\n",
       "      <td>-37.780920</td>\n",
       "      <td>145.288145</td>\n",
       "      <td>POINT (145.28815 -37.78091)</td>\n",
       "    </tr>\n",
       "    <tr>\n",
       "      <th>1</th>\n",
       "      <td>10186</td>\n",
       "      <td>Primrose Rd/Maroondah Hwy (Croydon North)</td>\n",
       "      <td>-37.774626</td>\n",
       "      <td>145.292843</td>\n",
       "      <td>POINT (145.29285 -37.77461)</td>\n",
       "    </tr>\n",
       "    <tr>\n",
       "      <th>2</th>\n",
       "      <td>10187</td>\n",
       "      <td>Exeter Rd/Maroondah Hwy (Croydon North)</td>\n",
       "      <td>-37.770446</td>\n",
       "      <td>145.295459</td>\n",
       "      <td>POINT (145.29546 -37.77043)</td>\n",
       "    </tr>\n",
       "    <tr>\n",
       "      <th>3</th>\n",
       "      <td>10188</td>\n",
       "      <td>Maroondah Golf Park/Maroondah Hwy (Chirnside P...</td>\n",
       "      <td>-37.766346</td>\n",
       "      <td>145.301775</td>\n",
       "      <td>POINT (145.30178 -37.76633)</td>\n",
       "    </tr>\n",
       "    <tr>\n",
       "      <th>4</th>\n",
       "      <td>10189</td>\n",
       "      <td>Old Melbourne Rd/Maroondah Hwy (Chirnside Park)</td>\n",
       "      <td>-37.765276</td>\n",
       "      <td>145.304410</td>\n",
       "      <td>POINT (145.30442 -37.76526)</td>\n",
       "    </tr>\n",
       "  </tbody>\n",
       "</table>\n",
       "</div>"
      ],
      "text/plain": [
       "  STOP_ID                                          STOP_NAME   LATITUDE  \\\n",
       "0   10185       Bonnie View Rd/Maroondah Hwy (Croydon North) -37.780920   \n",
       "1   10186          Primrose Rd/Maroondah Hwy (Croydon North) -37.774626   \n",
       "2   10187            Exeter Rd/Maroondah Hwy (Croydon North) -37.770446   \n",
       "3   10188  Maroondah Golf Park/Maroondah Hwy (Chirnside P... -37.766346   \n",
       "4   10189    Old Melbourne Rd/Maroondah Hwy (Chirnside Park) -37.765276   \n",
       "\n",
       "    LONGITUDE                     geometry  \n",
       "0  145.288145  POINT (145.28815 -37.78091)  \n",
       "1  145.292843  POINT (145.29285 -37.77461)  \n",
       "2  145.295459  POINT (145.29546 -37.77043)  \n",
       "3  145.301775  POINT (145.30178 -37.76633)  \n",
       "4  145.304410  POINT (145.30442 -37.76526)  "
      ]
     },
     "execution_count": 24,
     "metadata": {},
     "output_type": "execute_result"
    }
   ],
   "source": [
    "gdf_busstop=gpd.read_file(\"../data/raw/PTV_data/PTV_METRO_BUS_STOP/PTV_METRO_BUS_STOP.shp\")\n",
    "gdf_busstop=gdf_busstop[['STOP_ID', 'STOP_NAME', 'LATITUDE', 'LONGITUDE', 'geometry']].copy()\n",
    "gdf_busstop['geometry']  = gdf_busstop['geometry'] .to_crs(\"EPSG:4326\")\n",
    "\n",
    "gdf_regionalbusstop=gpd.read_file(\"../data/raw/PTV_data/PTV_REGIONAL_BUS_STOP/PTV_REGIONAL_BUS_STOP.shp\")\n",
    "gdf_regionalbusstop=gdf_regionalbusstop[['STOP_ID', 'STOP_NAME', 'LATITUDE', 'LONGITUDE',  'geometry']].copy()\n",
    "gdf_regionalbusstop['geometry']  = gdf_regionalbusstop['geometry'] .to_crs(\"EPSG:4326\")\n",
    "\n",
    "gdf_busstop=pd.concat([gdf_busstop,gdf_regionalbusstop],ignore_index=True)\n",
    "gdf_busstop.head()"
   ]
  },
  {
   "cell_type": "code",
   "execution_count": 25,
   "id": "0553939b",
   "metadata": {},
   "outputs": [
    {
     "data": {
      "text/plain": [
       "<Geographic 2D CRS: EPSG:4326>\n",
       "Name: WGS 84\n",
       "Axis Info [ellipsoidal]:\n",
       "- Lat[north]: Geodetic latitude (degree)\n",
       "- Lon[east]: Geodetic longitude (degree)\n",
       "Area of Use:\n",
       "- name: World.\n",
       "- bounds: (-180.0, -90.0, 180.0, 90.0)\n",
       "Datum: World Geodetic System 1984 ensemble\n",
       "- Ellipsoid: WGS 84\n",
       "- Prime Meridian: Greenwich"
      ]
     },
     "execution_count": 25,
     "metadata": {},
     "output_type": "execute_result"
    }
   ],
   "source": [
    "gdf_busstop.crs"
   ]
  },
  {
   "cell_type": "code",
   "execution_count": 26,
   "id": "335bfb95",
   "metadata": {},
   "outputs": [
    {
     "data": {
      "text/plain": [
       "array([(144.95351489772105, -37.819311816789444),\n",
       "       (144.9534158977541, -37.819165836781785),\n",
       "       (144.95512985798737, -37.81427487686854),\n",
       "       (144.95208281845862, -37.81480785666372),\n",
       "       (144.95530301796674, -37.81418784687984),\n",
       "       (144.95581277787238, -37.81424184691499),\n",
       "       (144.9511550985912, -37.815070836602),\n",
       "       (144.95702705770026, -37.81388481699575),\n",
       "       (144.94912109836338, -37.8204248464962),\n",
       "       (144.94903289830071, -37.82114385649469),\n",
       "       (144.95787989760046, -37.81343985705128),\n",
       "       (144.9610658963954, -37.8194428573062),\n",
       "       (144.9611098167439, -37.81616280728887),\n",
       "       (144.960704096913, -37.815254797255506),\n",
       "       (144.9613020566593, -37.81663485730496),\n",
       "       (144.95922485738694, -37.813255807142035),\n",
       "       (144.96037181705063, -37.81451886722826),\n",
       "       (144.96032789706518, -37.814454877224826),\n",
       "       (144.96118109678523, -37.81566879729057),\n",
       "       (144.96180605631926, -37.818959827353794)], dtype=object)"
      ]
     },
     "execution_count": 26,
     "metadata": {},
     "output_type": "execute_result"
    }
   ],
   "source": [
    "# define function to calculate the top20 nearest locations' coordinates by geopandas\n",
    "\n",
    "def get_20_nearest_locations(gdf, point):\n",
    "    dist_series=gdf[\"geometry\"].distance(point)\n",
    "    top10_idx=dist_series.argsort().values[:20]\n",
    "    \n",
    "    top20_cordinates=gdf.iloc[top10_idx][\"geometry\"].map(lambda p:(p.x,p.y)).values\n",
    "\n",
    "    return top20_cordinates\n",
    "\n",
    "get_20_nearest_locations(gdf=gdf_busstop, point=gdf_property[\"geometry\"][1])"
   ]
  },
  {
   "cell_type": "code",
   "execution_count": 27,
   "id": "9b072abf",
   "metadata": {},
   "outputs": [
    {
     "ename": "KeyboardInterrupt",
     "evalue": "",
     "output_type": "error",
     "traceback": [
      "\u001b[0;31m---------------------------------------------------------------------------\u001b[0m",
      "\u001b[0;31mKeyboardInterrupt\u001b[0m                         Traceback (most recent call last)",
      "\u001b[0;32m/var/folders/xx/831dtzvs55b0c08vg3m5yhf40000gn/T/ipykernel_9644/3591772220.py\u001b[0m in \u001b[0;36m<module>\u001b[0;34m\u001b[0m\n\u001b[0;32m----> 1\u001b[0;31m \u001b[0mgdf_property\u001b[0m\u001b[0;34m[\u001b[0m\u001b[0;34m\"top20_near_busstop\"\u001b[0m\u001b[0;34m]\u001b[0m\u001b[0;34m=\u001b[0m\u001b[0mgdf_property\u001b[0m\u001b[0;34m[\u001b[0m\u001b[0;34m\"geometry\"\u001b[0m\u001b[0;34m]\u001b[0m\u001b[0;34m.\u001b[0m\u001b[0mmap\u001b[0m\u001b[0;34m(\u001b[0m\u001b[0;32mlambda\u001b[0m \u001b[0mx\u001b[0m\u001b[0;34m:\u001b[0m \u001b[0mget_20_nearest_locations\u001b[0m\u001b[0;34m(\u001b[0m\u001b[0mgdf\u001b[0m\u001b[0;34m=\u001b[0m\u001b[0mgdf_busstop\u001b[0m\u001b[0;34m,\u001b[0m \u001b[0mpoint\u001b[0m\u001b[0;34m=\u001b[0m\u001b[0mx\u001b[0m\u001b[0;34m)\u001b[0m\u001b[0;34m)\u001b[0m\u001b[0;34m\u001b[0m\u001b[0;34m\u001b[0m\u001b[0m\n\u001b[0m\u001b[1;32m      2\u001b[0m \u001b[0mgdf_property\u001b[0m\u001b[0;34m.\u001b[0m\u001b[0mhead\u001b[0m\u001b[0;34m(\u001b[0m\u001b[0;34m)\u001b[0m\u001b[0;34m\u001b[0m\u001b[0;34m\u001b[0m\u001b[0m\n",
      "\u001b[0;32m~/opt/anaconda3/lib/python3.9/site-packages/pandas/core/series.py\u001b[0m in \u001b[0;36mmap\u001b[0;34m(self, arg, na_action)\u001b[0m\n\u001b[1;32m   4159\u001b[0m         \u001b[0mdtype\u001b[0m\u001b[0;34m:\u001b[0m \u001b[0mobject\u001b[0m\u001b[0;34m\u001b[0m\u001b[0;34m\u001b[0m\u001b[0m\n\u001b[1;32m   4160\u001b[0m         \"\"\"\n\u001b[0;32m-> 4161\u001b[0;31m         \u001b[0mnew_values\u001b[0m \u001b[0;34m=\u001b[0m \u001b[0msuper\u001b[0m\u001b[0;34m(\u001b[0m\u001b[0;34m)\u001b[0m\u001b[0;34m.\u001b[0m\u001b[0m_map_values\u001b[0m\u001b[0;34m(\u001b[0m\u001b[0marg\u001b[0m\u001b[0;34m,\u001b[0m \u001b[0mna_action\u001b[0m\u001b[0;34m=\u001b[0m\u001b[0mna_action\u001b[0m\u001b[0;34m)\u001b[0m\u001b[0;34m\u001b[0m\u001b[0;34m\u001b[0m\u001b[0m\n\u001b[0m\u001b[1;32m   4162\u001b[0m         return self._constructor(new_values, index=self.index).__finalize__(\n\u001b[1;32m   4163\u001b[0m             \u001b[0mself\u001b[0m\u001b[0;34m,\u001b[0m \u001b[0mmethod\u001b[0m\u001b[0;34m=\u001b[0m\u001b[0;34m\"map\"\u001b[0m\u001b[0;34m\u001b[0m\u001b[0;34m\u001b[0m\u001b[0m\n",
      "\u001b[0;32m~/opt/anaconda3/lib/python3.9/site-packages/pandas/core/base.py\u001b[0m in \u001b[0;36m_map_values\u001b[0;34m(self, mapper, na_action)\u001b[0m\n\u001b[1;32m    868\u001b[0m \u001b[0;34m\u001b[0m\u001b[0m\n\u001b[1;32m    869\u001b[0m         \u001b[0;31m# mapper is a function\u001b[0m\u001b[0;34m\u001b[0m\u001b[0;34m\u001b[0m\u001b[0m\n\u001b[0;32m--> 870\u001b[0;31m         \u001b[0mnew_values\u001b[0m \u001b[0;34m=\u001b[0m \u001b[0mmap_f\u001b[0m\u001b[0;34m(\u001b[0m\u001b[0mvalues\u001b[0m\u001b[0;34m,\u001b[0m \u001b[0mmapper\u001b[0m\u001b[0;34m)\u001b[0m\u001b[0;34m\u001b[0m\u001b[0;34m\u001b[0m\u001b[0m\n\u001b[0m\u001b[1;32m    871\u001b[0m \u001b[0;34m\u001b[0m\u001b[0m\n\u001b[1;32m    872\u001b[0m         \u001b[0;32mreturn\u001b[0m \u001b[0mnew_values\u001b[0m\u001b[0;34m\u001b[0m\u001b[0;34m\u001b[0m\u001b[0m\n",
      "\u001b[0;32m~/opt/anaconda3/lib/python3.9/site-packages/pandas/_libs/lib.pyx\u001b[0m in \u001b[0;36mpandas._libs.lib.map_infer\u001b[0;34m()\u001b[0m\n",
      "\u001b[0;32m/var/folders/xx/831dtzvs55b0c08vg3m5yhf40000gn/T/ipykernel_9644/3591772220.py\u001b[0m in \u001b[0;36m<lambda>\u001b[0;34m(x)\u001b[0m\n\u001b[0;32m----> 1\u001b[0;31m \u001b[0mgdf_property\u001b[0m\u001b[0;34m[\u001b[0m\u001b[0;34m\"top20_near_busstop\"\u001b[0m\u001b[0;34m]\u001b[0m\u001b[0;34m=\u001b[0m\u001b[0mgdf_property\u001b[0m\u001b[0;34m[\u001b[0m\u001b[0;34m\"geometry\"\u001b[0m\u001b[0;34m]\u001b[0m\u001b[0;34m.\u001b[0m\u001b[0mmap\u001b[0m\u001b[0;34m(\u001b[0m\u001b[0;32mlambda\u001b[0m \u001b[0mx\u001b[0m\u001b[0;34m:\u001b[0m \u001b[0mget_20_nearest_locations\u001b[0m\u001b[0;34m(\u001b[0m\u001b[0mgdf\u001b[0m\u001b[0;34m=\u001b[0m\u001b[0mgdf_busstop\u001b[0m\u001b[0;34m,\u001b[0m \u001b[0mpoint\u001b[0m\u001b[0;34m=\u001b[0m\u001b[0mx\u001b[0m\u001b[0;34m)\u001b[0m\u001b[0;34m)\u001b[0m\u001b[0;34m\u001b[0m\u001b[0;34m\u001b[0m\u001b[0m\n\u001b[0m\u001b[1;32m      2\u001b[0m \u001b[0mgdf_property\u001b[0m\u001b[0;34m.\u001b[0m\u001b[0mhead\u001b[0m\u001b[0;34m(\u001b[0m\u001b[0;34m)\u001b[0m\u001b[0;34m\u001b[0m\u001b[0;34m\u001b[0m\u001b[0m\n",
      "\u001b[0;32m/var/folders/xx/831dtzvs55b0c08vg3m5yhf40000gn/T/ipykernel_9644/3024539598.py\u001b[0m in \u001b[0;36mget_20_nearest_locations\u001b[0;34m(gdf, point)\u001b[0m\n\u001b[1;32m      2\u001b[0m \u001b[0;34m\u001b[0m\u001b[0m\n\u001b[1;32m      3\u001b[0m \u001b[0;32mdef\u001b[0m \u001b[0mget_20_nearest_locations\u001b[0m\u001b[0;34m(\u001b[0m\u001b[0mgdf\u001b[0m\u001b[0;34m,\u001b[0m \u001b[0mpoint\u001b[0m\u001b[0;34m)\u001b[0m\u001b[0;34m:\u001b[0m\u001b[0;34m\u001b[0m\u001b[0;34m\u001b[0m\u001b[0m\n\u001b[0;32m----> 4\u001b[0;31m     \u001b[0mdist_series\u001b[0m\u001b[0;34m=\u001b[0m\u001b[0mgdf\u001b[0m\u001b[0;34m[\u001b[0m\u001b[0;34m\"geometry\"\u001b[0m\u001b[0;34m]\u001b[0m\u001b[0;34m.\u001b[0m\u001b[0mdistance\u001b[0m\u001b[0;34m(\u001b[0m\u001b[0mpoint\u001b[0m\u001b[0;34m)\u001b[0m\u001b[0;34m\u001b[0m\u001b[0;34m\u001b[0m\u001b[0m\n\u001b[0m\u001b[1;32m      5\u001b[0m     \u001b[0mtop10_idx\u001b[0m\u001b[0;34m=\u001b[0m\u001b[0mdist_series\u001b[0m\u001b[0;34m.\u001b[0m\u001b[0margsort\u001b[0m\u001b[0;34m(\u001b[0m\u001b[0;34m)\u001b[0m\u001b[0;34m.\u001b[0m\u001b[0mvalues\u001b[0m\u001b[0;34m[\u001b[0m\u001b[0;34m:\u001b[0m\u001b[0;36m20\u001b[0m\u001b[0;34m]\u001b[0m\u001b[0;34m\u001b[0m\u001b[0;34m\u001b[0m\u001b[0m\n\u001b[1;32m      6\u001b[0m \u001b[0;34m\u001b[0m\u001b[0m\n",
      "\u001b[0;32m~/opt/anaconda3/lib/python3.9/site-packages/geopandas/base.py\u001b[0m in \u001b[0;36mdistance\u001b[0;34m(self, other, align)\u001b[0m\n\u001b[1;32m   2079\u001b[0m         \u001b[0mdtype\u001b[0m\u001b[0;34m:\u001b[0m \u001b[0mfloat64\u001b[0m\u001b[0;34m\u001b[0m\u001b[0;34m\u001b[0m\u001b[0m\n\u001b[1;32m   2080\u001b[0m         \"\"\"\n\u001b[0;32m-> 2081\u001b[0;31m         \u001b[0;32mreturn\u001b[0m \u001b[0m_binary_op\u001b[0m\u001b[0;34m(\u001b[0m\u001b[0;34m\"distance\"\u001b[0m\u001b[0;34m,\u001b[0m \u001b[0mself\u001b[0m\u001b[0;34m,\u001b[0m \u001b[0mother\u001b[0m\u001b[0;34m,\u001b[0m \u001b[0malign\u001b[0m\u001b[0;34m)\u001b[0m\u001b[0;34m\u001b[0m\u001b[0;34m\u001b[0m\u001b[0m\n\u001b[0m\u001b[1;32m   2082\u001b[0m \u001b[0;34m\u001b[0m\u001b[0m\n\u001b[1;32m   2083\u001b[0m     \u001b[0;31m#\u001b[0m\u001b[0;34m\u001b[0m\u001b[0;34m\u001b[0m\u001b[0m\n",
      "\u001b[0;32m~/opt/anaconda3/lib/python3.9/site-packages/geopandas/base.py\u001b[0m in \u001b[0;36m_binary_op\u001b[0;34m(op, this, other, align, *args, **kwargs)\u001b[0m\n\u001b[1;32m     57\u001b[0m     \u001b[0;31m# type: (str, GeoSeries, GeoSeries, args/kwargs) -> Series[bool/float]\u001b[0m\u001b[0;34m\u001b[0m\u001b[0;34m\u001b[0m\u001b[0m\n\u001b[1;32m     58\u001b[0m     \u001b[0;34m\"\"\"Binary operation on GeoSeries objects that returns a Series\"\"\"\u001b[0m\u001b[0;34m\u001b[0m\u001b[0;34m\u001b[0m\u001b[0m\n\u001b[0;32m---> 59\u001b[0;31m     \u001b[0mdata\u001b[0m\u001b[0;34m,\u001b[0m \u001b[0mindex\u001b[0m \u001b[0;34m=\u001b[0m \u001b[0m_delegate_binary_method\u001b[0m\u001b[0;34m(\u001b[0m\u001b[0mop\u001b[0m\u001b[0;34m,\u001b[0m \u001b[0mthis\u001b[0m\u001b[0;34m,\u001b[0m \u001b[0mother\u001b[0m\u001b[0;34m,\u001b[0m \u001b[0malign\u001b[0m\u001b[0;34m,\u001b[0m \u001b[0;34m*\u001b[0m\u001b[0margs\u001b[0m\u001b[0;34m,\u001b[0m \u001b[0;34m**\u001b[0m\u001b[0mkwargs\u001b[0m\u001b[0;34m)\u001b[0m\u001b[0;34m\u001b[0m\u001b[0;34m\u001b[0m\u001b[0m\n\u001b[0m\u001b[1;32m     60\u001b[0m     \u001b[0;32mreturn\u001b[0m \u001b[0mSeries\u001b[0m\u001b[0;34m(\u001b[0m\u001b[0mdata\u001b[0m\u001b[0;34m,\u001b[0m \u001b[0mindex\u001b[0m\u001b[0;34m=\u001b[0m\u001b[0mindex\u001b[0m\u001b[0;34m)\u001b[0m\u001b[0;34m\u001b[0m\u001b[0;34m\u001b[0m\u001b[0m\n\u001b[1;32m     61\u001b[0m \u001b[0;34m\u001b[0m\u001b[0m\n",
      "\u001b[0;32m~/opt/anaconda3/lib/python3.9/site-packages/geopandas/base.py\u001b[0m in \u001b[0;36m_delegate_binary_method\u001b[0;34m(op, this, other, align, *args, **kwargs)\u001b[0m\n\u001b[1;32m     41\u001b[0m         \u001b[0;32mraise\u001b[0m \u001b[0mTypeError\u001b[0m\u001b[0;34m(\u001b[0m\u001b[0mtype\u001b[0m\u001b[0;34m(\u001b[0m\u001b[0mthis\u001b[0m\u001b[0;34m)\u001b[0m\u001b[0;34m,\u001b[0m \u001b[0mtype\u001b[0m\u001b[0;34m(\u001b[0m\u001b[0mother\u001b[0m\u001b[0;34m)\u001b[0m\u001b[0;34m)\u001b[0m\u001b[0;34m\u001b[0m\u001b[0;34m\u001b[0m\u001b[0m\n\u001b[1;32m     42\u001b[0m \u001b[0;34m\u001b[0m\u001b[0m\n\u001b[0;32m---> 43\u001b[0;31m     \u001b[0mdata\u001b[0m \u001b[0;34m=\u001b[0m \u001b[0mgetattr\u001b[0m\u001b[0;34m(\u001b[0m\u001b[0ma_this\u001b[0m\u001b[0;34m,\u001b[0m \u001b[0mop\u001b[0m\u001b[0;34m)\u001b[0m\u001b[0;34m(\u001b[0m\u001b[0mother\u001b[0m\u001b[0;34m,\u001b[0m \u001b[0;34m*\u001b[0m\u001b[0margs\u001b[0m\u001b[0;34m,\u001b[0m \u001b[0;34m**\u001b[0m\u001b[0mkwargs\u001b[0m\u001b[0;34m)\u001b[0m\u001b[0;34m\u001b[0m\u001b[0;34m\u001b[0m\u001b[0m\n\u001b[0m\u001b[1;32m     44\u001b[0m     \u001b[0;32mreturn\u001b[0m \u001b[0mdata\u001b[0m\u001b[0;34m,\u001b[0m \u001b[0mthis\u001b[0m\u001b[0;34m.\u001b[0m\u001b[0mindex\u001b[0m\u001b[0;34m\u001b[0m\u001b[0;34m\u001b[0m\u001b[0m\n\u001b[1;32m     45\u001b[0m \u001b[0;34m\u001b[0m\u001b[0m\n",
      "\u001b[0;32m~/opt/anaconda3/lib/python3.9/site-packages/geopandas/array.py\u001b[0m in \u001b[0;36mdistance\u001b[0;34m(self, other)\u001b[0m\n\u001b[1;32m    594\u001b[0m     \u001b[0;32mdef\u001b[0m \u001b[0mdistance\u001b[0m\u001b[0;34m(\u001b[0m\u001b[0mself\u001b[0m\u001b[0;34m,\u001b[0m \u001b[0mother\u001b[0m\u001b[0;34m)\u001b[0m\u001b[0;34m:\u001b[0m\u001b[0;34m\u001b[0m\u001b[0;34m\u001b[0m\u001b[0m\n\u001b[1;32m    595\u001b[0m         \u001b[0mself\u001b[0m\u001b[0;34m.\u001b[0m\u001b[0mcheck_geographic_crs\u001b[0m\u001b[0;34m(\u001b[0m\u001b[0mstacklevel\u001b[0m\u001b[0;34m=\u001b[0m\u001b[0;36m6\u001b[0m\u001b[0;34m)\u001b[0m\u001b[0;34m\u001b[0m\u001b[0;34m\u001b[0m\u001b[0m\n\u001b[0;32m--> 596\u001b[0;31m         \u001b[0;32mreturn\u001b[0m \u001b[0mself\u001b[0m\u001b[0;34m.\u001b[0m\u001b[0m_binary_method\u001b[0m\u001b[0;34m(\u001b[0m\u001b[0;34m\"distance\"\u001b[0m\u001b[0;34m,\u001b[0m \u001b[0mself\u001b[0m\u001b[0;34m,\u001b[0m \u001b[0mother\u001b[0m\u001b[0;34m)\u001b[0m\u001b[0;34m\u001b[0m\u001b[0;34m\u001b[0m\u001b[0m\n\u001b[0m\u001b[1;32m    597\u001b[0m \u001b[0;34m\u001b[0m\u001b[0m\n\u001b[1;32m    598\u001b[0m     \u001b[0;32mdef\u001b[0m \u001b[0mbuffer\u001b[0m\u001b[0;34m(\u001b[0m\u001b[0mself\u001b[0m\u001b[0;34m,\u001b[0m \u001b[0mdistance\u001b[0m\u001b[0;34m,\u001b[0m \u001b[0mresolution\u001b[0m\u001b[0;34m=\u001b[0m\u001b[0;36m16\u001b[0m\u001b[0;34m,\u001b[0m \u001b[0;34m**\u001b[0m\u001b[0mkwargs\u001b[0m\u001b[0;34m)\u001b[0m\u001b[0;34m:\u001b[0m\u001b[0;34m\u001b[0m\u001b[0;34m\u001b[0m\u001b[0m\n",
      "\u001b[0;32m~/opt/anaconda3/lib/python3.9/site-packages/geopandas/array.py\u001b[0m in \u001b[0;36m_binary_method\u001b[0;34m(op, left, right, **kwargs)\u001b[0m\n\u001b[1;32m    522\u001b[0m             \u001b[0mright\u001b[0m \u001b[0;34m=\u001b[0m \u001b[0mright\u001b[0m\u001b[0;34m.\u001b[0m\u001b[0mdata\u001b[0m\u001b[0;34m\u001b[0m\u001b[0;34m\u001b[0m\u001b[0m\n\u001b[1;32m    523\u001b[0m \u001b[0;34m\u001b[0m\u001b[0m\n\u001b[0;32m--> 524\u001b[0;31m         \u001b[0;32mreturn\u001b[0m \u001b[0mgetattr\u001b[0m\u001b[0;34m(\u001b[0m\u001b[0mvectorized\u001b[0m\u001b[0;34m,\u001b[0m \u001b[0mop\u001b[0m\u001b[0;34m)\u001b[0m\u001b[0;34m(\u001b[0m\u001b[0mleft\u001b[0m\u001b[0;34m.\u001b[0m\u001b[0mdata\u001b[0m\u001b[0;34m,\u001b[0m \u001b[0mright\u001b[0m\u001b[0;34m,\u001b[0m \u001b[0;34m**\u001b[0m\u001b[0mkwargs\u001b[0m\u001b[0;34m)\u001b[0m\u001b[0;34m\u001b[0m\u001b[0;34m\u001b[0m\u001b[0m\n\u001b[0m\u001b[1;32m    525\u001b[0m \u001b[0;34m\u001b[0m\u001b[0m\n\u001b[1;32m    526\u001b[0m     \u001b[0;32mdef\u001b[0m \u001b[0mcovers\u001b[0m\u001b[0;34m(\u001b[0m\u001b[0mself\u001b[0m\u001b[0;34m,\u001b[0m \u001b[0mother\u001b[0m\u001b[0;34m)\u001b[0m\u001b[0;34m:\u001b[0m\u001b[0;34m\u001b[0m\u001b[0;34m\u001b[0m\u001b[0m\n",
      "\u001b[0;32m~/opt/anaconda3/lib/python3.9/site-packages/geopandas/_vectorized.py\u001b[0m in \u001b[0;36mdistance\u001b[0;34m(data, other)\u001b[0m\n\u001b[1;32m    781\u001b[0m         \u001b[0;32mreturn\u001b[0m \u001b[0m_binary_method\u001b[0m\u001b[0;34m(\u001b[0m\u001b[0;34m\"distance\"\u001b[0m\u001b[0;34m,\u001b[0m \u001b[0mdata\u001b[0m\u001b[0;34m,\u001b[0m \u001b[0mother\u001b[0m\u001b[0;34m)\u001b[0m\u001b[0;34m\u001b[0m\u001b[0;34m\u001b[0m\u001b[0m\n\u001b[1;32m    782\u001b[0m     \u001b[0;32melse\u001b[0m\u001b[0;34m:\u001b[0m\u001b[0;34m\u001b[0m\u001b[0;34m\u001b[0m\u001b[0m\n\u001b[0;32m--> 783\u001b[0;31m         \u001b[0;32mreturn\u001b[0m \u001b[0m_binary_op_float\u001b[0m\u001b[0;34m(\u001b[0m\u001b[0;34m\"distance\"\u001b[0m\u001b[0;34m,\u001b[0m \u001b[0mdata\u001b[0m\u001b[0;34m,\u001b[0m \u001b[0mother\u001b[0m\u001b[0;34m)\u001b[0m\u001b[0;34m\u001b[0m\u001b[0;34m\u001b[0m\u001b[0m\n\u001b[0m\u001b[1;32m    784\u001b[0m \u001b[0;34m\u001b[0m\u001b[0m\n\u001b[1;32m    785\u001b[0m \u001b[0;34m\u001b[0m\u001b[0m\n",
      "\u001b[0;32m~/opt/anaconda3/lib/python3.9/site-packages/geopandas/_vectorized.py\u001b[0m in \u001b[0;36m_binary_op_float\u001b[0;34m(op, left, right, *args, **kwargs)\u001b[0m\n\u001b[1;32m    363\u001b[0m     \u001b[0;31m# as shapely does currently (https://github.com/Toblerity/Shapely/issues/498)\u001b[0m\u001b[0;34m\u001b[0m\u001b[0;34m\u001b[0m\u001b[0m\n\u001b[1;32m    364\u001b[0m     \u001b[0;32mif\u001b[0m \u001b[0misinstance\u001b[0m\u001b[0;34m(\u001b[0m\u001b[0mright\u001b[0m\u001b[0;34m,\u001b[0m \u001b[0mBaseGeometry\u001b[0m\u001b[0;34m)\u001b[0m\u001b[0;34m:\u001b[0m\u001b[0;34m\u001b[0m\u001b[0;34m\u001b[0m\u001b[0m\n\u001b[0;32m--> 365\u001b[0;31m         data = [\n\u001b[0m\u001b[1;32m    366\u001b[0m             \u001b[0mgetattr\u001b[0m\u001b[0;34m(\u001b[0m\u001b[0ms\u001b[0m\u001b[0;34m,\u001b[0m \u001b[0mop\u001b[0m\u001b[0;34m)\u001b[0m\u001b[0;34m(\u001b[0m\u001b[0mright\u001b[0m\u001b[0;34m,\u001b[0m \u001b[0;34m*\u001b[0m\u001b[0margs\u001b[0m\u001b[0;34m,\u001b[0m \u001b[0;34m**\u001b[0m\u001b[0mkwargs\u001b[0m\u001b[0;34m)\u001b[0m\u001b[0;34m\u001b[0m\u001b[0;34m\u001b[0m\u001b[0m\n\u001b[1;32m    367\u001b[0m             \u001b[0;32mif\u001b[0m \u001b[0;32mnot\u001b[0m \u001b[0;34m(\u001b[0m\u001b[0ms\u001b[0m \u001b[0;32mis\u001b[0m \u001b[0;32mNone\u001b[0m \u001b[0;32mor\u001b[0m \u001b[0ms\u001b[0m\u001b[0;34m.\u001b[0m\u001b[0mis_empty\u001b[0m \u001b[0;32mor\u001b[0m \u001b[0mright\u001b[0m\u001b[0;34m.\u001b[0m\u001b[0mis_empty\u001b[0m\u001b[0;34m)\u001b[0m\u001b[0;34m\u001b[0m\u001b[0;34m\u001b[0m\u001b[0m\n",
      "\u001b[0;32m~/opt/anaconda3/lib/python3.9/site-packages/geopandas/_vectorized.py\u001b[0m in \u001b[0;36m<listcomp>\u001b[0;34m(.0)\u001b[0m\n\u001b[1;32m    365\u001b[0m         data = [\n\u001b[1;32m    366\u001b[0m             \u001b[0mgetattr\u001b[0m\u001b[0;34m(\u001b[0m\u001b[0ms\u001b[0m\u001b[0;34m,\u001b[0m \u001b[0mop\u001b[0m\u001b[0;34m)\u001b[0m\u001b[0;34m(\u001b[0m\u001b[0mright\u001b[0m\u001b[0;34m,\u001b[0m \u001b[0;34m*\u001b[0m\u001b[0margs\u001b[0m\u001b[0;34m,\u001b[0m \u001b[0;34m**\u001b[0m\u001b[0mkwargs\u001b[0m\u001b[0;34m)\u001b[0m\u001b[0;34m\u001b[0m\u001b[0;34m\u001b[0m\u001b[0m\n\u001b[0;32m--> 367\u001b[0;31m             \u001b[0;32mif\u001b[0m \u001b[0;32mnot\u001b[0m \u001b[0;34m(\u001b[0m\u001b[0ms\u001b[0m \u001b[0;32mis\u001b[0m \u001b[0;32mNone\u001b[0m \u001b[0;32mor\u001b[0m \u001b[0ms\u001b[0m\u001b[0;34m.\u001b[0m\u001b[0mis_empty\u001b[0m \u001b[0;32mor\u001b[0m \u001b[0mright\u001b[0m\u001b[0;34m.\u001b[0m\u001b[0mis_empty\u001b[0m\u001b[0;34m)\u001b[0m\u001b[0;34m\u001b[0m\u001b[0;34m\u001b[0m\u001b[0m\n\u001b[0m\u001b[1;32m    368\u001b[0m             \u001b[0;32melse\u001b[0m \u001b[0mnp\u001b[0m\u001b[0;34m.\u001b[0m\u001b[0mnan\u001b[0m\u001b[0;34m\u001b[0m\u001b[0;34m\u001b[0m\u001b[0m\n\u001b[1;32m    369\u001b[0m             \u001b[0;32mfor\u001b[0m \u001b[0ms\u001b[0m \u001b[0;32min\u001b[0m \u001b[0mleft\u001b[0m\u001b[0;34m\u001b[0m\u001b[0;34m\u001b[0m\u001b[0m\n",
      "\u001b[0;32m~/opt/anaconda3/lib/python3.9/site-packages/shapely/geometry/base.py\u001b[0m in \u001b[0;36mis_empty\u001b[0;34m(self)\u001b[0m\n\u001b[1;32m    710\u001b[0m     \u001b[0;32mdef\u001b[0m \u001b[0mis_empty\u001b[0m\u001b[0;34m(\u001b[0m\u001b[0mself\u001b[0m\u001b[0;34m)\u001b[0m\u001b[0;34m:\u001b[0m\u001b[0;34m\u001b[0m\u001b[0;34m\u001b[0m\u001b[0m\n\u001b[1;32m    711\u001b[0m         \u001b[0;34m\"\"\"True if the set of points in this geometry is empty, else False\"\"\"\u001b[0m\u001b[0;34m\u001b[0m\u001b[0;34m\u001b[0m\u001b[0m\n\u001b[0;32m--> 712\u001b[0;31m         \u001b[0;32mreturn\u001b[0m \u001b[0;34m(\u001b[0m\u001b[0mself\u001b[0m\u001b[0;34m.\u001b[0m\u001b[0m_geom\u001b[0m \u001b[0;32mis\u001b[0m \u001b[0;32mNone\u001b[0m\u001b[0;34m)\u001b[0m \u001b[0;32mor\u001b[0m \u001b[0mbool\u001b[0m\u001b[0;34m(\u001b[0m\u001b[0mself\u001b[0m\u001b[0;34m.\u001b[0m\u001b[0mimpl\u001b[0m\u001b[0;34m[\u001b[0m\u001b[0;34m'is_empty'\u001b[0m\u001b[0;34m]\u001b[0m\u001b[0;34m(\u001b[0m\u001b[0mself\u001b[0m\u001b[0;34m)\u001b[0m\u001b[0;34m)\u001b[0m\u001b[0;34m\u001b[0m\u001b[0;34m\u001b[0m\u001b[0m\n\u001b[0m\u001b[1;32m    713\u001b[0m \u001b[0;34m\u001b[0m\u001b[0m\n\u001b[1;32m    714\u001b[0m     \u001b[0;34m@\u001b[0m\u001b[0mproperty\u001b[0m\u001b[0;34m\u001b[0m\u001b[0;34m\u001b[0m\u001b[0m\n",
      "\u001b[0;31mKeyboardInterrupt\u001b[0m: "
     ]
    }
   ],
   "source": [
    "gdf_property[\"top20_near_busstop\"]=gdf_property[\"geometry\"].map(lambda x: get_20_nearest_locations(gdf=gdf_busstop, point=x))\n",
    "gdf_property.head()"
   ]
  },
  {
   "cell_type": "markdown",
   "id": "491344b7",
   "metadata": {},
   "source": [
    "# Distance Train Station"
   ]
  },
  {
   "cell_type": "code",
   "execution_count": null,
   "id": "1087917c",
   "metadata": {},
   "outputs": [],
   "source": [
    "gdf_trainstation=gpd.read_file(\"../data/raw/PTV_data/PTV_METRO_TRAIN_STATION/PTV_METRO_TRAIN_STATION.shp\")\n",
    "gdf_trainstation['geometry']  = gdf_trainstation['geometry'] .to_crs(\"EPSG:4326\")\n",
    "gdf_trainstation.head()"
   ]
  },
  {
   "cell_type": "code",
   "execution_count": null,
   "id": "4cdaf9be",
   "metadata": {},
   "outputs": [],
   "source": [
    "gdf_property[\"top20_near_trainstation\"]=gdf_property[\"geometry\"].map(lambda x: get_20_nearest_locations(gdf=gdf_trainstation, point=x))\n",
    "gdf_property.head()"
   ]
  },
  {
   "cell_type": "markdown",
   "id": "c5787a43",
   "metadata": {},
   "source": [
    "# Distance School\n",
    "\n",
    "+ there are 4 types of schools, we calculate the distance by school type"
   ]
  },
  {
   "cell_type": "code",
   "execution_count": null,
   "id": "ddca3646",
   "metadata": {},
   "outputs": [],
   "source": [
    "df_school = pd.read_excel(\"../data/raw/SearchResults.xlsx\")\n",
    "df_school.head()"
   ]
  },
  {
   "cell_type": "code",
   "execution_count": null,
   "id": "4c1efccb",
   "metadata": {},
   "outputs": [],
   "source": [
    "df_school[\"Type\"].value_counts()"
   ]
  },
  {
   "cell_type": "code",
   "execution_count": null,
   "id": "190f05df",
   "metadata": {},
   "outputs": [],
   "source": [
    "# create gdf\n",
    "gdf_school = gpd.GeoDataFrame(df_school, geometry=gpd.points_from_xy(df_school.Longitude, df_school.Latitude, crs=\"EPSG:4326\"))\n",
    "gdf_school['geometry']  = gdf_school['geometry'] .to_crs(\"EPSG:4326\")\n",
    "gdf_school.head()"
   ]
  },
  {
   "cell_type": "code",
   "execution_count": null,
   "id": "ad199524",
   "metadata": {},
   "outputs": [],
   "source": [
    "# primary school\n",
    "gdf_property[\"top20_near_primary\"]=gdf_property[\"geometry\"].map(lambda x: get_20_nearest_locations(gdf=gdf_school[gdf_school[\"Type\"]=='Primary'], point=x))\n",
    "\n",
    "# Secondary school\n",
    "gdf_property[\"top20_near_secondary\"]=gdf_property[\"geometry\"].map(lambda x: get_20_nearest_locations(gdf=gdf_school[gdf_school[\"Type\"]=='Secondary'], point=x))\n",
    "\n",
    "\n",
    "# Combined school\n",
    "gdf_property[\"top20_near_combined\"]=gdf_property[\"geometry\"].map(lambda x: get_20_nearest_locations(gdf=gdf_school[gdf_school[\"Type\"]=='Combined'], point=x))\n",
    "\n",
    "\n",
    "# special school\n",
    "gdf_property[\"top20_near_special\"]=gdf_property[\"geometry\"].map(lambda x: get_20_nearest_locations(gdf=gdf_school[gdf_school[\"Type\"]=='Special'], point=x))\n",
    "gdf_property.head()"
   ]
  },
  {
   "cell_type": "code",
   "execution_count": null,
   "id": "9b7e5d9f",
   "metadata": {},
   "outputs": [],
   "source": [
    "gdf_property[\"property_cordinate\"]=gdf_property[\"geometry\"].map(lambda p:(p.x,p.y))\n",
    "gdf_property.head()"
   ]
  },
  {
   "cell_type": "markdown",
   "id": "db5a452d",
   "metadata": {},
   "source": [
    "# Calculate Routine Distance by openrouteservice"
   ]
  },
  {
   "cell_type": "code",
   "execution_count": null,
   "id": "ea8c4df6",
   "metadata": {},
   "outputs": [],
   "source": [
    "import openrouteservice as ors\n",
    "\n",
    "def calculate_route_distance(start_cordinate, end_cordinates):\n",
    "    client = ors.Client(base_url=\"http://localhost:8080/ors\")\n",
    "   \n",
    "    distances=[]\n",
    "    \n",
    "    # calculate 20 times, as we have 20 coordinates for each [busstop, trainstation...]\n",
    "    for i in range(20):\n",
    "        coordinates = [[start_cordinate[0], start_cordinate[1]],[end_cordinates[i][0], end_cordinates[i][1]]]\n",
    "        \n",
    "        try:\n",
    "            route = client.directions(\n",
    "                coordinates=coordinates,\n",
    "                profile='driving-car',\n",
    "                format='geojson',\n",
    "                validate=False,\n",
    "            )\n",
    "            distances.append(route['features'][0][\"properties\"][\"summary\"][\"distance\"])\n",
    "        except Exception as err:\n",
    "            \n",
    "            # if error, the distance is more than 100000 metres\n",
    "            distances.append(1000000)\n",
    "#             print(err)\n",
    "        \n",
    "    # \n",
    "    return np.nanmin(np.array(distances))"
   ]
  },
  {
   "cell_type": "code",
   "execution_count": null,
   "id": "0231a67c",
   "metadata": {
    "scrolled": true
   },
   "outputs": [],
   "source": [
    "%%time\n",
    "\n",
    "gdf_property[\"dist_nearest_busstop\"]=gdf_property.apply(lambda row: \n",
    "                                                        calculate_route_distance(\n",
    "                                                            start_cordinate=row[\"property_cordinate\"], \n",
    "                                                            end_cordinates=row[\"top20_near_busstop\"]), axis=1)\n",
    "\n",
    "gdf_property[\"dist_nearest_trainstation\"]=gdf_property.apply(lambda row: \n",
    "                                                        calculate_route_distance(\n",
    "                                                            start_cordinate=row[\"property_cordinate\"], \n",
    "                                                            end_cordinates=row[\"top20_near_trainstation\"]), axis=1)\n",
    "\n",
    "\n",
    "gdf_property[\"dist_nearest_primary_school\"]=gdf_property.apply(lambda row: \n",
    "                                                        calculate_route_distance(\n",
    "                                                            start_cordinate=row[\"property_cordinate\"], \n",
    "                                                            end_cordinates=row[\"top20_near_primary\"]), axis=1)\n",
    "\n",
    "gdf_property[\"dist_nearest_secondary_school\"]=gdf_property.apply(lambda row: \n",
    "                                                        calculate_route_distance(\n",
    "                                                            start_cordinate=row[\"property_cordinate\"], \n",
    "                                                            end_cordinates=row[\"top20_near_secondary\"]), axis=1)\n",
    "\n",
    "gdf_property[\"dist_nearest_combined_school\"]=gdf_property.apply(lambda row: \n",
    "                                                        calculate_route_distance(\n",
    "                                                            start_cordinate=row[\"property_cordinate\"], \n",
    "                                                            end_cordinates=row[\"top20_near_combined\"]), axis=1)\n",
    "\n",
    "gdf_property[\"dist_nearest_special_school\"]=gdf_property.apply(lambda row: \n",
    "                                                        calculate_route_distance(\n",
    "                                                            start_cordinate=row[\"property_cordinate\"], \n",
    "                                                            end_cordinates=row[\"top20_near_special\"]), axis=1)"
   ]
  },
  {
   "cell_type": "code",
   "execution_count": null,
   "id": "76ef3801",
   "metadata": {},
   "outputs": [],
   "source": [
    "df_property=pd.read_csv(\"../data/curated/domain_2.csv\")\n",
    "df_property_result=pd.merge(df_property, gdf_property[['url','dist_nearest_busstop', 'dist_nearest_trainstation', \n",
    "                                                       'dist_nearest_primary_school', 'dist_nearest_secondary_school', 'dist_nearest_combined_school',\n",
    "                                                       'dist_nearest_special_school']], on=\"uri\",how=\"left\")\n",
    "df_property_result.head()"
   ]
  },
  {
   "cell_type": "code",
   "execution_count": null,
   "id": "dafcb95c",
   "metadata": {},
   "outputs": [],
   "source": [
    "df_property_result.shape"
   ]
  },
  {
   "cell_type": "code",
   "execution_count": null,
   "id": "18a8fd75",
   "metadata": {},
   "outputs": [],
   "source": [
    "df_property_result[\"dist_nearest_primary_school\"]=df_property_result.apply(lambda row: \n",
    "                                                                           row[\"dist_nearest_primary_school\"] \n",
    "                                                                           if row[\"dist_nearest_primary_school\"] <row[\"dist_nearest_combined_school\"] \n",
    "                                                                          else row[\"dist_nearest_combined_school\"], axis=1)\n",
    "\n",
    "df_property_result[\"dist_nearest_secondary_school\"]=df_property_result.apply(lambda row: \n",
    "                                                                           row[\"dist_nearest_secondary_school\"] \n",
    "                                                                           if row[\"dist_nearest_secondary_school\"] <row[\"dist_nearest_combined_school\"] \n",
    "                                                                          else row[\"dist_nearest_combined_school\"], axis=1)\n",
    "\n",
    "df_property_result=df_property_result.drop([\"dist_nearest_combined_school\",\"dist_nearest_special_school\"], axis=1)\n",
    "df_property_result.to_csv(\"../data/curated/domain_final2.csv\", index=False)"
   ]
  },
  {
   "cell_type": "code",
   "execution_count": null,
   "id": "d387997d-f3bc-4edf-9fed-5dbb028e6063",
   "metadata": {},
   "outputs": [],
   "source": []
  }
 ],
 "metadata": {
  "kernelspec": {
   "display_name": "Python 3 (ipykernel)",
   "language": "python",
   "name": "python3"
  },
  "language_info": {
   "codemirror_mode": {
    "name": "ipython",
    "version": 3
   },
   "file_extension": ".py",
   "mimetype": "text/x-python",
   "name": "python",
   "nbconvert_exporter": "python",
   "pygments_lexer": "ipython3",
   "version": "3.9.7"
  },
  "toc": {
   "base_numbering": 1,
   "nav_menu": {},
   "number_sections": true,
   "sideBar": true,
   "skip_h1_title": false,
   "title_cell": "Table of Contents",
   "title_sidebar": "Contents",
   "toc_cell": true,
   "toc_position": {
    "height": "calc(100% - 180px)",
    "left": "10px",
    "top": "150px",
    "width": "383.797px"
   },
   "toc_section_display": true,
   "toc_window_display": true
  }
 },
 "nbformat": 4,
 "nbformat_minor": 5
}
