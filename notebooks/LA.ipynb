{
 "cells": [
  {
   "cell_type": "code",
   "execution_count": 40,
   "metadata": {},
   "outputs": [],
   "source": [
    "import numpy as np\n",
    "import pandas as pd\n",
    "import matplotlib.pyplot as plt"
   ]
  },
  {
   "cell_type": "code",
   "execution_count": 3,
   "metadata": {},
   "outputs": [],
   "source": [
    "df = pd.read_csv(\"../data/curated/domain_final.csv\")"
   ]
  },
  {
   "cell_type": "code",
   "execution_count": 4,
   "metadata": {},
   "outputs": [
    {
     "data": {
      "text/html": [
       "<div>\n",
       "<style scoped>\n",
       "    .dataframe tbody tr th:only-of-type {\n",
       "        vertical-align: middle;\n",
       "    }\n",
       "\n",
       "    .dataframe tbody tr th {\n",
       "        vertical-align: top;\n",
       "    }\n",
       "\n",
       "    .dataframe thead th {\n",
       "        text-align: right;\n",
       "    }\n",
       "</style>\n",
       "<table border=\"1\" class=\"dataframe\">\n",
       "  <thead>\n",
       "    <tr style=\"text-align: right;\">\n",
       "      <th></th>\n",
       "      <th>Unnamed: 0</th>\n",
       "      <th>uri</th>\n",
       "      <th>name</th>\n",
       "      <th>cost_text</th>\n",
       "      <th>type</th>\n",
       "      <th>school_title</th>\n",
       "      <th>school_distance</th>\n",
       "      <th>suburb_sold</th>\n",
       "      <th>suburb_avg_day</th>\n",
       "      <th>suburb_population</th>\n",
       "      <th>...</th>\n",
       "      <th>dist_nearest_secondary_school</th>\n",
       "      <th>Beds</th>\n",
       "      <th>Bath</th>\n",
       "      <th>Parking</th>\n",
       "      <th>SA2_CODE21</th>\n",
       "      <th>avg_income</th>\n",
       "      <th>Median_tot_fam_inc_weekly</th>\n",
       "      <th>Tot_P_P</th>\n",
       "      <th>Median_age_persons</th>\n",
       "      <th>Median_rent_weekly</th>\n",
       "    </tr>\n",
       "  </thead>\n",
       "  <tbody>\n",
       "    <tr>\n",
       "      <th>0</th>\n",
       "      <td>0</td>\n",
       "      <td>https://www.domain.com.au/1202-620-collins-str...</td>\n",
       "      <td>1202/620 Collins Street Melbourne VIC 3000</td>\n",
       "      <td>$500 per week</td>\n",
       "      <td>Apartment / Unit / Flat</td>\n",
       "      <td>University High School</td>\n",
       "      <td>2.4</td>\n",
       "      <td>596.0</td>\n",
       "      <td>147.0</td>\n",
       "      <td>47279.0</td>\n",
       "      <td>...</td>\n",
       "      <td>380.6</td>\n",
       "      <td>2.0</td>\n",
       "      <td>1.0</td>\n",
       "      <td>1</td>\n",
       "      <td>206041503</td>\n",
       "      <td>2035.430097</td>\n",
       "      <td>2248.0</td>\n",
       "      <td>9848.0</td>\n",
       "      <td>30.0</td>\n",
       "      <td>375.0</td>\n",
       "    </tr>\n",
       "    <tr>\n",
       "      <th>1</th>\n",
       "      <td>2</td>\n",
       "      <td>https://www.domain.com.au/5707b-639-little-lon...</td>\n",
       "      <td>5707B/639 Little Lonsdale Street Melbourne VIC...</td>\n",
       "      <td>$570</td>\n",
       "      <td>Apartment / Unit / Flat</td>\n",
       "      <td>University High School</td>\n",
       "      <td>1.9</td>\n",
       "      <td>387.0</td>\n",
       "      <td>120.0</td>\n",
       "      <td>47279.0</td>\n",
       "      <td>...</td>\n",
       "      <td>355.7</td>\n",
       "      <td>1.0</td>\n",
       "      <td>1.0</td>\n",
       "      <td>0</td>\n",
       "      <td>206041503</td>\n",
       "      <td>2035.430097</td>\n",
       "      <td>2248.0</td>\n",
       "      <td>9848.0</td>\n",
       "      <td>30.0</td>\n",
       "      <td>375.0</td>\n",
       "    </tr>\n",
       "    <tr>\n",
       "      <th>2</th>\n",
       "      <td>4</td>\n",
       "      <td>https://www.domain.com.au/1202-31-spring-stree...</td>\n",
       "      <td>1202/31 Spring Street Melbourne VIC 3000</td>\n",
       "      <td>$570.00</td>\n",
       "      <td>Apartment / Unit / Flat</td>\n",
       "      <td>Carlton Gardens Primary School</td>\n",
       "      <td>1.4</td>\n",
       "      <td>596.0</td>\n",
       "      <td>147.0</td>\n",
       "      <td>47279.0</td>\n",
       "      <td>...</td>\n",
       "      <td>703.0</td>\n",
       "      <td>2.0</td>\n",
       "      <td>1.0</td>\n",
       "      <td>1</td>\n",
       "      <td>206041503</td>\n",
       "      <td>2035.430097</td>\n",
       "      <td>2248.0</td>\n",
       "      <td>9848.0</td>\n",
       "      <td>30.0</td>\n",
       "      <td>375.0</td>\n",
       "    </tr>\n",
       "    <tr>\n",
       "      <th>3</th>\n",
       "      <td>5</td>\n",
       "      <td>https://www.domain.com.au/623-539-st-kilda-roa...</td>\n",
       "      <td>623/539 St Kilda Road Melbourne VIC 3000</td>\n",
       "      <td>$475 per week</td>\n",
       "      <td>Apartment / Unit / Flat</td>\n",
       "      <td>South Yarra Primary School</td>\n",
       "      <td>0.7</td>\n",
       "      <td>387.0</td>\n",
       "      <td>120.0</td>\n",
       "      <td>47279.0</td>\n",
       "      <td>...</td>\n",
       "      <td>584.0</td>\n",
       "      <td>1.0</td>\n",
       "      <td>1.0</td>\n",
       "      <td>1</td>\n",
       "      <td>206041503</td>\n",
       "      <td>2035.430097</td>\n",
       "      <td>2248.0</td>\n",
       "      <td>9848.0</td>\n",
       "      <td>30.0</td>\n",
       "      <td>375.0</td>\n",
       "    </tr>\n",
       "    <tr>\n",
       "      <th>4</th>\n",
       "      <td>6</td>\n",
       "      <td>https://www.domain.com.au/315-118-russell-stre...</td>\n",
       "      <td>315/118 Russell Street Melbourne VIC 3000</td>\n",
       "      <td>$550 per week</td>\n",
       "      <td>Apartment / Unit / Flat</td>\n",
       "      <td>Carlton Gardens Primary School</td>\n",
       "      <td>1.3</td>\n",
       "      <td>387.0</td>\n",
       "      <td>120.0</td>\n",
       "      <td>47279.0</td>\n",
       "      <td>...</td>\n",
       "      <td>497.6</td>\n",
       "      <td>1.0</td>\n",
       "      <td>1.0</td>\n",
       "      <td>0</td>\n",
       "      <td>206041503</td>\n",
       "      <td>2035.430097</td>\n",
       "      <td>2248.0</td>\n",
       "      <td>9848.0</td>\n",
       "      <td>30.0</td>\n",
       "      <td>375.0</td>\n",
       "    </tr>\n",
       "  </tbody>\n",
       "</table>\n",
       "<p>5 rows × 32 columns</p>\n",
       "</div>"
      ],
      "text/plain": [
       "   Unnamed: 0                                                uri  \\\n",
       "0           0  https://www.domain.com.au/1202-620-collins-str...   \n",
       "1           2  https://www.domain.com.au/5707b-639-little-lon...   \n",
       "2           4  https://www.domain.com.au/1202-31-spring-stree...   \n",
       "3           5  https://www.domain.com.au/623-539-st-kilda-roa...   \n",
       "4           6  https://www.domain.com.au/315-118-russell-stre...   \n",
       "\n",
       "                                                name      cost_text  \\\n",
       "0         1202/620 Collins Street Melbourne VIC 3000  $500 per week   \n",
       "1  5707B/639 Little Lonsdale Street Melbourne VIC...           $570   \n",
       "2           1202/31 Spring Street Melbourne VIC 3000        $570.00   \n",
       "3           623/539 St Kilda Road Melbourne VIC 3000  $475 per week   \n",
       "4          315/118 Russell Street Melbourne VIC 3000  $550 per week   \n",
       "\n",
       "                      type                    school_title  school_distance  \\\n",
       "0  Apartment / Unit / Flat          University High School              2.4   \n",
       "1  Apartment / Unit / Flat          University High School              1.9   \n",
       "2  Apartment / Unit / Flat  Carlton Gardens Primary School              1.4   \n",
       "3  Apartment / Unit / Flat      South Yarra Primary School              0.7   \n",
       "4  Apartment / Unit / Flat  Carlton Gardens Primary School              1.3   \n",
       "\n",
       "   suburb_sold  suburb_avg_day  suburb_population  ...  \\\n",
       "0        596.0           147.0            47279.0  ...   \n",
       "1        387.0           120.0            47279.0  ...   \n",
       "2        596.0           147.0            47279.0  ...   \n",
       "3        387.0           120.0            47279.0  ...   \n",
       "4        387.0           120.0            47279.0  ...   \n",
       "\n",
       "   dist_nearest_secondary_school  Beds  Bath  Parking  SA2_CODE21  \\\n",
       "0                          380.6   2.0   1.0        1   206041503   \n",
       "1                          355.7   1.0   1.0        0   206041503   \n",
       "2                          703.0   2.0   1.0        1   206041503   \n",
       "3                          584.0   1.0   1.0        1   206041503   \n",
       "4                          497.6   1.0   1.0        0   206041503   \n",
       "\n",
       "    avg_income Median_tot_fam_inc_weekly  Tot_P_P  Median_age_persons  \\\n",
       "0  2035.430097                    2248.0   9848.0                30.0   \n",
       "1  2035.430097                    2248.0   9848.0                30.0   \n",
       "2  2035.430097                    2248.0   9848.0                30.0   \n",
       "3  2035.430097                    2248.0   9848.0                30.0   \n",
       "4  2035.430097                    2248.0   9848.0                30.0   \n",
       "\n",
       "   Median_rent_weekly  \n",
       "0               375.0  \n",
       "1               375.0  \n",
       "2               375.0  \n",
       "3               375.0  \n",
       "4               375.0  \n",
       "\n",
       "[5 rows x 32 columns]"
      ]
     },
     "execution_count": 4,
     "metadata": {},
     "output_type": "execute_result"
    }
   ],
   "source": [
    "df.head()\n"
   ]
  },
  {
   "cell_type": "code",
   "execution_count": 5,
   "metadata": {},
   "outputs": [],
   "source": [
    "affortable_df = pd.DataFrame(df,columns=[\"postcode\",\"cost\",\"avg_income\"])"
   ]
  },
  {
   "cell_type": "code",
   "execution_count": 6,
   "metadata": {},
   "outputs": [],
   "source": [
    "affortable_df[\"cost_gap\"]=affortable_df[\"cost\"]/affortable_df[\"avg_income\"]"
   ]
  },
  {
   "cell_type": "code",
   "execution_count": 7,
   "metadata": {},
   "outputs": [
    {
     "data": {
      "text/html": [
       "<div>\n",
       "<style scoped>\n",
       "    .dataframe tbody tr th:only-of-type {\n",
       "        vertical-align: middle;\n",
       "    }\n",
       "\n",
       "    .dataframe tbody tr th {\n",
       "        vertical-align: top;\n",
       "    }\n",
       "\n",
       "    .dataframe thead th {\n",
       "        text-align: right;\n",
       "    }\n",
       "</style>\n",
       "<table border=\"1\" class=\"dataframe\">\n",
       "  <thead>\n",
       "    <tr style=\"text-align: right;\">\n",
       "      <th></th>\n",
       "      <th>postcode</th>\n",
       "      <th>cost</th>\n",
       "      <th>avg_income</th>\n",
       "      <th>cost_gap</th>\n",
       "    </tr>\n",
       "  </thead>\n",
       "  <tbody>\n",
       "    <tr>\n",
       "      <th>0</th>\n",
       "      <td>3000</td>\n",
       "      <td>500.0</td>\n",
       "      <td>2035.430097</td>\n",
       "      <td>0.245648</td>\n",
       "    </tr>\n",
       "    <tr>\n",
       "      <th>1</th>\n",
       "      <td>3000</td>\n",
       "      <td>570.0</td>\n",
       "      <td>2035.430097</td>\n",
       "      <td>0.280039</td>\n",
       "    </tr>\n",
       "    <tr>\n",
       "      <th>2</th>\n",
       "      <td>3000</td>\n",
       "      <td>570.0</td>\n",
       "      <td>2035.430097</td>\n",
       "      <td>0.280039</td>\n",
       "    </tr>\n",
       "    <tr>\n",
       "      <th>3</th>\n",
       "      <td>3000</td>\n",
       "      <td>475.0</td>\n",
       "      <td>2035.430097</td>\n",
       "      <td>0.233366</td>\n",
       "    </tr>\n",
       "    <tr>\n",
       "      <th>4</th>\n",
       "      <td>3000</td>\n",
       "      <td>550.0</td>\n",
       "      <td>2035.430097</td>\n",
       "      <td>0.270213</td>\n",
       "    </tr>\n",
       "  </tbody>\n",
       "</table>\n",
       "</div>"
      ],
      "text/plain": [
       "   postcode   cost   avg_income  cost_gap\n",
       "0      3000  500.0  2035.430097  0.245648\n",
       "1      3000  570.0  2035.430097  0.280039\n",
       "2      3000  570.0  2035.430097  0.280039\n",
       "3      3000  475.0  2035.430097  0.233366\n",
       "4      3000  550.0  2035.430097  0.270213"
      ]
     },
     "execution_count": 7,
     "metadata": {},
     "output_type": "execute_result"
    }
   ],
   "source": [
    "affortable_df.head()\n"
   ]
  },
  {
   "cell_type": "code",
   "execution_count": 8,
   "metadata": {},
   "outputs": [
    {
     "data": {
      "text/plain": [
       "(10158, 4)"
      ]
     },
     "execution_count": 8,
     "metadata": {},
     "output_type": "execute_result"
    }
   ],
   "source": [
    "affortable_df.shape"
   ]
  },
  {
   "cell_type": "code",
   "execution_count": 9,
   "metadata": {},
   "outputs": [
    {
     "data": {
      "text/plain": [
       "postcode        0\n",
       "cost            0\n",
       "avg_income    141\n",
       "cost_gap      141\n",
       "dtype: int64"
      ]
     },
     "execution_count": 9,
     "metadata": {},
     "output_type": "execute_result"
    }
   ],
   "source": [
    "affortable_df.isnull().sum()"
   ]
  },
  {
   "cell_type": "code",
   "execution_count": 10,
   "metadata": {},
   "outputs": [],
   "source": [
    "affortable_df.dropna(subset=['avg_income'], inplace=True)"
   ]
  },
  {
   "cell_type": "code",
   "execution_count": 11,
   "metadata": {},
   "outputs": [],
   "source": [
    "cost_gap_output= affortable_df.groupby(\"postcode\").agg({'cost_gap':'mean'})\n"
   ]
  },
  {
   "cell_type": "code",
   "execution_count": 12,
   "metadata": {},
   "outputs": [
    {
     "data": {
      "text/html": [
       "<div>\n",
       "<style scoped>\n",
       "    .dataframe tbody tr th:only-of-type {\n",
       "        vertical-align: middle;\n",
       "    }\n",
       "\n",
       "    .dataframe tbody tr th {\n",
       "        vertical-align: top;\n",
       "    }\n",
       "\n",
       "    .dataframe thead th {\n",
       "        text-align: right;\n",
       "    }\n",
       "</style>\n",
       "<table border=\"1\" class=\"dataframe\">\n",
       "  <thead>\n",
       "    <tr style=\"text-align: right;\">\n",
       "      <th></th>\n",
       "      <th>cost_gap</th>\n",
       "    </tr>\n",
       "    <tr>\n",
       "      <th>postcode</th>\n",
       "      <th></th>\n",
       "    </tr>\n",
       "  </thead>\n",
       "  <tbody>\n",
       "    <tr>\n",
       "      <th>3000</th>\n",
       "      <td>0.226212</td>\n",
       "    </tr>\n",
       "    <tr>\n",
       "      <th>3002</th>\n",
       "      <td>0.146635</td>\n",
       "    </tr>\n",
       "    <tr>\n",
       "      <th>3004</th>\n",
       "      <td>0.159437</td>\n",
       "    </tr>\n",
       "    <tr>\n",
       "      <th>3008</th>\n",
       "      <td>0.197724</td>\n",
       "    </tr>\n",
       "    <tr>\n",
       "      <th>3011</th>\n",
       "      <td>0.180597</td>\n",
       "    </tr>\n",
       "  </tbody>\n",
       "</table>\n",
       "</div>"
      ],
      "text/plain": [
       "          cost_gap\n",
       "postcode          \n",
       "3000      0.226212\n",
       "3002      0.146635\n",
       "3004      0.159437\n",
       "3008      0.197724\n",
       "3011      0.180597"
      ]
     },
     "execution_count": 12,
     "metadata": {},
     "output_type": "execute_result"
    }
   ],
   "source": [
    "cost_gap_output.head()"
   ]
  },
  {
   "cell_type": "code",
   "execution_count": 13,
   "metadata": {},
   "outputs": [
    {
     "name": "stdout",
     "output_type": "stream",
     "text": [
      "          cost_gap\n",
      "postcode          \n",
      "3125      0.109821\n",
      "3085      0.120141\n",
      "3737      0.126544\n",
      "3289      0.128827\n",
      "3331      0.133735\n",
      "3134      0.134924\n",
      "3144      0.135774\n",
      "3145      0.138427\n",
      "3122      0.138503\n",
      "3127      0.139452\n"
     ]
    }
   ],
   "source": [
    "print(cost_gap_output.sort_values(by=[\"cost_gap\"],ascending=True)[:10])"
   ]
  },
  {
   "cell_type": "code",
   "execution_count": 14,
   "metadata": {},
   "outputs": [
    {
     "name": "stdout",
     "output_type": "stream",
     "text": [
      "          cost_gap\n",
      "postcode          \n",
      "3858      0.550120\n",
      "3904      0.394804\n",
      "3965      0.342909\n",
      "3213      0.309285\n",
      "3631      0.303043\n",
      "3984      0.292961\n",
      "3324      0.292790\n",
      "3918      0.292274\n",
      "3779      0.290680\n",
      "3862      0.288469\n"
     ]
    }
   ],
   "source": [
    "print(cost_gap_output.sort_values(by=[\"cost_gap\"],ascending=False)[:10])"
   ]
  },
  {
   "cell_type": "code",
   "execution_count": 15,
   "metadata": {},
   "outputs": [],
   "source": [
    "cost_output= affortable_df.groupby(\"postcode\").agg({'cost':'mean'})"
   ]
  },
  {
   "cell_type": "code",
   "execution_count": 16,
   "metadata": {},
   "outputs": [
    {
     "data": {
      "text/html": [
       "<div>\n",
       "<style scoped>\n",
       "    .dataframe tbody tr th:only-of-type {\n",
       "        vertical-align: middle;\n",
       "    }\n",
       "\n",
       "    .dataframe tbody tr th {\n",
       "        vertical-align: top;\n",
       "    }\n",
       "\n",
       "    .dataframe thead th {\n",
       "        text-align: right;\n",
       "    }\n",
       "</style>\n",
       "<table border=\"1\" class=\"dataframe\">\n",
       "  <thead>\n",
       "    <tr style=\"text-align: right;\">\n",
       "      <th></th>\n",
       "      <th>cost</th>\n",
       "    </tr>\n",
       "    <tr>\n",
       "      <th>postcode</th>\n",
       "      <th></th>\n",
       "    </tr>\n",
       "  </thead>\n",
       "  <tbody>\n",
       "    <tr>\n",
       "      <th>3000</th>\n",
       "      <td>460.439216</td>\n",
       "    </tr>\n",
       "    <tr>\n",
       "      <th>3002</th>\n",
       "      <td>438.421053</td>\n",
       "    </tr>\n",
       "    <tr>\n",
       "      <th>3004</th>\n",
       "      <td>456.125000</td>\n",
       "    </tr>\n",
       "    <tr>\n",
       "      <th>3008</th>\n",
       "      <td>482.244898</td>\n",
       "    </tr>\n",
       "    <tr>\n",
       "      <th>3011</th>\n",
       "      <td>387.425926</td>\n",
       "    </tr>\n",
       "  </tbody>\n",
       "</table>\n",
       "</div>"
      ],
      "text/plain": [
       "                cost\n",
       "postcode            \n",
       "3000      460.439216\n",
       "3002      438.421053\n",
       "3004      456.125000\n",
       "3008      482.244898\n",
       "3011      387.425926"
      ]
     },
     "execution_count": 16,
     "metadata": {},
     "output_type": "execute_result"
    }
   ],
   "source": [
    "cost_output.head()"
   ]
  },
  {
   "cell_type": "code",
   "execution_count": 17,
   "metadata": {},
   "outputs": [
    {
     "name": "stdout",
     "output_type": "stream",
     "text": [
      "                cost\n",
      "postcode            \n",
      "3537      227.500000\n",
      "3289      230.000000\n",
      "3737      230.500000\n",
      "3414      240.000000\n",
      "3373      240.000000\n",
      "3233      250.000000\n",
      "3505      270.000000\n",
      "3579      275.000000\n",
      "3585      275.000000\n",
      "3396      280.000000\n",
      "3616      290.000000\n",
      "3085      293.421053\n",
      "3465      299.000000\n",
      "3315      300.000000\n",
      "3717      300.000000\n",
      "3620      300.000000\n",
      "3903      310.000000\n",
      "3851      316.666667\n",
      "3741      320.000000\n",
      "3300      323.750000\n"
     ]
    }
   ],
   "source": [
    "print(cost_output.sort_values(by=[\"cost\"],ascending=True)[:20])"
   ]
  },
  {
   "cell_type": "code",
   "execution_count": 18,
   "metadata": {},
   "outputs": [
    {
     "name": "stdout",
     "output_type": "stream",
     "text": [
      "                cost\n",
      "postcode            \n",
      "3904      557.500000\n",
      "3854      550.000000\n",
      "3815      550.000000\n",
      "3321      550.000000\n",
      "3965      540.000000\n",
      "3113      540.000000\n",
      "3918      535.000000\n",
      "3926      530.000000\n",
      "3227      522.500000\n",
      "3179      510.000000\n",
      "3116      510.000000\n",
      "3225      503.333333\n",
      "3187      501.875000\n",
      "3107      497.777778\n",
      "3217      496.066667\n",
      "3435      495.000000\n",
      "3150      493.829787\n",
      "3212      491.923077\n",
      "3178      490.416667\n",
      "3213      490.000000\n"
     ]
    }
   ],
   "source": [
    "print(cost_output.sort_values(by=[\"cost\"],ascending=False)[:20])"
   ]
  },
  {
   "cell_type": "code",
   "execution_count": 19,
   "metadata": {},
   "outputs": [],
   "source": [
    "df_2 = pd.read_csv(\"../data/curated/MainHospitalList (1).csv\")"
   ]
  },
  {
   "cell_type": "code",
   "execution_count": 20,
   "metadata": {},
   "outputs": [
    {
     "data": {
      "text/html": [
       "<div>\n",
       "<style scoped>\n",
       "    .dataframe tbody tr th:only-of-type {\n",
       "        vertical-align: middle;\n",
       "    }\n",
       "\n",
       "    .dataframe tbody tr th {\n",
       "        vertical-align: top;\n",
       "    }\n",
       "\n",
       "    .dataframe thead th {\n",
       "        text-align: right;\n",
       "    }\n",
       "</style>\n",
       "<table border=\"1\" class=\"dataframe\">\n",
       "  <thead>\n",
       "    <tr style=\"text-align: right;\">\n",
       "      <th></th>\n",
       "      <th>Hospital ID</th>\n",
       "      <th>Formal Name</th>\n",
       "      <th>Other Name</th>\n",
       "      <th>Emergency Capable</th>\n",
       "      <th>Location Address</th>\n",
       "      <th>Suburb</th>\n",
       "      <th>Postcode</th>\n",
       "      <th>Access Point</th>\n",
       "      <th>Category</th>\n",
       "      <th>Agency Type</th>\n",
       "    </tr>\n",
       "  </thead>\n",
       "  <tbody>\n",
       "    <tr>\n",
       "      <th>0</th>\n",
       "      <td>5488</td>\n",
       "      <td>Albert Road Clinic</td>\n",
       "      <td>Albert Road Clinic</td>\n",
       "      <td>NO</td>\n",
       "      <td>31-33 Albert Road</td>\n",
       "      <td>South Melbourne</td>\n",
       "      <td>3205</td>\n",
       "      <td>NaN</td>\n",
       "      <td>PRIVATE</td>\n",
       "      <td>Private Hospital</td>\n",
       "    </tr>\n",
       "    <tr>\n",
       "      <th>1</th>\n",
       "      <td>3485</td>\n",
       "      <td>Albury Wodonga Health</td>\n",
       "      <td>Albury Wodonga Health</td>\n",
       "      <td>YES</td>\n",
       "      <td>69 Vermont Street</td>\n",
       "      <td>Wodonga</td>\n",
       "      <td>3690</td>\n",
       "      <td>NaN</td>\n",
       "      <td>PUBLIC</td>\n",
       "      <td>Public Hospital</td>\n",
       "    </tr>\n",
       "    <tr>\n",
       "      <th>2</th>\n",
       "      <td>12990</td>\n",
       "      <td>Albury Wodonga Health, Albury Campus</td>\n",
       "      <td>Albury Wodonga Health, Albury Campus</td>\n",
       "      <td>YES</td>\n",
       "      <td>Borella</td>\n",
       "      <td>Albury</td>\n",
       "      <td>2640</td>\n",
       "      <td>NaN</td>\n",
       "      <td>PUBLIC</td>\n",
       "      <td>Public Hospital</td>\n",
       "    </tr>\n",
       "    <tr>\n",
       "      <th>3</th>\n",
       "      <td>3491</td>\n",
       "      <td>Alexandra District Health</td>\n",
       "      <td>Alexandra District Health</td>\n",
       "      <td>NO</td>\n",
       "      <td>20 Cooper Street</td>\n",
       "      <td>Alexandra</td>\n",
       "      <td>3714</td>\n",
       "      <td>NaN</td>\n",
       "      <td>PUBLIC</td>\n",
       "      <td>Public Hospital</td>\n",
       "    </tr>\n",
       "    <tr>\n",
       "      <th>4</th>\n",
       "      <td>11519</td>\n",
       "      <td>Alfred Health</td>\n",
       "      <td>Alfred Health</td>\n",
       "      <td>NO</td>\n",
       "      <td>Commercial Road</td>\n",
       "      <td>Melbourne</td>\n",
       "      <td>3004</td>\n",
       "      <td>NaN</td>\n",
       "      <td>PUBLIC</td>\n",
       "      <td>Public Hospital</td>\n",
       "    </tr>\n",
       "  </tbody>\n",
       "</table>\n",
       "</div>"
      ],
      "text/plain": [
       "   Hospital ID                           Formal Name  \\\n",
       "0         5488                    Albert Road Clinic   \n",
       "1         3485                 Albury Wodonga Health   \n",
       "2        12990  Albury Wodonga Health, Albury Campus   \n",
       "3         3491             Alexandra District Health   \n",
       "4        11519                         Alfred Health   \n",
       "\n",
       "                             Other Name Emergency Capable   Location Address  \\\n",
       "0                    Albert Road Clinic                NO  31-33 Albert Road   \n",
       "1                 Albury Wodonga Health               YES  69 Vermont Street   \n",
       "2  Albury Wodonga Health, Albury Campus               YES            Borella   \n",
       "3             Alexandra District Health                NO   20 Cooper Street   \n",
       "4                         Alfred Health                NO    Commercial Road   \n",
       "\n",
       "            Suburb  Postcode  Access Point Category       Agency Type  \n",
       "0  South Melbourne      3205           NaN  PRIVATE  Private Hospital  \n",
       "1          Wodonga      3690           NaN   PUBLIC   Public Hospital  \n",
       "2           Albury      2640           NaN   PUBLIC   Public Hospital  \n",
       "3        Alexandra      3714           NaN   PUBLIC   Public Hospital  \n",
       "4        Melbourne      3004           NaN   PUBLIC   Public Hospital  "
      ]
     },
     "execution_count": 20,
     "metadata": {},
     "output_type": "execute_result"
    }
   ],
   "source": [
    "df_2.head()"
   ]
  },
  {
   "cell_type": "code",
   "execution_count": 21,
   "metadata": {},
   "outputs": [],
   "source": [
    "hospital_count = df_2.loc[:,\"Postcode\"].value_counts().rename_axis('postcode').reset_index(name='count')"
   ]
  },
  {
   "cell_type": "code",
   "execution_count": 22,
   "metadata": {},
   "outputs": [
    {
     "data": {
      "text/html": [
       "<div>\n",
       "<style scoped>\n",
       "    .dataframe tbody tr th:only-of-type {\n",
       "        vertical-align: middle;\n",
       "    }\n",
       "\n",
       "    .dataframe tbody tr th {\n",
       "        vertical-align: top;\n",
       "    }\n",
       "\n",
       "    .dataframe thead th {\n",
       "        text-align: right;\n",
       "    }\n",
       "</style>\n",
       "<table border=\"1\" class=\"dataframe\">\n",
       "  <thead>\n",
       "    <tr style=\"text-align: right;\">\n",
       "      <th></th>\n",
       "      <th>postcode</th>\n",
       "      <th>count</th>\n",
       "    </tr>\n",
       "  </thead>\n",
       "  <tbody>\n",
       "    <tr>\n",
       "      <th>0</th>\n",
       "      <td>3199</td>\n",
       "      <td>8</td>\n",
       "    </tr>\n",
       "    <tr>\n",
       "      <th>1</th>\n",
       "      <td>3002</td>\n",
       "      <td>7</td>\n",
       "    </tr>\n",
       "    <tr>\n",
       "      <th>2</th>\n",
       "      <td>3168</td>\n",
       "      <td>6</td>\n",
       "    </tr>\n",
       "    <tr>\n",
       "      <th>3</th>\n",
       "      <td>3011</td>\n",
       "      <td>6</td>\n",
       "    </tr>\n",
       "    <tr>\n",
       "      <th>4</th>\n",
       "      <td>3101</td>\n",
       "      <td>6</td>\n",
       "    </tr>\n",
       "  </tbody>\n",
       "</table>\n",
       "</div>"
      ],
      "text/plain": [
       "   postcode  count\n",
       "0      3199      8\n",
       "1      3002      7\n",
       "2      3168      6\n",
       "3      3011      6\n",
       "4      3101      6"
      ]
     },
     "execution_count": 22,
     "metadata": {},
     "output_type": "execute_result"
    }
   ],
   "source": [
    "hospital_count.head()"
   ]
  },
  {
   "cell_type": "code",
   "execution_count": 23,
   "metadata": {},
   "outputs": [],
   "source": [
    "df_3 = pd.read_csv(\"../data/curated/dv309_schoollocations2021.csv\", encoding='cp1252')"
   ]
  },
  {
   "cell_type": "code",
   "execution_count": 24,
   "metadata": {},
   "outputs": [
    {
     "data": {
      "text/html": [
       "<div>\n",
       "<style scoped>\n",
       "    .dataframe tbody tr th:only-of-type {\n",
       "        vertical-align: middle;\n",
       "    }\n",
       "\n",
       "    .dataframe tbody tr th {\n",
       "        vertical-align: top;\n",
       "    }\n",
       "\n",
       "    .dataframe thead th {\n",
       "        text-align: right;\n",
       "    }\n",
       "</style>\n",
       "<table border=\"1\" class=\"dataframe\">\n",
       "  <thead>\n",
       "    <tr style=\"text-align: right;\">\n",
       "      <th></th>\n",
       "      <th>Education_Sector</th>\n",
       "      <th>Entity_Type</th>\n",
       "      <th>SCHOOL_NO</th>\n",
       "      <th>School_Name</th>\n",
       "      <th>School_Type</th>\n",
       "      <th>School_Status</th>\n",
       "      <th>Address_Line_1</th>\n",
       "      <th>Address_Line_2</th>\n",
       "      <th>Address_Town</th>\n",
       "      <th>Address_State</th>\n",
       "      <th>...</th>\n",
       "      <th>Postal_Address_Line_1</th>\n",
       "      <th>Postal_Address_Line_2</th>\n",
       "      <th>Postal_Town</th>\n",
       "      <th>Postal_State</th>\n",
       "      <th>Postal_Postcode</th>\n",
       "      <th>Full_Phone_No</th>\n",
       "      <th>LGA_ID</th>\n",
       "      <th>LGA_Name</th>\n",
       "      <th>X</th>\n",
       "      <th>Y</th>\n",
       "    </tr>\n",
       "  </thead>\n",
       "  <tbody>\n",
       "    <tr>\n",
       "      <th>0</th>\n",
       "      <td>Government</td>\n",
       "      <td>1</td>\n",
       "      <td>1</td>\n",
       "      <td>Alberton Primary School</td>\n",
       "      <td>Primary</td>\n",
       "      <td>O</td>\n",
       "      <td>21 Thomson Street</td>\n",
       "      <td>NaN</td>\n",
       "      <td>Alberton</td>\n",
       "      <td>VIC</td>\n",
       "      <td>...</td>\n",
       "      <td>21 Thomson Street</td>\n",
       "      <td>NaN</td>\n",
       "      <td>ALBERTON</td>\n",
       "      <td>VIC</td>\n",
       "      <td>3971</td>\n",
       "      <td>03 5183 2412</td>\n",
       "      <td>681</td>\n",
       "      <td>Wellington (S)</td>\n",
       "      <td>146.666601</td>\n",
       "      <td>-38.617713</td>\n",
       "    </tr>\n",
       "    <tr>\n",
       "      <th>1</th>\n",
       "      <td>Government</td>\n",
       "      <td>1</td>\n",
       "      <td>3</td>\n",
       "      <td>Allansford and District Primary School</td>\n",
       "      <td>Primary</td>\n",
       "      <td>O</td>\n",
       "      <td>Frank Street</td>\n",
       "      <td>NaN</td>\n",
       "      <td>Allansford</td>\n",
       "      <td>VIC</td>\n",
       "      <td>...</td>\n",
       "      <td>Frank Street</td>\n",
       "      <td>NaN</td>\n",
       "      <td>ALLANSFORD</td>\n",
       "      <td>VIC</td>\n",
       "      <td>3277</td>\n",
       "      <td>03 5565 1382</td>\n",
       "      <td>673</td>\n",
       "      <td>Warrnambool (C)</td>\n",
       "      <td>142.590393</td>\n",
       "      <td>-38.386281</td>\n",
       "    </tr>\n",
       "    <tr>\n",
       "      <th>2</th>\n",
       "      <td>Government</td>\n",
       "      <td>1</td>\n",
       "      <td>4</td>\n",
       "      <td>Avoca Primary School</td>\n",
       "      <td>Primary</td>\n",
       "      <td>O</td>\n",
       "      <td>118 Barnett Street</td>\n",
       "      <td>NaN</td>\n",
       "      <td>Avoca</td>\n",
       "      <td>VIC</td>\n",
       "      <td>...</td>\n",
       "      <td>P O Box 12</td>\n",
       "      <td>NaN</td>\n",
       "      <td>AVOCA</td>\n",
       "      <td>VIC</td>\n",
       "      <td>3467</td>\n",
       "      <td>03 5465 3176</td>\n",
       "      <td>599</td>\n",
       "      <td>Pyrenees (S)</td>\n",
       "      <td>143.475649</td>\n",
       "      <td>-37.084502</td>\n",
       "    </tr>\n",
       "    <tr>\n",
       "      <th>3</th>\n",
       "      <td>Government</td>\n",
       "      <td>1</td>\n",
       "      <td>8</td>\n",
       "      <td>Avenel Primary School</td>\n",
       "      <td>Primary</td>\n",
       "      <td>O</td>\n",
       "      <td>40 Anderson Street</td>\n",
       "      <td>NaN</td>\n",
       "      <td>Avenel</td>\n",
       "      <td>VIC</td>\n",
       "      <td>...</td>\n",
       "      <td>40 Anderson Street</td>\n",
       "      <td>NaN</td>\n",
       "      <td>AVENEL</td>\n",
       "      <td>VIC</td>\n",
       "      <td>3664</td>\n",
       "      <td>03 5796 2264</td>\n",
       "      <td>643</td>\n",
       "      <td>Strathbogie (S)</td>\n",
       "      <td>145.234722</td>\n",
       "      <td>-36.901368</td>\n",
       "    </tr>\n",
       "    <tr>\n",
       "      <th>4</th>\n",
       "      <td>Government</td>\n",
       "      <td>1</td>\n",
       "      <td>12</td>\n",
       "      <td>Warrandyte Primary School</td>\n",
       "      <td>Primary</td>\n",
       "      <td>O</td>\n",
       "      <td>5-11 Forbes Street</td>\n",
       "      <td>NaN</td>\n",
       "      <td>Warrandyte</td>\n",
       "      <td>VIC</td>\n",
       "      <td>...</td>\n",
       "      <td>5-11 Forbes Street</td>\n",
       "      <td>NaN</td>\n",
       "      <td>WARRANDYTE</td>\n",
       "      <td>VIC</td>\n",
       "      <td>3113</td>\n",
       "      <td>03 9844 3537</td>\n",
       "      <td>421</td>\n",
       "      <td>Manningham (C)</td>\n",
       "      <td>145.213980</td>\n",
       "      <td>-37.742675</td>\n",
       "    </tr>\n",
       "  </tbody>\n",
       "</table>\n",
       "<p>5 rows × 21 columns</p>\n",
       "</div>"
      ],
      "text/plain": [
       "  Education_Sector  Entity_Type  SCHOOL_NO  \\\n",
       "0       Government            1          1   \n",
       "1       Government            1          3   \n",
       "2       Government            1          4   \n",
       "3       Government            1          8   \n",
       "4       Government            1         12   \n",
       "\n",
       "                              School_Name School_Type School_Status  \\\n",
       "0                 Alberton Primary School     Primary             O   \n",
       "1  Allansford and District Primary School     Primary             O   \n",
       "2                    Avoca Primary School     Primary             O   \n",
       "3                   Avenel Primary School     Primary             O   \n",
       "4               Warrandyte Primary School     Primary             O   \n",
       "\n",
       "       Address_Line_1 Address_Line_2 Address_Town Address_State  ...  \\\n",
       "0   21 Thomson Street            NaN     Alberton           VIC  ...   \n",
       "1        Frank Street            NaN   Allansford           VIC  ...   \n",
       "2  118 Barnett Street            NaN        Avoca           VIC  ...   \n",
       "3  40 Anderson Street            NaN       Avenel           VIC  ...   \n",
       "4  5-11 Forbes Street            NaN   Warrandyte           VIC  ...   \n",
       "\n",
       "   Postal_Address_Line_1 Postal_Address_Line_2 Postal_Town Postal_State  \\\n",
       "0      21 Thomson Street                   NaN    ALBERTON          VIC   \n",
       "1           Frank Street                   NaN  ALLANSFORD          VIC   \n",
       "2             P O Box 12                   NaN       AVOCA          VIC   \n",
       "3     40 Anderson Street                   NaN      AVENEL          VIC   \n",
       "4     5-11 Forbes Street                   NaN  WARRANDYTE          VIC   \n",
       "\n",
       "  Postal_Postcode  Full_Phone_No LGA_ID         LGA_Name           X  \\\n",
       "0            3971   03 5183 2412    681   Wellington (S)  146.666601   \n",
       "1            3277   03 5565 1382    673  Warrnambool (C)  142.590393   \n",
       "2            3467   03 5465 3176    599     Pyrenees (S)  143.475649   \n",
       "3            3664   03 5796 2264    643  Strathbogie (S)  145.234722   \n",
       "4            3113   03 9844 3537    421   Manningham (C)  145.213980   \n",
       "\n",
       "           Y  \n",
       "0 -38.617713  \n",
       "1 -38.386281  \n",
       "2 -37.084502  \n",
       "3 -36.901368  \n",
       "4 -37.742675  \n",
       "\n",
       "[5 rows x 21 columns]"
      ]
     },
     "execution_count": 24,
     "metadata": {},
     "output_type": "execute_result"
    }
   ],
   "source": [
    "df_3.head()"
   ]
  },
  {
   "cell_type": "code",
   "execution_count": 25,
   "metadata": {},
   "outputs": [],
   "source": [
    "school_count = df_3.loc[:,\"Postal_Postcode\"].value_counts().rename_axis('postcode').reset_index(name='count')"
   ]
  },
  {
   "cell_type": "code",
   "execution_count": 26,
   "metadata": {},
   "outputs": [
    {
     "data": {
      "text/html": [
       "<div>\n",
       "<style scoped>\n",
       "    .dataframe tbody tr th:only-of-type {\n",
       "        vertical-align: middle;\n",
       "    }\n",
       "\n",
       "    .dataframe tbody tr th {\n",
       "        vertical-align: top;\n",
       "    }\n",
       "\n",
       "    .dataframe thead th {\n",
       "        text-align: right;\n",
       "    }\n",
       "</style>\n",
       "<table border=\"1\" class=\"dataframe\">\n",
       "  <thead>\n",
       "    <tr style=\"text-align: right;\">\n",
       "      <th></th>\n",
       "      <th>postcode</th>\n",
       "      <th>count</th>\n",
       "    </tr>\n",
       "  </thead>\n",
       "  <tbody>\n",
       "    <tr>\n",
       "      <th>0</th>\n",
       "      <td>3030</td>\n",
       "      <td>33</td>\n",
       "    </tr>\n",
       "    <tr>\n",
       "      <th>1</th>\n",
       "      <td>3350</td>\n",
       "      <td>25</td>\n",
       "    </tr>\n",
       "    <tr>\n",
       "      <th>2</th>\n",
       "      <td>3977</td>\n",
       "      <td>23</td>\n",
       "    </tr>\n",
       "    <tr>\n",
       "      <th>3</th>\n",
       "      <td>3029</td>\n",
       "      <td>21</td>\n",
       "    </tr>\n",
       "    <tr>\n",
       "      <th>4</th>\n",
       "      <td>3150</td>\n",
       "      <td>21</td>\n",
       "    </tr>\n",
       "  </tbody>\n",
       "</table>\n",
       "</div>"
      ],
      "text/plain": [
       "   postcode  count\n",
       "0      3030     33\n",
       "1      3350     25\n",
       "2      3977     23\n",
       "3      3029     21\n",
       "4      3150     21"
      ]
     },
     "execution_count": 26,
     "metadata": {},
     "output_type": "execute_result"
    }
   ],
   "source": [
    "school_count.head()"
   ]
  },
  {
   "cell_type": "code",
   "execution_count": 27,
   "metadata": {},
   "outputs": [],
   "source": [
    "bus_df = pd.DataFrame(df,columns=[\"postcode\",\"dist_nearest_busstop\"])\n",
    "train_df=pd.DataFrame(df,columns=[\"postcode\",\"dist_nearest_trainstation\"])"
   ]
  },
  {
   "cell_type": "code",
   "execution_count": 28,
   "metadata": {},
   "outputs": [
    {
     "data": {
      "text/plain": [
       "postcode                0\n",
       "dist_nearest_busstop    0\n",
       "dtype: int64"
      ]
     },
     "execution_count": 28,
     "metadata": {},
     "output_type": "execute_result"
    }
   ],
   "source": [
    "bus_df.isnull().sum()"
   ]
  },
  {
   "cell_type": "code",
   "execution_count": 29,
   "metadata": {},
   "outputs": [
    {
     "data": {
      "text/plain": [
       "postcode                     0\n",
       "dist_nearest_trainstation    0\n",
       "dtype: int64"
      ]
     },
     "execution_count": 29,
     "metadata": {},
     "output_type": "execute_result"
    }
   ],
   "source": [
    "train_df.isnull().sum()"
   ]
  },
  {
   "cell_type": "code",
   "execution_count": 30,
   "metadata": {},
   "outputs": [],
   "source": [
    "bus_output= bus_df.groupby(\"postcode\").agg({'dist_nearest_busstop':'mean'})\n",
    "train_output = train_df.groupby(\"postcode\").agg({'dist_nearest_trainstation':'mean'})"
   ]
  },
  {
   "cell_type": "code",
   "execution_count": 31,
   "metadata": {},
   "outputs": [
    {
     "data": {
      "text/html": [
       "<div>\n",
       "<style scoped>\n",
       "    .dataframe tbody tr th:only-of-type {\n",
       "        vertical-align: middle;\n",
       "    }\n",
       "\n",
       "    .dataframe tbody tr th {\n",
       "        vertical-align: top;\n",
       "    }\n",
       "\n",
       "    .dataframe thead th {\n",
       "        text-align: right;\n",
       "    }\n",
       "</style>\n",
       "<table border=\"1\" class=\"dataframe\">\n",
       "  <thead>\n",
       "    <tr style=\"text-align: right;\">\n",
       "      <th></th>\n",
       "      <th>dist_nearest_busstop</th>\n",
       "    </tr>\n",
       "    <tr>\n",
       "      <th>postcode</th>\n",
       "      <th></th>\n",
       "    </tr>\n",
       "  </thead>\n",
       "  <tbody>\n",
       "    <tr>\n",
       "      <th>3000</th>\n",
       "      <td>339.496471</td>\n",
       "    </tr>\n",
       "    <tr>\n",
       "      <th>3002</th>\n",
       "      <td>445.300000</td>\n",
       "    </tr>\n",
       "    <tr>\n",
       "      <th>3003</th>\n",
       "      <td>173.639474</td>\n",
       "    </tr>\n",
       "    <tr>\n",
       "      <th>3004</th>\n",
       "      <td>634.430000</td>\n",
       "    </tr>\n",
       "    <tr>\n",
       "      <th>3006</th>\n",
       "      <td>458.680208</td>\n",
       "    </tr>\n",
       "  </tbody>\n",
       "</table>\n",
       "</div>"
      ],
      "text/plain": [
       "          dist_nearest_busstop\n",
       "postcode                      \n",
       "3000                339.496471\n",
       "3002                445.300000\n",
       "3003                173.639474\n",
       "3004                634.430000\n",
       "3006                458.680208"
      ]
     },
     "execution_count": 31,
     "metadata": {},
     "output_type": "execute_result"
    }
   ],
   "source": [
    "bus_output.head()"
   ]
  },
  {
   "cell_type": "code",
   "execution_count": 32,
   "metadata": {},
   "outputs": [
    {
     "data": {
      "text/html": [
       "<div>\n",
       "<style scoped>\n",
       "    .dataframe tbody tr th:only-of-type {\n",
       "        vertical-align: middle;\n",
       "    }\n",
       "\n",
       "    .dataframe tbody tr th {\n",
       "        vertical-align: top;\n",
       "    }\n",
       "\n",
       "    .dataframe thead th {\n",
       "        text-align: right;\n",
       "    }\n",
       "</style>\n",
       "<table border=\"1\" class=\"dataframe\">\n",
       "  <thead>\n",
       "    <tr style=\"text-align: right;\">\n",
       "      <th></th>\n",
       "      <th>dist_nearest_trainstation</th>\n",
       "    </tr>\n",
       "    <tr>\n",
       "      <th>postcode</th>\n",
       "      <th></th>\n",
       "    </tr>\n",
       "  </thead>\n",
       "  <tbody>\n",
       "    <tr>\n",
       "      <th>3000</th>\n",
       "      <td>727.642353</td>\n",
       "    </tr>\n",
       "    <tr>\n",
       "      <th>3002</th>\n",
       "      <td>819.889474</td>\n",
       "    </tr>\n",
       "    <tr>\n",
       "      <th>3003</th>\n",
       "      <td>705.686842</td>\n",
       "    </tr>\n",
       "    <tr>\n",
       "      <th>3004</th>\n",
       "      <td>1505.120000</td>\n",
       "    </tr>\n",
       "    <tr>\n",
       "      <th>3006</th>\n",
       "      <td>1521.578125</td>\n",
       "    </tr>\n",
       "  </tbody>\n",
       "</table>\n",
       "</div>"
      ],
      "text/plain": [
       "          dist_nearest_trainstation\n",
       "postcode                           \n",
       "3000                     727.642353\n",
       "3002                     819.889474\n",
       "3003                     705.686842\n",
       "3004                    1505.120000\n",
       "3006                    1521.578125"
      ]
     },
     "execution_count": 32,
     "metadata": {},
     "output_type": "execute_result"
    }
   ],
   "source": [
    "train_output.head()"
   ]
  },
  {
   "cell_type": "code",
   "execution_count": 39,
   "metadata": {},
   "outputs": [
    {
     "data": {
      "text/html": [
       "<div>\n",
       "<style scoped>\n",
       "    .dataframe tbody tr th:only-of-type {\n",
       "        vertical-align: middle;\n",
       "    }\n",
       "\n",
       "    .dataframe tbody tr th {\n",
       "        vertical-align: top;\n",
       "    }\n",
       "\n",
       "    .dataframe thead th {\n",
       "        text-align: right;\n",
       "    }\n",
       "</style>\n",
       "<table border=\"1\" class=\"dataframe\">\n",
       "  <thead>\n",
       "    <tr style=\"text-align: right;\">\n",
       "      <th></th>\n",
       "      <th>dist_nearest_busstop</th>\n",
       "    </tr>\n",
       "    <tr>\n",
       "      <th>postcode</th>\n",
       "      <th></th>\n",
       "    </tr>\n",
       "  </thead>\n",
       "  <tbody>\n",
       "    <tr>\n",
       "      <th>3450</th>\n",
       "      <td>14.500000</td>\n",
       "    </tr>\n",
       "    <tr>\n",
       "      <th>3289</th>\n",
       "      <td>101.200000</td>\n",
       "    </tr>\n",
       "    <tr>\n",
       "      <th>3085</th>\n",
       "      <td>126.563158</td>\n",
       "    </tr>\n",
       "    <tr>\n",
       "      <th>3193</th>\n",
       "      <td>134.866667</td>\n",
       "    </tr>\n",
       "    <tr>\n",
       "      <th>3191</th>\n",
       "      <td>143.892308</td>\n",
       "    </tr>\n",
       "    <tr>\n",
       "      <th>3036</th>\n",
       "      <td>157.200000</td>\n",
       "    </tr>\n",
       "    <tr>\n",
       "      <th>3197</th>\n",
       "      <td>158.000000</td>\n",
       "    </tr>\n",
       "    <tr>\n",
       "      <th>3465</th>\n",
       "      <td>161.460000</td>\n",
       "    </tr>\n",
       "    <tr>\n",
       "      <th>3078</th>\n",
       "      <td>161.733333</td>\n",
       "    </tr>\n",
       "    <tr>\n",
       "      <th>3180</th>\n",
       "      <td>163.500000</td>\n",
       "    </tr>\n",
       "  </tbody>\n",
       "</table>\n",
       "</div>"
      ],
      "text/plain": [
       "          dist_nearest_busstop\n",
       "postcode                      \n",
       "3450                 14.500000\n",
       "3289                101.200000\n",
       "3085                126.563158\n",
       "3193                134.866667\n",
       "3191                143.892308\n",
       "3036                157.200000\n",
       "3197                158.000000\n",
       "3465                161.460000\n",
       "3078                161.733333\n",
       "3180                163.500000"
      ]
     },
     "execution_count": 39,
     "metadata": {},
     "output_type": "execute_result"
    }
   ],
   "source": [
    "train_output.sort_values(by=[\"dist_nearest_trainstation\"],ascending=True)[:10]\n",
    "bus_output.sort_values(by=[\"dist_nearest_busstop\"],ascending=True)[:10]\n"
   ]
  },
  {
   "cell_type": "code",
   "execution_count": 43,
   "metadata": {},
   "outputs": [
    {
     "data": {
      "text/plain": [
       "<function matplotlib.pyplot.show(close=None, block=None)>"
      ]
     },
     "execution_count": 43,
     "metadata": {},
     "output_type": "execute_result"
    },
    {
     "data": {
      "image/png": "[encoded data removed]",
      "text/plain": [
       "<Figure size 432x288 with 1 Axes>"
      ]
     },
     "metadata": {
      "needs_background": "light"
     },
     "output_type": "display_data"
    }
   ],
   "source": [
    "plt.hist(bus_output,bins = bus_output.shape[0])\n",
    "plt.show"
   ]
  },
  {
   "cell_type": "code",
   "execution_count": 44,
   "metadata": {},
   "outputs": [
    {
     "data": {
      "text/plain": [
       "<function matplotlib.pyplot.show(close=None, block=None)>"
      ]
     },
     "execution_count": 44,
     "metadata": {},
     "output_type": "execute_result"
    },
    {
     "data": {
      "image/png": "[encoded data removed]",
      "text/plain": [
       "<Figure size 432x288 with 1 Axes>"
      ]
     },
     "metadata": {
      "needs_background": "light"
     },
     "output_type": "display_data"
    }
   ],
   "source": [
    "plt.hist(train_output,bins = train_output.shape[0])\n",
    "plt.show"
   ]
  },
  {
   "cell_type": "code",
   "execution_count": 58,
   "metadata": {},
   "outputs": [],
   "source": [
    "train_df_clean=train_df.drop(train_df[train_df[\"dist_nearest_trainstation\"]>5000].index)\n",
    "bus_df_clean=bus_df.drop(bus_df[bus_df[\"dist_nearest_busstop\"]>2000].index)"
   ]
  },
  {
   "cell_type": "code",
   "execution_count": 59,
   "metadata": {},
   "outputs": [
    {
     "data": {
      "text/plain": [
       "<function matplotlib.pyplot.show(close=None, block=None)>"
      ]
     },
     "execution_count": 59,
     "metadata": {},
     "output_type": "execute_result"
    },
    {
     "data": {
      "image/png": "[encoded data removed]",
      "text/plain": [
       "<Figure size 432x288 with 1 Axes>"
      ]
     },
     "metadata": {
      "needs_background": "light"
     },
     "output_type": "display_data"
    }
   ],
   "source": [
    "plt.hist(train_df_clean[\"dist_nearest_trainstation\"],bins = 500)\n",
    "plt.show"
   ]
  },
  {
   "cell_type": "code",
   "execution_count": 60,
   "metadata": {},
   "outputs": [
    {
     "data": {
      "text/plain": [
       "<function matplotlib.pyplot.show(close=None, block=None)>"
      ]
     },
     "execution_count": 60,
     "metadata": {},
     "output_type": "execute_result"
    },
    {
     "data": {
      "image/png": "[encoded data removed]",
      "text/plain": [
       "<Figure size 432x288 with 1 Axes>"
      ]
     },
     "metadata": {
      "needs_background": "light"
     },
     "output_type": "display_data"
    }
   ],
   "source": [
    "plt.hist(bus_df_clean[\"dist_nearest_busstop\"],bins = 500)\n",
    "plt.show"
   ]
  }
 ],
 "metadata": {
  "kernelspec": {
   "display_name": "Python 3.8.10 64-bit",
   "language": "python",
   "name": "python3"
  },
  "language_info": {
   "codemirror_mode": {
    "name": "ipython",
    "version": 3
   },
   "file_extension": ".py",
   "mimetype": "text/x-python",
   "name": "python",
   "nbconvert_exporter": "python",
   "pygments_lexer": "ipython3",
   "version": "3.8.10"
  },
  "orig_nbformat": 4,
  "vscode": {
   "interpreter": {
    "hash": "916dbcbb3f70747c44a77c7bcd40155683ae19c65e1c03b4aa3499c5328201f1"
   }
  }
 },
 "nbformat": 4,
 "nbformat_minor": 2
}
