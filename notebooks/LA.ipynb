{
 "cells": [
  {
   "cell_type": "markdown",
   "metadata": {},
   "source": [
    "# Most liveable and affortable suburb\n",
    "This notebook is used to find how liveable and affortable each suburb is "
   ]
  },
  {
   "cell_type": "code",
   "execution_count": null,
   "metadata": {},
   "outputs": [],
   "source": [
    "## This note book is used to find how liveable and affortable each suburb is \n",
    "\n",
    "import numpy as np\n",
    "import pandas as pd\n",
    "import matplotlib.pyplot as plt\n",
    "from sklearn import preprocessing"
   ]
  },
  {
   "cell_type": "code",
   "execution_count": null,
   "metadata": {},
   "outputs": [],
   "source": [
    "## Read in the final domain csv\n",
    "df = pd.read_csv(\"../data/curated/domain_final.csv\")"
   ]
  },
  {
   "cell_type": "code",
   "execution_count": null,
   "metadata": {},
   "outputs": [],
   "source": [
    "df.head()"
   ]
  },
  {
   "cell_type": "code",
   "execution_count": null,
   "metadata": {},
   "outputs": [],
   "source": [
    "## To calculated affortable, we will use the formular (average cost in suburb)/(average income in suburb)\n",
    "## create a new dara frame on contain postcode, cost and average income\n",
    "\n",
    "affortable_df = pd.DataFrame(df,columns=[\"postcode\",\"cost\",\"avg_income\"])"
   ]
  },
  {
   "cell_type": "code",
   "execution_count": null,
   "metadata": {},
   "outputs": [],
   "source": [
    "## calculate the ratio of property's weekly cost and the average income in suburb\n",
    "\n",
    "affortable_df[\"cost_gap\"]=affortable_df[\"cost\"]/affortable_df[\"avg_income\"]"
   ]
  },
  {
   "cell_type": "code",
   "execution_count": null,
   "metadata": {},
   "outputs": [],
   "source": [
    "affortable_df.head()\n"
   ]
  },
  {
   "cell_type": "code",
   "execution_count": null,
   "metadata": {},
   "outputs": [],
   "source": [
    "affortable_df.shape"
   ]
  },
  {
   "cell_type": "code",
   "execution_count": null,
   "metadata": {},
   "outputs": [],
   "source": [
    "## Find null and delete it \n",
    "affortable_df.isnull().sum()"
   ]
  },
  {
   "cell_type": "code",
   "execution_count": null,
   "metadata": {},
   "outputs": [],
   "source": [
    "## drop all null before we calculate the average\n",
    "\n",
    "affortable_df.dropna(subset=['avg_income'], inplace=True)"
   ]
  },
  {
   "cell_type": "code",
   "execution_count": null,
   "metadata": {},
   "outputs": [],
   "source": [
    "## Group all property in the same suberb and find the mean ratio\n",
    "\n",
    "cost_gap_output= affortable_df.groupby(\"postcode\").agg({'cost_gap':'mean'})\n"
   ]
  },
  {
   "cell_type": "code",
   "execution_count": null,
   "metadata": {},
   "outputs": [],
   "source": [
    "cost_gap_output.head()"
   ]
  },
  {
   "cell_type": "code",
   "execution_count": null,
   "metadata": {},
   "outputs": [],
   "source": [
    "## Get the top 10 affortable suburb(most affortable)\n",
    "\n",
    "print(cost_gap_output.sort_values(by=[\"cost_gap\"],ascending=True)[:10])"
   ]
  },
  {
   "cell_type": "code",
   "execution_count": null,
   "metadata": {},
   "outputs": [],
   "source": [
    "## Get the top 10  not affortable suburb(most not affortable)\n",
    "\n",
    "print(cost_gap_output.sort_values(by=[\"cost_gap\"],ascending=False)[:10])"
   ]
  },
  {
   "cell_type": "code",
   "execution_count": null,
   "metadata": {},
   "outputs": [],
   "source": [
    "## Read in the csv that record all the hospital in victoria\n",
    "\n",
    "df_2 = pd.read_csv(\"../data/curated/MainHospitalList (1).csv\")"
   ]
  },
  {
   "cell_type": "code",
   "execution_count": null,
   "metadata": {},
   "outputs": [],
   "source": [
    "df_2.head()"
   ]
  },
  {
   "cell_type": "code",
   "execution_count": null,
   "metadata": {},
   "outputs": [],
   "source": [
    "## Count the number of hospital in each suberb\n",
    "\n",
    "hospital_count = df_2.loc[:,\"Postcode\"].value_counts().rename_axis('postcode').reset_index(name='hos_count')"
   ]
  },
  {
   "cell_type": "code",
   "execution_count": null,
   "metadata": {},
   "outputs": [],
   "source": [
    "hospital_count.head()"
   ]
  },
  {
   "cell_type": "code",
   "execution_count": null,
   "metadata": {},
   "outputs": [],
   "source": [
    "## Read in the csv that record all the school in victoria\n",
    "df_3 = pd.read_csv(\"../data/curated/dv309_schoollocations2021.csv\", encoding='cp1252')"
   ]
  },
  {
   "cell_type": "code",
   "execution_count": null,
   "metadata": {},
   "outputs": [],
   "source": [
    "df_3.head()"
   ]
  },
  {
   "cell_type": "code",
   "execution_count": null,
   "metadata": {},
   "outputs": [],
   "source": [
    "## Count the number of school in each suberb\n",
    "school_count = df_3.loc[:,\"Postal_Postcode\"].value_counts().rename_axis('postcode').reset_index(name='school_count')"
   ]
  },
  {
   "cell_type": "code",
   "execution_count": null,
   "metadata": {},
   "outputs": [],
   "source": [
    "school_count.head()"
   ]
  },
  {
   "cell_type": "code",
   "execution_count": null,
   "metadata": {},
   "outputs": [],
   "source": [
    "## Create two data frame which will be used to count the average distance to bus stop and train station\n",
    "## the distance is average in each suburb\n",
    "\n",
    "bus_df = pd.DataFrame(df,columns=[\"postcode\",\"dist_nearest_busstop\"])\n",
    "train_df=pd.DataFrame(df,columns=[\"postcode\",\"dist_nearest_trainstation\"])"
   ]
  },
  {
   "cell_type": "code",
   "execution_count": null,
   "metadata": {},
   "outputs": [],
   "source": [
    "## Find null \n",
    "\n",
    "bus_df.isnull().sum()"
   ]
  },
  {
   "cell_type": "code",
   "execution_count": null,
   "metadata": {},
   "outputs": [],
   "source": [
    "## Find null \n",
    "\n",
    "train_df.isnull().sum()"
   ]
  },
  {
   "cell_type": "code",
   "execution_count": null,
   "metadata": {},
   "outputs": [],
   "source": [
    "## calculate the average distance to the bus stop and train station in each suburb\n",
    "\n",
    "bus_output= bus_df.groupby(\"postcode\").agg({'dist_nearest_busstop':'mean'}).reset_index()\n",
    "train_output = train_df.groupby(\"postcode\").agg({'dist_nearest_trainstation':'mean'}).reset_index()"
   ]
  },
  {
   "cell_type": "code",
   "execution_count": null,
   "metadata": {},
   "outputs": [],
   "source": [
    "bus_output.head()"
   ]
  },
  {
   "cell_type": "code",
   "execution_count": null,
   "metadata": {},
   "outputs": [],
   "source": [
    "train_output.head()"
   ]
  },
  {
   "cell_type": "code",
   "execution_count": null,
   "metadata": {},
   "outputs": [],
   "source": [
    "## Creat a data frame contains all post code that we have domain data with\n",
    "\n",
    "rank_df=pd.DataFrame(df['postcode'].unique(), columns= ['postcode'] )\n",
    "rank_df"
   ]
  },
  {
   "cell_type": "code",
   "execution_count": null,
   "metadata": {},
   "outputs": [],
   "source": [
    "## adding numer of school, number of hospital, distance to train station and distance to bus stop to the result data frame\n",
    "\n",
    "rank_df=rank_df.join(train_output.set_index(\"postcode\"),on=\"postcode\")\n",
    "rank_df=rank_df.join(bus_output.set_index(\"postcode\"),on=\"postcode\")\n",
    "rank_df=rank_df.join(school_count.set_index(\"postcode\"),on=\"postcode\")\n",
    "rank_df=rank_df.join(hospital_count.set_index(\"postcode\"),on=\"postcode\")"
   ]
  },
  {
   "cell_type": "code",
   "execution_count": null,
   "metadata": {},
   "outputs": [],
   "source": [
    "## if null, add 0 in to finish calculation\n",
    "\n",
    "rank_df['school_count'].fillna(0, inplace=True)\n",
    "rank_df['hos_count'].fillna(0, inplace=True)"
   ]
  },
  {
   "cell_type": "code",
   "execution_count": null,
   "metadata": {},
   "outputs": [],
   "source": [
    "rank_df.head()"
   ]
  },
  {
   "cell_type": "code",
   "execution_count": null,
   "metadata": {},
   "outputs": [],
   "source": [
    "rank_df.shape"
   ]
  },
  {
   "cell_type": "code",
   "execution_count": null,
   "metadata": {},
   "outputs": [],
   "source": [
    "## normalization\n",
    "\n",
    "x = rank_df[['dist_nearest_trainstation', 'dist_nearest_busstop','school_count','hos_count']].values\n",
    "min_max_scaler = preprocessing.MinMaxScaler()\n",
    "x_scaled = min_max_scaler.fit_transform(x)\n",
    "rank_final1 = pd.DataFrame(x_scaled, columns= ['dist_nearest_trainstation', 'dist_nearest_busstop','school_count','hos_count'] )"
   ]
  },
  {
   "cell_type": "code",
   "execution_count": null,
   "metadata": {},
   "outputs": [],
   "source": [
    "rank_df['dist_nearest_trainstation'] = rank_final1['dist_nearest_trainstation']\n",
    "rank_df['dist_nearest_busstop'] = rank_final1['dist_nearest_busstop']\n",
    "rank_df['school_count'] = rank_final1['school_count']\n",
    "rank_df['hos_count'] = rank_final1['hos_count']"
   ]
  },
  {
   "cell_type": "code",
   "execution_count": null,
   "metadata": {},
   "outputs": [],
   "source": [
    "## change the distance to negative\n",
    "## we want suburb with small distance have higher score\n",
    "\n",
    "rank_df[\"dist_nearest_trainstation\"]=rank_df[\"dist_nearest_trainstation\"]*-1\n",
    "rank_df[\"dist_nearest_busstop\"]=rank_df[\"dist_nearest_busstop\"]*-1"
   ]
  },
  {
   "cell_type": "code",
   "execution_count": null,
   "metadata": {},
   "outputs": [],
   "source": [
    "rank_df.head()"
   ]
  },
  {
   "cell_type": "code",
   "execution_count": null,
   "metadata": {},
   "outputs": [],
   "source": [
    "## calculate final rank\n",
    "## scale the distance up and scale bus stop and train staion down\n",
    "\n",
    "rank_df['rank'] =  100*rank_df.dist_nearest_trainstation + 100*rank_df.dist_nearest_busstop + 0.5*rank_df.school_count + 0.5*rank_df.hos_count"
   ]
  },
  {
   "cell_type": "code",
   "execution_count": null,
   "metadata": {},
   "outputs": [],
   "source": [
    "rank_df.head()"
   ]
  },
  {
   "cell_type": "code",
   "execution_count": null,
   "metadata": {},
   "outputs": [],
   "source": [
    "## Calculate the top 10 liveable suburb\n",
    "\n",
    "top_10 = rank_df.sort_values('rank',ascending=False).head(11)\n",
    "top_10"
   ]
  }
 ],
 "metadata": {
  "kernelspec": {
   "display_name": "Python 3 (ipykernel)",
   "language": "python",
   "name": "python3"
  },
  "language_info": {
   "codemirror_mode": {
    "name": "ipython",
    "version": 3
   },
   "file_extension": ".py",
   "mimetype": "text/x-python",
   "name": "python",
   "nbconvert_exporter": "python",
   "pygments_lexer": "ipython3",
   "version": "3.9.7"
  },
  "vscode": {
   "interpreter": {
    "hash": "916dbcbb3f70747c44a77c7bcd40155683ae19c65e1c03b4aa3499c5328201f1"
   }
  }
 },
 "nbformat": 4,
 "nbformat_minor": 4
}
