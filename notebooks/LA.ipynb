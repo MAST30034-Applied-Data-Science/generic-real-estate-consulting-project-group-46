{
 "cells": [
  {
   "cell_type": "code",
   "execution_count": 1,
   "metadata": {},
   "outputs": [],
   "source": [
    "import numpy as np\n",
    "import pandas as pd"
   ]
  },
  {
   "cell_type": "code",
   "execution_count": 2,
   "metadata": {},
   "outputs": [],
   "source": [
    "df = pd.read_csv(\"../data/curated/domain_final.csv\")"
   ]
  },
  {
   "cell_type": "code",
   "execution_count": 3,
   "metadata": {},
   "outputs": [
    {
     "data": {
      "text/html": [
       "<div>\n",
       "<style scoped>\n",
       "    .dataframe tbody tr th:only-of-type {\n",
       "        vertical-align: middle;\n",
       "    }\n",
       "\n",
       "    .dataframe tbody tr th {\n",
       "        vertical-align: top;\n",
       "    }\n",
       "\n",
       "    .dataframe thead th {\n",
       "        text-align: right;\n",
       "    }\n",
       "</style>\n",
       "<table border=\"1\" class=\"dataframe\">\n",
       "  <thead>\n",
       "    <tr style=\"text-align: right;\">\n",
       "      <th></th>\n",
       "      <th>Unnamed: 0</th>\n",
       "      <th>uri</th>\n",
       "      <th>name</th>\n",
       "      <th>cost_text</th>\n",
       "      <th>type</th>\n",
       "      <th>school_title</th>\n",
       "      <th>school_distance</th>\n",
       "      <th>suburb_sold</th>\n",
       "      <th>suburb_avg_day</th>\n",
       "      <th>suburb_population</th>\n",
       "      <th>...</th>\n",
       "      <th>dist_nearest_secondary_school</th>\n",
       "      <th>Beds</th>\n",
       "      <th>Bath</th>\n",
       "      <th>Parking</th>\n",
       "      <th>SA2_CODE21</th>\n",
       "      <th>avg_income</th>\n",
       "      <th>Median_tot_fam_inc_weekly</th>\n",
       "      <th>Tot_P_P</th>\n",
       "      <th>Median_age_persons</th>\n",
       "      <th>Median_rent_weekly</th>\n",
       "    </tr>\n",
       "  </thead>\n",
       "  <tbody>\n",
       "    <tr>\n",
       "      <th>0</th>\n",
       "      <td>0</td>\n",
       "      <td>https://www.domain.com.au/1202-620-collins-str...</td>\n",
       "      <td>1202/620 Collins Street Melbourne VIC 3000</td>\n",
       "      <td>$500 per week</td>\n",
       "      <td>Apartment / Unit / Flat</td>\n",
       "      <td>University High School</td>\n",
       "      <td>2.4</td>\n",
       "      <td>596.0</td>\n",
       "      <td>147.0</td>\n",
       "      <td>47279.0</td>\n",
       "      <td>...</td>\n",
       "      <td>380.6</td>\n",
       "      <td>2.0</td>\n",
       "      <td>1.0</td>\n",
       "      <td>1</td>\n",
       "      <td>206041503</td>\n",
       "      <td>2035.430097</td>\n",
       "      <td>2248.0</td>\n",
       "      <td>9848.0</td>\n",
       "      <td>30.0</td>\n",
       "      <td>375.0</td>\n",
       "    </tr>\n",
       "    <tr>\n",
       "      <th>1</th>\n",
       "      <td>2</td>\n",
       "      <td>https://www.domain.com.au/5707b-639-little-lon...</td>\n",
       "      <td>5707B/639 Little Lonsdale Street Melbourne VIC...</td>\n",
       "      <td>$570</td>\n",
       "      <td>Apartment / Unit / Flat</td>\n",
       "      <td>University High School</td>\n",
       "      <td>1.9</td>\n",
       "      <td>387.0</td>\n",
       "      <td>120.0</td>\n",
       "      <td>47279.0</td>\n",
       "      <td>...</td>\n",
       "      <td>355.7</td>\n",
       "      <td>1.0</td>\n",
       "      <td>1.0</td>\n",
       "      <td>0</td>\n",
       "      <td>206041503</td>\n",
       "      <td>2035.430097</td>\n",
       "      <td>2248.0</td>\n",
       "      <td>9848.0</td>\n",
       "      <td>30.0</td>\n",
       "      <td>375.0</td>\n",
       "    </tr>\n",
       "    <tr>\n",
       "      <th>2</th>\n",
       "      <td>4</td>\n",
       "      <td>https://www.domain.com.au/1202-31-spring-stree...</td>\n",
       "      <td>1202/31 Spring Street Melbourne VIC 3000</td>\n",
       "      <td>$570.00</td>\n",
       "      <td>Apartment / Unit / Flat</td>\n",
       "      <td>Carlton Gardens Primary School</td>\n",
       "      <td>1.4</td>\n",
       "      <td>596.0</td>\n",
       "      <td>147.0</td>\n",
       "      <td>47279.0</td>\n",
       "      <td>...</td>\n",
       "      <td>703.0</td>\n",
       "      <td>2.0</td>\n",
       "      <td>1.0</td>\n",
       "      <td>1</td>\n",
       "      <td>206041503</td>\n",
       "      <td>2035.430097</td>\n",
       "      <td>2248.0</td>\n",
       "      <td>9848.0</td>\n",
       "      <td>30.0</td>\n",
       "      <td>375.0</td>\n",
       "    </tr>\n",
       "    <tr>\n",
       "      <th>3</th>\n",
       "      <td>5</td>\n",
       "      <td>https://www.domain.com.au/623-539-st-kilda-roa...</td>\n",
       "      <td>623/539 St Kilda Road Melbourne VIC 3000</td>\n",
       "      <td>$475 per week</td>\n",
       "      <td>Apartment / Unit / Flat</td>\n",
       "      <td>South Yarra Primary School</td>\n",
       "      <td>0.7</td>\n",
       "      <td>387.0</td>\n",
       "      <td>120.0</td>\n",
       "      <td>47279.0</td>\n",
       "      <td>...</td>\n",
       "      <td>584.0</td>\n",
       "      <td>1.0</td>\n",
       "      <td>1.0</td>\n",
       "      <td>1</td>\n",
       "      <td>206041503</td>\n",
       "      <td>2035.430097</td>\n",
       "      <td>2248.0</td>\n",
       "      <td>9848.0</td>\n",
       "      <td>30.0</td>\n",
       "      <td>375.0</td>\n",
       "    </tr>\n",
       "    <tr>\n",
       "      <th>4</th>\n",
       "      <td>6</td>\n",
       "      <td>https://www.domain.com.au/315-118-russell-stre...</td>\n",
       "      <td>315/118 Russell Street Melbourne VIC 3000</td>\n",
       "      <td>$550 per week</td>\n",
       "      <td>Apartment / Unit / Flat</td>\n",
       "      <td>Carlton Gardens Primary School</td>\n",
       "      <td>1.3</td>\n",
       "      <td>387.0</td>\n",
       "      <td>120.0</td>\n",
       "      <td>47279.0</td>\n",
       "      <td>...</td>\n",
       "      <td>497.6</td>\n",
       "      <td>1.0</td>\n",
       "      <td>1.0</td>\n",
       "      <td>0</td>\n",
       "      <td>206041503</td>\n",
       "      <td>2035.430097</td>\n",
       "      <td>2248.0</td>\n",
       "      <td>9848.0</td>\n",
       "      <td>30.0</td>\n",
       "      <td>375.0</td>\n",
       "    </tr>\n",
       "  </tbody>\n",
       "</table>\n",
       "<p>5 rows × 32 columns</p>\n",
       "</div>"
      ],
      "text/plain": [
       "   Unnamed: 0                                                uri  \\\n",
       "0           0  https://www.domain.com.au/1202-620-collins-str...   \n",
       "1           2  https://www.domain.com.au/5707b-639-little-lon...   \n",
       "2           4  https://www.domain.com.au/1202-31-spring-stree...   \n",
       "3           5  https://www.domain.com.au/623-539-st-kilda-roa...   \n",
       "4           6  https://www.domain.com.au/315-118-russell-stre...   \n",
       "\n",
       "                                                name      cost_text  \\\n",
       "0         1202/620 Collins Street Melbourne VIC 3000  $500 per week   \n",
       "1  5707B/639 Little Lonsdale Street Melbourne VIC...           $570   \n",
       "2           1202/31 Spring Street Melbourne VIC 3000        $570.00   \n",
       "3           623/539 St Kilda Road Melbourne VIC 3000  $475 per week   \n",
       "4          315/118 Russell Street Melbourne VIC 3000  $550 per week   \n",
       "\n",
       "                      type                    school_title  school_distance  \\\n",
       "0  Apartment / Unit / Flat          University High School              2.4   \n",
       "1  Apartment / Unit / Flat          University High School              1.9   \n",
       "2  Apartment / Unit / Flat  Carlton Gardens Primary School              1.4   \n",
       "3  Apartment / Unit / Flat      South Yarra Primary School              0.7   \n",
       "4  Apartment / Unit / Flat  Carlton Gardens Primary School              1.3   \n",
       "\n",
       "   suburb_sold  suburb_avg_day  suburb_population  ...  \\\n",
       "0        596.0           147.0            47279.0  ...   \n",
       "1        387.0           120.0            47279.0  ...   \n",
       "2        596.0           147.0            47279.0  ...   \n",
       "3        387.0           120.0            47279.0  ...   \n",
       "4        387.0           120.0            47279.0  ...   \n",
       "\n",
       "   dist_nearest_secondary_school  Beds  Bath  Parking  SA2_CODE21  \\\n",
       "0                          380.6   2.0   1.0        1   206041503   \n",
       "1                          355.7   1.0   1.0        0   206041503   \n",
       "2                          703.0   2.0   1.0        1   206041503   \n",
       "3                          584.0   1.0   1.0        1   206041503   \n",
       "4                          497.6   1.0   1.0        0   206041503   \n",
       "\n",
       "    avg_income Median_tot_fam_inc_weekly  Tot_P_P  Median_age_persons  \\\n",
       "0  2035.430097                    2248.0   9848.0                30.0   \n",
       "1  2035.430097                    2248.0   9848.0                30.0   \n",
       "2  2035.430097                    2248.0   9848.0                30.0   \n",
       "3  2035.430097                    2248.0   9848.0                30.0   \n",
       "4  2035.430097                    2248.0   9848.0                30.0   \n",
       "\n",
       "   Median_rent_weekly  \n",
       "0               375.0  \n",
       "1               375.0  \n",
       "2               375.0  \n",
       "3               375.0  \n",
       "4               375.0  \n",
       "\n",
       "[5 rows x 32 columns]"
      ]
     },
     "execution_count": 3,
     "metadata": {},
     "output_type": "execute_result"
    }
   ],
   "source": [
    "df.head()\n"
   ]
  },
  {
   "cell_type": "code",
   "execution_count": 4,
   "metadata": {},
   "outputs": [],
   "source": [
    "affortable_df = pd.DataFrame(df,columns=[\"postcode\",\"cost\",\"avg_income\"])"
   ]
  },
  {
   "cell_type": "code",
   "execution_count": 19,
   "metadata": {},
   "outputs": [],
   "source": [
    "affortable_df[\"cost_gap\"]=affortable_df[\"cost\"]/affortable_df[\"avg_income\"]"
   ]
  },
  {
   "cell_type": "code",
   "execution_count": 20,
   "metadata": {},
   "outputs": [
    {
     "data": {
      "text/html": [
       "<div>\n",
       "<style scoped>\n",
       "    .dataframe tbody tr th:only-of-type {\n",
       "        vertical-align: middle;\n",
       "    }\n",
       "\n",
       "    .dataframe tbody tr th {\n",
       "        vertical-align: top;\n",
       "    }\n",
       "\n",
       "    .dataframe thead th {\n",
       "        text-align: right;\n",
       "    }\n",
       "</style>\n",
       "<table border=\"1\" class=\"dataframe\">\n",
       "  <thead>\n",
       "    <tr style=\"text-align: right;\">\n",
       "      <th></th>\n",
       "      <th>postcode</th>\n",
       "      <th>cost</th>\n",
       "      <th>avg_income</th>\n",
       "      <th>cost_gap</th>\n",
       "    </tr>\n",
       "  </thead>\n",
       "  <tbody>\n",
       "    <tr>\n",
       "      <th>0</th>\n",
       "      <td>3000</td>\n",
       "      <td>500.0</td>\n",
       "      <td>2035.430097</td>\n",
       "      <td>0.245648</td>\n",
       "    </tr>\n",
       "    <tr>\n",
       "      <th>1</th>\n",
       "      <td>3000</td>\n",
       "      <td>570.0</td>\n",
       "      <td>2035.430097</td>\n",
       "      <td>0.280039</td>\n",
       "    </tr>\n",
       "    <tr>\n",
       "      <th>2</th>\n",
       "      <td>3000</td>\n",
       "      <td>570.0</td>\n",
       "      <td>2035.430097</td>\n",
       "      <td>0.280039</td>\n",
       "    </tr>\n",
       "    <tr>\n",
       "      <th>3</th>\n",
       "      <td>3000</td>\n",
       "      <td>475.0</td>\n",
       "      <td>2035.430097</td>\n",
       "      <td>0.233366</td>\n",
       "    </tr>\n",
       "    <tr>\n",
       "      <th>4</th>\n",
       "      <td>3000</td>\n",
       "      <td>550.0</td>\n",
       "      <td>2035.430097</td>\n",
       "      <td>0.270213</td>\n",
       "    </tr>\n",
       "  </tbody>\n",
       "</table>\n",
       "</div>"
      ],
      "text/plain": [
       "   postcode   cost   avg_income  cost_gap\n",
       "0      3000  500.0  2035.430097  0.245648\n",
       "1      3000  570.0  2035.430097  0.280039\n",
       "2      3000  570.0  2035.430097  0.280039\n",
       "3      3000  475.0  2035.430097  0.233366\n",
       "4      3000  550.0  2035.430097  0.270213"
      ]
     },
     "execution_count": 20,
     "metadata": {},
     "output_type": "execute_result"
    }
   ],
   "source": [
    "affortable_df.head()\n"
   ]
  },
  {
   "cell_type": "code",
   "execution_count": 21,
   "metadata": {},
   "outputs": [
    {
     "data": {
      "text/plain": [
       "(10017, 4)"
      ]
     },
     "execution_count": 21,
     "metadata": {},
     "output_type": "execute_result"
    }
   ],
   "source": [
    "affortable_df.shape"
   ]
  },
  {
   "cell_type": "code",
   "execution_count": 22,
   "metadata": {},
   "outputs": [
    {
     "data": {
      "text/plain": [
       "postcode      0\n",
       "cost          0\n",
       "avg_income    0\n",
       "cost_gap      0\n",
       "dtype: int64"
      ]
     },
     "execution_count": 22,
     "metadata": {},
     "output_type": "execute_result"
    }
   ],
   "source": [
    "affortable_df.isnull().sum()"
   ]
  },
  {
   "cell_type": "code",
   "execution_count": 23,
   "metadata": {},
   "outputs": [],
   "source": [
    "affortable_df.dropna(subset=['avg_income'], inplace=True)"
   ]
  },
  {
   "cell_type": "code",
   "execution_count": 24,
   "metadata": {},
   "outputs": [],
   "source": [
    "cost_gap_output= affortable_df.groupby(\"postcode\").agg({'cost_gap':'mean'})\n"
   ]
  },
  {
   "cell_type": "code",
   "execution_count": 25,
   "metadata": {},
   "outputs": [
    {
     "data": {
      "text/html": [
       "<div>\n",
       "<style scoped>\n",
       "    .dataframe tbody tr th:only-of-type {\n",
       "        vertical-align: middle;\n",
       "    }\n",
       "\n",
       "    .dataframe tbody tr th {\n",
       "        vertical-align: top;\n",
       "    }\n",
       "\n",
       "    .dataframe thead th {\n",
       "        text-align: right;\n",
       "    }\n",
       "</style>\n",
       "<table border=\"1\" class=\"dataframe\">\n",
       "  <thead>\n",
       "    <tr style=\"text-align: right;\">\n",
       "      <th></th>\n",
       "      <th>cost_gap</th>\n",
       "    </tr>\n",
       "    <tr>\n",
       "      <th>postcode</th>\n",
       "      <th></th>\n",
       "    </tr>\n",
       "  </thead>\n",
       "  <tbody>\n",
       "    <tr>\n",
       "      <th>3000</th>\n",
       "      <td>0.226212</td>\n",
       "    </tr>\n",
       "    <tr>\n",
       "      <th>3002</th>\n",
       "      <td>0.146635</td>\n",
       "    </tr>\n",
       "    <tr>\n",
       "      <th>3004</th>\n",
       "      <td>0.159437</td>\n",
       "    </tr>\n",
       "    <tr>\n",
       "      <th>3008</th>\n",
       "      <td>0.197724</td>\n",
       "    </tr>\n",
       "    <tr>\n",
       "      <th>3011</th>\n",
       "      <td>0.180597</td>\n",
       "    </tr>\n",
       "  </tbody>\n",
       "</table>\n",
       "</div>"
      ],
      "text/plain": [
       "          cost_gap\n",
       "postcode          \n",
       "3000      0.226212\n",
       "3002      0.146635\n",
       "3004      0.159437\n",
       "3008      0.197724\n",
       "3011      0.180597"
      ]
     },
     "execution_count": 25,
     "metadata": {},
     "output_type": "execute_result"
    }
   ],
   "source": [
    "cost_gap_output.head()"
   ]
  },
  {
   "cell_type": "code",
   "execution_count": 29,
   "metadata": {},
   "outputs": [
    {
     "name": "stdout",
     "output_type": "stream",
     "text": [
      "          cost_gap\n",
      "postcode          \n",
      "3125      0.109821\n",
      "3085      0.120141\n",
      "3737      0.126544\n",
      "3289      0.128827\n",
      "3331      0.133735\n",
      "3134      0.134924\n",
      "3144      0.135774\n",
      "3145      0.138427\n",
      "3122      0.138503\n",
      "3127      0.139452\n"
     ]
    }
   ],
   "source": [
    "print(cost_gap_output.sort_values(by=[\"cost_gap\"],ascending=True)[:10])"
   ]
  },
  {
   "cell_type": "code",
   "execution_count": 30,
   "metadata": {},
   "outputs": [
    {
     "name": "stdout",
     "output_type": "stream",
     "text": [
      "          cost_gap\n",
      "postcode          \n",
      "3858      0.550120\n",
      "3904      0.394804\n",
      "3965      0.342909\n",
      "3213      0.309285\n",
      "3631      0.303043\n",
      "3984      0.292961\n",
      "3324      0.292790\n",
      "3918      0.292274\n",
      "3779      0.290680\n",
      "3862      0.288469\n"
     ]
    }
   ],
   "source": [
    "print(cost_gap_output.sort_values(by=[\"cost_gap\"],ascending=False)[:10])"
   ]
  },
  {
   "cell_type": "code",
   "execution_count": 31,
   "metadata": {},
   "outputs": [],
   "source": [
    "cost_output= affortable_df.groupby(\"postcode\").agg({'cost':'mean'})"
   ]
  },
  {
   "cell_type": "code",
   "execution_count": 32,
   "metadata": {},
   "outputs": [
    {
     "data": {
      "text/html": [
       "<div>\n",
       "<style scoped>\n",
       "    .dataframe tbody tr th:only-of-type {\n",
       "        vertical-align: middle;\n",
       "    }\n",
       "\n",
       "    .dataframe tbody tr th {\n",
       "        vertical-align: top;\n",
       "    }\n",
       "\n",
       "    .dataframe thead th {\n",
       "        text-align: right;\n",
       "    }\n",
       "</style>\n",
       "<table border=\"1\" class=\"dataframe\">\n",
       "  <thead>\n",
       "    <tr style=\"text-align: right;\">\n",
       "      <th></th>\n",
       "      <th>cost</th>\n",
       "    </tr>\n",
       "    <tr>\n",
       "      <th>postcode</th>\n",
       "      <th></th>\n",
       "    </tr>\n",
       "  </thead>\n",
       "  <tbody>\n",
       "    <tr>\n",
       "      <th>3000</th>\n",
       "      <td>460.439216</td>\n",
       "    </tr>\n",
       "    <tr>\n",
       "      <th>3002</th>\n",
       "      <td>438.421053</td>\n",
       "    </tr>\n",
       "    <tr>\n",
       "      <th>3004</th>\n",
       "      <td>456.125000</td>\n",
       "    </tr>\n",
       "    <tr>\n",
       "      <th>3008</th>\n",
       "      <td>482.244898</td>\n",
       "    </tr>\n",
       "    <tr>\n",
       "      <th>3011</th>\n",
       "      <td>387.425926</td>\n",
       "    </tr>\n",
       "  </tbody>\n",
       "</table>\n",
       "</div>"
      ],
      "text/plain": [
       "                cost\n",
       "postcode            \n",
       "3000      460.439216\n",
       "3002      438.421053\n",
       "3004      456.125000\n",
       "3008      482.244898\n",
       "3011      387.425926"
      ]
     },
     "execution_count": 32,
     "metadata": {},
     "output_type": "execute_result"
    }
   ],
   "source": [
    "cost_output.head()"
   ]
  },
  {
   "cell_type": "code",
   "execution_count": 33,
   "metadata": {},
   "outputs": [
    {
     "name": "stdout",
     "output_type": "stream",
     "text": [
      "                cost\n",
      "postcode            \n",
      "3537      227.500000\n",
      "3289      230.000000\n",
      "3737      230.500000\n",
      "3414      240.000000\n",
      "3373      240.000000\n",
      "3233      250.000000\n",
      "3505      270.000000\n",
      "3579      275.000000\n",
      "3585      275.000000\n",
      "3396      280.000000\n",
      "3616      290.000000\n",
      "3085      293.421053\n",
      "3465      299.000000\n",
      "3315      300.000000\n",
      "3717      300.000000\n",
      "3620      300.000000\n",
      "3903      310.000000\n",
      "3851      316.666667\n",
      "3741      320.000000\n",
      "3300      323.750000\n"
     ]
    }
   ],
   "source": [
    "print(cost_output.sort_values(by=[\"cost\"],ascending=True)[:20])"
   ]
  },
  {
   "cell_type": "code",
   "execution_count": 34,
   "metadata": {},
   "outputs": [
    {
     "name": "stdout",
     "output_type": "stream",
     "text": [
      "                cost\n",
      "postcode            \n",
      "3904      557.500000\n",
      "3854      550.000000\n",
      "3815      550.000000\n",
      "3321      550.000000\n",
      "3965      540.000000\n",
      "3113      540.000000\n",
      "3918      535.000000\n",
      "3926      530.000000\n",
      "3227      522.500000\n",
      "3179      510.000000\n",
      "3116      510.000000\n",
      "3225      503.333333\n",
      "3187      501.875000\n",
      "3107      497.777778\n",
      "3217      496.066667\n",
      "3435      495.000000\n",
      "3150      493.829787\n",
      "3212      491.923077\n",
      "3178      490.416667\n",
      "3213      490.000000\n"
     ]
    }
   ],
   "source": [
    "print(cost_output.sort_values(by=[\"cost\"],ascending=False)[:20])"
   ]
  },
  {
   "cell_type": "code",
   "execution_count": null,
   "metadata": {},
   "outputs": [],
   "source": [
    "df_2 = pd.read_csv(\"../data/curated/domain_final.csv\")"
   ]
  }
 ],
 "metadata": {
  "kernelspec": {
   "display_name": "Python 3.8.10 64-bit",
   "language": "python",
   "name": "python3"
  },
  "language_info": {
   "codemirror_mode": {
    "name": "ipython",
    "version": 3
   },
   "file_extension": ".py",
   "mimetype": "text/x-python",
   "name": "python",
   "nbconvert_exporter": "python",
   "pygments_lexer": "ipython3",
   "version": "3.8.10"
  },
  "orig_nbformat": 4,
  "vscode": {
   "interpreter": {
    "hash": "916dbcbb3f70747c44a77c7bcd40155683ae19c65e1c03b4aa3499c5328201f1"
   }
  }
 },
 "nbformat": 4,
 "nbformat_minor": 2
}
