{
 "cells": [
  {
   "cell_type": "markdown",
   "id": "6f2b9146-b727-48f4-9954-cf4274983a9c",
   "metadata": {},
   "source": [
    "# Geo Visualisation\n",
    "Please note that part of the code is taken from tutorials sheet written by the University of Melbourne lecturer Akirat Wang."
   ]
  },
  {
   "cell_type": "code",
   "execution_count": null,
   "id": "7b198df5-9a7f-48db-8a10-8b420800e944",
   "metadata": {},
   "outputs": [],
   "source": [
    "import pandas as pd\n",
    "import geopandas as gpd\n",
    "import folium\n",
    "import re"
   ]
  },
  {
   "cell_type": "code",
   "execution_count": null,
   "id": "d4eb07f0-ccf5-4b17-85b9-0f53606456a7",
   "metadata": {},
   "outputs": [],
   "source": [
    "gdf = gpd.read_file(\"../data/raw/SA2_2021_AUST_SHP_GDA2020/SA2_2021_AUST_GDA2020.shp\")\n",
    "income = pd.read_csv('../data/curated/income.csv')"
   ]
  },
  {
   "cell_type": "code",
   "execution_count": null,
   "id": "4fbc5ad8-f40a-4811-a548-92be0c175b23",
   "metadata": {},
   "outputs": [],
   "source": [
    "gdf = gdf[gdf['STE_NAME21'] == 'Victoria']"
   ]
  },
  {
   "cell_type": "code",
   "execution_count": null,
   "id": "cc1ce079-69db-4af4-a36e-bb9f9c7ba17a",
   "metadata": {},
   "outputs": [],
   "source": [
    "sa2_name = gdf[['SA2_CODE21','SA2_NAME21']]"
   ]
  },
  {
   "cell_type": "code",
   "execution_count": null,
   "id": "fc219054-74ad-435d-bd36-1525bddc1cac",
   "metadata": {},
   "outputs": [],
   "source": [
    "gdf['geometry'] = gdf['geometry'].to_crs(\"+proj=longlat +ellps=WGS84 +datum=WGS84 +no_defs\")\n",
    "gdf.head()"
   ]
  },
  {
   "cell_type": "markdown",
   "id": "2de4d22f-11d2-437e-b7f8-f6486c31aaee",
   "metadata": {},
   "source": [
    "### SA2 map"
   ]
  },
  {
   "cell_type": "code",
   "execution_count": null,
   "id": "1e70f041-9777-4738-b059-dc7d955e706f",
   "metadata": {},
   "outputs": [],
   "source": [
    "geoJSON = gdf[['SA2_CODE21', 'geometry']].drop_duplicates('SA2_CODE21').to_json()\n",
    "print(geoJSON[:300])"
   ]
  },
  {
   "cell_type": "code",
   "execution_count": null,
   "id": "b4ab4185-e244-4e18-8027-e6559319add5",
   "metadata": {},
   "outputs": [],
   "source": [
    "_map = folium.Map(location=[-37, 144], tiles=\"Stamen Terrain\", zoom_start=7)\n",
    "\n",
    "\n",
    "_map.add_child(folium.Choropleth(\n",
    "    geo_data=geoJSON,\n",
    "    name='choropleth',\n",
    "))\n",
    "\n",
    "_map.save('../../plots/SA2.html')\n",
    "_map"
   ]
  },
  {
   "cell_type": "markdown",
   "id": "1a94db1e-9ad4-460c-ba4c-9bd4e517c626",
   "metadata": {},
   "source": [
    "### Average income for every SA2"
   ]
  },
  {
   "cell_type": "code",
   "execution_count": null,
   "id": "afb5c9f5-ca7c-486e-a5b5-bc3406d2d97d",
   "metadata": {},
   "outputs": [],
   "source": [
    "df = pd.read_csv(\"../data/raw/2021_GCP_SA2_for_VIC_short-header/2021 Census GCP Statistical Area 2 for VIC/2021Census_G33_VIC_SA2.csv\")\n",
    "df.head()"
   ]
  },
  {
   "cell_type": "code",
   "execution_count": null,
   "id": "dbc30f46-f654-4d74-908e-a66131ef49e9",
   "metadata": {},
   "outputs": [],
   "source": [
    "cols = [col for col in df.columns if 'Tot' in col and 'Neg' not in col and 'stated' not in col]"
   ]
  },
  {
   "cell_type": "code",
   "execution_count": null,
   "id": "63c5db71-da8e-4292-87d5-5510f24f5737",
   "metadata": {},
   "outputs": [],
   "source": [
    "df1 = df[cols].drop(['Tot_Family_households','Tot_Non_family_households','Tot_Tot'],axis=1)\n",
    "df1['SA2_CODE21'] = df['SA2_CODE_2021']\n",
    "df1.head()"
   ]
  },
  {
   "cell_type": "code",
   "execution_count": null,
   "id": "54b9bc85-68c0-4c74-9b70-5b3b283b0c28",
   "metadata": {},
   "outputs": [],
   "source": [
    "df1.columns[0]"
   ]
  },
  {
   "cell_type": "code",
   "execution_count": null,
   "id": "6b8402ac-edc1-4eb2-990b-c7f3fecd8780",
   "metadata": {},
   "outputs": [],
   "source": [
    "avg = 0\n",
    "df1['total_amount'] = 0\n",
    "df1['family_amount'] = 0\n",
    "for i in range(len(df1.columns)-3):\n",
    "    if(i != 15):\n",
    "        low = int(re.findall(r'[0-9]+', df1.columns[i])[0])\n",
    "        upper = int(re.findall(r'[0-9]+', df1.columns[i])[1])\n",
    "        avg = low + ((upper - low)/2)\n",
    "    else:\n",
    "        avg = 5500\n",
    "    df1['total_amount'] = df1['total_amount'] + avg * df1.iloc[:, i]\n",
    "    df1['family_amount'] = df1['family_amount'] + df1.iloc[:, i]\n",
    "df1['avg'] = df1['total_amount']/df1['family_amount']"
   ]
  },
  {
   "cell_type": "code",
   "execution_count": null,
   "id": "d30749fa-b801-4a53-ad6f-22f544e723ae",
   "metadata": {},
   "outputs": [],
   "source": [
    "df1.head()"
   ]
  },
  {
   "cell_type": "code",
   "execution_count": null,
   "id": "4e8b9389-7692-493b-8c14-2e0de383574a",
   "metadata": {},
   "outputs": [],
   "source": [
    "df2 = df1[['SA2_CODE21','avg']]\n",
    "df2"
   ]
  },
  {
   "cell_type": "code",
   "execution_count": null,
   "id": "289049de-9091-4de9-81a5-11646f0b42cc",
   "metadata": {},
   "outputs": [],
   "source": [
    "df2.to_csv('../data/curated/income.csv',index=False)"
   ]
  },
  {
   "cell_type": "code",
   "execution_count": null,
   "id": "d5e59a09-02fd-429c-8853-f04075146f06",
   "metadata": {},
   "outputs": [],
   "source": []
  },
  {
   "cell_type": "code",
   "execution_count": null,
   "id": "a456a413-59de-4d48-8274-5290da14c793",
   "metadata": {},
   "outputs": [],
   "source": []
  },
  {
   "cell_type": "code",
   "execution_count": null,
   "id": "82b8486b-be08-4533-a7e3-8a9eee03e5ae",
   "metadata": {},
   "outputs": [],
   "source": []
  },
  {
   "cell_type": "code",
   "execution_count": null,
   "id": "29094764-7d28-4b4f-8f91-9369456d9e07",
   "metadata": {},
   "outputs": [],
   "source": [
    "gdf1 = gdf"
   ]
  },
  {
   "cell_type": "code",
   "execution_count": null,
   "id": "96689314-c0e7-4959-bfd1-07dbff63fc82",
   "metadata": {},
   "outputs": [],
   "source": [
    "gdf1['SA2_CODE21'] = pd.to_numeric(gdf1['SA2_CODE21'])"
   ]
  },
  {
   "cell_type": "code",
   "execution_count": null,
   "id": "26043016-0691-43c0-9410-a9c52a8c03a0",
   "metadata": {},
   "outputs": [],
   "source": [
    "df = income.merge(gdf1[['SA2_CODE21', 'geometry']], on='SA2_CODE21')\n",
    "df = df.drop('geometry', axis = 1)"
   ]
  },
  {
   "cell_type": "code",
   "execution_count": null,
   "id": "eb3079b4-77c7-42dd-b309-004c7f628437",
   "metadata": {},
   "outputs": [],
   "source": [
    "df['SA2_CODE21'] = df['SA2_CODE21'].astype(str)"
   ]
  },
  {
   "cell_type": "code",
   "execution_count": null,
   "id": "fbddaedc-cf4a-4ac6-bf50-f9c3e8d69f72",
   "metadata": {},
   "outputs": [],
   "source": [
    "df"
   ]
  },
  {
   "cell_type": "code",
   "execution_count": null,
   "id": "e67fa006-fa49-4608-ab2c-4f9270e092f1",
   "metadata": {},
   "outputs": [],
   "source": [
    "m = folium.Map(location=[-37, 144], tiles=\"Stamen Terrain\", zoom_start=7)\n",
    "\n",
    "# refer to the folium documentations on more information on how to plot aggregated data.\n",
    "c = folium.Choropleth(\n",
    "    geo_data=geoJSON, # geoJSON \n",
    "    name='choropleth', # name of plot\n",
    "    data=df.reset_index(), # data source\n",
    "    columns=['SA2_CODE21','avg'], # the columns required\n",
    "    key_on='properties.SA2_CODE21', # this is from the geoJSON's properties\n",
    "    fill_color='YlOrRd', # color scheme\n",
    "    nan_fill_color='black',\n",
    "    legend_name='Earnings AUD$'\n",
    ")\n",
    "\n",
    "c.add_to(m)\n",
    "\n",
    "m.save('../../plots/income.html')\n",
    "m"
   ]
  },
  {
   "cell_type": "code",
   "execution_count": null,
   "id": "7c6a7d9e-9fed-4d42-b2bc-add28ef04528",
   "metadata": {},
   "outputs": [],
   "source": []
  },
  {
   "cell_type": "code",
   "execution_count": null,
   "id": "9d8fb34c-2d0b-4108-99bc-f208b0284bda",
   "metadata": {},
   "outputs": [],
   "source": []
  }
 ],
 "metadata": {
  "kernelspec": {
   "display_name": "Python 3 (ipykernel)",
   "language": "python",
   "name": "python3"
  },
  "language_info": {
   "codemirror_mode": {
    "name": "ipython",
    "version": 3
   },
   "file_extension": ".py",
   "mimetype": "text/x-python",
   "name": "python",
   "nbconvert_exporter": "python",
   "pygments_lexer": "ipython3",
   "version": "3.9.7"
  }
 },
 "nbformat": 4,
 "nbformat_minor": 5
}
