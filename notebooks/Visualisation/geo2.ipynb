{
 "cells": [
  {
   "cell_type": "markdown",
   "id": "3a2429e5-276e-4e5c-9493-9b73cae153f2",
   "metadata": {},
   "source": [
    "# Geo Visualisation 2\n",
    "Please note that part of the code is taken from tutorials sheet written by the University of Melbourne lecturer Akirat Wang."
   ]
  },
  {
   "cell_type": "code",
   "execution_count": null,
   "id": "5de6517c-5c3c-4784-960e-56c2f95ad726",
   "metadata": {},
   "outputs": [],
   "source": [
    "import pandas as pd\n",
    "import geopandas as gpd\n",
    "import folium"
   ]
  },
  {
   "cell_type": "markdown",
   "id": "a7421af7-b9f2-40ce-9c46-0e9aa6651f3b",
   "metadata": {},
   "source": [
    "### Bus stop map in Vic"
   ]
  },
  {
   "cell_type": "code",
   "execution_count": null,
   "id": "51b66bff-f887-46e6-9e3e-c4409f37ba93",
   "metadata": {},
   "outputs": [],
   "source": [
    "gdf = gpd.read_file(\"../data/raw/PTV_data/PTV_METRO_BUS_STOP/PTV_METRO_BUS_STOP.shp\")"
   ]
  },
  {
   "cell_type": "code",
   "execution_count": null,
   "id": "555b8f8c-02ff-41b8-a077-020b32991e7f",
   "metadata": {},
   "outputs": [],
   "source": [
    "gdf"
   ]
  },
  {
   "cell_type": "code",
   "execution_count": null,
   "id": "2b749994-f81d-4fc1-bdbe-58d083f20ee4",
   "metadata": {},
   "outputs": [],
   "source": [
    "gdf['geometry'] = gdf['geometry'].to_crs(\"+proj=longlat +ellps=WGS84 +datum=WGS84 +no_defs\")\n",
    "geoJSON = gdf[['STOP_ID', 'geometry']].drop_duplicates('STOP_ID').to_json()\n",
    "print(geoJSON[:300])"
   ]
  },
  {
   "cell_type": "code",
   "execution_count": null,
   "id": "2ef6bf13-d359-4e9c-bd17-a3f475ec747a",
   "metadata": {},
   "outputs": [],
   "source": [
    "_map = folium.Map(location=[-37, 144], tiles=\"Stamen Terrain\", zoom_start=10)\n",
    "\n",
    "\n",
    "_map.add_child(folium.Choropleth(\n",
    "    geo_data=geoJSON,\n",
    "    name='choropleth',\n",
    "))\n",
    "\n",
    "_map.save('../../plots/bus_stop.html')\n",
    "_map"
   ]
  }
 ],
 "metadata": {
  "kernelspec": {
   "display_name": "Python 3 (ipykernel)",
   "language": "python",
   "name": "python3"
  },
  "language_info": {
   "codemirror_mode": {
    "name": "ipython",
    "version": 3
   },
   "file_extension": ".py",
   "mimetype": "text/x-python",
   "name": "python",
   "nbconvert_exporter": "python",
   "pygments_lexer": "ipython3",
   "version": "3.9.7"
  }
 },
 "nbformat": 4,
 "nbformat_minor": 5
}
