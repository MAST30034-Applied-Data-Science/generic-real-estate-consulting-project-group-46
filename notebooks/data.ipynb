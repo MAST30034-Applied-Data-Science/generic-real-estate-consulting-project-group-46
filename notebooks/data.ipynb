{
 "cells": [
  {
   "cell_type": "code",
   "execution_count": 56,
   "id": "b5a5b74b-dae2-40f4-9a1d-f799cbcf6bce",
   "metadata": {},
   "outputs": [],
   "source": [
    "import re\n",
    "import pandas as pd\n",
    "from json import dump\n",
    "from collections import defaultdict\n",
    "from bs4 import BeautifulSoup\n",
    "from urllib.request import urlopen\n",
    "import requests"
   ]
  },
  {
   "cell_type": "code",
   "execution_count": 74,
   "id": "cc69f94a-474a-4ee0-99c6-0340f6b3dce3",
   "metadata": {},
   "outputs": [],
   "source": [
    "postcode = pd.read_csv('../data/raw/Australian-Postcode-Data-master/au_postcodes.csv')"
   ]
  },
  {
   "cell_type": "code",
   "execution_count": 79,
   "id": "50331856-302d-4829-ab0e-3e0f0daa1bf3",
   "metadata": {},
   "outputs": [
    {
     "data": {
      "text/plain": [
       "NSW    5124\n",
       "QLD    3456\n",
       "VIC    3260\n",
       "WA     1903\n",
       "SA     1783\n",
       "TAS     831\n",
       "NT      364\n",
       "ACT     154\n",
       "Name: state_code, dtype: int64"
      ]
     },
     "execution_count": 79,
     "metadata": {},
     "output_type": "execute_result"
    }
   ],
   "source": [
    "postcode['state_code'].value_counts()"
   ]
  },
  {
   "cell_type": "code",
   "execution_count": 105,
   "id": "ef894cb8-7442-487a-b223-07675e660f6a",
   "metadata": {},
   "outputs": [
    {
     "data": {
      "text/plain": [
       "1627"
      ]
     },
     "execution_count": 105,
     "metadata": {},
     "output_type": "execute_result"
    }
   ],
   "source": [
    "code_vic = postcode[postcode['state_code'] == 'VIC']\n",
    "code_vic = code_vic.drop_duplicates(subset=['longitude'])\n",
    "codes = code_vic['postcode'].tolist()\n",
    "len(codes)"
   ]
  },
  {
   "cell_type": "code",
   "execution_count": null,
   "id": "e3b8fc09-32b9-4a49-8e1a-3e79be202645",
   "metadata": {},
   "outputs": [],
   "source": [
    "# constants\n",
    "BASE_URL = \"https://www.domain.com.au\"\n",
    "N_PAGES = range(1, 2) # update this to your liking\n",
    "\n",
    "headers = {\"User-Agent\": \"Mozilla/5.0 (X11; CrOS x86_64 12871.102.0) AppleWebKit/537.36 (KHTML, like Gecko) Chrome/81.0.4044.141 Safari/537.36\"}\n",
    "# begin code\n",
    "url_links = []\n",
    "property_metadata = defaultdict(dict)\n",
    "\n",
    "for code in codes: \n",
    "    # generate list of urls to visit\n",
    "    for page in N_PAGES:\n",
    "        url = BASE_URL + f\"/rent/?postcode={code}&page={page}\"\n",
    "        #     print(url)\n",
    "        bs_object = BeautifulSoup(requests.get(url, headers=headers).text, \"html.parser\")\n",
    "\n",
    "        # find the unordered list (ul) elements which are the results, then\n",
    "        # find all href (a) tags that are from the base_url website.\n",
    "        index_links = bs_object \\\n",
    "            .find(\n",
    "                \"ul\",\n",
    "                {\"data-testid\": \"results\"}\n",
    "            ) \\\n",
    "            .findAll(\n",
    "                \"a\",\n",
    "                href=re.compile(f\"{BASE_URL}/*\") # the `*` denotes wildcard any\n",
    "            )\n",
    "\n",
    "        for link in index_links:\n",
    "            # if its a property address, add it to the list\n",
    "            if 'address' in link['class']:\n",
    "                url_links.append(link['href'])\n",
    "\n",
    "    # for each url, scrape some basic metadata\n",
    "    for property_url in url_links[1:]:\n",
    "        print(property_url)\n",
    "        bs_object = BeautifulSoup(requests.get(property_url, headers=headers).text, \"html.parser\")\n",
    "\n",
    "        # looks for the header class to get property name\n",
    "        property_metadata[property_url]['name'] = bs_object \\\n",
    "            .find(\"h1\", {\"class\": \"css-164r41r\"}) \\\n",
    "            .text\n",
    "\n",
    "        # looks for the div containing a summary title for cost\n",
    "        property_metadata[property_url]['cost_text'] = bs_object \\\n",
    "            .find(\"div\", {\"data-testid\": \"listing-details__summary-title\"}) \\\n",
    "            .text\n",
    "\n",
    "        # extract coordinates from the hyperlink provided\n",
    "        # i'll let you figure out what this does :P\n",
    "        property_metadata[property_url]['coordinates'] = [\n",
    "            float(coord) for coord in re.findall(\n",
    "                r'destination=([-\\s,\\d\\.]+)', # use regex101.com here if you need to\n",
    "                bs_object \\\n",
    "                    .find(\n",
    "                        \"a\",\n",
    "                        {\"target\": \"_blank\", 'rel': \"noopener noreferer\"}\n",
    "                    ) \\\n",
    "                    .attrs['href']\n",
    "            )[0].split(',')\n",
    "        ]\n",
    "\n",
    "        property_metadata[property_url]['rooms'] = [\n",
    "            re.findall(r'\\d\\s[A-Za-z]+', feature.text) for feature in bs_object \\\n",
    "                .find(\"div\", {\"data-testid\": \"property-features\"}) \\\n",
    "                .findAll(\"span\", {\"data-testid\": \"property-features-text-container\"})\n",
    "        ]\n",
    "\n",
    "        property_metadata[property_url]['desc'] = re \\\n",
    "            .sub(r'<br\\/>', '\\n', str(bs_object.find(\"p\"))) \\\n",
    "            .strip('</p>')\n",
    "\n",
    "\n",
    "with open('../data/raw/domain.json', 'w') as f:\n",
    "    dump(property_metadata, f)"
   ]
  },
  {
   "cell_type": "code",
   "execution_count": 51,
   "id": "7b63e569-b074-4c37-8d1c-da982a7e93e5",
   "metadata": {},
   "outputs": [],
   "source": [
    "# open route service demo\n",
    "import openrouteservice as ors\n",
    "client = ors.Client(key='5b3ce3597851110001cf6248da6ce7d997a5412896a30bc0c18e1e0a')"
   ]
  },
  {
   "cell_type": "code",
   "execution_count": null,
   "id": "fa13b58e-4eef-4b04-9519-e6fd7708074a",
   "metadata": {},
   "outputs": [],
   "source": [
    "coords = ((144.9614,-37.7963,),(144.843333,-37.673333))\n",
    "\n",
    "routes = client.directions(coords, radiuses = [10000,10000])\n",
    "\n",
    "print(routes)"
   ]
  },
  {
   "cell_type": "code",
   "execution_count": null,
   "id": "086356b7-5096-451a-8be2-06c5655ba7b6",
   "metadata": {},
   "outputs": [],
   "source": []
  }
 ],
 "metadata": {
  "kernelspec": {
   "display_name": "Python 3 (ipykernel)",
   "language": "python",
   "name": "python3"
  },
  "language_info": {
   "codemirror_mode": {
    "name": "ipython",
    "version": 3
   },
   "file_extension": ".py",
   "mimetype": "text/x-python",
   "name": "python",
   "nbconvert_exporter": "python",
   "pygments_lexer": "ipython3",
   "version": "3.9.7"
  }
 },
 "nbformat": 4,
 "nbformat_minor": 5
}
