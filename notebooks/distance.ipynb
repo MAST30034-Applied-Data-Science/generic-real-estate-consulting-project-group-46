{
 "cells": [
  {
   "cell_type": "markdown",
   "id": "5d062963",
   "metadata": {
    "tags": [],
    "toc": true
   },
   "source": [
    "<h1>Table of Contents<span class=\"tocSkip\"></span></h1>\n",
    "<div class=\"toc\"><ul class=\"toc-item\"><li><span><a href=\"#Read-Property\" data-toc-modified-id=\"Read-Property-1\"><span class=\"toc-item-num\">1&nbsp;&nbsp;</span>Read Property</a></span></li><li><span><a href=\"#Distance-Bus-Stop\" data-toc-modified-id=\"Distance-Bus-Stop-2\"><span class=\"toc-item-num\">2&nbsp;&nbsp;</span>Distance Bus Stop</a></span></li><li><span><a href=\"#Distance-Train-Station\" data-toc-modified-id=\"Distance-Train-Station-3\"><span class=\"toc-item-num\">3&nbsp;&nbsp;</span>Distance Train Station</a></span></li><li><span><a href=\"#Distance-School\" data-toc-modified-id=\"Distance-School-4\"><span class=\"toc-item-num\">4&nbsp;&nbsp;</span>Distance School</a></span></li><li><span><a href=\"#Calculate-Routine-Distance-by-openrouteservice\" data-toc-modified-id=\"Calculate-Routine-Distance-by-openrouteservice-5\"><span class=\"toc-item-num\">5&nbsp;&nbsp;</span>Calculate Routine Distance by openrouteservice</a></span></li></ul></div>"
   ]
  },
  {
   "cell_type": "code",
   "execution_count": null,
   "id": "7e31f203",
   "metadata": {},
   "outputs": [],
   "source": [
    "import os\n",
    "import glob\n",
    "import numpy as np\n",
    "import pandas as pd\n",
    "import geopandas as gpd\n",
    "import matplotlib.pyplot as plt\n",
    "\n",
    "import warnings\n",
    "warnings.filterwarnings(\"ignore\")"
   ]
  },
  {
   "cell_type": "markdown",
   "id": "0fa2f56b",
   "metadata": {},
   "source": [
    "# Read Property"
   ]
  },
  {
   "cell_type": "code",
   "execution_count": null,
   "id": "bae19102",
   "metadata": {},
   "outputs": [],
   "source": [
    "df_property=pd.read_csv(\"../data/curated/domain_2.csv\")\n",
    "\n",
    "\n",
    "df_property=df_property[[\"url\",\"coordinates\"]].copy()\n",
    "df_property[\"longitude\"]=df_property[\"coordinates\"].map(lambda x: eval(x)[1])\n",
    "df_property[\"latitude\"]=df_property[\"coordinates\"].map(lambda x: eval(x)[0])\n",
    "\n",
    "# create gdf\n",
    "gdf_property = gpd.GeoDataFrame(df_property, geometry=gpd.points_from_xy(df_property.longitude, df_property.latitude, crs=\"EPSG:4326\"))\n",
    "gdf_property['geometry']  = gdf_property['geometry'] .to_crs(\"EPSG:4326\")\n",
    "gdf_property=gdf_property[[\"url\",\"geometry\"]].copy()\n",
    "gdf_property=gdf_property.reset_index(drop=True)\n",
    "gdf_property.head()"
   ]
  },
  {
   "cell_type": "code",
   "execution_count": null,
   "id": "ae3449e4",
   "metadata": {},
   "outputs": [],
   "source": [
    "gdf_property.crs"
   ]
  },
  {
   "cell_type": "markdown",
   "id": "92ac04ff",
   "metadata": {},
   "source": [
    "# Distance Bus Stop"
   ]
  },
  {
   "cell_type": "code",
   "execution_count": null,
   "id": "b2ddb932",
   "metadata": {},
   "outputs": [],
   "source": [
    "gdf_busstop=gpd.read_file(\"../data/raw/PTV_data/PTV_METRO_BUS_STOP/PTV_METRO_BUS_STOP.shp\")\n",
    "gdf_busstop=gdf_busstop[['STOP_ID', 'STOP_NAME', 'LATITUDE', 'LONGITUDE', 'geometry']].copy()\n",
    "gdf_busstop['geometry']  = gdf_busstop['geometry'] .to_crs(\"EPSG:4326\")\n",
    "\n",
    "gdf_regionalbusstop=gpd.read_file(\"../data/raw/PTV_data/PTV_REGIONAL_BUS_STOP/PTV_REGIONAL_BUS_STOP.shp\")\n",
    "gdf_regionalbusstop=gdf_regionalbusstop[['STOP_ID', 'STOP_NAME', 'LATITUDE', 'LONGITUDE',  'geometry']].copy()\n",
    "gdf_regionalbusstop['geometry']  = gdf_regionalbusstop['geometry'] .to_crs(\"EPSG:4326\")\n",
    "\n",
    "gdf_busstop=pd.concat([gdf_busstop,gdf_regionalbusstop],ignore_index=True)\n",
    "gdf_busstop.head()"
   ]
  },
  {
   "cell_type": "code",
   "execution_count": null,
   "id": "0553939b",
   "metadata": {},
   "outputs": [],
   "source": [
    "gdf_busstop.crs"
   ]
  },
  {
   "cell_type": "code",
   "execution_count": null,
   "id": "335bfb95",
   "metadata": {},
   "outputs": [],
   "source": [
    "# define function to calculate the top20 nearest locations' coordinates by geopandas\n",
    "\n",
    "def get_20_nearest_locations(gdf, point):\n",
    "    dist_series=gdf[\"geometry\"].distance(point)\n",
    "    top10_idx=dist_series.argsort().values[:20]\n",
    "    \n",
    "    top20_cordinates=gdf.iloc[top10_idx][\"geometry\"].map(lambda p:(p.x,p.y)).values\n",
    "\n",
    "    return top20_cordinates\n",
    "\n",
    "get_20_nearest_locations(gdf=gdf_busstop, point=gdf_property[\"geometry\"][1])"
   ]
  },
  {
   "cell_type": "code",
   "execution_count": null,
   "id": "9b072abf",
   "metadata": {},
   "outputs": [],
   "source": [
    "gdf_property[\"top20_near_busstop\"]=gdf_property[\"geometry\"].map(lambda x: get_20_nearest_locations(gdf=gdf_busstop, point=x))\n",
    "gdf_property.head()"
   ]
  },
  {
   "cell_type": "markdown",
   "id": "491344b7",
   "metadata": {},
   "source": [
    "# Distance Train Station"
   ]
  },
  {
   "cell_type": "code",
   "execution_count": null,
   "id": "1087917c",
   "metadata": {},
   "outputs": [],
   "source": [
    "gdf_trainstation=gpd.read_file(\"../data/raw/PTV_data/PTV_METRO_TRAIN_STATION/PTV_METRO_TRAIN_STATION.shp\")\n",
    "gdf_trainstation['geometry']  = gdf_trainstation['geometry'] .to_crs(\"EPSG:4326\")\n",
    "gdf_trainstation.head()"
   ]
  },
  {
   "cell_type": "code",
   "execution_count": null,
   "id": "4cdaf9be",
   "metadata": {},
   "outputs": [],
   "source": [
    "gdf_property[\"top20_near_trainstation\"]=gdf_property[\"geometry\"].map(lambda x: get_20_nearest_locations(gdf=gdf_trainstation, point=x))\n",
    "gdf_property.head()"
   ]
  },
  {
   "cell_type": "markdown",
   "id": "c5787a43",
   "metadata": {},
   "source": [
    "# Distance School\n",
    "\n",
    "+ there are 4 types of schools, we calculate the distance by school type"
   ]
  },
  {
   "cell_type": "code",
   "execution_count": null,
   "id": "ddca3646",
   "metadata": {},
   "outputs": [],
   "source": [
    "df_school = pd.read_excel(\"../data/raw/SearchResults.xlsx\")\n",
    "df_school.head()"
   ]
  },
  {
   "cell_type": "code",
   "execution_count": null,
   "id": "4c1efccb",
   "metadata": {},
   "outputs": [],
   "source": [
    "df_school[\"Type\"].value_counts()"
   ]
  },
  {
   "cell_type": "code",
   "execution_count": null,
   "id": "190f05df",
   "metadata": {},
   "outputs": [],
   "source": [
    "# create gdf\n",
    "gdf_school = gpd.GeoDataFrame(df_school, geometry=gpd.points_from_xy(df_school.Longitude, df_school.Latitude, crs=\"EPSG:4326\"))\n",
    "gdf_school['geometry']  = gdf_school['geometry'] .to_crs(\"EPSG:4326\")\n",
    "gdf_school.head()"
   ]
  },
  {
   "cell_type": "code",
   "execution_count": null,
   "id": "ad199524",
   "metadata": {},
   "outputs": [],
   "source": [
    "# primary school\n",
    "gdf_property[\"top20_near_primary\"]=gdf_property[\"geometry\"].map(lambda x: get_20_nearest_locations(gdf=gdf_school[gdf_school[\"Type\"]=='Primary'], point=x))\n",
    "\n",
    "# Secondary school\n",
    "gdf_property[\"top20_near_secondary\"]=gdf_property[\"geometry\"].map(lambda x: get_20_nearest_locations(gdf=gdf_school[gdf_school[\"Type\"]=='Secondary'], point=x))\n",
    "\n",
    "\n",
    "# Combined school\n",
    "gdf_property[\"top20_near_combined\"]=gdf_property[\"geometry\"].map(lambda x: get_20_nearest_locations(gdf=gdf_school[gdf_school[\"Type\"]=='Combined'], point=x))\n",
    "\n",
    "\n",
    "# special school\n",
    "gdf_property[\"top20_near_special\"]=gdf_property[\"geometry\"].map(lambda x: get_20_nearest_locations(gdf=gdf_school[gdf_school[\"Type\"]=='Special'], point=x))\n",
    "gdf_property.head()"
   ]
  },
  {
   "cell_type": "code",
   "execution_count": null,
   "id": "9b7e5d9f",
   "metadata": {},
   "outputs": [],
   "source": [
    "gdf_property[\"property_cordinate\"]=gdf_property[\"geometry\"].map(lambda p:(p.x,p.y))\n",
    "gdf_property.head()"
   ]
  },
  {
   "cell_type": "markdown",
   "id": "db5a452d",
   "metadata": {},
   "source": [
    "# Calculate Routine Distance by openrouteservice"
   ]
  },
  {
   "cell_type": "code",
   "execution_count": null,
   "id": "ea8c4df6",
   "metadata": {},
   "outputs": [],
   "source": [
    "import openrouteservice as ors\n",
    "\n",
    "def calculate_route_distance(start_cordinate, end_cordinates):\n",
    "    client = ors.Client(base_url=\"http://localhost:8080/ors\")\n",
    "   \n",
    "    distances=[]\n",
    "    \n",
    "    # calculate 20 times, as we have 20 coordinates for each [busstop, trainstation...]\n",
    "    for i in range(20):\n",
    "        coordinates = [[start_cordinate[0], start_cordinate[1]],[end_cordinates[i][0], end_cordinates[i][1]]]\n",
    "        \n",
    "        try:\n",
    "            route = client.directions(\n",
    "                coordinates=coordinates,\n",
    "                profile='driving-car',\n",
    "                format='geojson',\n",
    "                validate=False,\n",
    "            )\n",
    "            distances.append(route['features'][0][\"properties\"][\"summary\"][\"distance\"])\n",
    "        except Exception as err:\n",
    "            \n",
    "            # if error, the distance is more than 100000 metres\n",
    "            distances.append(1000000)\n",
    "#             print(err)\n",
    "        \n",
    "    # \n",
    "    return np.nanmin(np.array(distances))"
   ]
  },
  {
   "cell_type": "code",
   "execution_count": null,
   "id": "0231a67c",
   "metadata": {
    "scrolled": true
   },
   "outputs": [],
   "source": [
    "%%time\n",
    "\n",
    "gdf_property[\"dist_nearest_busstop\"]=gdf_property.apply(lambda row: \n",
    "                                                        calculate_route_distance(\n",
    "                                                            start_cordinate=row[\"property_cordinate\"], \n",
    "                                                            end_cordinates=row[\"top20_near_busstop\"]), axis=1)\n",
    "\n",
    "gdf_property[\"dist_nearest_trainstation\"]=gdf_property.apply(lambda row: \n",
    "                                                        calculate_route_distance(\n",
    "                                                            start_cordinate=row[\"property_cordinate\"], \n",
    "                                                            end_cordinates=row[\"top20_near_trainstation\"]), axis=1)\n",
    "\n",
    "\n",
    "gdf_property[\"dist_nearest_primary_school\"]=gdf_property.apply(lambda row: \n",
    "                                                        calculate_route_distance(\n",
    "                                                            start_cordinate=row[\"property_cordinate\"], \n",
    "                                                            end_cordinates=row[\"top20_near_primary\"]), axis=1)\n",
    "\n",
    "gdf_property[\"dist_nearest_secondary_school\"]=gdf_property.apply(lambda row: \n",
    "                                                        calculate_route_distance(\n",
    "                                                            start_cordinate=row[\"property_cordinate\"], \n",
    "                                                            end_cordinates=row[\"top20_near_secondary\"]), axis=1)\n",
    "\n",
    "gdf_property[\"dist_nearest_combined_school\"]=gdf_property.apply(lambda row: \n",
    "                                                        calculate_route_distance(\n",
    "                                                            start_cordinate=row[\"property_cordinate\"], \n",
    "                                                            end_cordinates=row[\"top20_near_combined\"]), axis=1)\n",
    "\n",
    "gdf_property[\"dist_nearest_special_school\"]=gdf_property.apply(lambda row: \n",
    "                                                        calculate_route_distance(\n",
    "                                                            start_cordinate=row[\"property_cordinate\"], \n",
    "                                                            end_cordinates=row[\"top20_near_special\"]), axis=1)"
   ]
  },
  {
   "cell_type": "code",
   "execution_count": null,
   "id": "76ef3801",
   "metadata": {},
   "outputs": [],
   "source": [
    "df_property=pd.read_csv(\"../data/curated/domain_2.csv\")\n",
    "df_property_result=pd.merge(df_property, gdf_property[['url','dist_nearest_busstop', 'dist_nearest_trainstation', \n",
    "                                                       'dist_nearest_primary_school', 'dist_nearest_secondary_school', 'dist_nearest_combined_school',\n",
    "                                                       'dist_nearest_special_school']], on=\"uri\",how=\"left\")\n",
    "df_property_result.head()"
   ]
  },
  {
   "cell_type": "code",
   "execution_count": null,
   "id": "dafcb95c",
   "metadata": {},
   "outputs": [],
   "source": [
    "df_property_result.shape"
   ]
  },
  {
   "cell_type": "code",
   "execution_count": null,
   "id": "18a8fd75",
   "metadata": {},
   "outputs": [],
   "source": [
    "df_property_result[\"dist_nearest_primary_school\"]=df_property_result.apply(lambda row: \n",
    "                                                                           row[\"dist_nearest_primary_school\"] \n",
    "                                                                           if row[\"dist_nearest_primary_school\"] <row[\"dist_nearest_combined_school\"] \n",
    "                                                                          else row[\"dist_nearest_combined_school\"], axis=1)\n",
    "\n",
    "df_property_result[\"dist_nearest_secondary_school\"]=df_property_result.apply(lambda row: \n",
    "                                                                           row[\"dist_nearest_secondary_school\"] \n",
    "                                                                           if row[\"dist_nearest_secondary_school\"] <row[\"dist_nearest_combined_school\"] \n",
    "                                                                          else row[\"dist_nearest_combined_school\"], axis=1)\n",
    "\n",
    "df_property_result=df_property_result.drop([\"dist_nearest_combined_school\",\"dist_nearest_special_school\"], axis=1)\n",
    "df_property_result.to_csv(\"../data/curated/domain_final2.csv\", index=False)"
   ]
  },
  {
   "cell_type": "code",
   "execution_count": null,
   "id": "d387997d-f3bc-4edf-9fed-5dbb028e6063",
   "metadata": {},
   "outputs": [],
   "source": []
  }
 ],
 "metadata": {
  "kernelspec": {
   "display_name": "Python 3 (ipykernel)",
   "language": "python",
   "name": "python3"
  },
  "language_info": {
   "codemirror_mode": {
    "name": "ipython",
    "version": 3
   },
   "file_extension": ".py",
   "mimetype": "text/x-python",
   "name": "python",
   "nbconvert_exporter": "python",
   "pygments_lexer": "ipython3",
   "version": "3.9.7"
  },
  "toc": {
   "base_numbering": 1,
   "nav_menu": {},
   "number_sections": true,
   "sideBar": true,
   "skip_h1_title": false,
   "title_cell": "Table of Contents",
   "title_sidebar": "Contents",
   "toc_cell": true,
   "toc_position": {
    "height": "calc(100% - 180px)",
    "left": "10px",
    "top": "150px",
    "width": "383.797px"
   },
   "toc_section_display": true,
   "toc_window_display": true
  }
 },
 "nbformat": 4,
 "nbformat_minor": 5
}
