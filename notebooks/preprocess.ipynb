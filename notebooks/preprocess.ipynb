{
 "cells": [
  {
   "cell_type": "code",
   "execution_count": 1,
   "id": "9e35d49c-b777-4be5-aba6-689de380a600",
   "metadata": {},
   "outputs": [],
   "source": [
    "import pandas as pd\n",
    "import re\n",
    "import csv"
   ]
  },
  {
   "cell_type": "markdown",
   "id": "3509cc4c-babc-4da6-a675-1fb8600c91d1",
   "metadata": {},
   "source": [
    "### Outlier decetion of internal data"
   ]
  },
  {
   "cell_type": "code",
   "execution_count": 2,
   "id": "04aec3a6-db65-4206-b30d-ad0d6ea82c3d",
   "metadata": {},
   "outputs": [],
   "source": [
    "# Converte json document to csv.\n",
    "pdObj = pd.read_json('../data/curated/domain.json', orient='index')\n",
    "pdObj.to_csv('../data/curated/streaming_test.csv', index=False)"
   ]
  },
  {
   "cell_type": "code",
   "execution_count": 3,
   "id": "a4c2aa85",
   "metadata": {},
   "outputs": [
    {
     "name": "stderr",
     "output_type": "stream",
     "text": [
      "/Users/victor/opt/anaconda3/lib/python3.9/site-packages/pandas/core/indexing.py:1732: SettingWithCopyWarning: \n",
      "A value is trying to be set on a copy of a slice from a DataFrame\n",
      "\n",
      "See the caveats in the documentation: https://pandas.pydata.org/pandas-docs/stable/user_guide/indexing.html#returning-a-view-versus-a-copy\n",
      "  self._setitem_single_block(indexer, value, name)\n"
     ]
    }
   ],
   "source": [
    "# Get the cost\n",
    "df = pd.read_csv('../data/curated/streaming_test.csv')\n",
    "df['cost'] = df['cost_text']\n",
    "for i in range(len(df)):\n",
    "    df['cost'].iloc[i] = re.findall(r'\\d+\\.?\\d*',df['cost_text'].iloc[i])"
   ]
  },
  {
   "cell_type": "code",
   "execution_count": 4,
   "id": "b8a70241",
   "metadata": {},
   "outputs": [],
   "source": [
    "# Delete missing values if cost is 0\n",
    "delete_list = []\n",
    "df_new = df.copy()\n",
    "for i in range(len(df)):\n",
    "    if len(df['cost'].iloc[i]) == 0:\n",
    "        delete_list.append(i)\n",
    "df_new = df_new.drop(df_new.index[delete_list])"
   ]
  },
  {
   "cell_type": "code",
   "execution_count": 5,
   "id": "1f4a148c",
   "metadata": {},
   "outputs": [],
   "source": [
    "# Transform the data type of cost into float.\n",
    "for i in range(len(df_new)):\n",
    "    df_new['cost'].iloc[i] = float(df_new['cost'].iloc[i][0])\n",
    "    \n",
    "df_new['cost'] = df_new['cost'].astype('float')"
   ]
  },
  {
   "cell_type": "code",
   "execution_count": 6,
   "id": "0b684c04",
   "metadata": {},
   "outputs": [
    {
     "data": {
      "text/html": [
       "<div>\n",
       "<style scoped>\n",
       "    .dataframe tbody tr th:only-of-type {\n",
       "        vertical-align: middle;\n",
       "    }\n",
       "\n",
       "    .dataframe tbody tr th {\n",
       "        vertical-align: top;\n",
       "    }\n",
       "\n",
       "    .dataframe thead th {\n",
       "        text-align: right;\n",
       "    }\n",
       "</style>\n",
       "<table border=\"1\" class=\"dataframe\">\n",
       "  <thead>\n",
       "    <tr style=\"text-align: right;\">\n",
       "      <th></th>\n",
       "      <th>postcode</th>\n",
       "      <th>cost</th>\n",
       "    </tr>\n",
       "  </thead>\n",
       "  <tbody>\n",
       "    <tr>\n",
       "      <th>count</th>\n",
       "      <td>13231.000000</td>\n",
       "      <td>13231.000000</td>\n",
       "    </tr>\n",
       "    <tr>\n",
       "      <th>mean</th>\n",
       "      <td>3203.883531</td>\n",
       "      <td>474.439385</td>\n",
       "    </tr>\n",
       "    <tr>\n",
       "      <th>std</th>\n",
       "      <td>251.114949</td>\n",
       "      <td>137.840632</td>\n",
       "    </tr>\n",
       "    <tr>\n",
       "      <th>min</th>\n",
       "      <td>3000.000000</td>\n",
       "      <td>160.000000</td>\n",
       "    </tr>\n",
       "    <tr>\n",
       "      <th>25%</th>\n",
       "      <td>3044.000000</td>\n",
       "      <td>380.000000</td>\n",
       "    </tr>\n",
       "    <tr>\n",
       "      <th>50%</th>\n",
       "      <td>3125.000000</td>\n",
       "      <td>450.000000</td>\n",
       "    </tr>\n",
       "    <tr>\n",
       "      <th>75%</th>\n",
       "      <td>3204.000000</td>\n",
       "      <td>550.000000</td>\n",
       "    </tr>\n",
       "    <tr>\n",
       "      <th>max</th>\n",
       "      <td>3996.000000</td>\n",
       "      <td>931.000000</td>\n",
       "    </tr>\n",
       "  </tbody>\n",
       "</table>\n",
       "</div>"
      ],
      "text/plain": [
       "           postcode          cost\n",
       "count  13231.000000  13231.000000\n",
       "mean    3203.883531    474.439385\n",
       "std      251.114949    137.840632\n",
       "min     3000.000000    160.000000\n",
       "25%     3044.000000    380.000000\n",
       "50%     3125.000000    450.000000\n",
       "75%     3204.000000    550.000000\n",
       "max     3996.000000    931.000000"
      ]
     },
     "execution_count": 6,
     "metadata": {},
     "output_type": "execute_result"
    }
   ],
   "source": [
    "# Delete the extreme values: delete Highest 20% and lowest 20% cost\n",
    "delete_list = []\n",
    "k1 = 0.8\n",
    "k2 = 0.2\n",
    "df_new2 = df_new.copy()\n",
    "for i in range(len(df_new2)):\n",
    "    if df_new2['cost'].iloc[i] < df_new2['cost'].mean()*(1-k1) or df_new2['cost'].iloc[i] > df_new2['cost'].mean()*(1+k2):\n",
    "        delete_list.append(i)\n",
    "df_new2 = df_new2.drop(df_new2.index[delete_list])\n",
    "df_new2.describe()"
   ]
  },
  {
   "cell_type": "code",
   "execution_count": 7,
   "id": "aa522e1e-4b7f-4bea-b517-b7be070ae41b",
   "metadata": {},
   "outputs": [],
   "source": [
    "domain = df_new2"
   ]
  },
  {
   "cell_type": "code",
   "execution_count": 8,
   "id": "333b0adf-4993-4065-9ff8-5451d2a92702",
   "metadata": {},
   "outputs": [
    {
     "data": {
      "text/html": [
       "<div>\n",
       "<style scoped>\n",
       "    .dataframe tbody tr th:only-of-type {\n",
       "        vertical-align: middle;\n",
       "    }\n",
       "\n",
       "    .dataframe tbody tr th {\n",
       "        vertical-align: top;\n",
       "    }\n",
       "\n",
       "    .dataframe thead th {\n",
       "        text-align: right;\n",
       "    }\n",
       "</style>\n",
       "<table border=\"1\" class=\"dataframe\">\n",
       "  <thead>\n",
       "    <tr style=\"text-align: right;\">\n",
       "      <th></th>\n",
       "      <th>name</th>\n",
       "      <th>cost_text</th>\n",
       "      <th>type</th>\n",
       "      <th>school_title</th>\n",
       "      <th>school_distance</th>\n",
       "      <th>suburb_sold</th>\n",
       "      <th>suburb_avg_day</th>\n",
       "      <th>suburb_population</th>\n",
       "      <th>suburb_age</th>\n",
       "      <th>suburb_ower</th>\n",
       "      <th>suburb_renter</th>\n",
       "      <th>suburb_family</th>\n",
       "      <th>suburb_single</th>\n",
       "      <th>coordinates</th>\n",
       "      <th>rooms</th>\n",
       "      <th>desc</th>\n",
       "      <th>postcode</th>\n",
       "      <th>cost</th>\n",
       "    </tr>\n",
       "  </thead>\n",
       "  <tbody>\n",
       "    <tr>\n",
       "      <th>0</th>\n",
       "      <td>1202/620 Collins Street Melbourne VIC 3000</td>\n",
       "      <td>$500 per week</td>\n",
       "      <td>Apartment / Unit / Flat</td>\n",
       "      <td>University High School</td>\n",
       "      <td>2.4 km away</td>\n",
       "      <td>596</td>\n",
       "      <td>147</td>\n",
       "      <td>47,279</td>\n",
       "      <td>20 to 39</td>\n",
       "      <td>30%</td>\n",
       "      <td>70%</td>\n",
       "      <td>24%</td>\n",
       "      <td>76%</td>\n",
       "      <td>[-37.8186626, 144.9543471]</td>\n",
       "      <td>[['2 Beds'], ['1 Bath'], ['1 Parking']]</td>\n",
       "      <td>Ender Gok</td>\n",
       "      <td>3000</td>\n",
       "      <td>500.0</td>\n",
       "    </tr>\n",
       "    <tr>\n",
       "      <th>1</th>\n",
       "      <td>1701/620 Collins Street Melbourne VIC 3000</td>\n",
       "      <td>$650 per week</td>\n",
       "      <td>Apartment / Unit / Flat</td>\n",
       "      <td>University High School</td>\n",
       "      <td>2.4 km away</td>\n",
       "      <td>596</td>\n",
       "      <td>147</td>\n",
       "      <td>47,279</td>\n",
       "      <td>20 to 39</td>\n",
       "      <td>30%</td>\n",
       "      <td>70%</td>\n",
       "      <td>24%</td>\n",
       "      <td>76%</td>\n",
       "      <td>[-37.8186626, 144.9543471]</td>\n",
       "      <td>[['2 Beds'], ['2 Baths'], ['1 Parking']]</td>\n",
       "      <td>Ender Gok</td>\n",
       "      <td>3000</td>\n",
       "      <td>650.0</td>\n",
       "    </tr>\n",
       "    <tr>\n",
       "      <th>2</th>\n",
       "      <td>5707B/639 Little Lonsdale Street Melbourne VIC...</td>\n",
       "      <td>$570</td>\n",
       "      <td>Apartment / Unit / Flat</td>\n",
       "      <td>University High School</td>\n",
       "      <td>1.9 km away</td>\n",
       "      <td>387</td>\n",
       "      <td>120</td>\n",
       "      <td>47,279</td>\n",
       "      <td>20 to 39</td>\n",
       "      <td>30%</td>\n",
       "      <td>70%</td>\n",
       "      <td>24%</td>\n",
       "      <td>76%</td>\n",
       "      <td>[-37.8141942, 144.9521662]</td>\n",
       "      <td>[['1 Bed'], ['1 Bath'], []]</td>\n",
       "      <td>Kim Te</td>\n",
       "      <td>3000</td>\n",
       "      <td>570.0</td>\n",
       "    </tr>\n",
       "    <tr>\n",
       "      <th>3</th>\n",
       "      <td>1003/225 Elizabeth Street Melbourne VIC 3000</td>\n",
       "      <td>$575.00 per week</td>\n",
       "      <td>Apartment / Unit / Flat</td>\n",
       "      <td>Carlton Gardens Primary School</td>\n",
       "      <td>1.4 km away</td>\n",
       "      <td>596</td>\n",
       "      <td>147</td>\n",
       "      <td>47,279</td>\n",
       "      <td>20 to 39</td>\n",
       "      <td>30%</td>\n",
       "      <td>70%</td>\n",
       "      <td>24%</td>\n",
       "      <td>76%</td>\n",
       "      <td>[-37.8132308, 144.9623173]</td>\n",
       "      <td>[['2 Beds'], ['1 Bath'], ['1 Parking']]</td>\n",
       "      <td>Barbara Baltas</td>\n",
       "      <td>3000</td>\n",
       "      <td>575.0</td>\n",
       "    </tr>\n",
       "    <tr>\n",
       "      <th>4</th>\n",
       "      <td>1202/31 Spring Street Melbourne VIC 3000</td>\n",
       "      <td>$570.00</td>\n",
       "      <td>Apartment / Unit / Flat</td>\n",
       "      <td>Carlton Gardens Primary School</td>\n",
       "      <td>1.4 km away</td>\n",
       "      <td>596</td>\n",
       "      <td>147</td>\n",
       "      <td>47,279</td>\n",
       "      <td>20 to 39</td>\n",
       "      <td>30%</td>\n",
       "      <td>70%</td>\n",
       "      <td>24%</td>\n",
       "      <td>76%</td>\n",
       "      <td>[-37.8145047, 144.9740695]</td>\n",
       "      <td>[['2 Beds'], ['1 Bath'], ['1 Parking']]</td>\n",
       "      <td>Bo Natoli</td>\n",
       "      <td>3000</td>\n",
       "      <td>570.0</td>\n",
       "    </tr>\n",
       "  </tbody>\n",
       "</table>\n",
       "</div>"
      ],
      "text/plain": [
       "                                                name         cost_text  \\\n",
       "0         1202/620 Collins Street Melbourne VIC 3000     $500 per week   \n",
       "1         1701/620 Collins Street Melbourne VIC 3000     $650 per week   \n",
       "2  5707B/639 Little Lonsdale Street Melbourne VIC...              $570   \n",
       "3       1003/225 Elizabeth Street Melbourne VIC 3000  $575.00 per week   \n",
       "4           1202/31 Spring Street Melbourne VIC 3000           $570.00   \n",
       "\n",
       "                      type                    school_title school_distance  \\\n",
       "0  Apartment / Unit / Flat          University High School     2.4 km away   \n",
       "1  Apartment / Unit / Flat          University High School     2.4 km away   \n",
       "2  Apartment / Unit / Flat          University High School     1.9 km away   \n",
       "3  Apartment / Unit / Flat  Carlton Gardens Primary School     1.4 km away   \n",
       "4  Apartment / Unit / Flat  Carlton Gardens Primary School     1.4 km away   \n",
       "\n",
       "  suburb_sold suburb_avg_day suburb_population suburb_age suburb_ower  \\\n",
       "0         596            147            47,279   20 to 39         30%   \n",
       "1         596            147            47,279   20 to 39         30%   \n",
       "2         387            120            47,279   20 to 39         30%   \n",
       "3         596            147            47,279   20 to 39         30%   \n",
       "4         596            147            47,279   20 to 39         30%   \n",
       "\n",
       "  suburb_renter suburb_family suburb_single                 coordinates  \\\n",
       "0           70%           24%           76%  [-37.8186626, 144.9543471]   \n",
       "1           70%           24%           76%  [-37.8186626, 144.9543471]   \n",
       "2           70%           24%           76%  [-37.8141942, 144.9521662]   \n",
       "3           70%           24%           76%  [-37.8132308, 144.9623173]   \n",
       "4           70%           24%           76%  [-37.8145047, 144.9740695]   \n",
       "\n",
       "                                      rooms            desc  postcode   cost  \n",
       "0   [['2 Beds'], ['1 Bath'], ['1 Parking']]       Ender Gok      3000  500.0  \n",
       "1  [['2 Beds'], ['2 Baths'], ['1 Parking']]       Ender Gok      3000  650.0  \n",
       "2               [['1 Bed'], ['1 Bath'], []]          Kim Te      3000  570.0  \n",
       "3   [['2 Beds'], ['1 Bath'], ['1 Parking']]  Barbara Baltas      3000  575.0  \n",
       "4   [['2 Beds'], ['1 Bath'], ['1 Parking']]       Bo Natoli      3000  570.0  "
      ]
     },
     "execution_count": 8,
     "metadata": {},
     "output_type": "execute_result"
    }
   ],
   "source": [
    "domain.head()"
   ]
  },
  {
   "cell_type": "markdown",
   "id": "a858812a-2402-48d8-9085-1b24c4c3a08b",
   "metadata": {},
   "source": [
    "Some suburb data is missing in domian, this is probably because there are not enough property transactions in this postcide suburb on domian to be counted, so we try to fill in the data with neighbouring suburb, or delete them if there are no near suburb or only a few data is missing"
   ]
  },
  {
   "cell_type": "code",
   "execution_count": 9,
   "id": "34464dcc-d2dd-4b94-b784-c29aafd14f8c",
   "metadata": {},
   "outputs": [
    {
     "data": {
      "text/plain": [
       "3046    91\n",
       "3161    86\n",
       "3338    58\n",
       "3004    57\n",
       "3060    43\n",
       "3024    39\n",
       "3195    35\n",
       "3335    30\n",
       "3155    23\n",
       "3337    22\n",
       "3064    22\n",
       "3012    21\n",
       "3977    19\n",
       "3550    15\n",
       "3016    14\n",
       "3940    13\n",
       "3037    11\n",
       "3043     9\n",
       "3803     9\n",
       "3026     8\n",
       "3030     8\n",
       "3021     7\n",
       "3551     7\n",
       "3690     5\n",
       "3556     4\n",
       "3220     2\n",
       "3260     2\n",
       "3121     2\n",
       "3350     2\n",
       "3756     1\n",
       "3805     1\n",
       "3915     1\n",
       "3950     1\n",
       "3971     1\n",
       "3185     1\n",
       "3215     1\n",
       "3207     1\n",
       "3196     1\n",
       "3181     1\n",
       "3135     1\n",
       "3128     1\n",
       "3084     1\n",
       "3072     1\n",
       "3041     1\n",
       "3022     1\n",
       "3015     1\n",
       "3995     1\n",
       "Name: postcode, dtype: int64"
      ]
     },
     "execution_count": 9,
     "metadata": {},
     "output_type": "execute_result"
    }
   ],
   "source": [
    "domain[domain['suburb_population'].isnull()]['postcode'].value_counts()"
   ]
  },
  {
   "cell_type": "code",
   "execution_count": 10,
   "id": "d5702b26-0878-4149-af8f-694f87ac9a67",
   "metadata": {},
   "outputs": [],
   "source": [
    "# 3000 data is filled in 3004\n",
    "domain.loc[domain['postcode'] == 3004, 'suburb_sold'] = 596\n",
    "domain.loc[domain['postcode'] == 3004, 'suburb_avg_day'] = 147\n",
    "domain.loc[domain['postcode'] == 3004, 'suburb_population'] = 6423\n",
    "domain.loc[domain['postcode'] == 3004, 'suburb_age'] = '20 to 39'\n",
    "domain.loc[domain['postcode'] == 3004, 'suburb_owner'] = '30%'\n",
    "domain.loc[domain['postcode'] == 3004, 'suburb_renter'] = '70%'\n",
    "domain.loc[domain['postcode'] == 3004, 'suburb_family'] = '24%'\n",
    "domain.loc[domain['postcode'] == 3004, 'suburb_single'] = '76%'"
   ]
  },
  {
   "cell_type": "code",
   "execution_count": 11,
   "id": "21249cda-b766-471c-9795-79620fdc58f2",
   "metadata": {},
   "outputs": [],
   "source": [
    "domain.loc[domain['postcode'] == 3046, 'suburb_sold'] = 178\n",
    "domain.loc[domain['postcode'] == 3046, 'suburb_avg_day'] = 48\n",
    "domain.loc[domain['postcode'] == 3046, 'suburb_population'] = 22246\n",
    "domain.loc[domain['postcode'] == 3046, 'suburb_age'] = '20 to 39'\n",
    "domain.loc[domain['postcode'] == 3046, 'suburb_owner'] = '63%'\n",
    "domain.loc[domain['postcode'] == 3046, 'suburb_renter'] = '37%'\n",
    "domain.loc[domain['postcode'] == 3046, 'suburb_family'] = '49%'\n",
    "domain.loc[domain['postcode'] == 3046, 'suburb_single'] = '51%'"
   ]
  },
  {
   "cell_type": "code",
   "execution_count": 12,
   "id": "bfaad16d-0fec-490e-843c-8dd4ba602dcd",
   "metadata": {},
   "outputs": [],
   "source": [
    "domain.loc[domain['postcode'] == 3024, 'suburb_sold'] = 288\n",
    "domain.loc[domain['postcode'] == 3024, 'suburb_avg_day'] = 40\n",
    "domain.loc[domain['postcode'] == 3024, 'suburb_population'] = 23294\n",
    "domain.loc[domain['postcode'] == 3024, 'suburb_age'] = '20 to 39'\n",
    "domain.loc[domain['postcode'] == 3024, 'suburb_ower'] = '72%'\n",
    "domain.loc[domain['postcode'] == 3024, 'suburb_renter'] = '28%'\n",
    "domain.loc[domain['postcode'] == 3024, 'suburb_family'] = '51%'\n",
    "domain.loc[domain['postcode'] == 3024, 'suburb_single'] = '49%'"
   ]
  },
  {
   "cell_type": "code",
   "execution_count": 13,
   "id": "77abea6d-4a65-41e4-8eb2-977d8f14f214",
   "metadata": {},
   "outputs": [],
   "source": [
    "domain.loc[domain['postcode'] == 3337, 'suburb_sold'] = 99\n",
    "domain.loc[domain['postcode'] == 3337, 'suburb_avg_day'] = 43\n",
    "domain.loc[domain['postcode'] == 3337, 'suburb_population'] = 17589\n",
    "domain.loc[domain['postcode'] == 3337, 'suburb_age'] = '20 to 39'\n",
    "domain.loc[domain['postcode'] == 3337, 'suburb_ower'] = '74%'\n",
    "domain.loc[domain['postcode'] == 3337, 'suburb_renter'] = '26%'\n",
    "domain.loc[domain['postcode'] == 3337, 'suburb_family'] = '46%'\n",
    "domain.loc[domain['postcode'] == 3337, 'suburb_single'] = '54%'"
   ]
  },
  {
   "cell_type": "code",
   "execution_count": 14,
   "id": "2693d57e-0492-4602-bc5a-867e83034c09",
   "metadata": {},
   "outputs": [],
   "source": [
    "domain.loc[(domain['postcode'] == 3043)&(domain['suburb_sold'].isnull()), 'suburb_sold'] = 97\n",
    "domain.loc[(domain['postcode'] == 3043)&(domain['suburb_avg_day'].isnull()),'suburb_avg_day'] = 14\n",
    "domain.loc[(domain['postcode'] == 3043)&(domain['suburb_population'].isnull()),'suburb_population'] = 8343\n",
    "domain.loc[(domain['postcode'] == 3043)&(domain['suburb_age'].isnull()),'suburb_age'] = '60+'\n",
    "domain.loc[(domain['postcode'] == 3043)&(domain['suburb_ower'].isnull()), 'suburb_ower'] = '80%'\n",
    "domain.loc[(domain['postcode'] == 3043)&(domain['suburb_renter'].isnull()),'suburb_renter'] = '20%'\n",
    "domain.loc[(domain['postcode'] == 3043)&(domain['suburb_family'].isnull()),'suburb_family'] = '51%'\n",
    "domain.loc[(domain['postcode'] == 3043)&(domain['suburb_single'].isnull()),'suburb_single'] = '49%'"
   ]
  },
  {
   "cell_type": "code",
   "execution_count": 16,
   "id": "f6bdd794-f375-4aba-a47a-1eb0d22fdbac",
   "metadata": {},
   "outputs": [],
   "source": [
    "for post in domain.postcode:\n",
    "    domain =  domain.drop(domain[(domain['postcode'] == post)&(domain['suburb_population'].isnull())].index)"
   ]
  },
  {
   "cell_type": "code",
   "execution_count": null,
   "id": "79dbeb49-72b0-40b2-941e-14b87dcf8266",
   "metadata": {},
   "outputs": [],
   "source": [
    "domain.to_csv('../data/curated/domain_final.csv',index=False)"
   ]
  },
  {
   "cell_type": "markdown",
   "id": "d1bb58c2-da60-4d8f-9283-e05aac6550f8",
   "metadata": {},
   "source": [
    "### Locality to SA2 Coding Index\n",
    "m"
   ]
  },
  {
   "cell_type": "code",
   "execution_count": 18,
   "id": "dfdd8056-b789-4681-98e9-0b756067d12b",
   "metadata": {},
   "outputs": [],
   "source": [
    "sa2_2016 = pd.read_csv(\"../data/raw/australian_postcodes.csv\") # SA2 code in 2016\n",
    "sa2_2021 = pd.read_csv(\"../data/raw/CG_SA2_2016_SA2_2021.csv\")# SA2 code in 2021"
   ]
  },
  {
   "cell_type": "code",
   "execution_count": null,
   "id": "613b1d74-a7ab-42a6-bc67-5113ba2d3e7a",
   "metadata": {},
   "outputs": [],
   "source": [
    "# merge data and only keep SA2 in VIC\n",
    "index = sa2_2021.merge(sa2_2016, on='SA2_MAINCODE_2016')\n",
    "index = index[index['state'] == 'VIC']"
   ]
  },
  {
   "cell_type": "code",
   "execution_count": null,
   "id": "9a813d4e-45e7-466c-af0b-9fa64d155b0f",
   "metadata": {},
   "outputs": [],
   "source": []
  },
  {
   "cell_type": "code",
   "execution_count": null,
   "id": "9de993f2-5dd4-4bb4-979d-9e5f26f18f61",
   "metadata": {},
   "outputs": [],
   "source": [
    "# keep useful col and drop duplicates\n",
    "index = index[['SA2_MAINCODE_2016', 'SA2_NAME_2016_x', 'SA2_CODE_2021', 'SA2_NAME_2021','postcode','locality','Lat_precise','Long_precise']]\n",
    "index = index.drop_duplicates(subset=['postcode'])"
   ]
  },
  {
   "cell_type": "code",
   "execution_count": null,
   "id": "77a50406-d3db-4045-9efe-6c3e1d9feb87",
   "metadata": {},
   "outputs": [],
   "source": [
    "postcode = pd.read_csv('../data/raw/Australian-Postcode-Data-master/au_postcodes.csv') # postcode in VIC\n",
    "code_vic = postcode[postcode['state_code'] == 'VIC']\n",
    "code_vic = code_vic[postcode['accuracy'] == 4] # only keep accuracy is 4 postcode that refer to a suburb\n",
    "code_vic = code_vic.drop_duplicates(subset=['postcode'])"
   ]
  },
  {
   "cell_type": "code",
   "execution_count": null,
   "id": "4f50564c-a5fb-4094-9772-241ca6a41d92",
   "metadata": {},
   "outputs": [],
   "source": [
    "index_vic = code_vic[['postcode','latitude','longitude']].merge(index2, on='postcode')"
   ]
  },
  {
   "cell_type": "code",
   "execution_count": null,
   "id": "29a89bb0-6c0c-4d06-bcf6-934a75b8d196",
   "metadata": {},
   "outputs": [],
   "source": [
    "index_vic\n",
    "index_vic.to_csv('../data/curated/postcode_to_sa2.csv',index=False)"
   ]
  },
  {
   "cell_type": "code",
   "execution_count": null,
   "id": "ff92c18b-d2a3-424b-acaf-c7ed55556ef8",
   "metadata": {},
   "outputs": [],
   "source": []
  }
 ],
 "metadata": {
  "kernelspec": {
   "display_name": "Python 3 (ipykernel)",
   "language": "python",
   "name": "python3"
  },
  "language_info": {
   "codemirror_mode": {
    "name": "ipython",
    "version": 3
   },
   "file_extension": ".py",
   "mimetype": "text/x-python",
   "name": "python",
   "nbconvert_exporter": "python",
   "pygments_lexer": "ipython3",
   "version": "3.9.7"
  }
 },
 "nbformat": 4,
 "nbformat_minor": 5
}
