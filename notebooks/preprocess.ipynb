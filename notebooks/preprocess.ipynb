{
 "cells": [
  {
   "cell_type": "code",
   "execution_count": null,
   "id": "9e35d49c-b777-4be5-aba6-689de380a600",
   "metadata": {},
   "outputs": [],
   "source": [
    "import pandas as pd\n",
    "import re\n",
    "import csv"
   ]
  },
  {
   "cell_type": "markdown",
   "id": "3509cc4c-babc-4da6-a675-1fb8600c91d1",
   "metadata": {},
   "source": [
    "### Outlier decetion of internal data"
   ]
  },
  {
   "cell_type": "code",
   "execution_count": null,
   "id": "04aec3a6-db65-4206-b30d-ad0d6ea82c3d",
   "metadata": {},
   "outputs": [],
   "source": [
    "pdObj = pd.read_json('../data/curated/domain.json', orient='index')\n",
    "pdObj.to_csv('streaming_test.csv', index=True)"
   ]
  },
  {
   "cell_type": "code",
   "execution_count": null,
   "id": "18867b2a",
   "metadata": {},
   "outputs": [],
   "source": [
    "# Converte json document to csv.\n",
    "pdObj = pd.read_json('domain.json', orient='index')\n",
    "pdObj.to_csv('streaming_test.csv', index=True)"
   ]
  },
  {
   "cell_type": "code",
   "execution_count": null,
   "id": "a4c2aa85",
   "metadata": {},
   "outputs": [],
   "source": [
    "# Get the cost\n",
    "df = pd.read_csv('streaming_test.csv')\n",
    "df['cost'] = df['cost_text']\n",
    "for i in range(len(df)):\n",
    "    df['cost'].iloc[i] = re.findall(r'\\d+\\.?\\d*',df['cost_text'].iloc[i])"
   ]
  },
  {
   "cell_type": "code",
   "execution_count": null,
   "id": "b8a70241",
   "metadata": {},
   "outputs": [],
   "source": [
    "# Delete missing values\n",
    "delete_list = []\n",
    "df_new = df.copy()\n",
    "for i in range(len(df)):\n",
    "    if len(df['cost'].iloc[i]) == 0:\n",
    "        delete_list.append(i)\n",
    "df_new = df_new.drop(df_new.index[delete_list])"
   ]
  },
  {
   "cell_type": "code",
   "execution_count": null,
   "id": "1f4a148c",
   "metadata": {},
   "outputs": [],
   "source": [
    "# Transform the data type of cost into float.\n",
    "for i in range(len(df_new)):\n",
    "    df_new['cost'].iloc[i] = float(df_new['cost'].iloc[i][0])\n",
    "    \n",
    "df_new['cost'] = df_new['cost'].astype('float')"
   ]
  },
  {
   "cell_type": "code",
   "execution_count": null,
   "id": "0b684c04",
   "metadata": {},
   "outputs": [],
   "source": [
    "# Delete the extreme values\n",
    "delete_list = []\n",
    "k1 = 0.8\n",
    "k2 = 0.2\n",
    "df_new2 = df_new.copy()\n",
    "for i in range(len(df_new2)):\n",
    "    if df_new2['cost'].iloc[i] < df_new2['cost'].mean()*(1-k1) or df_new2['cost'].iloc[i] > df_new2['cost'].mean()*(1+k2):\n",
    "        delete_list.append(i)\n",
    "df_new2 = df_new2.drop(df_new2.index[delete_list])\n",
    "df_new2.describe()"
   ]
  },
  {
   "cell_type": "code",
   "execution_count": null,
   "id": "5ab454f2-2833-41a7-a790-9878409f525f",
   "metadata": {},
   "outputs": [],
   "source": [
    "df = pd.read_csv(\"../data/raw/2021_GCP_SA2_for_VIC_short-header/2021 Census GCP Statistical Area 2 for VIC/2021Census_G33_VIC_SA2.csv\")\n",
    "df.head()"
   ]
  },
  {
   "cell_type": "code",
   "execution_count": null,
   "id": "4b3e4585-69b5-4b0b-9498-13adff680eee",
   "metadata": {},
   "outputs": [],
   "source": [
    "cols = [col for col in df.columns if 'Tot' in col and 'Neg' not in col and 'stated' not in col]"
   ]
  },
  {
   "cell_type": "code",
   "execution_count": null,
   "id": "9aa7018b-7dab-42ae-b3c4-8d05ce950045",
   "metadata": {},
   "outputs": [],
   "source": [
    "df1 = df[cols].drop(['Tot_Family_households','Tot_Non_family_households','Tot_Tot'],axis=1)\n",
    "df1['SA2_CODE21'] = df['SA2_CODE_2021']\n",
    "df1.head()"
   ]
  },
  {
   "cell_type": "code",
   "execution_count": null,
   "id": "3c777ac7-63b0-4b34-a0e1-7ee1e91cbbd1",
   "metadata": {},
   "outputs": [],
   "source": [
    "df1.columns[0]"
   ]
  },
  {
   "cell_type": "code",
   "execution_count": null,
   "id": "28219ddc-adb8-4420-b10a-2c00c14f64e5",
   "metadata": {},
   "outputs": [],
   "source": [
    "avg = 0\n",
    "df1['total_amount'] = 0\n",
    "df1['family_amount'] = 0\n",
    "for i in range(len(df1.columns)-3):\n",
    "    if(i != 15):\n",
    "        low = int(re.findall(r'[0-9]+', df1.columns[i])[0])\n",
    "        upper = int(re.findall(r'[0-9]+', df1.columns[i])[1])\n",
    "        avg = low + ((upper - low)/2)\n",
    "    else:\n",
    "        avg = 5500\n",
    "    df1['total_amount'] = df1['total_amount'] + avg * df1.iloc[:, i]\n",
    "    df1['family_amount'] = df1['family_amount'] + df1.iloc[:, i]\n",
    "df1['avg'] = df1['total_amount']/df1['family_amount']"
   ]
  },
  {
   "cell_type": "code",
   "execution_count": null,
   "id": "2f51b2b4-0a99-43c7-8412-f7e11cd9f352",
   "metadata": {},
   "outputs": [],
   "source": [
    "df1.head()"
   ]
  },
  {
   "cell_type": "code",
   "execution_count": null,
   "id": "e0cdbf29-47fd-4045-85f6-ff25dd766754",
   "metadata": {},
   "outputs": [],
   "source": [
    "df2 = df1[['SA2_CODE21','avg']]\n",
    "df2"
   ]
  },
  {
   "cell_type": "code",
   "execution_count": null,
   "id": "aed9611d-d962-4ef0-ae5a-3fc06430c399",
   "metadata": {},
   "outputs": [],
   "source": [
    "df2.to_csv('../data/curated/income.csv',index=False)"
   ]
  },
  {
   "cell_type": "markdown",
   "id": "d1bb58c2-da60-4d8f-9283-e05aac6550f8",
   "metadata": {},
   "source": [
    "### Locality to SA2 Coding Index"
   ]
  },
  {
   "cell_type": "code",
   "execution_count": null,
   "id": "dfdd8056-b789-4681-98e9-0b756067d12b",
   "metadata": {},
   "outputs": [],
   "source": [
    "index = pd.read_csv(\"../data/raw/australian_postcodes.csv\")\n",
    "sa2_2021 = pd.read_csv(\"../data/raw/CG_SA2_2016_SA2_2021.csv\")"
   ]
  },
  {
   "cell_type": "code",
   "execution_count": null,
   "id": "c7c8ca2e-a61d-4719-a6ef-9084297a3e78",
   "metadata": {},
   "outputs": [],
   "source": [
    "len(set(sa2_2021['SA2_MAINCODE_2016']))"
   ]
  },
  {
   "cell_type": "code",
   "execution_count": null,
   "id": "613b1d74-a7ab-42a6-bc67-5113ba2d3e7a",
   "metadata": {},
   "outputs": [],
   "source": [
    "index_2021 = sa2_2021.merge(index, on='SA2_MAINCODE_2016')\n",
    "index_2021 = index_2021[index_2021['state'] == 'VIC']"
   ]
  },
  {
   "cell_type": "code",
   "execution_count": null,
   "id": "9de993f2-5dd4-4bb4-979d-9e5f26f18f61",
   "metadata": {},
   "outputs": [],
   "source": [
    "index2 = index_2021[['SA2_MAINCODE_2016', 'SA2_NAME_2016_x', 'SA2_CODE_2021', 'SA2_NAME_2021','postcode','locality','Lat_precise','Long_precise']]\n",
    "index2 = index2.drop_duplicates(subset=['postcode'])"
   ]
  },
  {
   "cell_type": "code",
   "execution_count": null,
   "id": "d5c8fcc2-9c61-4b6b-a5e5-ee5f154f0f5a",
   "metadata": {},
   "outputs": [],
   "source": [
    "len(set(index2['postcode']))"
   ]
  },
  {
   "cell_type": "code",
   "execution_count": null,
   "id": "77a50406-d3db-4045-9efe-6c3e1d9feb87",
   "metadata": {},
   "outputs": [],
   "source": [
    "postcode = pd.read_csv('../data/raw/Australian-Postcode-Data-master/au_postcodes.csv')\n",
    "code_vic = postcode[postcode['state_code'] == 'VIC']\n",
    "code_vic = code_vic[postcode['accuracy'] == 4]\n",
    "code_vic = code_vic.drop_duplicates(subset=['postcode'])"
   ]
  },
  {
   "cell_type": "code",
   "execution_count": null,
   "id": "4f50564c-a5fb-4094-9772-241ca6a41d92",
   "metadata": {},
   "outputs": [],
   "source": [
    "index_vic = code_vic[['postcode','latitude','longitude']].merge(index2, on='postcode')"
   ]
  },
  {
   "cell_type": "code",
   "execution_count": null,
   "id": "29a89bb0-6c0c-4d06-bcf6-934a75b8d196",
   "metadata": {},
   "outputs": [],
   "source": [
    "index_vic\n",
    "index_vic.to_csv('../data/curated/postcode_to_sa2.csv',index=False)"
   ]
  },
  {
   "cell_type": "code",
   "execution_count": null,
   "id": "e11cb060-6073-47b0-9a69-08cfaacea2f0",
   "metadata": {},
   "outputs": [],
   "source": [
    "index_vic.count()"
   ]
  },
  {
   "cell_type": "code",
   "execution_count": null,
   "id": "ff92c18b-d2a3-424b-acaf-c7ed55556ef8",
   "metadata": {},
   "outputs": [],
   "source": []
  },
  {
   "cell_type": "code",
   "execution_count": null,
   "id": "f33124bb-bf7e-4bc7-ac6d-6ec1c0c3e6a3",
   "metadata": {},
   "outputs": [],
   "source": []
  },
  {
   "cell_type": "code",
   "execution_count": null,
   "id": "0969f0fc-7934-4474-a1d5-6b0dceee973d",
   "metadata": {},
   "outputs": [],
   "source": [
    "domain = pd.read_csv(\"../data/curated/domain.csv\")"
   ]
  },
  {
   "cell_type": "code",
   "execution_count": null,
   "id": "d9023465-9ec6-47f9-a7ca-108f02d0edc7",
   "metadata": {},
   "outputs": [],
   "source": [
    "domain.loc[domain['postcode'] == 3337, 'suburb_sold'] = 99\n",
    "domain.loc[domain['postcode'] == 3337, 'suburb_avg_day'] = 43\n",
    "domain.loc[domain['postcode'] == 3337, 'suburb_population'] = 17589\n",
    "domain.loc[domain['postcode'] == 3337, 'suburb_age'] = '20 to 39'\n",
    "domain.loc[domain['postcode'] == 3337, 'suburb_ower'] = '74%'\n",
    "domain.loc[domain['postcode'] == 3337, 'suburb_renter'] = '26%'\n",
    "domain.loc[domain['postcode'] == 3337, 'suburb_family'] = '46%'\n",
    "domain.loc[domain['postcode'] == 3337, 'suburb_single'] = '54%'\n"
   ]
  },
  {
   "cell_type": "code",
   "execution_count": null,
   "id": "26533d13-6cc9-4d17-8468-98c7486ddd45",
   "metadata": {},
   "outputs": [],
   "source": [
    "domain.loc[(domain['postcode'] == 3043)&(domain['suburb_sold'].isnull()), 'suburb_sold'] = 97\n",
    "domain.loc[(domain['postcode'] == 3043)&(domain['suburb_avg_day'].isnull()),'suburb_avg_day'] = 14\n",
    "domain.loc[(domain['postcode'] == 3043)&(domain['suburb_population'].isnull()),'suburb_population'] = 8343\n",
    "domain.loc[(domain['postcode'] == 3043)&(domain['suburb_age'].isnull()),'suburb_age'] = '60+'\n",
    "domain.loc[(domain['postcode'] == 3043)&(domain['suburb_ower'].isnull()), 'suburb_ower'] = '80%'\n",
    "domain.loc[(domain['postcode'] == 3043)&(domain['suburb_renter'].isnull()),'suburb_renter'] = '20%'\n",
    "domain.loc[(domain['postcode'] == 3043)&(domain['suburb_family'].isnull()),'suburb_family'] = '51%'\n",
    "domain.loc[(domain['postcode'] == 3043)&(domain['suburb_single'].isnull()),'suburb_single'] = '49%'\n"
   ]
  },
  {
   "cell_type": "code",
   "execution_count": null,
   "id": "b340ecd2-e4ba-4a63-a7d3-9f6a312c4763",
   "metadata": {},
   "outputs": [],
   "source": [
    "domain[domain['postcode'] == 3350].count()"
   ]
  },
  {
   "cell_type": "code",
   "execution_count": null,
   "id": "6074b88b-ca97-4d81-8e51-e681202bce8f",
   "metadata": {},
   "outputs": [],
   "source": [
    "domain.loc[(domain['postcode'] == 3000)&(domain['suburb_population'].isnull())]"
   ]
  },
  {
   "cell_type": "code",
   "execution_count": null,
   "id": "091057b6-b291-4230-88c4-568cb6cf1fe2",
   "metadata": {},
   "outputs": [],
   "source": [
    "post_n = set(domain[domain['suburb_population'].isnull()]['postcode'])"
   ]
  },
  {
   "cell_type": "code",
   "execution_count": null,
   "id": "738df728-778f-4509-a91a-1571eab5a1ad",
   "metadata": {},
   "outputs": [],
   "source": [
    "for post in post_n:\n",
    "    if post not in [3004,3195]:\n",
    "        domain =  domain.drop(domain[(domain['postcode'] == post)&(domain['suburb_population'].isnull())].index)"
   ]
  },
  {
   "cell_type": "code",
   "execution_count": null,
   "id": "ae7b2c34-f879-4d84-bebf-b9ceed3ad6b6",
   "metadata": {},
   "outputs": [],
   "source": [
    "domain[domain['suburb_population'].isnull()]['postcode'].value_counts()"
   ]
  },
  {
   "cell_type": "code",
   "execution_count": null,
   "id": "ff690f0b-10da-456b-bfe2-51308afcf8ce",
   "metadata": {},
   "outputs": [],
   "source": [
    "domain.to_csv('../data/curated/domain_2.csv',index = False)"
   ]
  },
  {
   "cell_type": "code",
   "execution_count": null,
   "id": "632d5bf7-ba04-425a-8b08-4a207ed82642",
   "metadata": {},
   "outputs": [],
   "source": [
    "domain2 = pd.read_csv(\"../data/curated/domain_4.csv\")"
   ]
  },
  {
   "cell_type": "code",
   "execution_count": null,
   "id": "c363c4b8-324c-477f-bcb6-01608621d3e0",
   "metadata": {},
   "outputs": [],
   "source": [
    "domain3 = pd.read_csv(\"../data/curated/df_property_result.csv\")"
   ]
  },
  {
   "cell_type": "code",
   "execution_count": null,
   "id": "b4e2c7ac-01a8-4e1e-87d3-3491d9bfb0f4",
   "metadata": {},
   "outputs": [],
   "source": []
  },
  {
   "cell_type": "code",
   "execution_count": null,
   "id": "743a3c42-65ad-45c6-9d43-3fb2b30b3114",
   "metadata": {},
   "outputs": [],
   "source": []
  }
 ],
 "metadata": {
  "kernelspec": {
   "display_name": "Python 3 (ipykernel)",
   "language": "python",
   "name": "python3"
  },
  "language_info": {
   "codemirror_mode": {
    "name": "ipython",
    "version": 3
   },
   "file_extension": ".py",
   "mimetype": "text/x-python",
   "name": "python",
   "nbconvert_exporter": "python",
   "pygments_lexer": "ipython3",
   "version": "3.9.7"
  }
 },
 "nbformat": 4,
 "nbformat_minor": 5
}
