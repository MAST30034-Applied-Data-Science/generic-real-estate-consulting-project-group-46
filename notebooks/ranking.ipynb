{
 "cells": [
  {
   "cell_type": "markdown",
   "id": "a15e85f9-beea-43c4-9406-f47e5058c99e",
   "metadata": {},
   "source": [
    "# Ranking\n",
    "All Stage 2 work includes predicting individual features and scoring them."
   ]
  },
  {
   "cell_type": "code",
   "execution_count": null,
   "id": "206a7797-62c1-4adc-819b-8fbd8199c2a4",
   "metadata": {},
   "outputs": [],
   "source": [
    "import numpy as np\n",
    "import pandas as pd\n",
    "import seaborn as sns\n",
    "import re\n",
    "from sklearn import preprocessing\n",
    "import geopandas as gpd\n",
    "import folium"
   ]
  },
  {
   "cell_type": "markdown",
   "id": "010556b5-65a3-413d-99a7-da3c37cf0749",
   "metadata": {},
   "source": [
    "### Income"
   ]
  },
  {
   "cell_type": "code",
   "execution_count": null,
   "id": "ce4b9a8d-df94-424c-bcac-c3582cf82774",
   "metadata": {},
   "outputs": [],
   "source": [
    "df = pd.read_csv(\"../data/raw/datasource-AU_Govt_ABS-UoM_AURIN_DB_3_abs_data_by_region_income_asgs_sa2_2011_2019.csv\")\n",
    "SA2 = pd.read_csv(\"../data/curated/postcode_to_sa2.csv\")"
   ]
  },
  {
   "cell_type": "code",
   "execution_count": null,
   "id": "90c0f3d7-358d-4286-8d89-0bcd140f1bb2",
   "metadata": {},
   "outputs": [],
   "source": [
    "df = df[['FID', 'sa2_maincode_2016', 'geometry', 'sa2_name_2016', 'yr','estm_prsnl_incme_yr_end_30_jne_tl_erns_excl_gvrnmt_pns_alwncs_n']]\n",
    "df = df.rename({'estm_prsnl_incme_yr_end_30_jne_tl_erns_excl_gvrnmt_pns_alwncs_n': 'income'}, axis=1) \n",
    "df['income'].fillna(0, inplace=True)"
   ]
  },
  {
   "cell_type": "code",
   "execution_count": null,
   "id": "9ef279fa-89fc-477f-96f8-39b04f7878cb",
   "metadata": {},
   "outputs": [],
   "source": [
    "df_avg = df\\\n",
    "        .groupby('sa2_maincode_2016') \\\n",
    "        .agg(\n",
    "            {\n",
    "                'income':'mean',\n",
    "            }\n",
    "        ) \n",
    "df_avg.head()"
   ]
  },
  {
   "cell_type": "code",
   "execution_count": null,
   "id": "8a5c2bff-5246-4a12-8e52-9819ff9b6001",
   "metadata": {},
   "outputs": [],
   "source": [
    "year = list(set(df.yr))\n",
    "year.sort()"
   ]
  },
  {
   "cell_type": "code",
   "execution_count": null,
   "id": "1c7a9317-4e3a-47bf-b89d-3ea4e670ca39",
   "metadata": {},
   "outputs": [],
   "source": [
    "year"
   ]
  },
  {
   "cell_type": "code",
   "execution_count": null,
   "id": "acffb841-7b6e-40aa-82e0-e1c42eb82a23",
   "metadata": {},
   "outputs": [],
   "source": [
    "sa2_code = list(set(SA2.SA2_MAINCODE_2016))"
   ]
  },
  {
   "cell_type": "code",
   "execution_count": null,
   "id": "3205b5af-c960-405f-a65e-8208cff0a74a",
   "metadata": {},
   "outputs": [],
   "source": [
    "# Using the average of historical data growth rates to predict growth rates over the next three years\n",
    "\n",
    "income_rate = {}\n",
    "for code in sa2_code:\n",
    "    \n",
    "    df_temp = df[df['sa2_maincode_2016'] == code]\n",
    "    num = 0\n",
    "    rate = 0\n",
    "    year = list(set(df_temp.yr))\n",
    "    year.sort()\n",
    "    \n",
    "    # Skip this SA2 area if less or eaqul than one year of data exists and all other years is missing\n",
    "    if(len(year) <= 1):\n",
    "        next\n",
    "    \n",
    "    # Calculating the average growth rate\n",
    "    for i in range(len(year)-1):\n",
    "        curr_ = df_temp.loc[df_temp['yr'] == year[i],'income'].values[0] # Current year income\n",
    "        next_ = df_temp.loc[df_temp['yr'] == year[i+1],'income'].values[0] # Next year income\n",
    "        \n",
    "        #Skip this year if this year and next year data is missing\n",
    "        if(curr_ != 0 and next_ != 0):\n",
    "            num += 1\n",
    "            rate += (next_ - curr_)/curr_\n",
    "            avg = rate/num\n",
    "    income_rate[code] = round(avg,5)"
   ]
  },
  {
   "cell_type": "code",
   "execution_count": null,
   "id": "bda2eb62-6a27-477a-bbab-7af45ca5913d",
   "metadata": {},
   "outputs": [],
   "source": [
    "df_income = pd.DataFrame(income_rate.items(), columns=['SA2_2016', 'income_rate'])"
   ]
  },
  {
   "cell_type": "code",
   "execution_count": null,
   "id": "28ee699d-b1fd-4d28-9e51-69450bfd3ba6",
   "metadata": {},
   "outputs": [],
   "source": [
    "df_income"
   ]
  },
  {
   "cell_type": "markdown",
   "id": "adae3ed9-26cd-4fdc-a62f-176eed0445b2",
   "metadata": {},
   "source": [
    "### Number of Bedrooms (census data)"
   ]
  },
  {
   "cell_type": "markdown",
   "id": "0873ab1f-8166-4cff-a746-daeb02f6209b",
   "metadata": {},
   "source": [
    "2021"
   ]
  },
  {
   "cell_type": "code",
   "execution_count": null,
   "id": "a64a90df-acf5-4f6e-8470-733944ca739a",
   "metadata": {},
   "outputs": [],
   "source": [
    "df = pd.read_csv(\"../data/raw/2021_GCP_SA2_for_VIC_short-header/2021 Census GCP Statistical Area 2 for VIC/2021Census_G41_VIC_SA2.csv\")"
   ]
  },
  {
   "cell_type": "code",
   "execution_count": null,
   "id": "941a1209-83e9-42fd-a9c3-55427f839cfc",
   "metadata": {},
   "outputs": [],
   "source": [
    "df = df[['SA2_CODE_2021', 'Total_NofB_0_i_b', 'Total_NofB_1', 'Total_NofB_2', 'Total_NofB_3',\n",
    "        'Total_NofB_4', 'Total_NofB_5','Total_NofB_6_or_m']]"
   ]
  },
  {
   "cell_type": "code",
   "execution_count": null,
   "id": "eb675c96-2333-4ff5-8a2f-2726e9f950ef",
   "metadata": {},
   "outputs": [],
   "source": [
    "df"
   ]
  },
  {
   "cell_type": "code",
   "execution_count": null,
   "id": "0eba9211-6788-480f-8e85-624bb4d36124",
   "metadata": {},
   "outputs": [],
   "source": [
    "beds_2021 = {}\n",
    "for code in df.SA2_CODE_2021:\n",
    "    df_temp = df[df['SA2_CODE_2021'] == code]\n",
    "    \n",
    "    Nob = 0 # number of beds\n",
    "    Nop = 0 # number of property\n",
    "    \n",
    "    \n",
    "    for i in range(len(df.columns)-1):\n",
    "        curr_ = df_temp.iloc[:,i+1].values[0] # skip first SA2 code col\n",
    "        Nop += curr_\n",
    "        Nob += curr_ * i # number of property * number of beds for this col\n",
    "        \n",
    "    avg_beds = Nob/Nop\n",
    "    beds_2021[code] = round(avg_beds,5)  "
   ]
  },
  {
   "cell_type": "code",
   "execution_count": null,
   "id": "15f6cfdc-3f7d-4d6b-a726-4bd826e3e835",
   "metadata": {},
   "outputs": [],
   "source": [
    "df_bed_2021 = pd.DataFrame(beds_2021.items(), columns=['SA2_2021', 'avg_beds_2021'])\n",
    "df_bed_2021.to_csv('../data/curated/df_bed_2021.csv',index=False)"
   ]
  },
  {
   "cell_type": "markdown",
   "id": "632e433e-1e47-47c5-b659-ff5af00bcf3f",
   "metadata": {},
   "source": [
    "2016"
   ]
  },
  {
   "cell_type": "code",
   "execution_count": null,
   "id": "9d080ec2-3dd2-4e82-a181-7c15bd1107ad",
   "metadata": {},
   "outputs": [],
   "source": [
    "df = pd.read_csv(\"../data/raw/2016_GCP_SA2_for_VIC_short-header/2016 Census GCP Statistical Area 2 for VIC/2016Census_G38_VIC_SA2.csv\")"
   ]
  },
  {
   "cell_type": "code",
   "execution_count": null,
   "id": "eaed4f05-83b6-45dc-ac18-2984a7e43b3f",
   "metadata": {},
   "outputs": [],
   "source": [
    "df"
   ]
  },
  {
   "cell_type": "code",
   "execution_count": null,
   "id": "d97e8a00-4437-4fa6-80fb-1264e7dfaeff",
   "metadata": {},
   "outputs": [],
   "source": [
    "df = df[['SA2_MAINCODE_2016', 'Total_NofB_0_i_b', 'Total_NofB_1', 'Total_NofB_2', 'Total_NofB_3',\n",
    "        'Total_NofB_4', 'Total_NofB_5','Total_NofB_6_or_m']]"
   ]
  },
  {
   "cell_type": "code",
   "execution_count": null,
   "id": "d8a397d5-44b3-4aa7-ac30-877878f8ca45",
   "metadata": {},
   "outputs": [],
   "source": [
    "beds_2016 = {}\n",
    "for code in df.SA2_MAINCODE_2016:\n",
    "    df_temp = df[df['SA2_MAINCODE_2016'] == code]\n",
    "    \n",
    "    Nob = 0 # number of beds\n",
    "    Nop = 0 # number of property\n",
    "    \n",
    "    for i in range(len(df.columns)-1):\n",
    "        curr_ = df_temp.iloc[:,i+1].values[0]\n",
    "        Nop += curr_\n",
    "        Nob += curr_ * i\n",
    "        \n",
    "    avg_beds = Nob/Nop\n",
    "    beds_2016[code] = round(avg_beds,5)  "
   ]
  },
  {
   "cell_type": "code",
   "execution_count": null,
   "id": "a7506c20-a33f-47f8-be58-4b427b3b22c4",
   "metadata": {},
   "outputs": [],
   "source": [
    "df_bed_2016 = pd.DataFrame(beds_2016.items(), columns=['SA2_2016', 'avg_beds_2016'])\n",
    "df_bed_2016.to_csv('../data/curated/df_bed_2016.csv',index=False)"
   ]
  },
  {
   "cell_type": "markdown",
   "id": "7d9ca904-e947-4a49-a7f7-ee9a974ac51c",
   "metadata": {},
   "source": [
    "2011"
   ]
  },
  {
   "cell_type": "code",
   "execution_count": null,
   "id": "97ace394-a637-4a36-9771-8b2666e78819",
   "metadata": {},
   "outputs": [],
   "source": [
    "df = pd.read_csv(\"../data/raw/2011_BCP_SA2_for_VIC_short-header/2011 Census BCP Statistical Areas Level 2 for VIC/VIC/2011Census_B36_VIC_SA2_short.csv\")"
   ]
  },
  {
   "cell_type": "code",
   "execution_count": null,
   "id": "63e2f26e-ed1e-4ef6-89f2-664ef41d48cf",
   "metadata": {},
   "outputs": [],
   "source": [
    "df"
   ]
  },
  {
   "cell_type": "code",
   "execution_count": null,
   "id": "cffc2b69-f3be-4ee6-b6eb-3e064dab8947",
   "metadata": {},
   "outputs": [],
   "source": [
    "df = df[['region_id', 'Total_NofB_0_i_b', 'Total_NofB_1', 'Total_NofB_2', 'Total_NofB_3',\n",
    "        'Total_NofB_4', 'Total_NofB_5','Total_NofB_6_or_m']]"
   ]
  },
  {
   "cell_type": "code",
   "execution_count": null,
   "id": "5d929fb3-dfa8-418f-b0ae-3abc27e77ad5",
   "metadata": {},
   "outputs": [],
   "source": [
    "beds_2011 = {}\n",
    "for code in df.region_id:\n",
    "    df_temp = df[df['region_id'] == code]\n",
    "    \n",
    "    Nob = 0 # number of beds\n",
    "    Nop = 0 # number of property\n",
    "    \n",
    "    for i in range(len(df.columns)-1):\n",
    "        curr_ = df_temp.iloc[:,i+1].values[0]\n",
    "        Nop += curr_\n",
    "        Nob += curr_ * i\n",
    "        \n",
    "    avg_beds = Nob/Nop\n",
    "    beds_2011[code] = round(avg_beds,5)  "
   ]
  },
  {
   "cell_type": "code",
   "execution_count": null,
   "id": "908d5f0c-dde3-4917-a886-c765ca226d39",
   "metadata": {},
   "outputs": [],
   "source": [
    "df_bed_2011 = pd.DataFrame(beds_2011.items(), columns=['SA2_2016', 'avg_beds_2011'])"
   ]
  },
  {
   "cell_type": "code",
   "execution_count": null,
   "id": "134d7eed-5d01-41d5-be33-1383a9e68cf9",
   "metadata": {},
   "outputs": [],
   "source": [
    "# merge all 3 years data\n",
    "sa2 = SA2[['postcode','SA2_MAINCODE_2016','SA2_CODE_2021']]\n",
    "sa2 = sa2.rename({'SA2_MAINCODE_2016': 'SA2_2016', 'SA2_CODE_2021': 'SA2_2021'}, axis=1) \n",
    "df_b_final = sa2.merge(df_bed_2021, on = 'SA2_2021')\n",
    "df_b_final = df_b_final.merge(df_bed_2016, on = 'SA2_2016')\n",
    "df_b_final = df_b_final.merge(df_bed_2011, on = 'SA2_2016')"
   ]
  },
  {
   "cell_type": "code",
   "execution_count": null,
   "id": "76a007d9-3ff2-44c0-ac72-5b61e8b210ba",
   "metadata": {},
   "outputs": [],
   "source": [
    "# Calculating the average growth rate\n",
    "df_b_final['bed_rate'] = 0\n",
    "for postcode in df_b_final.postcode:\n",
    "    b2011 = df_b_final.loc[df_b_final['postcode'] == postcode, 'avg_beds_2011'].values[0]\n",
    "    b2016 = df_b_final.loc[df_b_final['postcode'] == postcode, 'avg_beds_2016'].values[0]\n",
    "    b2021 = df_b_final.loc[df_b_final['postcode'] == postcode, 'avg_beds_2021'].values[0]\n",
    "    \n",
    "    bed_rate = ((b2016 - b2011) + (b2021 - b2016))/2\n",
    "    \n",
    "    df_b_final.loc[df_b_final['postcode'] == postcode, 'bed_rate'] = bed_rate\n",
    "    \n",
    "df_b_final = df_b_final.drop(['avg_beds_2021','avg_beds_2016','avg_beds_2011'],axis=1)"
   ]
  },
  {
   "cell_type": "code",
   "execution_count": null,
   "id": "56a18e17-e4fd-4ef7-b6eb-81dd6681c646",
   "metadata": {},
   "outputs": [],
   "source": [
    "df_b_final"
   ]
  },
  {
   "cell_type": "markdown",
   "id": "2df63260-9a10-4139-8b31-bec51ed58a46",
   "metadata": {
    "tags": []
   },
   "source": [
    "### Age and Population"
   ]
  },
  {
   "cell_type": "markdown",
   "id": "862bdf2e-133a-44df-bce3-512b22b0221e",
   "metadata": {},
   "source": [
    "Make a dic to store SA2 that have multiple postcode with the num of property in this postcode area"
   ]
  },
  {
   "cell_type": "code",
   "execution_count": null,
   "id": "619c1d6d-4b13-47fc-82c7-51ca922a2775",
   "metadata": {},
   "outputs": [],
   "source": [
    "domain = pd.read_csv(\"../data/curated/domain_final.csv\")"
   ]
  },
  {
   "cell_type": "code",
   "execution_count": null,
   "id": "e47be30e-a25d-4aba-bdcf-2209d16759cf",
   "metadata": {},
   "outputs": [],
   "source": [
    "domain_sa2 = domain[['postcode','SA2_CODE21']]\n",
    "domain_sa2 = domain_sa2.drop_duplicates()\n",
    "domain_sa2 = domain_sa2.groupby('SA2_CODE21').count()\n",
    "mul_sa2 = list(domain_sa2[domain_sa2['postcode'] > 1].index)"
   ]
  },
  {
   "cell_type": "code",
   "execution_count": null,
   "id": "562d2fe7-270c-4ed1-b944-103a5be1ab2c",
   "metadata": {},
   "outputs": [],
   "source": [
    "mul_l = {}\n",
    "for sa2 in mul_sa2:\n",
    "    df_temp = domain[domain['SA2_CODE21'] == sa2].groupby('postcode').count()\n",
    "    mul_l[sa2] = {}\n",
    "    for postcode in list(df_temp.index):\n",
    "        mul_l[sa2][postcode] = df_temp.loc[[postcode]]['name'].values[0]\n",
    "    "
   ]
  },
  {
   "cell_type": "markdown",
   "id": "5deed2ec-26f1-42f9-beb8-07f69a13c7d9",
   "metadata": {},
   "source": [
    "Hendel all age and population data"
   ]
  },
  {
   "cell_type": "code",
   "execution_count": null,
   "id": "ab3a5118-d40e-4f88-a391-8f7294040680",
   "metadata": {},
   "outputs": [],
   "source": [
    "pp = pd.read_csv(\"../data/curated/df_p.csv\")"
   ]
  },
  {
   "cell_type": "code",
   "execution_count": null,
   "id": "6d903e09-10fb-4a28-8d6a-81bd75c32a36",
   "metadata": {},
   "outputs": [],
   "source": [
    "pp_2022 = pp[pp['YEAR'] == 2022]\n",
    "pp_2025 = pp[pp['YEAR'] == 2025]\n",
    "pp_2022 = pp_2022.rename({'SA2_CODE': 'SA2_2016'}, axis=1) \n",
    "pp_2025 = pp_2025.rename({'SA2_CODE': 'SA2_2016'}, axis=1) "
   ]
  },
  {
   "cell_type": "code",
   "execution_count": null,
   "id": "4b51e5be-5a6e-4253-81c3-5b18c85c728b",
   "metadata": {},
   "outputs": [],
   "source": [
    "df_pp_2022 = df_b_final.merge(pp_2022, on = 'SA2_2016')\n",
    "df_pp_2022 = df_pp_2022.drop(['SA2_2016','Unnamed: 0','YEAR','SA2_NAME','SEX','rate','age_max','bed_rate'],axis=1)\n",
    "df_pp_2025 = df_b_final.merge(pp_2025, on = 'SA2_2016')\n",
    "df_pp_2025 = df_pp_2025.drop(['SA2_2016','Unnamed: 0','YEAR','SA2_NAME','SEX','rate','age_max','bed_rate'],axis=1)"
   ]
  },
  {
   "cell_type": "code",
   "execution_count": null,
   "id": "06b831de-2b44-419d-b87e-23545673d144",
   "metadata": {},
   "outputs": [],
   "source": [
    "l_change = list(df_pp_2022.columns)[2:]"
   ]
  },
  {
   "cell_type": "code",
   "execution_count": null,
   "id": "58db263f-8a5d-412f-b7be-0e55c18fc952",
   "metadata": {},
   "outputs": [],
   "source": [
    "for i in range(len(df_pp_2022)):\n",
    "    sa2 = df_pp_2022.iloc[i,:].SA2_2021\n",
    "    \n",
    "    # if this post in the dictionary we create in first step we split SA2 data into postcode area\n",
    "    if sa2 in mul_l.keys():\n",
    "        postcode = df_pp_2022.iloc[i,:].postcode\n",
    "        if postcode in mul_l[sa2].keys():\n",
    "            for index in l_change:\n",
    "                origin = df_pp_2022.loc[(df_pp_2022['postcode'] == postcode)&(df_pp_2022['SA2_2021'] == sa2), index].values[0]\n",
    "                rate = mul_l[sa2][postcode] /  sum(list(mul_l[sa2].values()))\n",
    "                new = origin * rate\n",
    "                df_pp_2022.loc[(df_pp_2022['postcode'] == postcode)&(df_pp_2022['SA2_2021'] == sa2), index] = round(new,5)"
   ]
  },
  {
   "cell_type": "code",
   "execution_count": null,
   "id": "32b0b7f7-ed5d-4dfb-9fbe-66c92890c535",
   "metadata": {},
   "outputs": [],
   "source": [
    "# After spliting data, calculating the mean value\n",
    "df_pp_2022['total_age'] = 0\n",
    "df_age_2022 = df_pp_2022.iloc[:,2:20]\n",
    "for i in range(len(df_age_2022.columns)):\n",
    "    \n",
    "    # get low age value in every col\n",
    "    low = int(re.findall(r'[0-9]+', df_age_2022.columns[i])[0])\n",
    "    \n",
    "    # avg age for this col is low value + 2,\n",
    "    avg = (low + 2) \n",
    "    \n",
    "    # calculating total_age in this postcode area = avg age for this col * num of people in this col\n",
    "    df_pp_2022['total_age'] = df_pp_2022['total_age'] + avg * df_age_2022.iloc[:,i]\n",
    "\n",
    "# total_age/total_population in this postcode area\n",
    "df_pp_2022['avg_age'] = df_pp_2022['total_age']/df_pp_2022['Total']"
   ]
  },
  {
   "cell_type": "code",
   "execution_count": null,
   "id": "0c0105c4-eb33-4c44-b33b-edad9da5f4e4",
   "metadata": {},
   "outputs": [],
   "source": [
    "df_pp_2022"
   ]
  },
  {
   "cell_type": "code",
   "execution_count": null,
   "id": "287662eb-87d4-40eb-ac5c-86d338d99b1c",
   "metadata": {},
   "outputs": [],
   "source": [
    "# same as 2022 data\n",
    "l_change = list(df_pp_2025.columns)[2:]"
   ]
  },
  {
   "cell_type": "code",
   "execution_count": null,
   "id": "a4c223aa-5296-4744-b058-949374ceefd5",
   "metadata": {},
   "outputs": [],
   "source": [
    "for i in range(len(df_pp_2025)):\n",
    "    sa2 = df_pp_2025.iloc[i,:].SA2_2021\n",
    "    if sa2 in mul_l.keys():\n",
    "        postcode = df_pp_2025.iloc[i,:].postcode\n",
    "        if postcode in mul_l[sa2].keys():\n",
    "            for index in l_change:\n",
    "                origin = df_pp_2025.loc[(df_pp_2025['postcode'] == postcode)&(df_pp_2025['SA2_2021'] == sa2), index].values[0]\n",
    "                rate = mul_l[sa2][postcode] / sum(list(mul_l[sa2].values()))\n",
    "                new = origin * rate\n",
    "                df_pp_2025.loc[(df_pp_2025['postcode'] == postcode)&(df_pp_2025['SA2_2021'] == sa2), index] = round(new,5)"
   ]
  },
  {
   "cell_type": "code",
   "execution_count": null,
   "id": "a07f5b2f-af3a-43a3-b884-2561f07cb99c",
   "metadata": {},
   "outputs": [],
   "source": [
    "df_pp_2025['total_age'] = 0\n",
    "df_age_2025 = df_pp_2025.iloc[:,2:20]\n",
    "for i in range(len(df_age_2025.columns)):\n",
    "    low = int(re.findall(r'[0-9]+', df_age_2025.columns[i])[0])\n",
    "    avg = (low + 2) \n",
    "    df_pp_2025['total_age'] = df_pp_2025['total_age'] + avg * df_age_2025.iloc[:,i]\n",
    "df_pp_2025['avg_age'] = df_pp_2025['total_age']/df_pp_2025['Total']"
   ]
  },
  {
   "cell_type": "code",
   "execution_count": null,
   "id": "8ea10855-ca74-412f-a799-2876e7b59389",
   "metadata": {},
   "outputs": [],
   "source": [
    "df_pp_2025"
   ]
  },
  {
   "cell_type": "code",
   "execution_count": null,
   "id": "8d325bdd-b029-4e01-b022-afec6a55e1b0",
   "metadata": {},
   "outputs": [],
   "source": [
    "for i in range(len(df_pp_2025)):\n",
    "    postcode = df_pp_2025.iloc[i,:].postcode\n",
    "    p2025 = df_pp_2025.loc[df_pp_2025['postcode'] == postcode, 'Total'].values[0]\n",
    "    p2022 = df_pp_2022.loc[df_pp_2022['postcode'] == postcode, 'Total'].values[0]\n",
    "    a2025 = df_pp_2025.loc[df_pp_2025['postcode'] == postcode, 'avg_age'].values[0]\n",
    "    a2022 = df_pp_2022.loc[df_pp_2022['postcode'] == postcode, 'avg_age'].values[0]\n",
    "    df_pp_2025.loc[df_pp_2025['postcode'] == postcode, 'p_rate'] = round((p2025-p2022)/p2022,5)\n",
    "    df_pp_2025.loc[df_pp_2025['postcode'] == postcode, 'a_rate'] = round((a2025-a2022)/a2022,5)\n"
   ]
  },
  {
   "cell_type": "code",
   "execution_count": null,
   "id": "fed6f9de-37e3-4d4b-b934-7ca223374bca",
   "metadata": {},
   "outputs": [],
   "source": [
    "df_pp_final = df_pp_2025[['postcode','SA2_2021','p_rate','a_rate']]"
   ]
  },
  {
   "cell_type": "code",
   "execution_count": null,
   "id": "5d27a05e-a1cb-4ac2-8384-4ad6e16cdc69",
   "metadata": {},
   "outputs": [],
   "source": [
    "df_pp_final "
   ]
  },
  {
   "cell_type": "markdown",
   "id": "61261153-6f47-4b98-a417-1454c207ccc8",
   "metadata": {},
   "source": [
    "<h1>Final Aggregatation</h1>"
   ]
  },
  {
   "cell_type": "code",
   "execution_count": null,
   "id": "76e2dc09-2ae0-416b-ac50-d5c576bdc2f3",
   "metadata": {},
   "outputs": [],
   "source": [
    "df_final = df_b_final.merge(df_income, on = 'SA2_2016')\n",
    "df_final = df_final.merge(df_pp_final, on = 'postcode')\n",
    "df_final = df_final.drop('SA2_2021_y',axis=1)\n",
    "df_final = df_final.rename({'SA2_2021_x':'SA2_2021'}, axis=1)"
   ]
  },
  {
   "cell_type": "code",
   "execution_count": null,
   "id": "b243934b-6879-4822-ab1c-de45a7a52068",
   "metadata": {},
   "outputs": [],
   "source": [
    "df_final"
   ]
  },
  {
   "cell_type": "markdown",
   "id": "ce19decd-0041-4b28-ac73-703244a2f2cb",
   "metadata": {},
   "source": [
    "<h1>Ranking</h1>"
   ]
  },
  {
   "cell_type": "code",
   "execution_count": null,
   "id": "e2f5b6f8-4178-49a7-9844-d10f0ed4c4aa",
   "metadata": {},
   "outputs": [],
   "source": [
    "# Normalization\n",
    "x = df_final[['bed_rate', 'income_rate','p_rate','a_rate']].values\n",
    "min_max_scaler = preprocessing.MinMaxScaler()\n",
    "x_scaled = min_max_scaler.fit_transform(x)\n",
    "df_final1 = pd.DataFrame(x_scaled, columns= ['bed_rate', 'income_rate','p_rate','a_rate'] )"
   ]
  },
  {
   "cell_type": "code",
   "execution_count": null,
   "id": "323cfc4a-b829-4fcc-a646-0f8d4dfc7b29",
   "metadata": {},
   "outputs": [],
   "source": [
    "df_final['bed_rate'] = df_final1['bed_rate']\n",
    "df_final['income_rate'] = df_final1['income_rate']\n",
    "df_final['p_rate'] = df_final1['p_rate']\n",
    "df_final['a_rate'] = df_final1['a_rate']"
   ]
  },
  {
   "cell_type": "code",
   "execution_count": null,
   "id": "d0d459e3-0636-4aa2-a8c1-17e3a6e981d1",
   "metadata": {},
   "outputs": [],
   "source": [
    "df_final['rank'] = 0\n",
    "\n",
    "# score based on rank of feature important in stage 1\n",
    "df_final['rank'] += 3 * df_final.bed_rate + 2 * df_final.income_rate + 4 * df_final.a_rate + 1 * df_final.p_rate\n",
    "\n",
    "#df_final.income_rate.max()"
   ]
  },
  {
   "cell_type": "code",
   "execution_count": null,
   "id": "a15502ba-b821-4511-bdd6-e74c684e37e0",
   "metadata": {},
   "outputs": [],
   "source": [
    "domain = pd.read_csv('../data/curated/domain_final.csv')"
   ]
  },
  {
   "cell_type": "code",
   "execution_count": null,
   "id": "3e58676d-a4c3-43cd-955c-33c6d228e5c9",
   "metadata": {},
   "outputs": [],
   "source": [
    "for postcode in df_final['postcode']:\n",
    "    if postcode not in domain['postcode'].unique():\n",
    "        index = df_final[ df_final['postcode'] == postcode ].index\n",
    "        df_final.drop(index , inplace=True)"
   ]
  },
  {
   "cell_type": "code",
   "execution_count": null,
   "id": "d6c143ab-5a6f-48eb-93a6-9b24a3c5acfa",
   "metadata": {},
   "outputs": [],
   "source": [
    "top_10 = df_final.sort_values('rank',ascending=False).head(11)\n",
    "index = df_final[ df_final['postcode'] == 3683 ].index\n",
    "top_10.drop(index , inplace=True)"
   ]
  },
  {
   "cell_type": "code",
   "execution_count": null,
   "id": "52c35b21-9a1d-472a-bc93-8d93daf37ed0",
   "metadata": {},
   "outputs": [],
   "source": [
    "top_10"
   ]
  },
  {
   "cell_type": "code",
   "execution_count": null,
   "id": "0adc4ffa-a81a-4f26-bc7a-4de5b82ead37",
   "metadata": {},
   "outputs": [],
   "source": [
    "top_10\n",
    "top_10.to_csv('../data/curated/growth_rate_final.csv',index=False)"
   ]
  },
  {
   "cell_type": "markdown",
   "id": "3b91aea7-4f26-42da-85b2-c7149edb7d92",
   "metadata": {},
   "source": [
    "<h1>Visualisation</h1>"
   ]
  },
  {
   "cell_type": "code",
   "execution_count": null,
   "id": "525fb8f7-ba5c-4e85-b4a7-58e7e2fcd5cd",
   "metadata": {},
   "outputs": [],
   "source": [
    "gdf = gpd.read_file(\"../data/raw/SA2_2021_AUST_SHP_GDA2020/SA2_2021_AUST_GDA2020.shp\")\n",
    "gdf = gdf[gdf['STE_NAME21'] == 'Victoria']\n",
    "gdf['geometry'] = gdf['geometry'].to_crs(\"+proj=longlat +ellps=WGS84 +datum=WGS84 +no_defs\")\n",
    "gdf['SA2_CODE21'] = pd.to_numeric(gdf['SA2_CODE21'])\n",
    "geoJSON = gdf[['SA2_CODE21', 'geometry']].drop_duplicates('SA2_CODE21').to_json()"
   ]
  },
  {
   "cell_type": "code",
   "execution_count": null,
   "id": "e1b036be-5e25-4d8c-9baa-524e33fe6986",
   "metadata": {},
   "outputs": [],
   "source": [
    "_map = folium.Map(location=[-37, 144], tiles=\"Stamen Terrain\", zoom_start=7)\n",
    "\n",
    "\n",
    "_map.add_child(folium.Choropleth(\n",
    "    geo_data=geoJSON,\n",
    "    name='choropleth',\n",
    "))"
   ]
  },
  {
   "cell_type": "code",
   "execution_count": null,
   "id": "fa5d9582-510f-4590-84c7-fe76505ec6fc",
   "metadata": {},
   "outputs": [],
   "source": [
    "postcode = pd.read_csv('../data/raw/Australian-Postcode-Data-master/au_postcodes.csv')\n",
    "postcode = postcode.drop_duplicates(subset=['postcode'])\n",
    "top_10 = top_10.merge(postcode[['postcode','place_name','latitude','longitude']], on = 'postcode')"
   ]
  },
  {
   "cell_type": "code",
   "execution_count": null,
   "id": "4de3bf22-ec1c-4cf8-a565-6cc4f2d3f10b",
   "metadata": {},
   "outputs": [],
   "source": [
    "for i in range(len(top_10)):\n",
    "    _map.add_child(\n",
    "            folium.Marker(location=list(top_10[['latitude','longitude']].values[i]),\n",
    "            popup= list(top_10[['place_name']].values[i])[0])\n",
    "        )\n",
    "_map"
   ]
  },
  {
   "cell_type": "code",
   "execution_count": null,
   "id": "8fa72745-19fe-4974-b304-7243d2b95d37",
   "metadata": {},
   "outputs": [],
   "source": [
    "top_10"
   ]
  },
  {
   "cell_type": "code",
   "execution_count": null,
   "id": "96dc8330-9d79-4952-ab53-e381f0c9b544",
   "metadata": {},
   "outputs": [],
   "source": []
  }
 ],
 "metadata": {
  "kernelspec": {
   "display_name": "Python 3 (ipykernel)",
   "language": "python",
   "name": "python3"
  },
  "language_info": {
   "codemirror_mode": {
    "name": "ipython",
    "version": 3
   },
   "file_extension": ".py",
   "mimetype": "text/x-python",
   "name": "python",
   "nbconvert_exporter": "python",
   "pygments_lexer": "ipython3",
   "version": "3.9.7"
  }
 },
 "nbformat": 4,
 "nbformat_minor": 5
}
