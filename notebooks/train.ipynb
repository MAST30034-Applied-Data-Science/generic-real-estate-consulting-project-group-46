{
 "cells": [
  {
   "cell_type": "code",
   "execution_count": null,
   "id": "3bb3f2c4-0c3e-49e8-a6cc-569cfbfce8a2",
   "metadata": {},
   "outputs": [],
   "source": [
    "import pandas as pd\n",
    "import seaborn as sns\n",
    "import matplotlib.pyplot as plt\n",
    "import numpy as np\n",
    "from statsmodels.formula.api import ols, glm\n",
    "from statsmodels.api import families\n",
    "from sklearn.model_selection import train_test_split\n",
    "from sklearn import preprocessing"
   ]
  },
  {
   "cell_type": "code",
   "execution_count": null,
   "id": "e991f200-bef8-4980-9516-82f11fad6552",
   "metadata": {},
   "outputs": [],
   "source": [
    "df = "
   ]
  },
  {
   "cell_type": "code",
   "execution_count": null,
   "id": "83ed7306-d1c8-4b20-b776-9cdb2edff009",
   "metadata": {},
   "outputs": [],
   "source": [
    "CORR_COLS = [\n",
    "    \"month\",'day',\"trip_distance\", \"Duration\", \n",
    "    'total_fare','Newp','CP','Ctest','TAG','PRCP','SNOW','AWND'\n",
    "]\n",
    "\n",
    "\n",
    "fig,ax = plt.subplots(figsize=(17,5)) \n",
    "sns.heatmap(df_sample3[CORR_COLS].corr(), cmap = plt.cm.RdYlBu_r,annot=True, ax = ax)\n",
    "\n",
    "plt.title('Pearson Correlation Metric')\n",
    "plt.savefig('../plots/corr.png')"
   ]
  },
  {
   "cell_type": "code",
   "execution_count": null,
   "id": "c8455377-cd58-4f17-a26c-30561c45320d",
   "metadata": {},
   "outputs": [],
   "source": [
    "x = df_sample3[[\"trip_distance\", \"Duration\",'total_fare','log_NP','CP','Ctest','TAG','log_snow','AWND']].values\n",
    "min_max_scaler = preprocessing.MinMaxScaler()\n",
    "x_scaled = min_max_scaler.fit_transform(x)\n",
    "df_sample4 = pd.DataFrame(x_scaled, columns= [\"trip_distance\", \"Duration\",'total_fare','log_NP','CP',\n",
    "                                              'Ctest','TAG','log_snow','AWND'] )"
   ]
  },
  {
   "cell_type": "code",
   "execution_count": null,
   "id": "93f3f39a-f0f3-4107-89bd-dd3a1f99b0a0",
   "metadata": {},
   "outputs": [],
   "source": [
    "fit = ols(\n",
    "    formula=\"total_fare ~  Duration + trip_distance + log_NP + CP + Ctest + TAG + log_snow + AWND\",\n",
    "    data=df_sample4\n",
    ").fit()\n",
    "print(fit.summary())"
   ]
  }
 ],
 "metadata": {
  "kernelspec": {
   "display_name": "Python 3 (ipykernel)",
   "language": "python",
   "name": "python3"
  },
  "language_info": {
   "codemirror_mode": {
    "name": "ipython",
    "version": 3
   },
   "file_extension": ".py",
   "mimetype": "text/x-python",
   "name": "python",
   "nbconvert_exporter": "python",
   "pygments_lexer": "ipython3",
   "version": "3.9.7"
  }
 },
 "nbformat": 4,
 "nbformat_minor": 5
}
