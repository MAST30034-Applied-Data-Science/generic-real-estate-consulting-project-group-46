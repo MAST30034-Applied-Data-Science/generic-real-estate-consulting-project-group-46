{
 "cells": [
  {
   "cell_type": "markdown",
   "id": "6d1b3948-5622-4541-8165-4d84aeceed89",
   "metadata": {},
   "source": [
    "# Summary"
   ]
  },
  {
   "cell_type": "markdown",
   "id": "fc885bc2-b38b-441c-8280-64fd756f284a",
   "metadata": {},
   "source": [
    "## Method"
   ]
  },
  {
   "cell_type": "markdown",
   "id": "bdb17aa2-5617-4227-a623-7e8e8abd4265",
   "metadata": {},
   "source": [
    "Q1"
   ]
  },
  {
   "cell_type": "markdown",
   "id": "82dc836a-f9ba-4d49-ae4c-85395c22245a",
   "metadata": {},
   "source": [
    "## Finding"
   ]
  },
  {
   "cell_type": "markdown",
   "id": "5eb90c50-f47d-412e-8aae-4a5777983ece",
   "metadata": {},
   "source": [
    "Q1"
   ]
  },
  {
   "cell_type": "markdown",
   "id": "7ebe3ac4-4742-4ec9-bf84-912667781838",
   "metadata": {},
   "source": [
    "## limitations/assumptions"
   ]
  },
  {
   "cell_type": "code",
   "execution_count": null,
   "id": "748cd338-449f-40f8-8473-a821db049827",
   "metadata": {},
   "outputs": [],
   "source": []
  },
  {
   "cell_type": "code",
   "execution_count": null,
   "id": "e224e5e0-2199-4bcd-bc63-71a340e9b8bc",
   "metadata": {},
   "outputs": [],
   "source": []
  }
 ],
 "metadata": {
  "kernelspec": {
   "display_name": "Python 3 (ipykernel)",
   "language": "python",
   "name": "python3"
  },
  "language_info": {
   "codemirror_mode": {
    "name": "ipython",
    "version": 3
   },
   "file_extension": ".py",
   "mimetype": "text/x-python",
   "name": "python",
   "nbconvert_exporter": "python",
   "pygments_lexer": "ipython3",
   "version": "3.9.7"
  }
 },
 "nbformat": 4,
 "nbformat_minor": 5
}
