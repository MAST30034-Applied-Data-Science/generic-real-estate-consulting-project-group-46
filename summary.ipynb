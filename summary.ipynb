{
 "cells": [
  {
   "cell_type": "markdown",
   "id": "6d1b3948-5622-4541-8165-4d84aeceed89",
   "metadata": {},
   "source": [
    "# Summary"
   ]
  },
  {
   "cell_type": "markdown",
   "id": "fc885bc2-b38b-441c-8280-64fd756f284a",
   "metadata": {},
   "source": [
    "## Method"
   ]
  },
  {
   "cell_type": "markdown",
   "id": "bdb17aa2-5617-4227-a623-7e8e8abd4265",
   "metadata": {},
   "source": [
    "#### Q1 \n",
    "\n",
    "Through the visualization of the data and studying other reports for rent-price prediction, we finally chose linear regression and random forest to model for Q1.   \n",
    "\n",
    "#### Q2\n",
    "In addition, to prove these features are meaningful, we use pearson correlation to show the relationship between features and rent, especially the income and population. Also, by plotting the linear model, we can see there is a positive relationship between rent and population.  However, since our data on income and population comes from the ABS census, only in 2016 and 2021, so we calculate the growth rate between 2016 and 2021, and then predict income and population in the next three years on the basis of 2021.   Finally, we designed a ranking system to score the data on the features selected by each suburb according to a certain weight, and take the top ten of the scores as the 10 suburbs with the highest predicted growth rate of the rent. \n",
    "\n",
    "#### Q3\n",
    "To find the most affordable suburb, we find the ratio between the weekly rent of each suburb and the weekly income of each suburb.  \n",
    "This is because people who live in different suburbs always have different incomes, and the affordability of the same house will be different for people with different incomes. So we want people to check their weekly income first to identify the right suburb for them, and then check which one is more affordable by our list, so that they can choose the best house for them.  \n",
    "To find the most livable suburb, we follow the Economist Intelligence, the publisher of the global livable index. They use these four criteria to assess a city's livability.  \n",
    "1) stability  \n",
    "2) healthcare  \n",
    "3) culture and environment  \n",
    "4) education and infrastructure  \n",
    "\n",
    "We believe that culture is a very personal thing, so we only look for basic facilities that everyone needs, and then look at how they perform in each district to score them.  \n",
    "\n",
    "1) Number of hospital in different suburbs  \n",
    "2) Number of schools in different suburbs  \n",
    "3) Average distance to the train station  \n",
    "4) Average distance to the bus stop  \n",
    "\n",
    "After calculating the scores of each district, we rank them to get the final result.    \n",
    "\n",
    "(the Average distance to the train station and the Average distance to the bus stop represents the distance you can expect to travel to the train and bus stations if you choose this suburb.)"
   ]
  },
  {
   "cell_type": "markdown",
   "id": "82dc836a-f9ba-4d49-ae4c-85395c22245a",
   "metadata": {},
   "source": [
    "## Finding"
   ]
  },
  {
   "cell_type": "markdown",
   "id": "129d7bd3-ce82-478c-ad0a-e357920519ed",
   "metadata": {},
   "source": [
    "#### Q1 What are the most important internal and external features in predicting rental prices?\n",
    "\n",
    "As mentioned before,  we combined  the coefficients of the linear regression and the importance of the features of the random forest, and finally selected the four features on the right hand side,  in order of importance，they are average age, average beds, average income and average population for each suburbs."
   ]
  },
  {
   "cell_type": "markdown",
   "id": "5eb90c50-f47d-412e-8aae-4a5777983ece",
   "metadata": {},
   "source": [
    "#### Q2 What are the top 10 suburbs with the highest predicted growth rate\n",
    "\n",
    "Based on the forecasting of growth trend of those four features. We find top 10 suburbs with the fastest rent growth rates. There are MELBOURNE 3000, Wyndham Vale 3024, Docklands 3008, Williams Landing 3027, Guys Hill 3807, Officer 3809, Colbrook 3342, Staughton Vale 3340, St Leonards 3223, Carlton 3053.\n",
    "\n",
    "Not surprisingly the Melbourne city, docklands and Carlton, which are suburbs near the CBD, are on the list. In addition, it is worth noting that lots of suburbs are located on the west side of Melbourne, due to their rapid population and income growth rates, which indicate that these west side suburbs are developing faster and are more worthy of attention。\n",
    "\n"
   ]
  },
  {
   "cell_type": "markdown",
   "id": "ff11f49a",
   "metadata": {},
   "source": [
    "#### Q3 What are the most liveable and affordable suburbs according to your chosen metrics?\n",
    "Based on the clean data set and several external data, we use the method we mentioned before and get the result below.\n",
    "\n",
    "List of most affortable suburb：  \n",
    "1) Burwood 3125  \n",
    "2) Macleod 3085  \n",
    "3) Mudgegonga 3737  \n",
    "4) Penshurst 3289  \n",
    "5) Bannockburn 3331  \n",
    "\n",
    "List of most liveable suburb：  \n",
    "1) FRANKSTON EAST 3199   \n",
    "2) FOOTSCRAY 3011  \n",
    "3) EAST MELBOURNE 3002  \n",
    "4) BRIGHTON 3186  \n",
    "5) BANYULE 3084  \n",
    "6) MELBOURNE 3000  \n",
    "7) ST ALBANS 3021  \n",
    "8) COBURG 3058  \n",
    "9) BENTLEIGH 3204  \n",
    "10) MOORABBIN 3189  \n",
    "\n",
    "\n"
   ]
  },
  {
   "cell_type": "markdown",
   "id": "7ebe3ac4-4742-4ec9-bf84-912667781838",
   "metadata": {},
   "source": [
    "## limitations/assumptions"
   ]
  },
  {
   "cell_type": "markdown",
   "id": "5faf518c-574b-45ce-8d4a-9c0bbdf71c76",
   "metadata": {},
   "source": [
    "#### assumptions\n",
    "For the data section, firstly, we make some assumptions. Which feature could affect the rents significantly? The initial feature assumption is inspired by Domain and our common sense. Like population, age, income, number of bedrooms and the distance to public facilities. These features may attribute to the rental price.\n",
    "We obtain target data from two perspectives.   \n",
    "\n",
    "For question 3, the assumption we made is people live in the same suburb share the same life style\n",
    "\n",
    "#### limitations\n",
    "Firstly, we scraped the property details from domain.com by applying API technique.\n",
    "At the same time, we were trying to find some external data from official websites like ABS and PTV due to their high credibility. We got the school locations, public transportation stations, population, and income data. For another example of the use of API, we apply Open routine service API Docs to calculate the distance between two points.\n",
    "\n",
    "After obtaining the raw data, next step is data processing. Firstly, we cleaned the raw data. We delete the missing value and some unreasonable value to ensure the general accuracy. After cleaning, we combined all data together for machine learning predictions. \n",
    "\n",
    "We take data security seriously since the data from domain is the business confidential. The API's web crawler is used where permitted and the data from official sources are open. We do not use the data for illegal purposes other than research. We store the data online in google drive, the GitHub repository, which only our group members can access. And we also store the data offline in each member's local machine as backup. Centralisation and decentralisation make our data private and secure.\n",
    "\n",
    "In this project, most limitations and difficulties are from data acquisition. The missing data must have a negative influence on the following predictions. Different data source is not divided by a uniform zoning. As our project depends on postcode, conversion from SA2 to the postcode may decrease the data accuracy. Finally, lots of data are inaccessible. The website data are flexible, which means that our data may be a bit out of date. We tried to find more external data from the other websites, but most of them cannot be accessed due to their confidentiality.\n"
   ]
  },
  {
   "cell_type": "code",
   "execution_count": null,
   "id": "e224e5e0-2199-4bcd-bc63-71a340e9b8bc",
   "metadata": {},
   "outputs": [],
   "source": []
  }
 ],
 "metadata": {
  "kernelspec": {
   "display_name": "Python 3 (ipykernel)",
   "language": "python",
   "name": "python3"
  },
  "language_info": {
   "codemirror_mode": {
    "name": "ipython",
    "version": 3
   },
   "file_extension": ".py",
   "mimetype": "text/x-python",
   "name": "python",
   "nbconvert_exporter": "python",
   "pygments_lexer": "ipython3",
   "version": "3.9.7"
  }
 },
 "nbformat": 4,
 "nbformat_minor": 5
}
